{
 "cells": [
  {
   "cell_type": "markdown",
   "metadata": {},
   "source": [
    "# Entreno en 2500 pruebo en 20mil"
   ]
  },
  {
   "cell_type": "code",
   "execution_count": 1,
   "metadata": {},
   "outputs": [],
   "source": [
    "import pickle\n",
    "\n",
    "import numpy as np\n",
    "\n",
    "import pandas as pd\n",
    "\n",
    "% matplotlib inline\n",
    "import matplotlib.pyplot as plt\n",
    "import seaborn as sns\n",
    "# sns.set()\n",
    "\n",
    "from sklearn.ensemble import RandomForestClassifier\n",
    "from sklearn import metrics\n",
    "\n",
    "from libs.container import Container\n",
    "from libs.display import d\n",
    "from libs.experiment import KFoldExperiment, WithAnotherExperiment, roc"
   ]
  },
  {
   "cell_type": "code",
   "execution_count": 2,
   "metadata": {},
   "outputs": [],
   "source": [
    "import joblib\n",
    "cpu = joblib.cpu_count()"
   ]
  },
  {
   "cell_type": "markdown",
   "metadata": {},
   "source": [
    "## Funcion de ayuda"
   ]
  },
  {
   "cell_type": "code",
   "execution_count": 3,
   "metadata": {},
   "outputs": [],
   "source": [
    "def to_float32(df):\n",
    "    df = df.copy()\n",
    "    df[X_columns] = df[X_columns].apply(pd.to_numeric, downcast='float')\n",
    "    df = df[~df.Period_fit.isin([-np.inf, np.inf])]\n",
    "    return df\n",
    "\n",
    "def run_test(clf, tile, X_columns, y_column):\n",
    "    tile = to_float32(tile)\n",
    "    X_test = tile[X_columns].values\n",
    "    y_test = tile[y_column].values\n",
    "    \n",
    "    predictions = clf.predict(X_test)\n",
    "    probabilities = clf.predict_proba(X_test)\n",
    "    \n",
    "    fpr, tpr, thresholds = metrics.roc_curve(\n",
    "        y_test, 1.-probabilities[:,0], pos_label=1)\n",
    "\n",
    "    prec_rec_curve = metrics.precision_recall_curve(\n",
    "        y_test, 1.- probabilities[:,0], pos_label=1)\n",
    "\n",
    "    roc_auc = metrics.auc(fpr, tpr)\n",
    "    \n",
    "    print metrics.classification_report(y_test, predictions)\n",
    "    \n",
    "    return Container({\n",
    "        'fpr': fpr,\n",
    "        'tpr': tpr,\n",
    "        'thresh': thresholds,\n",
    "        'roc_auc': roc_auc,\n",
    "        'prec_rec_curve': prec_rec_curve,\n",
    "        'y_test': y_test,\n",
    "        'predictions': predictions,\n",
    "        'probabilities': probabilities,\n",
    "        'confusion_matrix': metrics.confusion_matrix(y_test, predictions)})\n",
    "\n",
    "results = []"
   ]
  },
  {
   "cell_type": "markdown",
   "metadata": {},
   "source": [
    "## Train 2.5K"
   ]
  },
  {
   "cell_type": "code",
   "execution_count": 4,
   "metadata": {},
   "outputs": [],
   "source": [
    "sample = pd.read_pickle(\"data/ogle3_only/scaled/s2_5k.pkl.bz2\")\n",
    "sample[\"tile\"] = sample[\"id\"].apply(lambda i: \"b\" + str(i)[1:4])\n",
    "sample[\"cls\"] = sample.vs_type.apply(lambda x: 0 if x == \"\" else 1)\n",
    "\n",
    "no_features = [\"id\", \"vs_catalog\", \"vs_type\", \"ra_k\", \"dec_k\", \"tile\", \"cls\"] \n",
    "X_columns = [c for c in sample.columns if c not in no_features]\n",
    "\n",
    "grouped = sample.groupby(\"tile\")\n",
    "train = Container({k: grouped.get_group(k).copy() for k in grouped.groups.keys()})\n",
    "\n",
    "del grouped, sample"
   ]
  },
  {
   "cell_type": "markdown",
   "metadata": {},
   "source": [
    "Reescalamos la muestra de 20k con media y desvio del de 2.5k"
   ]
  },
  {
   "cell_type": "code",
   "execution_count": 5,
   "metadata": {},
   "outputs": [
    {
     "name": "stderr",
     "output_type": "stream",
     "text": [
      "/home/jbcabral/.conda/envs/carpyncho3/lib/python2.7/site-packages/sklearn/base.py:251: UserWarning: Trying to unpickle estimator StandardScaler from version 0.19.1 when using version 0.20.1. This might lead to breaking code or invalid results. Use at your own risk.\n",
      "  UserWarning)\n"
     ]
    }
   ],
   "source": [
    "skl = pickle.load(open(\"data/ogle3_only/scalers/scaler_2_5k.pkl\"))"
   ]
  },
  {
   "cell_type": "code",
   "execution_count": 6,
   "metadata": {},
   "outputs": [
    {
     "name": "stderr",
     "output_type": "stream",
     "text": [
      "/home/jbcabral/.conda/envs/carpyncho3/lib/python2.7/site-packages/ipykernel_launcher.py:3: DataConversionWarning: Data with input dtype int64, float64 were all converted to float64 by StandardScaler.\n",
      "  This is separate from the ipykernel package so we can avoid doing imports until\n"
     ]
    }
   ],
   "source": [
    "sample = pd.read_pickle(\"data/ogle3_only/nonull/s20k.pkl.bz2\")\n",
    "\n",
    "sample[X_columns] = skl.transform(sample[X_columns])\n",
    "\n",
    "sample[\"tile\"] = sample[\"id\"].apply(lambda i: \"b\" + str(i)[1:4])\n",
    "sample[\"cls\"] = sample.vs_type.apply(lambda x: 0 if x == \"\" else 1)\n",
    "\n",
    "grouped = sample.groupby(\"tile\")\n",
    "test = Container({k: grouped.get_group(k).copy() for k in grouped.groups.keys()})\n",
    "\n",
    "del grouped, sample"
   ]
  },
  {
   "cell_type": "code",
   "execution_count": 7,
   "metadata": {},
   "outputs": [
    {
     "name": "stdout",
     "output_type": "stream",
     "text": [
      "Train b261 - Test b278\n",
      "              precision    recall  f1-score   support\n",
      "\n",
      "           0       0.99      1.00      1.00     19929\n",
      "           1       0.89      0.70      0.78       423\n",
      "\n",
      "   micro avg       0.99      0.99      0.99     20352\n",
      "   macro avg       0.94      0.85      0.89     20352\n",
      "weighted avg       0.99      0.99      0.99     20352\n",
      "\n"
     ]
    }
   ],
   "source": [
    "train_name, test_name = \"b261\", \"b278\"\n",
    "\n",
    "print(\"Train {} - Test {}\".format(train_name, test_name))\n",
    "\n",
    "X_train = train[train_name][X_columns].values\n",
    "y_train = train[train_name].cls.values\n",
    "\n",
    "clf_small = RandomForestClassifier(n_estimators=500, criterion=\"entropy\", n_jobs=cpu)\n",
    "clf_small.fit(X_train, y_train)\n",
    "result_small = run_test(clf_small, test[test_name], X_columns, \"cls\")\n",
    "results.append({\"train\": train_name, \"train_size\": \"small\", \"test\": test_name, \"result\": result_small})"
   ]
  },
  {
   "cell_type": "code",
   "execution_count": 8,
   "metadata": {},
   "outputs": [
    {
     "name": "stdout",
     "output_type": "stream",
     "text": [
      "Train b278 - Test b261\n",
      "              precision    recall  f1-score   support\n",
      "\n",
      "           0       1.00      1.00      1.00     19972\n",
      "           1       0.73      0.88      0.80       221\n",
      "\n",
      "   micro avg       1.00      1.00      1.00     20193\n",
      "   macro avg       0.87      0.94      0.90     20193\n",
      "weighted avg       1.00      1.00      1.00     20193\n",
      "\n"
     ]
    }
   ],
   "source": [
    "train_name, test_name = \"b278\", \"b261\"\n",
    "\n",
    "print(\"Train {} - Test {}\".format(train_name, test_name))\n",
    "\n",
    "X_train = train[train_name][X_columns].values\n",
    "y_train = train[train_name].cls.values\n",
    "\n",
    "clf_small = RandomForestClassifier(n_estimators=500, criterion=\"entropy\", n_jobs=cpu)\n",
    "clf_small.fit(X_train, y_train)\n",
    "result_small = run_test(clf_small, test[test_name], X_columns, \"cls\")\n",
    "results.append({\"train\": train_name, \"train_size\": \"small\", \"test\": test_name, \"result\": result_small})"
   ]
  },
  {
   "cell_type": "markdown",
   "metadata": {},
   "source": [
    "## Train 5K"
   ]
  },
  {
   "cell_type": "code",
   "execution_count": 9,
   "metadata": {},
   "outputs": [],
   "source": [
    "sample = pd.read_pickle(\"data/ogle3_only/scaled/s5k.pkl.bz2\")\n",
    "sample[\"tile\"] = sample[\"id\"].apply(lambda i: \"b\" + str(i)[1:4])\n",
    "sample[\"cls\"] = sample.vs_type.apply(lambda x: 0 if x == \"\" else 1)\n",
    "\n",
    "grouped = sample.groupby(\"tile\")\n",
    "train = Container({k: grouped.get_group(k).copy() for k in grouped.groups.keys()})\n",
    "\n",
    "del grouped, sample"
   ]
  },
  {
   "cell_type": "markdown",
   "metadata": {},
   "source": [
    "Reescalamos la muestra de 20k con media y desvio del de 5k"
   ]
  },
  {
   "cell_type": "code",
   "execution_count": 10,
   "metadata": {},
   "outputs": [],
   "source": [
    "skl = pickle.load(open(\"data/ogle3_only/scalers/scaler_5k.pkl\"))"
   ]
  },
  {
   "cell_type": "code",
   "execution_count": 11,
   "metadata": {},
   "outputs": [
    {
     "name": "stderr",
     "output_type": "stream",
     "text": [
      "/home/jbcabral/.conda/envs/carpyncho3/lib/python2.7/site-packages/ipykernel_launcher.py:3: DataConversionWarning: Data with input dtype int64, float64 were all converted to float64 by StandardScaler.\n",
      "  This is separate from the ipykernel package so we can avoid doing imports until\n"
     ]
    }
   ],
   "source": [
    "sample = pd.read_pickle(\"data/ogle3_only/nonull/s20k.pkl.bz2\")\n",
    "\n",
    "sample[X_columns] = skl.transform(sample[X_columns])\n",
    "\n",
    "sample[\"tile\"] = sample[\"id\"].apply(lambda i: \"b\" + str(i)[1:4])\n",
    "sample[\"cls\"] = sample.vs_type.apply(lambda x: 0 if x == \"\" else 1)\n",
    "\n",
    "grouped = sample.groupby(\"tile\")\n",
    "test = Container({k: grouped.get_group(k).copy() for k in grouped.groups.keys()})\n",
    "\n",
    "del grouped, sample"
   ]
  },
  {
   "cell_type": "code",
   "execution_count": 12,
   "metadata": {},
   "outputs": [
    {
     "name": "stdout",
     "output_type": "stream",
     "text": [
      "Train b261 - Test b278\n",
      "              precision    recall  f1-score   support\n",
      "\n",
      "           0       0.99      1.00      1.00     19929\n",
      "           1       0.92      0.69      0.79       423\n",
      "\n",
      "   micro avg       0.99      0.99      0.99     20352\n",
      "   macro avg       0.96      0.85      0.89     20352\n",
      "weighted avg       0.99      0.99      0.99     20352\n",
      "\n"
     ]
    }
   ],
   "source": [
    "train_name, test_name = \"b261\", \"b278\"\n",
    "\n",
    "print(\"Train {} - Test {}\".format(train_name, test_name))\n",
    "\n",
    "X_train = train[train_name][X_columns].values\n",
    "y_train = train[train_name].cls.values\n",
    "\n",
    "clf_small = RandomForestClassifier(n_estimators=500, criterion=\"entropy\", n_jobs=cpu)\n",
    "clf_small.fit(X_train, y_train)\n",
    "result_small = run_test(clf_small, test[test_name], X_columns, \"cls\")\n",
    "results.append({\"train\": train_name, \"train_size\": \"mid\", \"test\": test_name, \"result\": result_small})"
   ]
  },
  {
   "cell_type": "code",
   "execution_count": 13,
   "metadata": {},
   "outputs": [
    {
     "name": "stdout",
     "output_type": "stream",
     "text": [
      "Train b278 - Test b261\n",
      "              precision    recall  f1-score   support\n",
      "\n",
      "           0       1.00      1.00      1.00     19972\n",
      "           1       0.85      0.84      0.84       221\n",
      "\n",
      "   micro avg       1.00      1.00      1.00     20193\n",
      "   macro avg       0.92      0.92      0.92     20193\n",
      "weighted avg       1.00      1.00      1.00     20193\n",
      "\n"
     ]
    }
   ],
   "source": [
    "train_name, test_name = \"b278\", \"b261\"\n",
    "\n",
    "print(\"Train {} - Test {}\".format(train_name, test_name))\n",
    "\n",
    "X_train = train[train_name][X_columns].values\n",
    "y_train = train[train_name].cls.values\n",
    "\n",
    "clf_small = RandomForestClassifier(n_estimators=500, criterion=\"entropy\", n_jobs=cpu)\n",
    "clf_small.fit(X_train, y_train)\n",
    "result_small = run_test(clf_small, test[test_name], X_columns, \"cls\")\n",
    "results.append({\"train\": train_name, \"train_size\": \"mid\", \"test\": test_name, \"result\": result_small})"
   ]
  },
  {
   "cell_type": "markdown",
   "metadata": {},
   "source": [
    "## Train 20K"
   ]
  },
  {
   "cell_type": "code",
   "execution_count": 14,
   "metadata": {},
   "outputs": [],
   "source": [
    "sample = pd.read_pickle(\"data/ogle3_only/scaled/s20k.pkl.bz2\")\n",
    "\n",
    "sample[\"tile\"] = sample[\"id\"].apply(lambda i: \"b\" + str(i)[1:4])\n",
    "sample[\"cls\"] = sample.vs_type.apply(lambda x: 0 if x == \"\" else 1)\n",
    "\n",
    "grouped = sample.groupby(\"tile\")\n",
    "test = Container({k: grouped.get_group(k).copy() for k in grouped.groups.keys()})\n",
    "\n",
    "del grouped, sample"
   ]
  },
  {
   "cell_type": "code",
   "execution_count": 15,
   "metadata": {},
   "outputs": [],
   "source": [
    "train = test"
   ]
  },
  {
   "cell_type": "code",
   "execution_count": 16,
   "metadata": {},
   "outputs": [
    {
     "name": "stdout",
     "output_type": "stream",
     "text": [
      "Train b261 - Test b278\n",
      "              precision    recall  f1-score   support\n",
      "\n",
      "           0       0.99      1.00      1.00     19931\n",
      "           1       0.97      0.58      0.73       423\n",
      "\n",
      "   micro avg       0.99      0.99      0.99     20354\n",
      "   macro avg       0.98      0.79      0.86     20354\n",
      "weighted avg       0.99      0.99      0.99     20354\n",
      "\n"
     ]
    }
   ],
   "source": [
    "train_name, test_name = \"b261\", \"b278\"\n",
    "\n",
    "print(\"Train {} - Test {}\".format(train_name, test_name))\n",
    "\n",
    "X_train = train[train_name][X_columns].values\n",
    "y_train = train[train_name].cls.values\n",
    "\n",
    "clf_small = RandomForestClassifier(n_estimators=500, criterion=\"entropy\", n_jobs=cpu)\n",
    "clf_small.fit(X_train, y_train)\n",
    "result_small = run_test(clf_small, test[test_name], X_columns, \"cls\")\n",
    "results.append({\"train\": train_name, \"train_size\": \"big\", \"test\": test_name, \"result\": result_small})"
   ]
  },
  {
   "cell_type": "code",
   "execution_count": 17,
   "metadata": {},
   "outputs": [
    {
     "name": "stdout",
     "output_type": "stream",
     "text": [
      "Train b278 - Test b261\n",
      "              precision    recall  f1-score   support\n",
      "\n",
      "           0       1.00      1.00      1.00     19972\n",
      "           1       0.97      0.75      0.84       221\n",
      "\n",
      "   micro avg       1.00      1.00      1.00     20193\n",
      "   macro avg       0.98      0.87      0.92     20193\n",
      "weighted avg       1.00      1.00      1.00     20193\n",
      "\n"
     ]
    }
   ],
   "source": [
    "train_name, test_name = \"b278\", \"b261\"\n",
    "\n",
    "print(\"Train {} - Test {}\".format(train_name, test_name))\n",
    "\n",
    "X_train = train[train_name][X_columns].values\n",
    "y_train = train[train_name].cls.values\n",
    "\n",
    "clf_small = RandomForestClassifier(n_estimators=500, criterion=\"entropy\", n_jobs=cpu)\n",
    "clf_small.fit(X_train, y_train)\n",
    "result_small = run_test(clf_small, test[test_name], X_columns, \"cls\")\n",
    "results.append({\"train\": train_name, \"train_size\": \"big\", \"test\": test_name, \"result\": result_small})"
   ]
  },
  {
   "cell_type": "markdown",
   "metadata": {},
   "source": [
    "## ROC!"
   ]
  },
  {
   "cell_type": "code",
   "execution_count": 18,
   "metadata": {},
   "outputs": [
    {
     "data": {
      "text/plain": [
       "{'result': <Container({'probabilities': <type 'numpy.ndarray'>, 'predictions': <type 'numpy.ndarray'>, 'thresh': <type 'numpy.ndarray'>, 'tpr': <type 'numpy.ndarray'>, 'fpr': <type 'numpy.ndarray'>, 'prec_rec_curve': <type 'tuple'>, 'confusion_matrix': <type 'numpy.ndarray'>, 'y_test': <type 'numpy.ndarray'>, 'roc_auc': <type 'numpy.float64'>})>,\n",
       " 'test': 'b261',\n",
       " 'train': 'b278',\n",
       " 'train_size': 'big'}"
      ]
     },
     "execution_count": 18,
     "metadata": {},
     "output_type": "execute_result"
    }
   ],
   "source": [
    "r = results[-1]\n",
    "r"
   ]
  },
  {
   "cell_type": "code",
   "execution_count": 19,
   "metadata": {},
   "outputs": [],
   "source": [
    "rows = []\n",
    "for r in results:\n",
    "    rr = r[\"result\"]\n",
    "    new_row = {k:v for k, v in r.items() if k != \"result\"}\n",
    "    new_row.update(\n",
    "        recall=metrics.recall_score(rr.y_test, rr.predictions),\n",
    "        precision=metrics.precision_score(rr.y_test, rr.predictions),\n",
    "        AUC=rr.roc_auc)\n",
    "    rows.append(new_row)\n"
   ]
  },
  {
   "cell_type": "code",
   "execution_count": 20,
   "metadata": {},
   "outputs": [
    {
     "data": {
      "text/html": [
       "<div>\n",
       "<style>\n",
       "    .dataframe thead tr:only-child th {\n",
       "        text-align: right;\n",
       "    }\n",
       "\n",
       "    .dataframe thead th {\n",
       "        text-align: left;\n",
       "    }\n",
       "\n",
       "    .dataframe tbody tr th {\n",
       "        vertical-align: top;\n",
       "    }\n",
       "</style>\n",
       "<table border=\"1\" class=\"dataframe\">\n",
       "  <thead>\n",
       "    <tr style=\"text-align: right;\">\n",
       "      <th></th>\n",
       "      <th></th>\n",
       "      <th></th>\n",
       "      <th>Prec</th>\n",
       "      <th>Rec</th>\n",
       "      <th>AUC</th>\n",
       "    </tr>\n",
       "    <tr>\n",
       "      <th>Muestra</th>\n",
       "      <th>Entrenamiento</th>\n",
       "      <th>Prueba</th>\n",
       "      <th></th>\n",
       "      <th></th>\n",
       "      <th></th>\n",
       "    </tr>\n",
       "  </thead>\n",
       "  <tbody>\n",
       "    <tr>\n",
       "      <th rowspan=\"2\" valign=\"top\">Pequeña</th>\n",
       "      <th>b278</th>\n",
       "      <th>b261</th>\n",
       "      <td>0.888554</td>\n",
       "      <td>0.697400</td>\n",
       "      <td>0.986413</td>\n",
       "    </tr>\n",
       "    <tr>\n",
       "      <th>b261</th>\n",
       "      <th>b278</th>\n",
       "      <td>0.734848</td>\n",
       "      <td>0.877828</td>\n",
       "      <td>0.988391</td>\n",
       "    </tr>\n",
       "    <tr>\n",
       "      <th rowspan=\"2\" valign=\"top\">Mediana</th>\n",
       "      <th>b278</th>\n",
       "      <th>b261</th>\n",
       "      <td>0.921384</td>\n",
       "      <td>0.692671</td>\n",
       "      <td>0.987358</td>\n",
       "    </tr>\n",
       "    <tr>\n",
       "      <th>b261</th>\n",
       "      <th>b278</th>\n",
       "      <td>0.845455</td>\n",
       "      <td>0.841629</td>\n",
       "      <td>0.986646</td>\n",
       "    </tr>\n",
       "    <tr>\n",
       "      <th rowspan=\"2\" valign=\"top\">Grande</th>\n",
       "      <th>b278</th>\n",
       "      <th>b261</th>\n",
       "      <td>0.968504</td>\n",
       "      <td>0.581560</td>\n",
       "      <td>0.984398</td>\n",
       "    </tr>\n",
       "    <tr>\n",
       "      <th>b261</th>\n",
       "      <th>b278</th>\n",
       "      <td>0.970588</td>\n",
       "      <td>0.746606</td>\n",
       "      <td>0.986109</td>\n",
       "    </tr>\n",
       "  </tbody>\n",
       "</table>\n",
       "</div>"
      ],
      "text/plain": [
       "                                  Prec       Rec       AUC\n",
       "Muestra Entrenamiento Prueba                              \n",
       "Pequeña b278          b261    0.888554  0.697400  0.986413\n",
       "        b261          b278    0.734848  0.877828  0.988391\n",
       "Mediana b278          b261    0.921384  0.692671  0.987358\n",
       "        b261          b278    0.845455  0.841629  0.986646\n",
       "Grande  b278          b261    0.968504  0.581560  0.984398\n",
       "        b261          b278    0.970588  0.746606  0.986109"
      ]
     },
     "execution_count": 20,
     "metadata": {},
     "output_type": "execute_result"
    }
   ],
   "source": [
    "muestras = {\"small\": u\"Pequeña\", \"mid\": \"Mediana\", \"big\": \"Grande\"}\n",
    "df = pd.DataFrame(rows)\n",
    "df.columns = \"AUC Prec Rec Entrenamiento Prueba Muestra\".split()\n",
    "df[\"Muestra\"] = df.Muestra.apply(muestras.get)\n",
    "df = df.set_index([\"Muestra\", \"Entrenamiento\", \"Prueba\"])\n",
    "df = df[\"Prec Rec AUC\".split()]\n",
    "df"
   ]
  },
  {
   "cell_type": "code",
   "execution_count": 45,
   "metadata": {},
   "outputs": [
    {
     "name": "stdout",
     "output_type": "stream",
     "text": [
      "\\begin{tabular}{lllrrr}\n",
      "\\toprule\n",
      "       &      &      &  Prec &   Rec &   AUC \\\\\n",
      "Muestra & Entrenamiento & Prueba &       &       &       \\\\\n",
      "\\midrule\n",
      "Pequeña & b278 & b261 & 0.889 & 0.697 & 0.986 \\\\\n",
      "       & b261 & b278 & 0.735 & 0.878 & 0.988 \\\\\n",
      "Mediana & b278 & b261 & 0.921 & 0.693 & 0.987 \\\\\n",
      "       & b261 & b278 & 0.845 & 0.842 & 0.987 \\\\\n",
      "Grande & b278 & b261 & 0.969 & 0.582 & 0.984 \\\\\n",
      "       & b261 & b278 & 0.971 & 0.747 & 0.986 \\\\\n",
      "\\bottomrule\n",
      "\\end{tabular}\n",
      "\n"
     ]
    }
   ],
   "source": [
    "print df.to_latex(index=True, float_format='%.3f')"
   ]
  },
  {
   "cell_type": "code",
   "execution_count": null,
   "metadata": {},
   "outputs": [],
   "source": [
    "print df.to_latex"
   ]
  },
  {
   "cell_type": "code",
   "execution_count": 22,
   "metadata": {},
   "outputs": [],
   "source": [
    "train_b261 = {\n",
    "    u\"{} vs Grande\".format(muestras[r[\"train_size\"]]): r[\"result\"]\n",
    "    for r in results if r[\"train\"] == \"b261\"}\n",
    "train_b278 = {\n",
    "    u\"{} vs Grande\".format(muestras[r[\"train_size\"]]): r[\"result\"]\n",
    "    for r in results if r[\"train\"] == \"b278\"}"
   ]
  },
  {
   "cell_type": "code",
   "execution_count": 51,
   "metadata": {},
   "outputs": [
    {
     "data": {
      "image/png": "[encoded data removed]",
      "text/plain": [
       "<Figure size 720x360 with 2 Axes>"
      ]
     },
     "metadata": {},
     "output_type": "display_data"
    }
   ],
   "source": [
    "fig, (b261_plot, b278_plot) = plt.subplots(ncols=2)\n",
    "fig.set_size_inches(10, 5)\n",
    "\n",
    "roc(train_b261, ax=b261_plot)\n",
    "roc(train_b278, ax=b278_plot)\n",
    "\n",
    "b261_plot.set_title(\"Ent. $b261$ - Prueba $b278$\")\n",
    "b278_plot.set_title(\"Ent. $b278$ - Prueba $b261$\")\n",
    "\n",
    "plt.savefig(\"two_rocs.pdf\")\n",
    "plt.show()"
   ]
  },
  {
   "cell_type": "code",
   "execution_count": 49,
   "metadata": {},
   "outputs": [
    {
     "data": {
      "text/plain": [
       "<matplotlib.axes._subplots.AxesSubplot at 0x7feaf100f3d0>"
      ]
     },
     "execution_count": 49,
     "metadata": {},
     "output_type": "execute_result"
    },
    {
     "data": {
      "image/png": "[encoded data removed]",
      "text/plain": [
       "<Figure size 432x288 with 2 Axes>"
      ]
     },
     "metadata": {},
     "output_type": "display_data"
    }
   ],
   "source": [
    "sns.heatmap(df, annot=True)"
   ]
  },
  {
   "cell_type": "code",
   "execution_count": 55,
   "metadata": {},
   "outputs": [],
   "source": [
    "rr = results[2][\"result\"]"
   ]
  },
  {
   "cell_type": "code",
   "execution_count": 56,
   "metadata": {},
   "outputs": [
    {
     "data": {
      "text/plain": [
       "array([  0.00000000e+00,   0.00000000e+00,   0.00000000e+00,\n",
       "         0.00000000e+00,   0.00000000e+00,   0.00000000e+00,\n",
       "         0.00000000e+00,   0.00000000e+00,   0.00000000e+00,\n",
       "         0.00000000e+00,   0.00000000e+00,   0.00000000e+00,\n",
       "         0.00000000e+00,   0.00000000e+00,   0.00000000e+00,\n",
       "         0.00000000e+00,   0.00000000e+00,   0.00000000e+00,\n",
       "         0.00000000e+00,   0.00000000e+00,   0.00000000e+00,\n",
       "         0.00000000e+00,   0.00000000e+00,   0.00000000e+00,\n",
       "         0.00000000e+00,   0.00000000e+00,   0.00000000e+00,\n",
       "         0.00000000e+00,   0.00000000e+00,   0.00000000e+00,\n",
       "         0.00000000e+00,   0.00000000e+00,   0.00000000e+00,\n",
       "         0.00000000e+00,   0.00000000e+00,   0.00000000e+00,\n",
       "         0.00000000e+00,   0.00000000e+00,   0.00000000e+00,\n",
       "         0.00000000e+00,   0.00000000e+00,   5.01781324e-05,\n",
       "         5.01781324e-05,   5.01781324e-05,   5.01781324e-05,\n",
       "         5.01781324e-05,   5.01781324e-05,   1.50534397e-04,\n",
       "         1.50534397e-04,   2.00712529e-04,   2.00712529e-04,\n",
       "         2.00712529e-04,   2.00712529e-04,   2.00712529e-04,\n",
       "         2.00712529e-04,   2.00712529e-04,   2.00712529e-04,\n",
       "         2.00712529e-04,   2.00712529e-04,   2.00712529e-04,\n",
       "         2.00712529e-04,   2.50890662e-04,   2.50890662e-04,\n",
       "         2.50890662e-04,   2.50890662e-04,   2.50890662e-04,\n",
       "         3.01068794e-04,   3.01068794e-04,   3.01068794e-04,\n",
       "         3.01068794e-04,   3.01068794e-04,   3.01068794e-04,\n",
       "         3.51246927e-04,   3.51246927e-04,   3.51246927e-04,\n",
       "         3.51246927e-04,   3.51246927e-04,   3.51246927e-04,\n",
       "         3.51246927e-04,   4.01425059e-04,   4.01425059e-04,\n",
       "         4.01425059e-04,   4.51603191e-04,   4.51603191e-04,\n",
       "         4.51603191e-04,   4.51603191e-04,   5.01781324e-04,\n",
       "         5.01781324e-04,   5.51959456e-04,   5.51959456e-04,\n",
       "         6.02137588e-04,   6.02137588e-04,   6.52315721e-04,\n",
       "         6.52315721e-04,   6.52315721e-04,   6.52315721e-04,\n",
       "         7.02493853e-04,   7.52671986e-04,   7.52671986e-04,\n",
       "         7.52671986e-04,   7.52671986e-04,   8.02850118e-04,\n",
       "         8.53028250e-04,   9.03206383e-04,   9.03206383e-04,\n",
       "         9.53384515e-04,   9.53384515e-04,   1.10391891e-03,\n",
       "         1.10391891e-03,   1.10391891e-03,   1.10391891e-03,\n",
       "         1.10391891e-03,   1.15409704e-03,   1.15409704e-03,\n",
       "         1.15409704e-03,   1.15409704e-03,   1.20427518e-03,\n",
       "         1.25445331e-03,   1.30463144e-03,   1.35480957e-03,\n",
       "         1.35480957e-03,   1.40498771e-03,   1.45516584e-03,\n",
       "         1.45516584e-03,   1.55552210e-03,   1.55552210e-03,\n",
       "         1.60570024e-03,   1.60570024e-03,   1.70605650e-03,\n",
       "         1.85659090e-03,   2.00712529e-03,   2.30819409e-03,\n",
       "         2.35837222e-03,   2.45872849e-03,   2.45872849e-03,\n",
       "         2.55908475e-03,   2.55908475e-03,   2.60926288e-03,\n",
       "         2.65944102e-03,   2.65944102e-03,   2.70961915e-03,\n",
       "         2.80997541e-03,   2.80997541e-03,   2.86015355e-03,\n",
       "         2.91033168e-03,   2.96050981e-03,   2.96050981e-03,\n",
       "         3.11104421e-03,   3.16122234e-03,   3.21140047e-03,\n",
       "         3.31175674e-03,   3.41211300e-03,   3.46229113e-03,\n",
       "         3.46229113e-03,   3.51246927e-03,   3.71318180e-03,\n",
       "         3.76335993e-03,   3.81353806e-03,   3.86371619e-03,\n",
       "         3.96407246e-03,   4.01425059e-03,   4.06442872e-03,\n",
       "         4.11460685e-03,   4.36549752e-03,   4.51603191e-03,\n",
       "         4.51603191e-03,   4.56621005e-03,   4.71674444e-03,\n",
       "         4.76692258e-03,   5.01781324e-03,   5.11816950e-03,\n",
       "         5.16834763e-03,   5.16834763e-03,   5.26870390e-03,\n",
       "         5.56977269e-03,   5.67012896e-03,   5.87084149e-03,\n",
       "         5.97119775e-03,   5.97119775e-03,   6.17191028e-03,\n",
       "         6.22208841e-03,   6.42280094e-03,   6.47297908e-03,\n",
       "         6.62351347e-03,   6.67369161e-03,   6.72386974e-03,\n",
       "         6.87440413e-03,   6.97476040e-03,   7.12529480e-03,\n",
       "         7.27582919e-03,   7.42636359e-03,   7.67725425e-03,\n",
       "         7.77761052e-03,   8.02850118e-03,   8.12885744e-03,\n",
       "         8.27939184e-03,   8.37974811e-03,   8.58046064e-03,\n",
       "         8.78117316e-03,   8.93170756e-03,   9.08224196e-03,\n",
       "         9.23277636e-03,   9.63420142e-03,   9.93527021e-03,\n",
       "         1.01861609e-02,   1.01861609e-02,   1.04370515e-02,\n",
       "         1.04872297e-02,   1.05374078e-02,   1.06377641e-02,\n",
       "         1.08384766e-02,   1.11395454e-02,   1.13904360e-02,\n",
       "         1.15911486e-02,   1.16915048e-02,   1.18420392e-02,\n",
       "         1.21431080e-02,   1.22936424e-02,   1.23939987e-02,\n",
       "         1.26448894e-02,   1.28456019e-02,   1.32972051e-02,\n",
       "         1.35982739e-02,   1.38993427e-02,   1.39996989e-02,\n",
       "         1.42505896e-02,   1.49029053e-02,   1.50534397e-02,\n",
       "         1.54548648e-02,   1.57559336e-02,   1.59566461e-02,\n",
       "         1.61071805e-02,   1.61573586e-02,   1.64584274e-02,\n",
       "         1.66089618e-02,   1.68096743e-02,   1.70103869e-02,\n",
       "         1.72612775e-02,   1.76125245e-02,   1.78132370e-02,\n",
       "         1.81644839e-02,   1.84655527e-02,   1.88669778e-02,\n",
       "         1.90676903e-02,   1.95192935e-02,   1.98203623e-02,\n",
       "         2.00210748e-02,   2.04726780e-02,   2.08239249e-02,\n",
       "         2.11751719e-02,   2.19780220e-02,   2.23292689e-02,\n",
       "         2.27808721e-02,   2.29815846e-02,   2.33830097e-02,\n",
       "         2.35837222e-02,   2.40855035e-02,   2.46876411e-02,\n",
       "         2.51894224e-02,   2.57915600e-02,   2.61929851e-02,\n",
       "         2.67951227e-02,   2.72969040e-02,   2.80997541e-02,\n",
       "         2.88524261e-02,   2.95549200e-02,   3.04079482e-02,\n",
       "         3.08595514e-02,   3.18631141e-02,   3.22143610e-02,\n",
       "         3.30172111e-02,   3.36193487e-02,   3.45727332e-02,\n",
       "         3.51748708e-02,   3.63791460e-02,   3.73827086e-02,\n",
       "         3.81353806e-02,   3.91891214e-02,   4.03432184e-02,\n",
       "         4.17983843e-02,   4.29524813e-02,   4.39058658e-02,\n",
       "         4.54112098e-02,   4.63144162e-02,   4.75186914e-02,\n",
       "         4.84720759e-02,   5.00275980e-02,   5.12820513e-02,\n",
       "         5.20347233e-02,   5.36906016e-02,   5.50454112e-02,\n",
       "         5.66009333e-02,   5.83069898e-02,   6.11169652e-02,\n",
       "         6.28230217e-02,   6.43283657e-02,   6.81419038e-02,\n",
       "         7.02493853e-02,   7.22565106e-02,   7.41131015e-02,\n",
       "         7.66721863e-02,   7.95825179e-02,   8.23423152e-02,\n",
       "         8.51522906e-02,   8.83636911e-02,   9.23277636e-02,\n",
       "         9.59907672e-02,   1.00155552e-01,   1.05073009e-01,\n",
       "         1.09538863e-01,   1.15961664e-01,   1.21882684e-01,\n",
       "         1.28506197e-01,   1.36635054e-01,   1.44412665e-01,\n",
       "         1.56304882e-01,   1.65688193e-01,   1.77480054e-01,\n",
       "         1.91279041e-01,   2.07386221e-01,   2.26754980e-01,\n",
       "         2.50689949e-01,   2.79442019e-01,   3.16674193e-01,\n",
       "         3.65547694e-01,   4.31531938e-01,   5.27271815e-01,\n",
       "         6.89046114e-01,   1.00000000e+00])"
      ]
     },
     "execution_count": 56,
     "metadata": {},
     "output_type": "execute_result"
    }
   ],
   "source": [
    "rr.fpr"
   ]
  },
  {
   "cell_type": "code",
   "execution_count": null,
   "metadata": {},
   "outputs": [],
   "source": []
  }
 ],
 "metadata": {
  "kernelspec": {
   "display_name": "Python 2",
   "language": "python",
   "name": "python2"
  },
  "language_info": {
   "codemirror_mode": {
    "name": "ipython",
    "version": 2
   },
   "file_extension": ".py",
   "mimetype": "text/x-python",
   "name": "python",
   "nbconvert_exporter": "python",
   "pygments_lexer": "ipython2",
   "version": "2.7.14"
  }
 },
 "nbformat": 4,
 "nbformat_minor": 2
}
