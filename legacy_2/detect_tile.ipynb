{
 "cells": [
  {
   "cell_type": "markdown",
   "metadata": {},
   "source": [
    "# Features Selection MonoVariate"
   ]
  },
  {
   "cell_type": "code",
   "execution_count": 1,
   "metadata": {},
   "outputs": [
    {
     "name": "stderr",
     "output_type": "stream",
     "text": [
      "/home/jbcabral/.conda/envs/carpyncho3/lib/python2.7/site-packages/IPython/config.py:13: ShimWarning: The `IPython.config` package has been deprecated since IPython 4.0. You should import from traitlets.config instead.\n",
      "  \"You should import from traitlets.config instead.\", ShimWarning)\n",
      "/home/jbcabral/.conda/envs/carpyncho3/lib/python2.7/site-packages/IPython/utils/traitlets.py:5: UserWarning: IPython.utils.traitlets has moved to a top-level traitlets package.\n",
      "  warn(\"IPython.utils.traitlets has moved to a top-level traitlets package.\")\n"
     ]
    }
   ],
   "source": [
    "% matplotlib inline\n",
    "\n",
    "import pickle\n",
    "import time\n",
    "\n",
    "import pandas as pd\n",
    "\n",
    "from IPython import display as d\n",
    "# from IPython import \n",
    "\n",
    "import matplotlib.pyplot as plt\n",
    "import seaborn as sns\n",
    "# sns.set()\n",
    "\n",
    "from sklearn.svm import SVC\n",
    "from sklearn.tree import DecisionTreeClassifier\n",
    "from sklearn.ensemble import RandomForestClassifier\n",
    "from sklearn.neighbors import KNeighborsClassifier\n",
    "from sklearn.feature_selection import RFE, RFECV\n",
    "from sklearn import feature_selection as fs\n",
    "from sklearn import metrics\n",
    "from sklearn.utils.multiclass import unique_labels\n",
    "from sklearn.model_selection import (\n",
    "    KFold, StratifiedKFold, train_test_split)\n",
    "from sklearn import preprocessing as prp\n",
    "import sklearn\n",
    "\n",
    "from joblib import Parallel, cpu_count, delayed\n",
    "\n",
    "from libs import container\n",
    "from libs.experiment import (\n",
    "    WithAnotherExperiment, KFoldExperiment, roc, \n",
    "    discretize_classes, clean_features)\n",
    "\n",
    "%load_ext ipycache"
   ]
  },
  {
   "cell_type": "markdown",
   "metadata": {},
   "source": [
    "## 1. Load Data"
   ]
  },
  {
   "cell_type": "code",
   "execution_count": 2,
   "metadata": {},
   "outputs": [],
   "source": [
    "start = time.time()\n",
    "\n",
    "df = pd.read_pickle(\"data/normalized2500.pkl\")\n",
    "\n",
    "scaler = {k: (v0, v1) for k,v0,v1 in pickle.load(open(\"data/scaler.pkl\"))}"
   ]
  },
  {
   "cell_type": "markdown",
   "metadata": {},
   "source": [
    "##  2. Preprocess\n",
    "\n",
    "### 2.1. Discretize the classes"
   ]
  },
  {
   "cell_type": "code",
   "execution_count": 3,
   "metadata": {},
   "outputs": [
    {
     "data": {
      "text/markdown": [
       "**Classes**"
      ],
      "text/plain": [
       "<IPython.core.display.Markdown object>"
      ]
     },
     "metadata": {},
     "output_type": "display_data"
    },
    {
     "data": {
      "text/plain": [
       "{'': 0,\n",
       " 'Cep-1': 1,\n",
       " 'Cep-F': 2,\n",
       " 'LPV-OSARG': 4,\n",
       " 'LPV-SRV': 5,\n",
       " 'RRLyr-RRab': 6,\n",
       " 'RRLyr-RRc': 7,\n",
       " 'RRLyr-RRd': 8,\n",
       " 'T2Cep-BLHer': 9}"
      ]
     },
     "metadata": {},
     "output_type": "display_data"
    },
    {
     "data": {
      "text/markdown": [
       "----"
      ],
      "text/plain": [
       "<IPython.core.display.Markdown object>"
      ]
     },
     "metadata": {},
     "output_type": "display_data"
    },
    {
     "data": {
      "text/markdown": [
       "**Simplified Classes**"
      ],
      "text/plain": [
       "<IPython.core.display.Markdown object>"
      ]
     },
     "metadata": {},
     "output_type": "display_data"
    },
    {
     "data": {
      "text/plain": [
       "{'': 0, 'Cep': 1, 'LPV': 2, 'RRLyr': 3, 'T2Cep': 4}"
      ]
     },
     "metadata": {},
     "output_type": "display_data"
    },
    {
     "data": {
      "text/markdown": [
       "----"
      ],
      "text/plain": [
       "<IPython.core.display.Markdown object>"
      ]
     },
     "metadata": {},
     "output_type": "display_data"
    },
    {
     "data": {
      "text/markdown": [
       "**Tile Classes**"
      ],
      "text/plain": [
       "<IPython.core.display.Markdown object>"
      ]
     },
     "metadata": {},
     "output_type": "display_data"
    },
    {
     "data": {
      "text/plain": [
       "{'b261': 2, 'b262': 0, 'b263': 1, 'b264': 4, 'b278': 3}"
      ]
     },
     "metadata": {},
     "output_type": "display_data"
    }
   ],
   "source": [
    "def corrector(row):\n",
    "    o3t = (row.ogle3_type or \"\").split(\"-\", 1)[0]\n",
    "    scls = row.scls\n",
    "    return o3t, scls\n",
    "\n",
    "classes = dict(set(map(tuple, df[[\"ogle3_type\", \"cls\"]].values)))    \n",
    "sclasses = dict(set(map(tuple, df[[\"ogle3_type\", \"scls\"]].apply(corrector, axis=1).values)))\n",
    "tclasses = {k: v for v, k in enumerate(df.tcls.unique())}\n",
    "\n",
    "def to_tcls(row):\n",
    "    tcls = str(row.tcls)\n",
    "    return tclasses[tcls]\n",
    "\n",
    "df.tcls = df.apply(to_tcls, axis=1)\n",
    "\n",
    "d.display(d.Markdown(\"**Classes**\"))\n",
    "d.display(classes)\n",
    "\n",
    "d.display(d.Markdown(\"----\"))\n",
    "d.display(d.Markdown(\"**Simplified Classes**\"))\n",
    "d.display(sclasses)\n",
    "\n",
    "d.display(d.Markdown(\"----\"))\n",
    "d.display(d.Markdown(\"**Tile Classes**\"))\n",
    "d.display(tclasses)"
   ]
  },
  {
   "cell_type": "markdown",
   "metadata": {},
   "source": [
    "### 2.2. Removes all low-variance and \"bad\" features"
   ]
  },
  {
   "cell_type": "code",
   "execution_count": 4,
   "metadata": {},
   "outputs": [
    {
     "name": "stdout",
     "output_type": "stream",
     "text": [
      "Removing [] because null\n",
      "Removing [] because lowvariance\n",
      "('Total features:', 55)\n"
     ]
    }
   ],
   "source": [
    "X_columns = clean_features({\"df\": df}, \"df\")\n",
    "# X_columns = X_columns.drop(\"AndersonDarling\")\n",
    "X_columns = X_columns[~(X_columns.str.startswith(\"Freq2_\") | X_columns.str.startswith(\"Freq3_\"))]\n",
    "print(\"Total features:\", X_columns.size)"
   ]
  },
  {
   "cell_type": "markdown",
   "metadata": {},
   "source": [
    "### 2.3. Selected features"
   ]
  },
  {
   "cell_type": "code",
   "execution_count": 5,
   "metadata": {},
   "outputs": [
    {
     "data": {
      "text/plain": [
       "Index([u'cnt', u'Amplitude', u'Autocor_length', u'Beyond1Std', u'CAR_mean',\n",
       "       u'CAR_sigma', u'CAR_tau', u'Con', u'Eta_e', u'FluxPercentileRatioMid20',\n",
       "       u'FluxPercentileRatioMid35', u'FluxPercentileRatioMid50',\n",
       "       u'FluxPercentileRatioMid65', u'FluxPercentileRatioMid80',\n",
       "       u'Freq1_harmonics_amplitude_0', u'Freq1_harmonics_amplitude_1',\n",
       "       u'Freq1_harmonics_amplitude_2', u'Freq1_harmonics_amplitude_3',\n",
       "       u'Freq1_harmonics_rel_phase_1', u'Freq1_harmonics_rel_phase_2',\n",
       "       u'Freq1_harmonics_rel_phase_3', u'LinearTrend', u'MaxSlope', u'Mean',\n",
       "       u'Meanvariance', u'MedianAbsDev', u'MedianBRP', u'PairSlopeTrend',\n",
       "       u'PercentAmplitude', u'PercentDifferenceFluxPercentile', u'PeriodLS',\n",
       "       u'Psi_CS', u'Psi_eta', u'Q31', u'Rcs', u'Skew', u'SmallKurtosis',\n",
       "       u'Std', u'c89_jk_color', u'c89_hk_color', u'c89_jh_color',\n",
       "       u'n09_jk_color', u'n09_hk_color', u'n09_jh_color', u'c89_m2', u'c89_m4',\n",
       "       u'c89_c3', u'n09_m2', u'n09_m4', u'n09_c3', u'AmplitudeH',\n",
       "       u'AmplitudeJ', u'ppmb', u'AmplitudeJH', u'AmplitudeJK'],\n",
       "      dtype='object')"
      ]
     },
     "execution_count": 5,
     "metadata": {},
     "output_type": "execute_result"
    }
   ],
   "source": [
    "X_columns"
   ]
  },
  {
   "cell_type": "code",
   "execution_count": 6,
   "metadata": {},
   "outputs": [
    {
     "data": {
      "text/plain": [
       "{'': 0, 'Cep': 1, 'LPV': 2, 'RRLyr': 3, 'T2Cep': 4}"
      ]
     },
     "execution_count": 6,
     "metadata": {},
     "output_type": "execute_result"
    }
   ],
   "source": [
    "sclasses"
   ]
  },
  {
   "cell_type": "code",
   "execution_count": 7,
   "metadata": {},
   "outputs": [
    {
     "data": {
      "text/plain": [
       "<matplotlib.axes._subplots.AxesSubplot at 0x7f84a2cc8650>"
      ]
     },
     "execution_count": 7,
     "metadata": {},
     "output_type": "execute_result"
    },
    {
     "data": {
      "image/png": "[encoded data removed]",
      "text/plain": [
       "<Figure size 1296x720 with 2 Axes>"
      ]
     },
     "metadata": {},
     "output_type": "display_data"
    }
   ],
   "source": [
    "import numpy as np\n",
    "flt = (12 - scaler[\"Mean\"][0]) / scaler[\"Mean\"][1], (16.5 - scaler[\"Mean\"][0]) / scaler[\"Mean\"][1]\n",
    "\n",
    "def plot(data):\n",
    "    all_df = data\n",
    "    size = len(all_df)\n",
    "\n",
    "    all_df['C'] = pd.Series(np.ones(size), index=all_df.index)\n",
    "\n",
    "    unk = all_df[all_df.cls == 0]\n",
    "    unk_size = len(unk)\n",
    "\n",
    "    ax = unk.plot.hexbin(\n",
    "        \"Mean\", \"Std\", cmap=\"Blues\", C=\"C\", \n",
    "        reduce_C_function=lambda x: (np.sum(x) / unk_size),\n",
    "        figsize=(18, 10))\n",
    "\n",
    "    all_df[all_df.cls == 6].plot.scatter(\"Mean\", \"Std\", s=15, color=\"g\", ax=ax, label=\"AB\")\n",
    "    all_df[all_df.cls == 7].plot.scatter(\"Mean\", \"Std\", s=15, color=\"r\", ax=ax, label=\"C\")\n",
    "\n",
    "    for limit in flt:\n",
    "        ax.axvline(limit, color=\"r\")\n",
    "\n",
    "\n",
    "    bins = np.histogram(unk.Mean, bins=50)[1]\n",
    "\n",
    "    unk = unk.assign(bins=unk.Mean.apply(np.digitize, bins=bins))\n",
    "\n",
    "    for idx in bins:\n",
    "        ax.axvline(idx, color=\"b\", alpha=.2)\n",
    "\n",
    "    plt.plot(bins, unk.groupby(\"bins\")[\"Std\"].median(), \"k\")\n",
    "    plt.plot(bins, unk.groupby(\"bins\")[\"Std\"].mean(), \"y\")\n",
    "\n",
    "    return ax\n",
    "    \n",
    "plot(df)"
   ]
  },
  {
   "cell_type": "code",
   "execution_count": 8,
   "metadata": {},
   "outputs": [],
   "source": [
    "tile_unk = df.groupby(\"tcls\").apply(lambda x: x[x.scls==0].sample(500))\n",
    "\n",
    "min_size = df[df.scls == 3].groupby(\"tcls\").size().min()\n",
    "tile_balanced = df.groupby(\"tcls\").apply(lambda x: x[x.scls==3].sample(min_size))\n",
    "\n",
    "tile_mix = pd.concat([tile_balanced, tile_unk])"
   ]
  },
  {
   "cell_type": "code",
   "execution_count": 9,
   "metadata": {},
   "outputs": [],
   "source": [
    "def experiment(clf, x_train, y_train, x_test, y_test, pos_label):\n",
    "    clf = sklearn.clone(clf)\n",
    "    clf.fit(x_train, y_train)\n",
    "\n",
    "    predictions = clf.predict(x_test)\n",
    "    probabilities = clf.predict_proba(x_test)\n",
    "\n",
    "    fpr, tpr, thresholds = metrics.roc_curve(\n",
    "        y_test, 1.-probabilities[:,0], pos_label=pos_label)\n",
    "    prec_rec_curve = metrics.precision_recall_curve(\n",
    "        y_test, 1.- probabilities[:,0], pos_label=pos_label)\n",
    "    roc_auc = metrics.auc(fpr, tpr)\n",
    "\n",
    "    return container.Container({\n",
    "            'fpr': fpr, \n",
    "            'tpr': tpr, \n",
    "            'thresh': thresholds, \n",
    "            'roc_auc': roc_auc, \n",
    "            'prec_rec_curve': prec_rec_curve,\n",
    "            'y_test': y_test, \n",
    "            'predictions': predictions,\n",
    "            'probabilities': probabilities, \n",
    "            'confusion_matrix': metrics.confusion_matrix(y_test, predictions)})\n",
    "\n",
    "\n",
    "# kfold\n",
    "def kfolds(data, X_columns, y_column, clf, nfolds, verbose=True):\n",
    "    skf = StratifiedKFold(n_splits=nfolds)\n",
    "\n",
    "    subject_df = data\n",
    "\n",
    "    x = subject_df[X_columns].values\n",
    "    y = subject_df[y_column].values\n",
    "    y_real = subject_df[y_column].values\n",
    "\n",
    "    probabilities = None\n",
    "    predictions = np.array([])\n",
    "    y_testing = np.array([])\n",
    "    y_testing_real = np.array([])\n",
    "\n",
    "    for train, test in skf.split(x, y):\n",
    "        x_train = x[train]\n",
    "        y_train = y[train]\n",
    "        x_test = x[test]\n",
    "        y_test = y[test]\n",
    "        y_test_real = y_real[test]\n",
    "\n",
    "        rst = experiment(clf, x_train, y_train, x_test, y_test, pos_label=0)            \n",
    "        \n",
    "        probabilities = (\n",
    "            rst.probabilities if probabilities is None else\n",
    "            np.vstack([probabilities, rst.probabilities]))\n",
    "        predictions = np.hstack([predictions, rst.predictions])\n",
    "        y_testing = np.hstack([y_testing, y_test])\n",
    "        y_testing_real = np.hstack([y_testing_real, y_test_real])\n",
    "        del rst\n",
    "\n",
    "    fpr, tpr, thresholds = metrics.roc_curve(\n",
    "        y_testing, 1.-probabilities[:,0], pos_label=0)\n",
    "    prec_rec_curve = metrics.precision_recall_curve(\n",
    "        y_testing, 1.- probabilities[:,0], pos_label=0)\n",
    "    roc_auc = metrics.auc(fpr, tpr)\n",
    "    \n",
    "    if verbose:\n",
    "        print metrics.classification_report(y_testing, predictions)\n",
    "        print \"-\" * 80\n",
    "\n",
    "    return container.Container({\n",
    "        'fpr': fpr, \n",
    "        'tpr': tpr, \n",
    "        'thresh': thresholds, \n",
    "        'roc_auc': roc_auc, \n",
    "        'prec_rec_curve': prec_rec_curve,\n",
    "        'y_test': y_testing, \n",
    "        'y_test_real': y_testing_real,\n",
    "        'predictions': predictions,\n",
    "        'probabilities': probabilities, \n",
    "        'confusion_matrix': metrics.confusion_matrix(y_testing, predictions)})"
   ]
  },
  {
   "cell_type": "code",
   "execution_count": 10,
   "metadata": {},
   "outputs": [
    {
     "name": "stdout",
     "output_type": "stream",
     "text": [
      "             precision    recall  f1-score   support\n",
      "\n",
      "        0.0       0.25      0.14      0.18       220\n",
      "        1.0       0.32      0.20      0.25       220\n",
      "        2.0       0.35      0.21      0.26       220\n",
      "        3.0       0.25      0.73      0.38       220\n",
      "        4.0       0.31      0.12      0.17       220\n",
      "\n",
      "avg / total       0.30      0.28      0.25      1100\n",
      "\n",
      "--------------------------------------------------------------------------------\n",
      "CPU times: user 12 s, sys: 1 ms, total: 12 s\n",
      "Wall time: 12 s\n"
     ]
    }
   ],
   "source": [
    "%%time\n",
    "clf = SVC(kernel='poly', probability=True)\n",
    "kfolds(tile_balanced, X_columns, y_column=\"tcls\", clf=clf, nfolds=10)"
   ]
  },
  {
   "cell_type": "code",
   "execution_count": 11,
   "metadata": {},
   "outputs": [
    {
     "name": "stdout",
     "output_type": "stream",
     "text": [
      "             precision    recall  f1-score   support\n",
      "\n",
      "        0.0       0.24      0.71      0.35       500\n",
      "        1.0       0.36      0.35      0.35       500\n",
      "        2.0       0.30      0.17      0.21       500\n",
      "        3.0       0.53      0.13      0.21       500\n",
      "        4.0       0.40      0.10      0.16       500\n",
      "\n",
      "avg / total       0.37      0.29      0.26      2500\n",
      "\n",
      "--------------------------------------------------------------------------------\n",
      "CPU times: user 1min, sys: 3 ms, total: 1min\n",
      "Wall time: 1min\n"
     ]
    }
   ],
   "source": [
    "%%time\n",
    "clf = SVC(kernel='poly', probability=True)\n",
    "kfolds(tile_unk, X_columns, y_column=\"tcls\", clf=clf, nfolds=10)"
   ]
  },
  {
   "cell_type": "code",
   "execution_count": 12,
   "metadata": {},
   "outputs": [
    {
     "name": "stdout",
     "output_type": "stream",
     "text": [
      "0 - b262\n",
      "1 - b263\n",
      "2 - b261\n",
      "3 - b278\n",
      "4 - b264\n"
     ]
    }
   ],
   "source": [
    "print \"\\n\".join([\"{} - {}\".format(v, k) for k, v in sorted(tclasses.items(), key=lambda e: e[-1])])"
   ]
  },
  {
   "cell_type": "markdown",
   "metadata": {},
   "source": [
    "# SHUFFLE"
   ]
  },
  {
   "cell_type": "code",
   "execution_count": 13,
   "metadata": {},
   "outputs": [],
   "source": [
    "def shuffle_columns(df, to_shuffle):\n",
    "    columns = {}\n",
    "    for c in  df.columns:\n",
    "        values = np.copy(df[c].values)\n",
    "        if c in to_shuffle:\n",
    "            np.random.shuffle(values)\n",
    "        columns[c] = values\n",
    "    return pd.DataFrame(columns, index=df.index.copy())\n",
    "\n",
    "def _experiment(job_n, df, X_columns):\n",
    "    print \"Starting job \", job_n\n",
    "    clf = SVC(kernel='poly', probability=True)\n",
    "    return kfolds(\n",
    "        df, X_columns, y_column=\"tcls\", \n",
    "        clf=clf, nfolds=10, verbose=False)\n",
    "\n",
    "def mean_r(results):\n",
    "    precs, recalls, f1s, supports = [], [], [], []\n",
    "    for r in results:\n",
    "        prec, recall, f1, sup = metrics.precision_recall_fscore_support(\n",
    "            r.y_test, r.predictions, labels=tclasses.values(),\n",
    "            average=None, sample_weight=None)\n",
    "        precs.append(prec)\n",
    "        recalls.append(recall)\n",
    "        f1s.append(f1)\n",
    "        supports.append(sup)\n",
    "    precs = pd.DataFrame(precs)\n",
    "    recalls = pd.DataFrame(recalls)\n",
    "    f1s = pd.DataFrame(f1s)\n",
    "    supports = pd.DataFrame(supports)\n",
    "    return (\n",
    "        precs.mean(axis=0).values,\n",
    "        recalls.mean(axis=0).values,\n",
    "        f1s.mean(axis=0).values,\n",
    "        supports.mean(axis=0).values)\n",
    "\n",
    "def var_r(results):\n",
    "    precs, recalls, f1s, supports = [], [], [], []\n",
    "    for r in results:\n",
    "        prec, recall, f1, sup = metrics.precision_recall_fscore_support(\n",
    "            r.y_test, r.predictions, labels=tclasses.values(),\n",
    "            average=None, sample_weight=None)\n",
    "        precs.append(prec)\n",
    "        recalls.append(recall)\n",
    "        f1s.append(f1)\n",
    "        supports.append(sup)\n",
    "    precs = pd.DataFrame(precs)\n",
    "    recalls = pd.DataFrame(recalls)\n",
    "    f1s = pd.DataFrame(f1s)\n",
    "    supports = pd.DataFrame(supports)\n",
    "    return (\n",
    "        precs.var(axis=0).values,\n",
    "        recalls.var(axis=0).values,\n",
    "        f1s.var(axis=0).values,\n",
    "        supports.var(axis=0).values)\n",
    "\n",
    "def print_r(r):\n",
    "    dt = dict(zip([\"precision\", \"recall\", \"f1-score\", \"support\"], r))\n",
    "    df = pd.DataFrame(dt)\n",
    "    means_row = df.mean(axis=0).to_dict()\n",
    "    new_index = list(df.index) + [\"avg / total\"]\n",
    "    df = df.append(means_row, ignore_index=True)\n",
    "    df = df.assign(new_index=new_index)\n",
    "    df = df.set_index(\"new_index\")\n",
    "    return df"
   ]
  },
  {
   "cell_type": "markdown",
   "metadata": {},
   "source": [
    "----"
   ]
  },
  {
   "cell_type": "code",
   "execution_count": 14,
   "metadata": {},
   "outputs": [
    {
     "name": "stdout",
     "output_type": "stream",
     "text": [
      "[Skipped the cell's code and loaded variables mix_shuffle from file '/home/jbcabral/paper_b278/data/mix_shuffle.pkl'.]\n"
     ]
    }
   ],
   "source": [
    "%%cache data/mix_shuffle.pkl mix_shuffle \n",
    "with Parallel(n_jobs=cpu_count()) as jobs:\n",
    "    mix_shuffle = jobs(delayed(_experiment)(idx, shuffle_columns(tile_mix, X_columns), X_columns) \n",
    "                   for idx in range(100))\n",
    "mix_shuffle = map(dict, mix_shuffle)"
   ]
  },
  {
   "cell_type": "code",
   "execution_count": 15,
   "metadata": {},
   "outputs": [
    {
     "name": "stdout",
     "output_type": "stream",
     "text": [
      "[Skipped the cell's code and loaded variables rr_shuffle from file '/home/jbcabral/paper_b278/data/rr_shuffle.pkl'.]\n"
     ]
    }
   ],
   "source": [
    "%%cache data/rr_shuffle.pkl rr_shuffle \n",
    "with Parallel(n_jobs=cpu_count()) as jobs:\n",
    "    rr_shuffle = jobs(delayed(_experiment)(idx, shuffle_columns(tile_balanced, X_columns), X_columns) \n",
    "                   for idx in range(100))\n",
    "rr_shuffle = map(dict, rr_shuffle)"
   ]
  },
  {
   "cell_type": "code",
   "execution_count": 16,
   "metadata": {},
   "outputs": [
    {
     "name": "stdout",
     "output_type": "stream",
     "text": [
      "[Skipped the cell's code and loaded variables unk_shuffle from file '/home/jbcabral/paper_b278/data/unk_shuffle.pkl'.]\n"
     ]
    }
   ],
   "source": [
    "%%cache data/unk_shuffle.pkl unk_shuffle\n",
    "with Parallel(n_jobs=cpu_count()) as jobs:\n",
    "    unk_shuffle = jobs(delayed(_experiment)(idx, shuffle_columns(tile_unk, X_columns), X_columns) \n",
    "                   for idx in range(100))\n",
    "unk_shuffle = map(dict, unk_shuffle)"
   ]
  },
  {
   "cell_type": "code",
   "execution_count": 17,
   "metadata": {},
   "outputs": [],
   "source": [
    "mix_shuffle = map(container.Container, mix_shuffle)\n",
    "rr_shuffle = map(container.Container, rr_shuffle)\n",
    "unk_shuffle = map(container.Container, unk_shuffle)"
   ]
  },
  {
   "cell_type": "code",
   "execution_count": 18,
   "metadata": {},
   "outputs": [
    {
     "data": {
      "text/markdown": [
       "## RRLyrae + Unknow stars"
      ],
      "text/plain": [
       "<IPython.core.display.Markdown object>"
      ]
     },
     "metadata": {},
     "output_type": "display_data"
    },
    {
     "data": {
      "text/markdown": [
       "### Average"
      ],
      "text/plain": [
       "<IPython.core.display.Markdown object>"
      ]
     },
     "metadata": {},
     "output_type": "display_data"
    },
    {
     "data": {
      "text/html": [
       "<div>\n",
       "<style>\n",
       "    .dataframe thead tr:only-child th {\n",
       "        text-align: right;\n",
       "    }\n",
       "\n",
       "    .dataframe thead th {\n",
       "        text-align: left;\n",
       "    }\n",
       "\n",
       "    .dataframe tbody tr th {\n",
       "        vertical-align: top;\n",
       "    }\n",
       "</style>\n",
       "<table border=\"1\" class=\"dataframe\">\n",
       "  <thead>\n",
       "    <tr style=\"text-align: right;\">\n",
       "      <th></th>\n",
       "      <th>f1-score</th>\n",
       "      <th>precision</th>\n",
       "      <th>recall</th>\n",
       "      <th>support</th>\n",
       "    </tr>\n",
       "    <tr>\n",
       "      <th>new_index</th>\n",
       "      <th></th>\n",
       "      <th></th>\n",
       "      <th></th>\n",
       "      <th></th>\n",
       "    </tr>\n",
       "  </thead>\n",
       "  <tbody>\n",
       "    <tr>\n",
       "      <th>0</th>\n",
       "      <td>0.156099</td>\n",
       "      <td>0.201629</td>\n",
       "      <td>0.164014</td>\n",
       "      <td>720.0</td>\n",
       "    </tr>\n",
       "    <tr>\n",
       "      <th>1</th>\n",
       "      <td>0.168553</td>\n",
       "      <td>0.198356</td>\n",
       "      <td>0.207764</td>\n",
       "      <td>720.0</td>\n",
       "    </tr>\n",
       "    <tr>\n",
       "      <th>2</th>\n",
       "      <td>0.162447</td>\n",
       "      <td>0.204001</td>\n",
       "      <td>0.191625</td>\n",
       "      <td>720.0</td>\n",
       "    </tr>\n",
       "    <tr>\n",
       "      <th>3</th>\n",
       "      <td>0.175340</td>\n",
       "      <td>0.201804</td>\n",
       "      <td>0.222361</td>\n",
       "      <td>720.0</td>\n",
       "    </tr>\n",
       "    <tr>\n",
       "      <th>4</th>\n",
       "      <td>0.169466</td>\n",
       "      <td>0.203581</td>\n",
       "      <td>0.214542</td>\n",
       "      <td>720.0</td>\n",
       "    </tr>\n",
       "    <tr>\n",
       "      <th>avg / total</th>\n",
       "      <td>0.166381</td>\n",
       "      <td>0.201874</td>\n",
       "      <td>0.200061</td>\n",
       "      <td>720.0</td>\n",
       "    </tr>\n",
       "  </tbody>\n",
       "</table>\n",
       "</div>"
      ],
      "text/plain": [
       "             f1-score  precision    recall  support\n",
       "new_index                                          \n",
       "0            0.156099   0.201629  0.164014    720.0\n",
       "1            0.168553   0.198356  0.207764    720.0\n",
       "2            0.162447   0.204001  0.191625    720.0\n",
       "3            0.175340   0.201804  0.222361    720.0\n",
       "4            0.169466   0.203581  0.214542    720.0\n",
       "avg / total  0.166381   0.201874  0.200061    720.0"
      ]
     },
     "metadata": {},
     "output_type": "display_data"
    },
    {
     "data": {
      "text/markdown": [
       "### Var"
      ],
      "text/plain": [
       "<IPython.core.display.Markdown object>"
      ]
     },
     "metadata": {},
     "output_type": "display_data"
    },
    {
     "data": {
      "text/html": [
       "<div>\n",
       "<style>\n",
       "    .dataframe thead tr:only-child th {\n",
       "        text-align: right;\n",
       "    }\n",
       "\n",
       "    .dataframe thead th {\n",
       "        text-align: left;\n",
       "    }\n",
       "\n",
       "    .dataframe tbody tr th {\n",
       "        vertical-align: top;\n",
       "    }\n",
       "</style>\n",
       "<table border=\"1\" class=\"dataframe\">\n",
       "  <thead>\n",
       "    <tr style=\"text-align: right;\">\n",
       "      <th></th>\n",
       "      <th>f1-score</th>\n",
       "      <th>precision</th>\n",
       "      <th>recall</th>\n",
       "      <th>support</th>\n",
       "    </tr>\n",
       "    <tr>\n",
       "      <th>new_index</th>\n",
       "      <th></th>\n",
       "      <th></th>\n",
       "      <th></th>\n",
       "      <th></th>\n",
       "    </tr>\n",
       "  </thead>\n",
       "  <tbody>\n",
       "    <tr>\n",
       "      <th>0</th>\n",
       "      <td>0.004061</td>\n",
       "      <td>0.000560</td>\n",
       "      <td>0.020427</td>\n",
       "      <td>0.0</td>\n",
       "    </tr>\n",
       "    <tr>\n",
       "      <th>1</th>\n",
       "      <td>0.006191</td>\n",
       "      <td>0.000468</td>\n",
       "      <td>0.038468</td>\n",
       "      <td>0.0</td>\n",
       "    </tr>\n",
       "    <tr>\n",
       "      <th>2</th>\n",
       "      <td>0.006118</td>\n",
       "      <td>0.000589</td>\n",
       "      <td>0.034734</td>\n",
       "      <td>0.0</td>\n",
       "    </tr>\n",
       "    <tr>\n",
       "      <th>3</th>\n",
       "      <td>0.006290</td>\n",
       "      <td>0.000587</td>\n",
       "      <td>0.038351</td>\n",
       "      <td>0.0</td>\n",
       "    </tr>\n",
       "    <tr>\n",
       "      <th>4</th>\n",
       "      <td>0.006741</td>\n",
       "      <td>0.000566</td>\n",
       "      <td>0.043496</td>\n",
       "      <td>0.0</td>\n",
       "    </tr>\n",
       "    <tr>\n",
       "      <th>avg / total</th>\n",
       "      <td>0.005880</td>\n",
       "      <td>0.000554</td>\n",
       "      <td>0.035095</td>\n",
       "      <td>0.0</td>\n",
       "    </tr>\n",
       "  </tbody>\n",
       "</table>\n",
       "</div>"
      ],
      "text/plain": [
       "             f1-score  precision    recall  support\n",
       "new_index                                          \n",
       "0            0.004061   0.000560  0.020427      0.0\n",
       "1            0.006191   0.000468  0.038468      0.0\n",
       "2            0.006118   0.000589  0.034734      0.0\n",
       "3            0.006290   0.000587  0.038351      0.0\n",
       "4            0.006741   0.000566  0.043496      0.0\n",
       "avg / total  0.005880   0.000554  0.035095      0.0"
      ]
     },
     "metadata": {},
     "output_type": "display_data"
    }
   ],
   "source": [
    "d.display(d.Markdown(\"## RRLyrae + Unknow stars\"))\n",
    "d.display(d.Markdown(\"### Average\"))\n",
    "display(print_r(mean_r(results=mix_shuffle)))\n",
    "d.display(d.Markdown(\"### Var\"))\n",
    "display(print_r(var_r(results=mix_shuffle)))"
   ]
  },
  {
   "cell_type": "code",
   "execution_count": 19,
   "metadata": {},
   "outputs": [
    {
     "data": {
      "text/markdown": [
       "## RRLyrae"
      ],
      "text/plain": [
       "<IPython.core.display.Markdown object>"
      ]
     },
     "metadata": {},
     "output_type": "display_data"
    },
    {
     "data": {
      "text/markdown": [
       "### Average"
      ],
      "text/plain": [
       "<IPython.core.display.Markdown object>"
      ]
     },
     "metadata": {},
     "output_type": "display_data"
    },
    {
     "data": {
      "text/html": [
       "<div>\n",
       "<style>\n",
       "    .dataframe thead tr:only-child th {\n",
       "        text-align: right;\n",
       "    }\n",
       "\n",
       "    .dataframe thead th {\n",
       "        text-align: left;\n",
       "    }\n",
       "\n",
       "    .dataframe tbody tr th {\n",
       "        vertical-align: top;\n",
       "    }\n",
       "</style>\n",
       "<table border=\"1\" class=\"dataframe\">\n",
       "  <thead>\n",
       "    <tr style=\"text-align: right;\">\n",
       "      <th></th>\n",
       "      <th>f1-score</th>\n",
       "      <th>precision</th>\n",
       "      <th>recall</th>\n",
       "      <th>support</th>\n",
       "    </tr>\n",
       "    <tr>\n",
       "      <th>new_index</th>\n",
       "      <th></th>\n",
       "      <th></th>\n",
       "      <th></th>\n",
       "      <th></th>\n",
       "    </tr>\n",
       "  </thead>\n",
       "  <tbody>\n",
       "    <tr>\n",
       "      <th>0</th>\n",
       "      <td>0.163814</td>\n",
       "      <td>0.196740</td>\n",
       "      <td>0.178045</td>\n",
       "      <td>220.0</td>\n",
       "    </tr>\n",
       "    <tr>\n",
       "      <th>1</th>\n",
       "      <td>0.181132</td>\n",
       "      <td>0.205147</td>\n",
       "      <td>0.214045</td>\n",
       "      <td>220.0</td>\n",
       "    </tr>\n",
       "    <tr>\n",
       "      <th>2</th>\n",
       "      <td>0.172437</td>\n",
       "      <td>0.205395</td>\n",
       "      <td>0.206773</td>\n",
       "      <td>220.0</td>\n",
       "    </tr>\n",
       "    <tr>\n",
       "      <th>3</th>\n",
       "      <td>0.168585</td>\n",
       "      <td>0.201356</td>\n",
       "      <td>0.191773</td>\n",
       "      <td>220.0</td>\n",
       "    </tr>\n",
       "    <tr>\n",
       "      <th>4</th>\n",
       "      <td>0.171297</td>\n",
       "      <td>0.199091</td>\n",
       "      <td>0.208000</td>\n",
       "      <td>220.0</td>\n",
       "    </tr>\n",
       "    <tr>\n",
       "      <th>avg / total</th>\n",
       "      <td>0.171453</td>\n",
       "      <td>0.201546</td>\n",
       "      <td>0.199727</td>\n",
       "      <td>220.0</td>\n",
       "    </tr>\n",
       "  </tbody>\n",
       "</table>\n",
       "</div>"
      ],
      "text/plain": [
       "             f1-score  precision    recall  support\n",
       "new_index                                          \n",
       "0            0.163814   0.196740  0.178045    220.0\n",
       "1            0.181132   0.205147  0.214045    220.0\n",
       "2            0.172437   0.205395  0.206773    220.0\n",
       "3            0.168585   0.201356  0.191773    220.0\n",
       "4            0.171297   0.199091  0.208000    220.0\n",
       "avg / total  0.171453   0.201546  0.199727    220.0"
      ]
     },
     "metadata": {},
     "output_type": "display_data"
    },
    {
     "data": {
      "text/markdown": [
       "### Var"
      ],
      "text/plain": [
       "<IPython.core.display.Markdown object>"
      ]
     },
     "metadata": {},
     "output_type": "display_data"
    },
    {
     "data": {
      "text/html": [
       "<div>\n",
       "<style>\n",
       "    .dataframe thead tr:only-child th {\n",
       "        text-align: right;\n",
       "    }\n",
       "\n",
       "    .dataframe thead th {\n",
       "        text-align: left;\n",
       "    }\n",
       "\n",
       "    .dataframe tbody tr th {\n",
       "        vertical-align: top;\n",
       "    }\n",
       "</style>\n",
       "<table border=\"1\" class=\"dataframe\">\n",
       "  <thead>\n",
       "    <tr style=\"text-align: right;\">\n",
       "      <th></th>\n",
       "      <th>f1-score</th>\n",
       "      <th>precision</th>\n",
       "      <th>recall</th>\n",
       "      <th>support</th>\n",
       "    </tr>\n",
       "    <tr>\n",
       "      <th>new_index</th>\n",
       "      <th></th>\n",
       "      <th></th>\n",
       "      <th></th>\n",
       "      <th></th>\n",
       "    </tr>\n",
       "  </thead>\n",
       "  <tbody>\n",
       "    <tr>\n",
       "      <th>0</th>\n",
       "      <td>0.005050</td>\n",
       "      <td>0.001321</td>\n",
       "      <td>0.023522</td>\n",
       "      <td>0.0</td>\n",
       "    </tr>\n",
       "    <tr>\n",
       "      <th>1</th>\n",
       "      <td>0.005081</td>\n",
       "      <td>0.001184</td>\n",
       "      <td>0.028934</td>\n",
       "      <td>0.0</td>\n",
       "    </tr>\n",
       "    <tr>\n",
       "      <th>2</th>\n",
       "      <td>0.005754</td>\n",
       "      <td>0.002265</td>\n",
       "      <td>0.032284</td>\n",
       "      <td>0.0</td>\n",
       "    </tr>\n",
       "    <tr>\n",
       "      <th>3</th>\n",
       "      <td>0.005385</td>\n",
       "      <td>0.001735</td>\n",
       "      <td>0.028167</td>\n",
       "      <td>0.0</td>\n",
       "    </tr>\n",
       "    <tr>\n",
       "      <th>4</th>\n",
       "      <td>0.006457</td>\n",
       "      <td>0.001609</td>\n",
       "      <td>0.034819</td>\n",
       "      <td>0.0</td>\n",
       "    </tr>\n",
       "    <tr>\n",
       "      <th>avg / total</th>\n",
       "      <td>0.005545</td>\n",
       "      <td>0.001623</td>\n",
       "      <td>0.029545</td>\n",
       "      <td>0.0</td>\n",
       "    </tr>\n",
       "  </tbody>\n",
       "</table>\n",
       "</div>"
      ],
      "text/plain": [
       "             f1-score  precision    recall  support\n",
       "new_index                                          \n",
       "0            0.005050   0.001321  0.023522      0.0\n",
       "1            0.005081   0.001184  0.028934      0.0\n",
       "2            0.005754   0.002265  0.032284      0.0\n",
       "3            0.005385   0.001735  0.028167      0.0\n",
       "4            0.006457   0.001609  0.034819      0.0\n",
       "avg / total  0.005545   0.001623  0.029545      0.0"
      ]
     },
     "metadata": {},
     "output_type": "display_data"
    }
   ],
   "source": [
    "d.display(d.Markdown(\"## RRLyrae\"))\n",
    "d.display(d.Markdown(\"### Average\"))\n",
    "display(print_r(mean_r(results=rr_shuffle)))\n",
    "d.display(d.Markdown(\"### Var\"))\n",
    "display(print_r(var_r(results=rr_shuffle)))"
   ]
  },
  {
   "cell_type": "code",
   "execution_count": 20,
   "metadata": {},
   "outputs": [
    {
     "data": {
      "text/markdown": [
       "## Unknow stars"
      ],
      "text/plain": [
       "<IPython.core.display.Markdown object>"
      ]
     },
     "metadata": {},
     "output_type": "display_data"
    },
    {
     "data": {
      "text/markdown": [
       "### Average"
      ],
      "text/plain": [
       "<IPython.core.display.Markdown object>"
      ]
     },
     "metadata": {},
     "output_type": "display_data"
    },
    {
     "data": {
      "text/html": [
       "<div>\n",
       "<style>\n",
       "    .dataframe thead tr:only-child th {\n",
       "        text-align: right;\n",
       "    }\n",
       "\n",
       "    .dataframe thead th {\n",
       "        text-align: left;\n",
       "    }\n",
       "\n",
       "    .dataframe tbody tr th {\n",
       "        vertical-align: top;\n",
       "    }\n",
       "</style>\n",
       "<table border=\"1\" class=\"dataframe\">\n",
       "  <thead>\n",
       "    <tr style=\"text-align: right;\">\n",
       "      <th></th>\n",
       "      <th>f1-score</th>\n",
       "      <th>precision</th>\n",
       "      <th>recall</th>\n",
       "      <th>support</th>\n",
       "    </tr>\n",
       "    <tr>\n",
       "      <th>new_index</th>\n",
       "      <th></th>\n",
       "      <th></th>\n",
       "      <th></th>\n",
       "      <th></th>\n",
       "    </tr>\n",
       "  </thead>\n",
       "  <tbody>\n",
       "    <tr>\n",
       "      <th>0</th>\n",
       "      <td>0.158273</td>\n",
       "      <td>0.200399</td>\n",
       "      <td>0.204420</td>\n",
       "      <td>500.0</td>\n",
       "    </tr>\n",
       "    <tr>\n",
       "      <th>1</th>\n",
       "      <td>0.158413</td>\n",
       "      <td>0.205374</td>\n",
       "      <td>0.211540</td>\n",
       "      <td>500.0</td>\n",
       "    </tr>\n",
       "    <tr>\n",
       "      <th>2</th>\n",
       "      <td>0.163540</td>\n",
       "      <td>0.198373</td>\n",
       "      <td>0.224020</td>\n",
       "      <td>500.0</td>\n",
       "    </tr>\n",
       "    <tr>\n",
       "      <th>3</th>\n",
       "      <td>0.137292</td>\n",
       "      <td>0.201055</td>\n",
       "      <td>0.159680</td>\n",
       "      <td>500.0</td>\n",
       "    </tr>\n",
       "    <tr>\n",
       "      <th>4</th>\n",
       "      <td>0.154068</td>\n",
       "      <td>0.196911</td>\n",
       "      <td>0.198280</td>\n",
       "      <td>500.0</td>\n",
       "    </tr>\n",
       "    <tr>\n",
       "      <th>avg / total</th>\n",
       "      <td>0.154317</td>\n",
       "      <td>0.200423</td>\n",
       "      <td>0.199588</td>\n",
       "      <td>500.0</td>\n",
       "    </tr>\n",
       "  </tbody>\n",
       "</table>\n",
       "</div>"
      ],
      "text/plain": [
       "             f1-score  precision    recall  support\n",
       "new_index                                          \n",
       "0            0.158273   0.200399  0.204420    500.0\n",
       "1            0.158413   0.205374  0.211540    500.0\n",
       "2            0.163540   0.198373  0.224020    500.0\n",
       "3            0.137292   0.201055  0.159680    500.0\n",
       "4            0.154068   0.196911  0.198280    500.0\n",
       "avg / total  0.154317   0.200423  0.199588    500.0"
      ]
     },
     "metadata": {},
     "output_type": "display_data"
    },
    {
     "data": {
      "text/markdown": [
       "### Var"
      ],
      "text/plain": [
       "<IPython.core.display.Markdown object>"
      ]
     },
     "metadata": {},
     "output_type": "display_data"
    },
    {
     "data": {
      "text/html": [
       "<div>\n",
       "<style>\n",
       "    .dataframe thead tr:only-child th {\n",
       "        text-align: right;\n",
       "    }\n",
       "\n",
       "    .dataframe thead th {\n",
       "        text-align: left;\n",
       "    }\n",
       "\n",
       "    .dataframe tbody tr th {\n",
       "        vertical-align: top;\n",
       "    }\n",
       "</style>\n",
       "<table border=\"1\" class=\"dataframe\">\n",
       "  <thead>\n",
       "    <tr style=\"text-align: right;\">\n",
       "      <th></th>\n",
       "      <th>f1-score</th>\n",
       "      <th>precision</th>\n",
       "      <th>recall</th>\n",
       "      <th>support</th>\n",
       "    </tr>\n",
       "    <tr>\n",
       "      <th>new_index</th>\n",
       "      <th></th>\n",
       "      <th></th>\n",
       "      <th></th>\n",
       "      <th></th>\n",
       "    </tr>\n",
       "  </thead>\n",
       "  <tbody>\n",
       "    <tr>\n",
       "      <th>0</th>\n",
       "      <td>0.007000</td>\n",
       "      <td>0.000703</td>\n",
       "      <td>0.051563</td>\n",
       "      <td>0.0</td>\n",
       "    </tr>\n",
       "    <tr>\n",
       "      <th>1</th>\n",
       "      <td>0.007184</td>\n",
       "      <td>0.000737</td>\n",
       "      <td>0.059230</td>\n",
       "      <td>0.0</td>\n",
       "    </tr>\n",
       "    <tr>\n",
       "      <th>2</th>\n",
       "      <td>0.007670</td>\n",
       "      <td>0.000845</td>\n",
       "      <td>0.058972</td>\n",
       "      <td>0.0</td>\n",
       "    </tr>\n",
       "    <tr>\n",
       "      <th>3</th>\n",
       "      <td>0.006106</td>\n",
       "      <td>0.001180</td>\n",
       "      <td>0.040354</td>\n",
       "      <td>0.0</td>\n",
       "    </tr>\n",
       "    <tr>\n",
       "      <th>4</th>\n",
       "      <td>0.007029</td>\n",
       "      <td>0.000736</td>\n",
       "      <td>0.051879</td>\n",
       "      <td>0.0</td>\n",
       "    </tr>\n",
       "    <tr>\n",
       "      <th>avg / total</th>\n",
       "      <td>0.006998</td>\n",
       "      <td>0.000840</td>\n",
       "      <td>0.052399</td>\n",
       "      <td>0.0</td>\n",
       "    </tr>\n",
       "  </tbody>\n",
       "</table>\n",
       "</div>"
      ],
      "text/plain": [
       "             f1-score  precision    recall  support\n",
       "new_index                                          \n",
       "0            0.007000   0.000703  0.051563      0.0\n",
       "1            0.007184   0.000737  0.059230      0.0\n",
       "2            0.007670   0.000845  0.058972      0.0\n",
       "3            0.006106   0.001180  0.040354      0.0\n",
       "4            0.007029   0.000736  0.051879      0.0\n",
       "avg / total  0.006998   0.000840  0.052399      0.0"
      ]
     },
     "metadata": {},
     "output_type": "display_data"
    }
   ],
   "source": [
    "d.display(d.Markdown(\"## Unknow stars\"))\n",
    "d.display(d.Markdown(\"### Average\"))\n",
    "display(print_r(mean_r(results=unk_shuffle)))\n",
    "d.display(d.Markdown(\"### Var\"))\n",
    "display(print_r(var_r(results=unk_shuffle)))"
   ]
  },
  {
   "cell_type": "markdown",
   "metadata": {},
   "source": [
    "----\n",
    "## Shuffle in class"
   ]
  },
  {
   "cell_type": "code",
   "execution_count": 21,
   "metadata": {},
   "outputs": [],
   "source": [
    "def shuffle_by_class_columns(df, cls_column, to_shuffle):\n",
    "    parts = []\n",
    "    for cls in df[cls_column].unique():\n",
    "        cls_df = df[df[cls_column] == cls]\n",
    "        columns = {}\n",
    "        for c in  cls_df.columns:\n",
    "            values = np.copy(cls_df[c].values)\n",
    "            if c in to_shuffle:\n",
    "                np.random.shuffle(values)\n",
    "            columns[c] = values\n",
    "        part = pd.DataFrame(columns, index=cls_df.index.copy())\n",
    "        parts.append(part)\n",
    "    return pd.concat(parts)"
   ]
  },
  {
   "cell_type": "code",
   "execution_count": 22,
   "metadata": {},
   "outputs": [
    {
     "name": "stdout",
     "output_type": "stream",
     "text": [
      "[Skipped the cell's code and loaded variables cls_mix_shuffle from file '/home/jbcabral/paper_b278/data/cls_mix_shuffle.pkl'.]\n"
     ]
    }
   ],
   "source": [
    "%%cache data/cls_mix_shuffle.pkl cls_mix_shuffle\n",
    "with Parallel(n_jobs=cpu_count()) as jobs:\n",
    "    cls_mix_shuffle = jobs(delayed(_experiment)(idx, shuffle_by_class_columns(tile_mix, \"tcls\", X_columns), X_columns) \n",
    "                   for idx in range(100))\n",
    "cls_mix_shuffle = map(dict, cls_mix_shuffle)"
   ]
  },
  {
   "cell_type": "code",
   "execution_count": 23,
   "metadata": {},
   "outputs": [
    {
     "name": "stdout",
     "output_type": "stream",
     "text": [
      "[Skipped the cell's code and loaded variables cls_rr_shuffle from file '/home/jbcabral/paper_b278/data/cls_rr_shuffle.pkl'.]\n"
     ]
    }
   ],
   "source": [
    "%%cache data/cls_rr_shuffle.pkl cls_rr_shuffle \n",
    "with Parallel(n_jobs=cpu_count()) as jobs:\n",
    "    cls_rr_shuffle = jobs(delayed(_experiment)(idx, shuffle_by_class_columns(tile_balanced, \"tcls\", X_columns), X_columns) \n",
    "                   for idx in range(100))\n",
    "cls_rr_shuffle = map(dict, cls_rr_shuffle)"
   ]
  },
  {
   "cell_type": "code",
   "execution_count": 24,
   "metadata": {},
   "outputs": [
    {
     "name": "stdout",
     "output_type": "stream",
     "text": [
      "[Skipped the cell's code and loaded variables cls_unk_shuffle from file '/home/jbcabral/paper_b278/data/cls_unk_shuffle.pkl'.]\n"
     ]
    }
   ],
   "source": [
    "%%cache data/cls_unk_shuffle.pkl cls_unk_shuffle\n",
    "with Parallel(n_jobs=cpu_count()) as jobs:\n",
    "    cls_unk_shuffle = jobs(delayed(_experiment)(idx, shuffle_by_class_columns(tile_unk, \"tcls\", X_columns), X_columns) \n",
    "                   for idx in range(100))\n",
    "cls_unk_shuffle = map(dict, cls_unk_shuffle)"
   ]
  },
  {
   "cell_type": "code",
   "execution_count": 25,
   "metadata": {},
   "outputs": [],
   "source": [
    "cls_mix_shuffle = map(container.Container, cls_mix_shuffle)\n",
    "cls_rr_shuffle = map(container.Container, cls_rr_shuffle)\n",
    "cls_unk_shuffle = map(container.Container, cls_unk_shuffle)"
   ]
  },
  {
   "cell_type": "code",
   "execution_count": 26,
   "metadata": {},
   "outputs": [
    {
     "data": {
      "text/markdown": [
       "## In-Class Shuffle - RRLyrae + Unknow stars"
      ],
      "text/plain": [
       "<IPython.core.display.Markdown object>"
      ]
     },
     "metadata": {},
     "output_type": "display_data"
    },
    {
     "data": {
      "text/markdown": [
       "### Average"
      ],
      "text/plain": [
       "<IPython.core.display.Markdown object>"
      ]
     },
     "metadata": {},
     "output_type": "display_data"
    },
    {
     "data": {
      "text/html": [
       "<div>\n",
       "<style>\n",
       "    .dataframe thead tr:only-child th {\n",
       "        text-align: right;\n",
       "    }\n",
       "\n",
       "    .dataframe thead th {\n",
       "        text-align: left;\n",
       "    }\n",
       "\n",
       "    .dataframe tbody tr th {\n",
       "        vertical-align: top;\n",
       "    }\n",
       "</style>\n",
       "<table border=\"1\" class=\"dataframe\">\n",
       "  <thead>\n",
       "    <tr style=\"text-align: right;\">\n",
       "      <th></th>\n",
       "      <th>f1-score</th>\n",
       "      <th>precision</th>\n",
       "      <th>recall</th>\n",
       "      <th>support</th>\n",
       "    </tr>\n",
       "    <tr>\n",
       "      <th>new_index</th>\n",
       "      <th></th>\n",
       "      <th></th>\n",
       "      <th></th>\n",
       "      <th></th>\n",
       "    </tr>\n",
       "  </thead>\n",
       "  <tbody>\n",
       "    <tr>\n",
       "      <th>0</th>\n",
       "      <td>0.339705</td>\n",
       "      <td>0.261360</td>\n",
       "      <td>0.497944</td>\n",
       "      <td>720.0</td>\n",
       "    </tr>\n",
       "    <tr>\n",
       "      <th>1</th>\n",
       "      <td>0.397471</td>\n",
       "      <td>0.326585</td>\n",
       "      <td>0.518972</td>\n",
       "      <td>720.0</td>\n",
       "    </tr>\n",
       "    <tr>\n",
       "      <th>2</th>\n",
       "      <td>0.182637</td>\n",
       "      <td>0.269195</td>\n",
       "      <td>0.146528</td>\n",
       "      <td>720.0</td>\n",
       "    </tr>\n",
       "    <tr>\n",
       "      <th>3</th>\n",
       "      <td>0.351907</td>\n",
       "      <td>0.442495</td>\n",
       "      <td>0.295694</td>\n",
       "      <td>720.0</td>\n",
       "    </tr>\n",
       "    <tr>\n",
       "      <th>4</th>\n",
       "      <td>0.167863</td>\n",
       "      <td>0.399792</td>\n",
       "      <td>0.106361</td>\n",
       "      <td>720.0</td>\n",
       "    </tr>\n",
       "    <tr>\n",
       "      <th>avg / total</th>\n",
       "      <td>0.287917</td>\n",
       "      <td>0.339885</td>\n",
       "      <td>0.313100</td>\n",
       "      <td>720.0</td>\n",
       "    </tr>\n",
       "  </tbody>\n",
       "</table>\n",
       "</div>"
      ],
      "text/plain": [
       "             f1-score  precision    recall  support\n",
       "new_index                                          \n",
       "0            0.339705   0.261360  0.497944    720.0\n",
       "1            0.397471   0.326585  0.518972    720.0\n",
       "2            0.182637   0.269195  0.146528    720.0\n",
       "3            0.351907   0.442495  0.295694    720.0\n",
       "4            0.167863   0.399792  0.106361    720.0\n",
       "avg / total  0.287917   0.339885  0.313100    720.0"
      ]
     },
     "metadata": {},
     "output_type": "display_data"
    },
    {
     "data": {
      "text/markdown": [
       "### Var"
      ],
      "text/plain": [
       "<IPython.core.display.Markdown object>"
      ]
     },
     "metadata": {},
     "output_type": "display_data"
    },
    {
     "data": {
      "text/html": [
       "<div>\n",
       "<style>\n",
       "    .dataframe thead tr:only-child th {\n",
       "        text-align: right;\n",
       "    }\n",
       "\n",
       "    .dataframe thead th {\n",
       "        text-align: left;\n",
       "    }\n",
       "\n",
       "    .dataframe tbody tr th {\n",
       "        vertical-align: top;\n",
       "    }\n",
       "</style>\n",
       "<table border=\"1\" class=\"dataframe\">\n",
       "  <thead>\n",
       "    <tr style=\"text-align: right;\">\n",
       "      <th></th>\n",
       "      <th>f1-score</th>\n",
       "      <th>precision</th>\n",
       "      <th>recall</th>\n",
       "      <th>support</th>\n",
       "    </tr>\n",
       "    <tr>\n",
       "      <th>new_index</th>\n",
       "      <th></th>\n",
       "      <th></th>\n",
       "      <th></th>\n",
       "      <th></th>\n",
       "    </tr>\n",
       "  </thead>\n",
       "  <tbody>\n",
       "    <tr>\n",
       "      <th>0</th>\n",
       "      <td>0.000395</td>\n",
       "      <td>0.000149</td>\n",
       "      <td>0.007604</td>\n",
       "      <td>0.0</td>\n",
       "    </tr>\n",
       "    <tr>\n",
       "      <th>1</th>\n",
       "      <td>0.000421</td>\n",
       "      <td>0.000259</td>\n",
       "      <td>0.006432</td>\n",
       "      <td>0.0</td>\n",
       "    </tr>\n",
       "    <tr>\n",
       "      <th>2</th>\n",
       "      <td>0.002097</td>\n",
       "      <td>0.000523</td>\n",
       "      <td>0.004400</td>\n",
       "      <td>0.0</td>\n",
       "    </tr>\n",
       "    <tr>\n",
       "      <th>3</th>\n",
       "      <td>0.001044</td>\n",
       "      <td>0.000449</td>\n",
       "      <td>0.002272</td>\n",
       "      <td>0.0</td>\n",
       "    </tr>\n",
       "    <tr>\n",
       "      <th>4</th>\n",
       "      <td>0.000259</td>\n",
       "      <td>0.001099</td>\n",
       "      <td>0.000124</td>\n",
       "      <td>0.0</td>\n",
       "    </tr>\n",
       "    <tr>\n",
       "      <th>avg / total</th>\n",
       "      <td>0.000843</td>\n",
       "      <td>0.000496</td>\n",
       "      <td>0.004167</td>\n",
       "      <td>0.0</td>\n",
       "    </tr>\n",
       "  </tbody>\n",
       "</table>\n",
       "</div>"
      ],
      "text/plain": [
       "             f1-score  precision    recall  support\n",
       "new_index                                          \n",
       "0            0.000395   0.000149  0.007604      0.0\n",
       "1            0.000421   0.000259  0.006432      0.0\n",
       "2            0.002097   0.000523  0.004400      0.0\n",
       "3            0.001044   0.000449  0.002272      0.0\n",
       "4            0.000259   0.001099  0.000124      0.0\n",
       "avg / total  0.000843   0.000496  0.004167      0.0"
      ]
     },
     "metadata": {},
     "output_type": "display_data"
    }
   ],
   "source": [
    "d.display(d.Markdown(\"## In-Class Shuffle - RRLyrae + Unknow stars\"))\n",
    "d.display(d.Markdown(\"### Average\"))\n",
    "display(print_r(mean_r(results=cls_mix_shuffle)))\n",
    "d.display(d.Markdown(\"### Var\"))\n",
    "display(print_r(var_r(results=cls_mix_shuffle)))"
   ]
  },
  {
   "cell_type": "code",
   "execution_count": 27,
   "metadata": {},
   "outputs": [
    {
     "data": {
      "text/markdown": [
       "## In-Class Shuffle - RRLyrae"
      ],
      "text/plain": [
       "<IPython.core.display.Markdown object>"
      ]
     },
     "metadata": {},
     "output_type": "display_data"
    },
    {
     "data": {
      "text/markdown": [
       "### Average"
      ],
      "text/plain": [
       "<IPython.core.display.Markdown object>"
      ]
     },
     "metadata": {},
     "output_type": "display_data"
    },
    {
     "data": {
      "text/html": [
       "<div>\n",
       "<style>\n",
       "    .dataframe thead tr:only-child th {\n",
       "        text-align: right;\n",
       "    }\n",
       "\n",
       "    .dataframe thead th {\n",
       "        text-align: left;\n",
       "    }\n",
       "\n",
       "    .dataframe tbody tr th {\n",
       "        vertical-align: top;\n",
       "    }\n",
       "</style>\n",
       "<table border=\"1\" class=\"dataframe\">\n",
       "  <thead>\n",
       "    <tr style=\"text-align: right;\">\n",
       "      <th></th>\n",
       "      <th>f1-score</th>\n",
       "      <th>precision</th>\n",
       "      <th>recall</th>\n",
       "      <th>support</th>\n",
       "    </tr>\n",
       "    <tr>\n",
       "      <th>new_index</th>\n",
       "      <th></th>\n",
       "      <th></th>\n",
       "      <th></th>\n",
       "      <th></th>\n",
       "    </tr>\n",
       "  </thead>\n",
       "  <tbody>\n",
       "    <tr>\n",
       "      <th>0</th>\n",
       "      <td>0.166655</td>\n",
       "      <td>0.439497</td>\n",
       "      <td>0.103182</td>\n",
       "      <td>220.0</td>\n",
       "    </tr>\n",
       "    <tr>\n",
       "      <th>1</th>\n",
       "      <td>0.356762</td>\n",
       "      <td>0.333859</td>\n",
       "      <td>0.385455</td>\n",
       "      <td>220.0</td>\n",
       "    </tr>\n",
       "    <tr>\n",
       "      <th>2</th>\n",
       "      <td>0.304740</td>\n",
       "      <td>0.325609</td>\n",
       "      <td>0.287682</td>\n",
       "      <td>220.0</td>\n",
       "    </tr>\n",
       "    <tr>\n",
       "      <th>3</th>\n",
       "      <td>0.428354</td>\n",
       "      <td>0.299143</td>\n",
       "      <td>0.755182</td>\n",
       "      <td>220.0</td>\n",
       "    </tr>\n",
       "    <tr>\n",
       "      <th>4</th>\n",
       "      <td>0.137241</td>\n",
       "      <td>0.420589</td>\n",
       "      <td>0.082364</td>\n",
       "      <td>220.0</td>\n",
       "    </tr>\n",
       "    <tr>\n",
       "      <th>avg / total</th>\n",
       "      <td>0.278750</td>\n",
       "      <td>0.363739</td>\n",
       "      <td>0.322773</td>\n",
       "      <td>220.0</td>\n",
       "    </tr>\n",
       "  </tbody>\n",
       "</table>\n",
       "</div>"
      ],
      "text/plain": [
       "             f1-score  precision    recall  support\n",
       "new_index                                          \n",
       "0            0.166655   0.439497  0.103182    220.0\n",
       "1            0.356762   0.333859  0.385455    220.0\n",
       "2            0.304740   0.325609  0.287682    220.0\n",
       "3            0.428354   0.299143  0.755182    220.0\n",
       "4            0.137241   0.420589  0.082364    220.0\n",
       "avg / total  0.278750   0.363739  0.322773    220.0"
      ]
     },
     "metadata": {},
     "output_type": "display_data"
    },
    {
     "data": {
      "text/markdown": [
       "### Var"
      ],
      "text/plain": [
       "<IPython.core.display.Markdown object>"
      ]
     },
     "metadata": {},
     "output_type": "display_data"
    },
    {
     "data": {
      "text/html": [
       "<div>\n",
       "<style>\n",
       "    .dataframe thead tr:only-child th {\n",
       "        text-align: right;\n",
       "    }\n",
       "\n",
       "    .dataframe thead th {\n",
       "        text-align: left;\n",
       "    }\n",
       "\n",
       "    .dataframe tbody tr th {\n",
       "        vertical-align: top;\n",
       "    }\n",
       "</style>\n",
       "<table border=\"1\" class=\"dataframe\">\n",
       "  <thead>\n",
       "    <tr style=\"text-align: right;\">\n",
       "      <th></th>\n",
       "      <th>f1-score</th>\n",
       "      <th>precision</th>\n",
       "      <th>recall</th>\n",
       "      <th>support</th>\n",
       "    </tr>\n",
       "    <tr>\n",
       "      <th>new_index</th>\n",
       "      <th></th>\n",
       "      <th></th>\n",
       "      <th></th>\n",
       "      <th></th>\n",
       "    </tr>\n",
       "  </thead>\n",
       "  <tbody>\n",
       "    <tr>\n",
       "      <th>0</th>\n",
       "      <td>0.000691</td>\n",
       "      <td>0.003688</td>\n",
       "      <td>0.000317</td>\n",
       "      <td>0.0</td>\n",
       "    </tr>\n",
       "    <tr>\n",
       "      <th>1</th>\n",
       "      <td>0.000832</td>\n",
       "      <td>0.000495</td>\n",
       "      <td>0.002284</td>\n",
       "      <td>0.0</td>\n",
       "    </tr>\n",
       "    <tr>\n",
       "      <th>2</th>\n",
       "      <td>0.000591</td>\n",
       "      <td>0.000597</td>\n",
       "      <td>0.000979</td>\n",
       "      <td>0.0</td>\n",
       "    </tr>\n",
       "    <tr>\n",
       "      <th>3</th>\n",
       "      <td>0.000143</td>\n",
       "      <td>0.000118</td>\n",
       "      <td>0.000546</td>\n",
       "      <td>0.0</td>\n",
       "    </tr>\n",
       "    <tr>\n",
       "      <th>4</th>\n",
       "      <td>0.000579</td>\n",
       "      <td>0.003449</td>\n",
       "      <td>0.000253</td>\n",
       "      <td>0.0</td>\n",
       "    </tr>\n",
       "    <tr>\n",
       "      <th>avg / total</th>\n",
       "      <td>0.000567</td>\n",
       "      <td>0.001669</td>\n",
       "      <td>0.000876</td>\n",
       "      <td>0.0</td>\n",
       "    </tr>\n",
       "  </tbody>\n",
       "</table>\n",
       "</div>"
      ],
      "text/plain": [
       "             f1-score  precision    recall  support\n",
       "new_index                                          \n",
       "0            0.000691   0.003688  0.000317      0.0\n",
       "1            0.000832   0.000495  0.002284      0.0\n",
       "2            0.000591   0.000597  0.000979      0.0\n",
       "3            0.000143   0.000118  0.000546      0.0\n",
       "4            0.000579   0.003449  0.000253      0.0\n",
       "avg / total  0.000567   0.001669  0.000876      0.0"
      ]
     },
     "metadata": {},
     "output_type": "display_data"
    }
   ],
   "source": [
    "d.display(d.Markdown(\"## In-Class Shuffle - RRLyrae\"))\n",
    "d.display(d.Markdown(\"### Average\"))\n",
    "display(print_r(mean_r(results=cls_rr_shuffle)))\n",
    "d.display(d.Markdown(\"### Var\"))\n",
    "display(print_r(var_r(results=cls_rr_shuffle)))"
   ]
  },
  {
   "cell_type": "code",
   "execution_count": 28,
   "metadata": {},
   "outputs": [
    {
     "data": {
      "text/markdown": [
       "## In-Class Shuffle - Unknow stars"
      ],
      "text/plain": [
       "<IPython.core.display.Markdown object>"
      ]
     },
     "metadata": {},
     "output_type": "display_data"
    },
    {
     "data": {
      "text/markdown": [
       "### Average"
      ],
      "text/plain": [
       "<IPython.core.display.Markdown object>"
      ]
     },
     "metadata": {},
     "output_type": "display_data"
    },
    {
     "data": {
      "text/html": [
       "<div>\n",
       "<style>\n",
       "    .dataframe thead tr:only-child th {\n",
       "        text-align: right;\n",
       "    }\n",
       "\n",
       "    .dataframe thead th {\n",
       "        text-align: left;\n",
       "    }\n",
       "\n",
       "    .dataframe tbody tr th {\n",
       "        vertical-align: top;\n",
       "    }\n",
       "</style>\n",
       "<table border=\"1\" class=\"dataframe\">\n",
       "  <thead>\n",
       "    <tr style=\"text-align: right;\">\n",
       "      <th></th>\n",
       "      <th>f1-score</th>\n",
       "      <th>precision</th>\n",
       "      <th>recall</th>\n",
       "      <th>support</th>\n",
       "    </tr>\n",
       "    <tr>\n",
       "      <th>new_index</th>\n",
       "      <th></th>\n",
       "      <th></th>\n",
       "      <th></th>\n",
       "      <th></th>\n",
       "    </tr>\n",
       "  </thead>\n",
       "  <tbody>\n",
       "    <tr>\n",
       "      <th>0</th>\n",
       "      <td>0.342123</td>\n",
       "      <td>0.217009</td>\n",
       "      <td>0.808100</td>\n",
       "      <td>500.0</td>\n",
       "    </tr>\n",
       "    <tr>\n",
       "      <th>1</th>\n",
       "      <td>0.177917</td>\n",
       "      <td>0.310360</td>\n",
       "      <td>0.125580</td>\n",
       "      <td>500.0</td>\n",
       "    </tr>\n",
       "    <tr>\n",
       "      <th>2</th>\n",
       "      <td>0.078529</td>\n",
       "      <td>0.229016</td>\n",
       "      <td>0.047520</td>\n",
       "      <td>500.0</td>\n",
       "    </tr>\n",
       "    <tr>\n",
       "      <th>3</th>\n",
       "      <td>0.229201</td>\n",
       "      <td>0.437585</td>\n",
       "      <td>0.155440</td>\n",
       "      <td>500.0</td>\n",
       "    </tr>\n",
       "    <tr>\n",
       "      <th>4</th>\n",
       "      <td>0.180802</td>\n",
       "      <td>0.385598</td>\n",
       "      <td>0.118300</td>\n",
       "      <td>500.0</td>\n",
       "    </tr>\n",
       "    <tr>\n",
       "      <th>avg / total</th>\n",
       "      <td>0.201714</td>\n",
       "      <td>0.315914</td>\n",
       "      <td>0.250988</td>\n",
       "      <td>500.0</td>\n",
       "    </tr>\n",
       "  </tbody>\n",
       "</table>\n",
       "</div>"
      ],
      "text/plain": [
       "             f1-score  precision    recall  support\n",
       "new_index                                          \n",
       "0            0.342123   0.217009  0.808100    500.0\n",
       "1            0.177917   0.310360  0.125580    500.0\n",
       "2            0.078529   0.229016  0.047520    500.0\n",
       "3            0.229201   0.437585  0.155440    500.0\n",
       "4            0.180802   0.385598  0.118300    500.0\n",
       "avg / total  0.201714   0.315914  0.250988    500.0"
      ]
     },
     "metadata": {},
     "output_type": "display_data"
    },
    {
     "data": {
      "text/markdown": [
       "### Var"
      ],
      "text/plain": [
       "<IPython.core.display.Markdown object>"
      ]
     },
     "metadata": {},
     "output_type": "display_data"
    },
    {
     "data": {
      "text/html": [
       "<div>\n",
       "<style>\n",
       "    .dataframe thead tr:only-child th {\n",
       "        text-align: right;\n",
       "    }\n",
       "\n",
       "    .dataframe thead th {\n",
       "        text-align: left;\n",
       "    }\n",
       "\n",
       "    .dataframe tbody tr th {\n",
       "        vertical-align: top;\n",
       "    }\n",
       "</style>\n",
       "<table border=\"1\" class=\"dataframe\">\n",
       "  <thead>\n",
       "    <tr style=\"text-align: right;\">\n",
       "      <th></th>\n",
       "      <th>f1-score</th>\n",
       "      <th>precision</th>\n",
       "      <th>recall</th>\n",
       "      <th>support</th>\n",
       "    </tr>\n",
       "    <tr>\n",
       "      <th>new_index</th>\n",
       "      <th></th>\n",
       "      <th></th>\n",
       "      <th></th>\n",
       "      <th></th>\n",
       "    </tr>\n",
       "  </thead>\n",
       "  <tbody>\n",
       "    <tr>\n",
       "      <th>0</th>\n",
       "      <td>0.000026</td>\n",
       "      <td>0.000013</td>\n",
       "      <td>0.000171</td>\n",
       "      <td>0.0</td>\n",
       "    </tr>\n",
       "    <tr>\n",
       "      <th>1</th>\n",
       "      <td>0.000554</td>\n",
       "      <td>0.000735</td>\n",
       "      <td>0.000466</td>\n",
       "      <td>0.0</td>\n",
       "    </tr>\n",
       "    <tr>\n",
       "      <th>2</th>\n",
       "      <td>0.000278</td>\n",
       "      <td>0.001774</td>\n",
       "      <td>0.000113</td>\n",
       "      <td>0.0</td>\n",
       "    </tr>\n",
       "    <tr>\n",
       "      <th>3</th>\n",
       "      <td>0.000360</td>\n",
       "      <td>0.001286</td>\n",
       "      <td>0.000194</td>\n",
       "      <td>0.0</td>\n",
       "    </tr>\n",
       "    <tr>\n",
       "      <th>4</th>\n",
       "      <td>0.000356</td>\n",
       "      <td>0.001312</td>\n",
       "      <td>0.000189</td>\n",
       "      <td>0.0</td>\n",
       "    </tr>\n",
       "    <tr>\n",
       "      <th>avg / total</th>\n",
       "      <td>0.000315</td>\n",
       "      <td>0.001024</td>\n",
       "      <td>0.000227</td>\n",
       "      <td>0.0</td>\n",
       "    </tr>\n",
       "  </tbody>\n",
       "</table>\n",
       "</div>"
      ],
      "text/plain": [
       "             f1-score  precision    recall  support\n",
       "new_index                                          \n",
       "0            0.000026   0.000013  0.000171      0.0\n",
       "1            0.000554   0.000735  0.000466      0.0\n",
       "2            0.000278   0.001774  0.000113      0.0\n",
       "3            0.000360   0.001286  0.000194      0.0\n",
       "4            0.000356   0.001312  0.000189      0.0\n",
       "avg / total  0.000315   0.001024  0.000227      0.0"
      ]
     },
     "metadata": {},
     "output_type": "display_data"
    }
   ],
   "source": [
    "d.display(d.Markdown(\"## In-Class Shuffle - Unknow stars\"))\n",
    "d.display(d.Markdown(\"### Average\"))\n",
    "display(print_r(mean_r(results=cls_unk_shuffle)))\n",
    "d.display(d.Markdown(\"### Var\"))\n",
    "display(print_r(var_r(results=cls_unk_shuffle)))"
   ]
  },
  {
   "cell_type": "markdown",
   "metadata": {},
   "source": [
    "----\n",
    "## Gausian noise"
   ]
  },
  {
   "cell_type": "code",
   "execution_count": 29,
   "metadata": {},
   "outputs": [],
   "source": [
    "def gn_columns(df, to_shuffle):\n",
    "    size = len(df)\n",
    "    columns = {c: np.copy(df[c].values) for c in df.columns}\n",
    "    for c in to_shuffle:\n",
    "        columns[c] = np.random.normal(size=size)\n",
    "    new_df = pd.DataFrame(columns)\n",
    "    return new_df"
   ]
  },
  {
   "cell_type": "code",
   "execution_count": 31,
   "metadata": {},
   "outputs": [
    {
     "name": "stdout",
     "output_type": "stream",
     "text": [
      "Starting job  0\n",
      "Starting job  1\n",
      "Starting job  2\n",
      "Starting job  3\n",
      "Starting job  4\n",
      "Starting job  5\n",
      "Starting job  6\n",
      "Starting job  7\n",
      "Starting job  8\n",
      "Starting job  9\n",
      "Starting job  10\n",
      "Starting job  11\n",
      "Starting job  12\n",
      "Starting job  13\n",
      "Starting job  14\n",
      "Starting job  15\n",
      "Starting job  16\n",
      "Starting job  17\n",
      "Starting job  18\n",
      "Starting job  19\n",
      "Starting job  20\n",
      "Starting job  21\n",
      "Starting job  22\n",
      "Starting job  23\n",
      "Starting job  24\n",
      "Starting job  25\n",
      "Starting job  26\n",
      "Starting job  27\n",
      "Starting job  28\n",
      "Starting job  29\n",
      "Starting job  30\n",
      "Starting job  31\n",
      "Starting job  32\n",
      "Starting job  33\n",
      "Starting job  34\n",
      "Starting job  35\n",
      "Starting job  36\n",
      "Starting job  37\n",
      "Starting job  38\n",
      "Starting job  39\n",
      "Starting job  40\n",
      "Starting job  41\n",
      "Starting job  42\n",
      "Starting job  43\n",
      "Starting job  44\n",
      "Starting job  45\n",
      "Starting job  46\n",
      "Starting job  47\n",
      "Starting job  48\n",
      "Starting job  49\n",
      "Starting job  50\n",
      "Starting job  51\n",
      "Starting job  52\n",
      "Starting job  53\n",
      "Starting job  54\n",
      "Starting job  55\n",
      "Starting job  56\n",
      "Starting job  57\n",
      "Starting job  58\n",
      "Starting job  59\n",
      "Starting job  60\n",
      "Starting job  61\n",
      "Starting job  62\n",
      "Starting job  63\n",
      "Starting job  64\n",
      "Starting job  65\n",
      "Starting job  66\n",
      "Starting job  67\n",
      "Starting job  68\n",
      "Starting job  69\n",
      "Starting job  70\n",
      "Starting job  71\n",
      "Starting job  72\n",
      "Starting job  73\n",
      "Starting job  74\n",
      "Starting job  75\n",
      "Starting job  76\n",
      "Starting job  77\n",
      "Starting job  78\n",
      "Starting job  79\n",
      "Starting job  80\n",
      "Starting job  81\n",
      "Starting job  82\n",
      "Starting job  83\n",
      "Starting job  84\n",
      "Starting job  85\n",
      "Starting job  86\n",
      "Starting job  87\n",
      "Starting job  88\n",
      "Starting job  89\n",
      "Starting job  90\n",
      "Starting job  91\n",
      "Starting job  92\n",
      "Starting job  93\n",
      "Starting job  94\n",
      "Starting job  95\n",
      "Starting job  96\n",
      "Starting job  97\n",
      "Starting job  98\n",
      "Starting job  99\n"
     ]
    }
   ],
   "source": [
    "%%cache data/gn_mix_shuffle.pkl gn_mix_shuffle \n",
    "with Parallel(n_jobs=cpu_count()) as jobs:\n",
    "    gn_mix_shuffle = jobs(delayed(_experiment)(idx, gn_columns(tile_mix, X_columns), X_columns) \n",
    "                   for idx in range(100))\n",
    "gn_mix_shuffle = map(dict, gn_mix_shuffle) "
   ]
  },
  {
   "cell_type": "code",
   "execution_count": 35,
   "metadata": {},
   "outputs": [
    {
     "name": "stdout",
     "output_type": "stream",
     "text": [
      "[Saved variables gn_rr_shuffle to file '/home/jbcabral/paper_b278/data/gn_rr_shuffle.pkl'.]\n"
     ]
    }
   ],
   "source": [
    "%%cache data/gn_rr_shuffle.pkl gn_rr_shuffle \n",
    "with Parallel(n_jobs=cpu_count()) as jobs:\n",
    "    gn_rr_shuffle = jobs(delayed(_experiment)(idx, gn_columns(tile_balanced, X_columns), X_columns) \n",
    "                   for idx in range(100))\n",
    "gn_rr_shuffle = map(dict, gn_rr_shuffle)"
   ]
  },
  {
   "cell_type": "code",
   "execution_count": 33,
   "metadata": {},
   "outputs": [
    {
     "name": "stdout",
     "output_type": "stream",
     "text": [
      "[Saved variables gn_unk_shuffle to file '/home/jbcabral/paper_b278/data/gn_unk_shuffle.pkl'.]\n"
     ]
    }
   ],
   "source": [
    "%%cache data/gn_unk_shuffle.pkl gn_unk_shuffle\n",
    "with Parallel(n_jobs=cpu_count()) as jobs:\n",
    "    gn_unk_shuffle = jobs(delayed(_experiment)(idx, gn_columns(tile_unk, X_columns), X_columns) \n",
    "                   for idx in range(100))\n",
    "gn_unk_shuffle = map(dict, gn_unk_shuffle)"
   ]
  },
  {
   "cell_type": "code",
   "execution_count": 36,
   "metadata": {},
   "outputs": [],
   "source": [
    "gn_mix_shuffle = map(container.Container, gn_mix_shuffle)\n",
    "gn_rr_shuffle = map(container.Container, gn_rr_shuffle)\n",
    "gn_unk_shuffle = map(container.Container, gn_unk_shuffle)"
   ]
  },
  {
   "cell_type": "code",
   "execution_count": 37,
   "metadata": {},
   "outputs": [
    {
     "data": {
      "text/markdown": [
       "## Normal Noise - RRLyrae + Unknow stars"
      ],
      "text/plain": [
       "<IPython.core.display.Markdown object>"
      ]
     },
     "metadata": {},
     "output_type": "display_data"
    },
    {
     "data": {
      "text/markdown": [
       "### Average"
      ],
      "text/plain": [
       "<IPython.core.display.Markdown object>"
      ]
     },
     "metadata": {},
     "output_type": "display_data"
    },
    {
     "data": {
      "text/html": [
       "<div>\n",
       "<style>\n",
       "    .dataframe thead tr:only-child th {\n",
       "        text-align: right;\n",
       "    }\n",
       "\n",
       "    .dataframe thead th {\n",
       "        text-align: left;\n",
       "    }\n",
       "\n",
       "    .dataframe tbody tr th {\n",
       "        vertical-align: top;\n",
       "    }\n",
       "</style>\n",
       "<table border=\"1\" class=\"dataframe\">\n",
       "  <thead>\n",
       "    <tr style=\"text-align: right;\">\n",
       "      <th></th>\n",
       "      <th>f1-score</th>\n",
       "      <th>precision</th>\n",
       "      <th>recall</th>\n",
       "      <th>support</th>\n",
       "    </tr>\n",
       "    <tr>\n",
       "      <th>new_index</th>\n",
       "      <th></th>\n",
       "      <th></th>\n",
       "      <th></th>\n",
       "      <th></th>\n",
       "    </tr>\n",
       "  </thead>\n",
       "  <tbody>\n",
       "    <tr>\n",
       "      <th>0</th>\n",
       "      <td>0.202559</td>\n",
       "      <td>0.199992</td>\n",
       "      <td>0.206278</td>\n",
       "      <td>720.0</td>\n",
       "    </tr>\n",
       "    <tr>\n",
       "      <th>1</th>\n",
       "      <td>0.202228</td>\n",
       "      <td>0.201658</td>\n",
       "      <td>0.203861</td>\n",
       "      <td>720.0</td>\n",
       "    </tr>\n",
       "    <tr>\n",
       "      <th>2</th>\n",
       "      <td>0.198163</td>\n",
       "      <td>0.200093</td>\n",
       "      <td>0.197208</td>\n",
       "      <td>720.0</td>\n",
       "    </tr>\n",
       "    <tr>\n",
       "      <th>3</th>\n",
       "      <td>0.197345</td>\n",
       "      <td>0.199086</td>\n",
       "      <td>0.196583</td>\n",
       "      <td>720.0</td>\n",
       "    </tr>\n",
       "    <tr>\n",
       "      <th>4</th>\n",
       "      <td>0.196562</td>\n",
       "      <td>0.198865</td>\n",
       "      <td>0.195361</td>\n",
       "      <td>720.0</td>\n",
       "    </tr>\n",
       "    <tr>\n",
       "      <th>avg / total</th>\n",
       "      <td>0.199371</td>\n",
       "      <td>0.199939</td>\n",
       "      <td>0.199858</td>\n",
       "      <td>720.0</td>\n",
       "    </tr>\n",
       "  </tbody>\n",
       "</table>\n",
       "</div>"
      ],
      "text/plain": [
       "             f1-score  precision    recall  support\n",
       "new_index                                          \n",
       "0            0.202559   0.199992  0.206278    720.0\n",
       "1            0.202228   0.201658  0.203861    720.0\n",
       "2            0.198163   0.200093  0.197208    720.0\n",
       "3            0.197345   0.199086  0.196583    720.0\n",
       "4            0.196562   0.198865  0.195361    720.0\n",
       "avg / total  0.199371   0.199939  0.199858    720.0"
      ]
     },
     "metadata": {},
     "output_type": "display_data"
    },
    {
     "data": {
      "text/markdown": [
       "### Var"
      ],
      "text/plain": [
       "<IPython.core.display.Markdown object>"
      ]
     },
     "metadata": {},
     "output_type": "display_data"
    },
    {
     "data": {
      "text/html": [
       "<div>\n",
       "<style>\n",
       "    .dataframe thead tr:only-child th {\n",
       "        text-align: right;\n",
       "    }\n",
       "\n",
       "    .dataframe thead th {\n",
       "        text-align: left;\n",
       "    }\n",
       "\n",
       "    .dataframe tbody tr th {\n",
       "        vertical-align: top;\n",
       "    }\n",
       "</style>\n",
       "<table border=\"1\" class=\"dataframe\">\n",
       "  <thead>\n",
       "    <tr style=\"text-align: right;\">\n",
       "      <th></th>\n",
       "      <th>f1-score</th>\n",
       "      <th>precision</th>\n",
       "      <th>recall</th>\n",
       "      <th>support</th>\n",
       "    </tr>\n",
       "    <tr>\n",
       "      <th>new_index</th>\n",
       "      <th></th>\n",
       "      <th></th>\n",
       "      <th></th>\n",
       "      <th></th>\n",
       "    </tr>\n",
       "  </thead>\n",
       "  <tbody>\n",
       "    <tr>\n",
       "      <th>0</th>\n",
       "      <td>0.000313</td>\n",
       "      <td>0.000219</td>\n",
       "      <td>0.000637</td>\n",
       "      <td>0.0</td>\n",
       "    </tr>\n",
       "    <tr>\n",
       "      <th>1</th>\n",
       "      <td>0.000357</td>\n",
       "      <td>0.000270</td>\n",
       "      <td>0.000656</td>\n",
       "      <td>0.0</td>\n",
       "    </tr>\n",
       "    <tr>\n",
       "      <th>2</th>\n",
       "      <td>0.000255</td>\n",
       "      <td>0.000226</td>\n",
       "      <td>0.000483</td>\n",
       "      <td>0.0</td>\n",
       "    </tr>\n",
       "    <tr>\n",
       "      <th>3</th>\n",
       "      <td>0.000347</td>\n",
       "      <td>0.000257</td>\n",
       "      <td>0.000625</td>\n",
       "      <td>0.0</td>\n",
       "    </tr>\n",
       "    <tr>\n",
       "      <th>4</th>\n",
       "      <td>0.000304</td>\n",
       "      <td>0.000196</td>\n",
       "      <td>0.000621</td>\n",
       "      <td>0.0</td>\n",
       "    </tr>\n",
       "    <tr>\n",
       "      <th>avg / total</th>\n",
       "      <td>0.000315</td>\n",
       "      <td>0.000234</td>\n",
       "      <td>0.000604</td>\n",
       "      <td>0.0</td>\n",
       "    </tr>\n",
       "  </tbody>\n",
       "</table>\n",
       "</div>"
      ],
      "text/plain": [
       "             f1-score  precision    recall  support\n",
       "new_index                                          \n",
       "0            0.000313   0.000219  0.000637      0.0\n",
       "1            0.000357   0.000270  0.000656      0.0\n",
       "2            0.000255   0.000226  0.000483      0.0\n",
       "3            0.000347   0.000257  0.000625      0.0\n",
       "4            0.000304   0.000196  0.000621      0.0\n",
       "avg / total  0.000315   0.000234  0.000604      0.0"
      ]
     },
     "metadata": {},
     "output_type": "display_data"
    }
   ],
   "source": [
    "d.display(d.Markdown(\"## Normal Noise - RRLyrae + Unknow stars\"))\n",
    "d.display(d.Markdown(\"### Average\"))\n",
    "display(print_r(mean_r(results=gn_mix_shuffle)))\n",
    "d.display(d.Markdown(\"### Var\"))\n",
    "display(print_r(var_r(results=gn_mix_shuffle)))"
   ]
  },
  {
   "cell_type": "code",
   "execution_count": 38,
   "metadata": {},
   "outputs": [
    {
     "data": {
      "text/markdown": [
       "## Normal Noise - RRLyrae"
      ],
      "text/plain": [
       "<IPython.core.display.Markdown object>"
      ]
     },
     "metadata": {},
     "output_type": "display_data"
    },
    {
     "data": {
      "text/markdown": [
       "### Average"
      ],
      "text/plain": [
       "<IPython.core.display.Markdown object>"
      ]
     },
     "metadata": {},
     "output_type": "display_data"
    },
    {
     "data": {
      "text/html": [
       "<div>\n",
       "<style>\n",
       "    .dataframe thead tr:only-child th {\n",
       "        text-align: right;\n",
       "    }\n",
       "\n",
       "    .dataframe thead th {\n",
       "        text-align: left;\n",
       "    }\n",
       "\n",
       "    .dataframe tbody tr th {\n",
       "        vertical-align: top;\n",
       "    }\n",
       "</style>\n",
       "<table border=\"1\" class=\"dataframe\">\n",
       "  <thead>\n",
       "    <tr style=\"text-align: right;\">\n",
       "      <th></th>\n",
       "      <th>f1-score</th>\n",
       "      <th>precision</th>\n",
       "      <th>recall</th>\n",
       "      <th>support</th>\n",
       "    </tr>\n",
       "    <tr>\n",
       "      <th>new_index</th>\n",
       "      <th></th>\n",
       "      <th></th>\n",
       "      <th></th>\n",
       "      <th></th>\n",
       "    </tr>\n",
       "  </thead>\n",
       "  <tbody>\n",
       "    <tr>\n",
       "      <th>0</th>\n",
       "      <td>0.196749</td>\n",
       "      <td>0.202883</td>\n",
       "      <td>0.198182</td>\n",
       "      <td>220.0</td>\n",
       "    </tr>\n",
       "    <tr>\n",
       "      <th>1</th>\n",
       "      <td>0.203983</td>\n",
       "      <td>0.203202</td>\n",
       "      <td>0.213545</td>\n",
       "      <td>220.0</td>\n",
       "    </tr>\n",
       "    <tr>\n",
       "      <th>2</th>\n",
       "      <td>0.199246</td>\n",
       "      <td>0.200603</td>\n",
       "      <td>0.207591</td>\n",
       "      <td>220.0</td>\n",
       "    </tr>\n",
       "    <tr>\n",
       "      <th>3</th>\n",
       "      <td>0.188608</td>\n",
       "      <td>0.200423</td>\n",
       "      <td>0.185909</td>\n",
       "      <td>220.0</td>\n",
       "    </tr>\n",
       "    <tr>\n",
       "      <th>4</th>\n",
       "      <td>0.200240</td>\n",
       "      <td>0.208683</td>\n",
       "      <td>0.205000</td>\n",
       "      <td>220.0</td>\n",
       "    </tr>\n",
       "    <tr>\n",
       "      <th>avg / total</th>\n",
       "      <td>0.197765</td>\n",
       "      <td>0.203159</td>\n",
       "      <td>0.202045</td>\n",
       "      <td>220.0</td>\n",
       "    </tr>\n",
       "  </tbody>\n",
       "</table>\n",
       "</div>"
      ],
      "text/plain": [
       "             f1-score  precision    recall  support\n",
       "new_index                                          \n",
       "0            0.196749   0.202883  0.198182    220.0\n",
       "1            0.203983   0.203202  0.213545    220.0\n",
       "2            0.199246   0.200603  0.207591    220.0\n",
       "3            0.188608   0.200423  0.185909    220.0\n",
       "4            0.200240   0.208683  0.205000    220.0\n",
       "avg / total  0.197765   0.203159  0.202045    220.0"
      ]
     },
     "metadata": {},
     "output_type": "display_data"
    },
    {
     "data": {
      "text/markdown": [
       "### Var"
      ],
      "text/plain": [
       "<IPython.core.display.Markdown object>"
      ]
     },
     "metadata": {},
     "output_type": "display_data"
    },
    {
     "data": {
      "text/html": [
       "<div>\n",
       "<style>\n",
       "    .dataframe thead tr:only-child th {\n",
       "        text-align: right;\n",
       "    }\n",
       "\n",
       "    .dataframe thead th {\n",
       "        text-align: left;\n",
       "    }\n",
       "\n",
       "    .dataframe tbody tr th {\n",
       "        vertical-align: top;\n",
       "    }\n",
       "</style>\n",
       "<table border=\"1\" class=\"dataframe\">\n",
       "  <thead>\n",
       "    <tr style=\"text-align: right;\">\n",
       "      <th></th>\n",
       "      <th>f1-score</th>\n",
       "      <th>precision</th>\n",
       "      <th>recall</th>\n",
       "      <th>support</th>\n",
       "    </tr>\n",
       "    <tr>\n",
       "      <th>new_index</th>\n",
       "      <th></th>\n",
       "      <th></th>\n",
       "      <th></th>\n",
       "      <th></th>\n",
       "    </tr>\n",
       "  </thead>\n",
       "  <tbody>\n",
       "    <tr>\n",
       "      <th>0</th>\n",
       "      <td>0.001375</td>\n",
       "      <td>0.000787</td>\n",
       "      <td>0.003616</td>\n",
       "      <td>0.0</td>\n",
       "    </tr>\n",
       "    <tr>\n",
       "      <th>1</th>\n",
       "      <td>0.001586</td>\n",
       "      <td>0.001409</td>\n",
       "      <td>0.004088</td>\n",
       "      <td>0.0</td>\n",
       "    </tr>\n",
       "    <tr>\n",
       "      <th>2</th>\n",
       "      <td>0.001423</td>\n",
       "      <td>0.000568</td>\n",
       "      <td>0.004558</td>\n",
       "      <td>0.0</td>\n",
       "    </tr>\n",
       "    <tr>\n",
       "      <th>3</th>\n",
       "      <td>0.001875</td>\n",
       "      <td>0.001246</td>\n",
       "      <td>0.003777</td>\n",
       "      <td>0.0</td>\n",
       "    </tr>\n",
       "    <tr>\n",
       "      <th>4</th>\n",
       "      <td>0.001775</td>\n",
       "      <td>0.001143</td>\n",
       "      <td>0.005594</td>\n",
       "      <td>0.0</td>\n",
       "    </tr>\n",
       "    <tr>\n",
       "      <th>avg / total</th>\n",
       "      <td>0.001607</td>\n",
       "      <td>0.001030</td>\n",
       "      <td>0.004327</td>\n",
       "      <td>0.0</td>\n",
       "    </tr>\n",
       "  </tbody>\n",
       "</table>\n",
       "</div>"
      ],
      "text/plain": [
       "             f1-score  precision    recall  support\n",
       "new_index                                          \n",
       "0            0.001375   0.000787  0.003616      0.0\n",
       "1            0.001586   0.001409  0.004088      0.0\n",
       "2            0.001423   0.000568  0.004558      0.0\n",
       "3            0.001875   0.001246  0.003777      0.0\n",
       "4            0.001775   0.001143  0.005594      0.0\n",
       "avg / total  0.001607   0.001030  0.004327      0.0"
      ]
     },
     "metadata": {},
     "output_type": "display_data"
    }
   ],
   "source": [
    "d.display(d.Markdown(\"## Normal Noise - RRLyrae\"))\n",
    "d.display(d.Markdown(\"### Average\"))\n",
    "display(print_r(mean_r(results=gn_rr_shuffle)))\n",
    "d.display(d.Markdown(\"### Var\"))\n",
    "display(print_r(var_r(results=gn_rr_shuffle)))"
   ]
  },
  {
   "cell_type": "code",
   "execution_count": null,
   "metadata": {},
   "outputs": [
    {
     "data": {
      "text/markdown": [
       "## In-Class Shuffle - Unknow stars"
      ],
      "text/plain": [
       "<IPython.core.display.Markdown object>"
      ]
     },
     "metadata": {},
     "output_type": "display_data"
    },
    {
     "data": {
      "text/markdown": [
       "### Average"
      ],
      "text/plain": [
       "<IPython.core.display.Markdown object>"
      ]
     },
     "metadata": {},
     "output_type": "display_data"
    }
   ],
   "source": [
    "d.display(d.Markdown(\"## In-Class Shuffle - Unknow stars\"))\n",
    "d.display(d.Markdown(\"### Average\"))\n",
    "display(print_r(mean_r(results=gn_unk_shuffle)))\n",
    "d.display(d.Markdown(\"### Var\"))\n",
    "display(print_r(var_r(results=gn_unk_shuffle)))"
   ]
  },
  {
   "cell_type": "code",
   "execution_count": null,
   "metadata": {},
   "outputs": [],
   "source": []
  }
 ],
 "metadata": {
  "kernelspec": {
   "display_name": "Python 2",
   "language": "python",
   "name": "python2"
  },
  "language_info": {
   "codemirror_mode": {
    "name": "ipython",
    "version": 2
   },
   "file_extension": ".py",
   "mimetype": "text/x-python",
   "name": "python",
   "nbconvert_exporter": "python",
   "pygments_lexer": "ipython2",
   "version": "2.7.14"
  }
 },
 "nbformat": 4,
 "nbformat_minor": 2
}
