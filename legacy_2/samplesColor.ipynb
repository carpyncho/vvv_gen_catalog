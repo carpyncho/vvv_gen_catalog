version https://git-lfs.github.com/spec/v1
oid sha256:89acbd8a7c7211751c62b767f37056dbb2441cc517b587ae1ce2336d358ea553
size 555719
