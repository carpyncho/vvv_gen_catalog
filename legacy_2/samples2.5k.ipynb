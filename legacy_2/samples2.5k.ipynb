version https://git-lfs.github.com/spec/v1
oid sha256:a08e8d7a75d22d58134c76a68ed8aa3e1a717ddce1280c8b22a281d6f63bc6ac
size 705030
