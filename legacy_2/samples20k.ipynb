version https://git-lfs.github.com/spec/v1
oid sha256:10d49d8acd2f4b221887131ac4161d8754ce1638b779d2f6e5d9ef7cb905a214
size 719132
