{
 "cells": [
  {
   "cell_type": "markdown",
   "metadata": {},
   "source": [
    "# VVV Machine Analysis Samples size 20k"
   ]
  },
  {
   "cell_type": "code",
   "execution_count": 1,
   "metadata": {},
   "outputs": [],
   "source": [
    "% matplotlib inline\n",
    "\n",
    "import time\n",
    "import pandas as pd\n",
    "\n",
    "from IPython import display as d\n",
    "\n",
    "import seaborn as sns\n",
    "sns.set()\n",
    "\n",
    "from sklearn.svm import SVC\n",
    "from sklearn.tree import DecisionTreeClassifier\n",
    "from sklearn.ensemble import RandomForestClassifier\n",
    "from sklearn.neighbors import KNeighborsClassifier\n",
    "\n",
    "from libs import container\n",
    "from libs.experiment import (\n",
    "    WithAnotherExperiment, KFoldExperiment, roc, \n",
    "    discretize_classes, clean_features)"
   ]
  },
  {
   "cell_type": "markdown",
   "metadata": {},
   "source": [
    "## 1. Load Data"
   ]
  },
  {
   "cell_type": "code",
   "execution_count": 2,
   "metadata": {},
   "outputs": [
    {
     "name": "stdout",
     "output_type": "stream",
     "text": [
      "Loading '/home/data/carpyncho/stored/samples/b220_sample.npy'...\n",
      "Loading '/home/data/carpyncho/stored/samples/b262_sample.npy'...\n",
      "Loading '/home/data/carpyncho/stored/samples/b278_sample.npy'...\n",
      "Loading '/home/data/carpyncho/stored/samples/b261_sample.npy'...\n",
      "Loading '/home/data/carpyncho/stored/samples/b264_sample.npy'...\n",
      "Loading '/home/data/carpyncho/stored/samples/b263_sample.npy'...\n",
      "Removing b220...\n"
     ]
    }
   ],
   "source": [
    "start = time.time()\n",
    "\n",
    "path = \"/home/data/carpyncho/stored/samples/\"\n",
    "data = container.read(path)\n",
    "\n",
    "print(\"Removing b220...\")\n",
    "del data[\"b220\"]"
   ]
  },
  {
   "cell_type": "markdown",
   "metadata": {},
   "source": [
    "##  2. Preprocess\n",
    "\n",
    "### 2.1. Discretize the classes"
   ]
  },
  {
   "cell_type": "code",
   "execution_count": 3,
   "metadata": {},
   "outputs": [
    {
     "data": {
      "text/markdown": [
       "**Classes**"
      ],
      "text/plain": [
       "<IPython.core.display.Markdown object>"
      ]
     },
     "metadata": {},
     "output_type": "display_data"
    },
    {
     "data": {
      "text/plain": [
       "{'': 0,\n",
       " 'Cep-1': 1,\n",
       " 'Cep-F': 2,\n",
       " 'LPV-Mira': 3,\n",
       " 'LPV-OSARG': 4,\n",
       " 'LPV-SRV': 5,\n",
       " 'RRLyr-RRab': 6,\n",
       " 'RRLyr-RRc': 7,\n",
       " 'RRLyr-RRd': 8,\n",
       " 'T2Cep-BLHer': 9,\n",
       " 'T2Cep-RVTau': 10,\n",
       " 'T2Cep-WVir': 11}"
      ]
     },
     "metadata": {},
     "output_type": "display_data"
    },
    {
     "data": {
      "text/markdown": [
       "----"
      ],
      "text/plain": [
       "<IPython.core.display.Markdown object>"
      ]
     },
     "metadata": {},
     "output_type": "display_data"
    },
    {
     "data": {
      "text/markdown": [
       "**Simplified Classes**"
      ],
      "text/plain": [
       "<IPython.core.display.Markdown object>"
      ]
     },
     "metadata": {},
     "output_type": "display_data"
    },
    {
     "data": {
      "text/plain": [
       "{'': 0, 'Cep': 1, 'LPV': 2, 'RRLyr': 3, 'T2Cep': 4}"
      ]
     },
     "metadata": {},
     "output_type": "display_data"
    }
   ],
   "source": [
    "data, classes, sclasses = discretize_classes(data)\n",
    "d.display(d.Markdown(\"**Classes**\"))\n",
    "d.display(classes)\n",
    "\n",
    "d.display(d.Markdown(\"----\"))\n",
    "d.display(d.Markdown(\"**Simplified Classes**\"))\n",
    "d.display(sclasses)"
   ]
  },
  {
   "cell_type": "markdown",
   "metadata": {},
   "source": [
    "### 2.2. Removes all low-variance and \"bad\" features"
   ]
  },
  {
   "cell_type": "code",
   "execution_count": 4,
   "metadata": {},
   "outputs": [
    {
     "name": "stdout",
     "output_type": "stream",
     "text": [
      "('Total features:', 54)\n"
     ]
    }
   ],
   "source": [
    "X_columns = clean_features(data, \"b278\")\n",
    "print(\"Total features:\", X_columns.size)"
   ]
  },
  {
   "cell_type": "markdown",
   "metadata": {},
   "source": [
    "### 2.3. Selected features"
   ]
  },
  {
   "cell_type": "code",
   "execution_count": 5,
   "metadata": {},
   "outputs": [
    {
     "data": {
      "text/plain": [
       "array(['cnt', 'AMP', 'Amplitude', 'AndersonDarling', 'Autocor_length',\n",
       "       'Beyond1Std', 'CAR_mean', 'CAR_sigma', 'CAR_tau', 'Con', 'Eta_e',\n",
       "       'FluxPercentileRatioMid20', 'FluxPercentileRatioMid35',\n",
       "       'FluxPercentileRatioMid50', 'FluxPercentileRatioMid65',\n",
       "       'FluxPercentileRatioMid80', 'Freq1_harmonics_amplitude_0',\n",
       "       'Freq1_harmonics_amplitude_1', 'Freq1_harmonics_amplitude_2',\n",
       "       'Freq1_harmonics_amplitude_3', 'Freq1_harmonics_rel_phase_1',\n",
       "       'Freq1_harmonics_rel_phase_2', 'Freq1_harmonics_rel_phase_3',\n",
       "       'Freq2_harmonics_amplitude_0', 'Freq2_harmonics_amplitude_1',\n",
       "       'Freq2_harmonics_amplitude_2', 'Freq2_harmonics_amplitude_3',\n",
       "       'Freq2_harmonics_rel_phase_1', 'Freq2_harmonics_rel_phase_2',\n",
       "       'Freq2_harmonics_rel_phase_3', 'Freq3_harmonics_amplitude_0',\n",
       "       'Freq3_harmonics_amplitude_1', 'Freq3_harmonics_amplitude_2',\n",
       "       'Freq3_harmonics_amplitude_3', 'Freq3_harmonics_rel_phase_1',\n",
       "       'Freq3_harmonics_rel_phase_2', 'Freq3_harmonics_rel_phase_3',\n",
       "       'LinearTrend', 'MaxSlope', 'Mean', 'Meanvariance', 'MedianAbsDev',\n",
       "       'MedianBRP', 'PairSlopeTrend', 'PercentAmplitude',\n",
       "       'PercentDifferenceFluxPercentile', 'PeriodLS', 'Psi_CS', 'Psi_eta',\n",
       "       'Q31', 'Rcs', 'Skew', 'SmallKurtosis', 'Std'], dtype=object)"
      ]
     },
     "execution_count": 5,
     "metadata": {},
     "output_type": "execute_result"
    }
   ],
   "source": [
    "X_columns.values"
   ]
  },
  {
   "cell_type": "code",
   "execution_count": null,
   "metadata": {},
   "outputs": [
    {
     "data": {
      "text/html": [
       "<div style=\"background-color: #FFFF6F; color:#525200\">\n",
       "    <h2 style=\"padding: 10px; text-align:center\">3. b278 Vs Itself (with 10 kfolds)</h2>\n",
       "</div>"
      ],
      "text/plain": [
       "<IPython.core.display.HTML object>"
      ]
     },
     "metadata": {},
     "output_type": "display_data"
    }
   ],
   "source": [
    "%%html\n",
    "<div style=\"background-color: #FFFF6F; color:#525200\">\n",
    "    <h2 style=\"padding: 10px; text-align:center\">3. b278 Vs Itself (with 10 kfolds)</h2>\n",
    "</div>"
   ]
  },
  {
   "cell_type": "markdown",
   "metadata": {},
   "source": [
    "### 3.1. SVM - Linear\n",
    "\n",
    "Execute a SVM with a linear kernel. All the default parameters are documented here: http://scikit-learn.org/stable/modules/generated/sklearn.svm.SVC.html"
   ]
  },
  {
   "cell_type": "code",
   "execution_count": null,
   "metadata": {},
   "outputs": [],
   "source": [
    "svc_linear = KFoldExperiment(\n",
    "    clf=SVC(kernel='linear', probability=True), clsnum=sclasses, \n",
    "    data=data, pcls=\"RRLyr\", X_columns=X_columns, y_column=\"scls\")\n",
    "%time svc_linear = svc_linear(\"b278\", nfolds=10)"
   ]
  },
  {
   "cell_type": "markdown",
   "metadata": {},
   "source": [
    "## 3.2. SVM - Polynomic\n",
    "\n",
    "Execute a **SVM** with a **polynomic kernel**. All the default parameters are documented here: http://scikit-learn.org/stable/modules/generated/sklearn.svm.SVC.html"
   ]
  },
  {
   "cell_type": "code",
   "execution_count": null,
   "metadata": {},
   "outputs": [],
   "source": [
    "svc_poly = KFoldExperiment(\n",
    "    clf=SVC(kernel='poly', probability=True), clsnum=sclasses, \n",
    "    data=data, pcls=\"RRLyr\", X_columns=X_columns, y_column=\"scls\")\n",
    "%time svc_poly= svc_poly(\"b278\", nfolds=10)"
   ]
  },
  {
   "cell_type": "markdown",
   "metadata": {},
   "source": [
    "### 3.3. Random Forest\n",
    "\n",
    "Execute a **Random Forest** with **500 c45** trees. All the default parameters are documented here: http://scikit-learn.org/stable/modules/generated/sklearn.ensemble.RandomForestClassifier.html"
   ]
  },
  {
   "cell_type": "code",
   "execution_count": null,
   "metadata": {},
   "outputs": [],
   "source": [
    "rf = KFoldExperiment(\n",
    "    clf=RandomForestClassifier(n_estimators=500, criterion=\"entropy\"), clsnum=sclasses, \n",
    "    data=data, pcls=\"RRLyr\", X_columns=X_columns, y_column=\"scls\")\n",
    "%time rf = rf(\"b278\", nfolds=10)"
   ]
  },
  {
   "cell_type": "markdown",
   "metadata": {},
   "source": [
    "### 3.4. KNN\n",
    "\n",
    "KNN with **3** neightbors ad weights determined by the **distance**. Docs: http://scikit-learn.org/stable/modules/generated/sklearn.neighbors.KNeighborsClassifier.html"
   ]
  },
  {
   "cell_type": "code",
   "execution_count": null,
   "metadata": {},
   "outputs": [],
   "source": [
    "knn = KFoldExperiment(\n",
    "    clf=KNeighborsClassifier(n_neighbors=50, weights='distance'), clsnum=sclasses, \n",
    "    data=data, pcls=\"RRLyr\", X_columns=X_columns, y_column=\"scls\")\n",
    "%time knn = knn(\"b278\", nfolds=10)"
   ]
  },
  {
   "cell_type": "markdown",
   "metadata": {},
   "source": [
    "### 3.5. Results"
   ]
  },
  {
   "cell_type": "code",
   "execution_count": null,
   "metadata": {},
   "outputs": [],
   "source": [
    "roc({\"KNN\": knn, \"RForest\": rf, \n",
    "     \"SVC Linear\": svc_linear,\n",
    "     \"SVC Polynomic\": svc_poly})"
   ]
  },
  {
   "cell_type": "markdown",
   "metadata": {},
   "source": [
    "----"
   ]
  },
  {
   "cell_type": "code",
   "execution_count": null,
   "metadata": {},
   "outputs": [],
   "source": [
    "%%html\n",
    "<div style=\"background-color: #FFFF6F; color:#525200\">\n",
    "    <h2 style=\"padding: 10px; text-align:center\">4. b261 Vs. All </h2>\n",
    "</div>"
   ]
  },
  {
   "cell_type": "markdown",
   "metadata": {},
   "source": [
    "### 4.1. SVM - Linear"
   ]
  },
  {
   "cell_type": "code",
   "execution_count": null,
   "metadata": {},
   "outputs": [],
   "source": [
    "svc_linear = WithAnotherExperiment(\n",
    "    clf=SVC(kernel='linear', probability=True), clsnum=sclasses, \n",
    "    data=data, pcls=\"RRLyr\", X_columns=X_columns, y_column=\"scls\")\n",
    "%time roc(svc_linear(\"b261\"))"
   ]
  },
  {
   "cell_type": "markdown",
   "metadata": {},
   "source": [
    "### 4.2. SVM - Polynomic"
   ]
  },
  {
   "cell_type": "code",
   "execution_count": null,
   "metadata": {},
   "outputs": [],
   "source": [
    "svc_poly = WithAnotherExperiment(\n",
    "    clf=SVC(kernel='poly', probability=True), clsnum=sclasses, \n",
    "    data=data, pcls=\"RRLyr\", X_columns=X_columns, y_column=\"scls\")\n",
    "%time roc(svc_poly(\"b261\"))"
   ]
  },
  {
   "cell_type": "markdown",
   "metadata": {},
   "source": [
    "### 4.3. Random Forest"
   ]
  },
  {
   "cell_type": "code",
   "execution_count": null,
   "metadata": {},
   "outputs": [],
   "source": [
    "rf = WithAnotherExperiment(\n",
    "    clf=RandomForestClassifier(n_estimators=500, criterion=\"entropy\"), \n",
    "    clsnum=sclasses, data=data, pcls=\"RRLyr\", X_columns=X_columns, y_column=\"scls\")\n",
    "%time roc(rf(\"b261\"))"
   ]
  },
  {
   "cell_type": "markdown",
   "metadata": {},
   "source": [
    "### 4.4. KNN"
   ]
  },
  {
   "cell_type": "code",
   "execution_count": null,
   "metadata": {},
   "outputs": [],
   "source": [
    "knn = WithAnotherExperiment(\n",
    "    clf=KNeighborsClassifier(n_neighbors=50, weights='distance'), \n",
    "    clsnum=sclasses, data=data, pcls=\"RRLyr\", X_columns=X_columns, y_column=\"scls\")\n",
    "%time roc(knn(\"b261\"))"
   ]
  },
  {
   "cell_type": "code",
   "execution_count": null,
   "metadata": {},
   "outputs": [],
   "source": [
    "%%html\n",
    "<div style=\"background-color: #FFFF6F; color:#525200\">\n",
    "    <h2 style=\"padding: 10px; text-align:center\">5. b278 Vs. All </h2>\n",
    "</div>"
   ]
  },
  {
   "cell_type": "markdown",
   "metadata": {},
   "source": [
    "### 5.1. SVM - Linear"
   ]
  },
  {
   "cell_type": "code",
   "execution_count": null,
   "metadata": {},
   "outputs": [],
   "source": [
    "svc_linear = WithAnotherExperiment(\n",
    "    clf=SVC(kernel='linear', probability=True), clsnum=sclasses, \n",
    "    data=data, pcls=\"RRLyr\", X_columns=X_columns, y_column=\"scls\")\n",
    "%time roc(svc_linear(\"b278\"))"
   ]
  },
  {
   "cell_type": "markdown",
   "metadata": {},
   "source": [
    "### 5.2. SVM - Polynomic"
   ]
  },
  {
   "cell_type": "code",
   "execution_count": null,
   "metadata": {},
   "outputs": [],
   "source": [
    "svc_poly = WithAnotherExperiment(\n",
    "    clf=SVC(kernel='poly', probability=True), clsnum=sclasses, \n",
    "    data=data, pcls=\"RRLyr\", X_columns=X_columns, y_column=\"scls\")\n",
    "%time roc(svc_poly(\"b278\"))"
   ]
  },
  {
   "cell_type": "markdown",
   "metadata": {},
   "source": [
    "### 5.3. Random Forest"
   ]
  },
  {
   "cell_type": "code",
   "execution_count": null,
   "metadata": {},
   "outputs": [],
   "source": [
    "rf = WithAnotherExperiment(\n",
    "    clf=RandomForestClassifier(n_estimators=500, criterion=\"entropy\"), \n",
    "    clsnum=sclasses, data=data, pcls=\"RRLyr\", X_columns=X_columns, y_column=\"scls\")\n",
    "%time roc(rf(\"b278\"))"
   ]
  },
  {
   "cell_type": "markdown",
   "metadata": {},
   "source": [
    "### 5.4. KNN"
   ]
  },
  {
   "cell_type": "code",
   "execution_count": null,
   "metadata": {},
   "outputs": [],
   "source": [
    "knn = WithAnotherExperiment(\n",
    "    clf=KNeighborsClassifier(n_neighbors=50, weights='distance'), \n",
    "    clsnum=sclasses, data=data, pcls=\"RRLyr\", X_columns=X_columns, y_column=\"scls\")\n",
    "%time roc(knn(\"b278\"))"
   ]
  },
  {
   "cell_type": "code",
   "execution_count": null,
   "metadata": {},
   "outputs": [],
   "source": [
    "%%html\n",
    "<div style=\"background-color: #FFFF6F; color:#525200\">\n",
    "    <h2 style=\"padding: 10px; text-align:center\">6. b278+b261 Vs. All </h2>\n",
    "</div>"
   ]
  },
  {
   "cell_type": "markdown",
   "metadata": {},
   "source": [
    "### 6.1. SVM - Linear"
   ]
  },
  {
   "cell_type": "code",
   "execution_count": null,
   "metadata": {},
   "outputs": [],
   "source": [
    "svc_linear = WithAnotherExperiment(\n",
    "    clf=SVC(kernel='linear', probability=True), clsnum=sclasses, \n",
    "    data=data, pcls=\"RRLyr\", X_columns=X_columns, y_column=\"scls\")\n",
    "%time roc(svc_linear([\"b278\", \"b261\"]))"
   ]
  },
  {
   "cell_type": "markdown",
   "metadata": {},
   "source": [
    "### 6.2. SVM - Polynomic"
   ]
  },
  {
   "cell_type": "code",
   "execution_count": null,
   "metadata": {},
   "outputs": [],
   "source": [
    "svc_poly = WithAnotherExperiment(\n",
    "    clf=SVC(kernel='poly', probability=True), clsnum=sclasses, \n",
    "    data=data, pcls=\"RRLyr\", X_columns=X_columns, y_column=\"scls\")\n",
    "%time roc(svc_poly([\"b278\", \"b261\"]))"
   ]
  },
  {
   "cell_type": "markdown",
   "metadata": {},
   "source": [
    "### 6.3. Random Forest"
   ]
  },
  {
   "cell_type": "code",
   "execution_count": null,
   "metadata": {},
   "outputs": [],
   "source": [
    "rf = WithAnotherExperiment(\n",
    "    clf=RandomForestClassifier(n_estimators=500, criterion=\"entropy\"), \n",
    "    clsnum=sclasses, data=data, pcls=\"RRLyr\", X_columns=X_columns, y_column=\"scls\")\n",
    "%time roc(rf([\"b278\", \"b261\"]))"
   ]
  },
  {
   "cell_type": "markdown",
   "metadata": {},
   "source": [
    "### 6.4. KNN"
   ]
  },
  {
   "cell_type": "code",
   "execution_count": null,
   "metadata": {},
   "outputs": [],
   "source": [
    "knn = WithAnotherExperiment(\n",
    "    clf=KNeighborsClassifier(n_neighbors=50, weights='distance'), \n",
    "    clsnum=sclasses, data=data, pcls=\"RRLyr\", X_columns=X_columns, y_column=\"scls\")\n",
    "%time roc(knn([\"b278\", \"b261\"]))"
   ]
  },
  {
   "cell_type": "code",
   "execution_count": null,
   "metadata": {},
   "outputs": [],
   "source": [
    "%%html\n",
    "<div style=\"background-color: #FFFF6F; color:#525200\">\n",
    "    <h2 style=\"padding: 10px; text-align:center\">7. b278+b261+b264 Vs. All </h2>\n",
    "</div>"
   ]
  },
  {
   "cell_type": "markdown",
   "metadata": {},
   "source": [
    "### 7.1. SVM - Linear"
   ]
  },
  {
   "cell_type": "code",
   "execution_count": null,
   "metadata": {},
   "outputs": [],
   "source": [
    "svc_linear = WithAnotherExperiment(\n",
    "    clf=SVC(kernel='linear', probability=True), clsnum=sclasses, \n",
    "    data=data, pcls=\"RRLyr\", X_columns=X_columns, y_column=\"scls\")\n",
    "%time roc(svc_linear([\"b278\", \"b261\", \"b264\"]))"
   ]
  },
  {
   "cell_type": "markdown",
   "metadata": {},
   "source": [
    "### 7.2. SVM - Polynomic"
   ]
  },
  {
   "cell_type": "code",
   "execution_count": null,
   "metadata": {},
   "outputs": [],
   "source": [
    "svc_poly = WithAnotherExperiment(\n",
    "    clf=SVC(kernel='poly', probability=True), clsnum=sclasses, \n",
    "    data=data, pcls=\"RRLyr\", X_columns=X_columns, y_column=\"scls\")\n",
    "%time roc(svc_poly([\"b278\", \"b261\", \"b264\"]))"
   ]
  },
  {
   "cell_type": "markdown",
   "metadata": {},
   "source": [
    "### 7.3. Random Forest"
   ]
  },
  {
   "cell_type": "code",
   "execution_count": null,
   "metadata": {},
   "outputs": [],
   "source": [
    "rf = WithAnotherExperiment(\n",
    "    clf=RandomForestClassifier(n_estimators=500, criterion=\"entropy\"), \n",
    "    clsnum=sclasses, data=data, pcls=\"RRLyr\", X_columns=X_columns, y_column=\"scls\")\n",
    "%time roc(rf([\"b278\", \"b261\", \"b264\"]))"
   ]
  },
  {
   "cell_type": "markdown",
   "metadata": {},
   "source": [
    "### 7.4. KNN"
   ]
  },
  {
   "cell_type": "code",
   "execution_count": null,
   "metadata": {},
   "outputs": [],
   "source": [
    "knn = WithAnotherExperiment(\n",
    "    clf=KNeighborsClassifier(n_neighbors=50, weights='distance'), \n",
    "    clsnum=sclasses, data=data, pcls=\"RRLyr\", X_columns=X_columns, y_column=\"scls\")\n",
    "%time roc(knn([\"b278\", \"b261\", \"b264\"]))"
   ]
  },
  {
   "cell_type": "code",
   "execution_count": null,
   "metadata": {},
   "outputs": [],
   "source": [
    "print(\"Total Run Time: \" + str(time.time() - start))\n",
    "del start"
   ]
  }
 ],
 "metadata": {
  "kernelspec": {
   "display_name": "Python 2",
   "language": "python",
   "name": "python2"
  },
  "language_info": {
   "codemirror_mode": {
    "name": "ipython",
    "version": 2
   },
   "file_extension": ".py",
   "mimetype": "text/x-python",
   "name": "python",
   "nbconvert_exporter": "python",
   "pygments_lexer": "ipython2",
   "version": "2.7.6"
  }
 },
 "nbformat": 4,
 "nbformat_minor": 2
}
