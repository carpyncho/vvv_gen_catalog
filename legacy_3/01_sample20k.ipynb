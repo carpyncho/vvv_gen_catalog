version https://git-lfs.github.com/spec/v1
oid sha256:8c4f280abad46810bec7266340584f6e3e0fd0dcc94d41a728f79ea3cdc2f880
size 618563
