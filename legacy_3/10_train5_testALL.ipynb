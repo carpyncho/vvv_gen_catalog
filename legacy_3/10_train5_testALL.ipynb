version https://git-lfs.github.com/spec/v1
oid sha256:a64a09995380d2265c2c3c335ca193152fd61474f79258847ae64790f0336ce8
size 26604
