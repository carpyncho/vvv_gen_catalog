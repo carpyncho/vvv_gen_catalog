version https://git-lfs.github.com/spec/v1
oid sha256:8e41abc1766ac4882965e962f64f218b68b219b77c062e3f21819765f2adb8b6
size 13052
