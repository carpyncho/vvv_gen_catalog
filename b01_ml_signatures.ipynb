{
 "cells": [
  {
   "cell_type": "markdown",
   "metadata": {},
   "source": [
    "# Machine Analysis Primer For b278 VVV Tile\n",
    "\n",
    "- **author:** JB Cabral (<jbc.develop@gmail.com>)\n",
    "\n",
    "This binary clasification are made over a 20424 samples of the b278 tile, where:\n",
    "\n",
    "- 424 are RRLyrae.\n",
    "- 20000 are not RRLyrae."
   ]
  },
  {
   "cell_type": "code",
   "execution_count": 1,
   "metadata": {
    "collapsed": true
   },
   "outputs": [],
   "source": [
    "% matplotlib inline\n",
    "\n",
    "import os\n",
    "import tempfile\n",
    "\n",
    "import numpy as np\n",
    "\n",
    "import pandas as pd\n",
    "\n",
    "from matplotlib import pyplot as plt\n",
    "from matplotlib import cm\n",
    "# import seaborn as sns\n",
    "# sns.set()\n",
    "\n",
    "import sklearn\n",
    "from sklearn import feature_selection as fs\n",
    "from sklearn import preprocessing as prp\n",
    "from sklearn import svm\n",
    "from sklearn import metrics\n",
    "from sklearn.model_selection import (\n",
    "    KFold, StratifiedKFold, train_test_split)\n",
    "from sklearn.tree import DecisionTreeClassifier\n",
    "from sklearn.ensemble import RandomForestClassifier\n",
    "from sklearn.neighbors import KNeighborsClassifier\n",
    "\n",
    "from IPython import display as d\n",
    "\n",
    "from lime import lime_tabular as lt\n",
    "\n",
    "from joblib import Memory\n",
    "\n",
    "from libs import container\n",
    "\n",
    "pd.options.mode.chained_assignment = None \n",
    "\n",
    "memory = Memory(cachedir=\"cache\", verbose=0)"
   ]
  },
  {
   "cell_type": "markdown",
   "metadata": {},
   "source": [
    "## 1. Load Data"
   ]
  },
  {
   "cell_type": "code",
   "execution_count": 2,
   "metadata": {},
   "outputs": [
    {
     "name": "stdout",
     "output_type": "stream",
     "text": [
      "Loading '/home/data/carpyncho/stored/samples/b220_sample.npy'...\n",
      "Loading '/home/data/carpyncho/stored/samples/b262_sample.npy'...\n",
      "Loading '/home/data/carpyncho/stored/samples/b278_sample.npy'...\n",
      "Loading '/home/data/carpyncho/stored/samples/b261_sample.npy'...\n",
      "Loading '/home/data/carpyncho/stored/samples/b264_sample.npy'...\n",
      "Loading '/home/data/carpyncho/stored/samples/b263_sample.npy'...\n",
      "Removing b220...\n"
     ]
    }
   ],
   "source": [
    "path = \"/home/data/carpyncho/stored/samples/\"\n",
    "data = container.read(path)\n",
    "\n",
    "print(\"Removing b220...\")\n",
    "del data[\"b220\"]"
   ]
  },
  {
   "cell_type": "markdown",
   "metadata": {},
   "source": [
    "##  2. Preprocess\n",
    "\n",
    "### 2.1. Discretize the classes"
   ]
  },
  {
   "cell_type": "code",
   "execution_count": 3,
   "metadata": {},
   "outputs": [
    {
     "data": {
      "text/markdown": [
       "### Classes"
      ],
      "text/plain": [
       "<IPython.core.display.Markdown object>"
      ]
     },
     "metadata": {},
     "output_type": "display_data"
    },
    {
     "data": {
      "text/plain": [
       "{'': 0,\n",
       " 'Cep-1': 1,\n",
       " 'Cep-F': 2,\n",
       " 'LPV-Mira': 3,\n",
       " 'LPV-OSARG': 4,\n",
       " 'LPV-SRV': 5,\n",
       " 'RRLyr-RRab': 6,\n",
       " 'RRLyr-RRc': 7,\n",
       " 'RRLyr-RRd': 8,\n",
       " 'T2Cep-BLHer': 9,\n",
       " 'T2Cep-RVTau': 10,\n",
       " 'T2Cep-WVir': 11}"
      ]
     },
     "metadata": {},
     "output_type": "display_data"
    },
    {
     "data": {
      "text/markdown": [
       "### Simplified Classes"
      ],
      "text/plain": [
       "<IPython.core.display.Markdown object>"
      ]
     },
     "metadata": {},
     "output_type": "display_data"
    },
    {
     "data": {
      "text/plain": [
       "{'': 0, 'Cep': 1, 'LPV': 2, 'RRLyr': 3, 'T2Cep': 4}"
      ]
     },
     "metadata": {},
     "output_type": "display_data"
    }
   ],
   "source": [
    "classes = set()\n",
    "for df in data.values():\n",
    "    classes.update(df.ogle3_type)\n",
    "sclasses_names = set(c.split(\"-\", 1)[0] for c in classes)\n",
    "classes = dict(zip(sorted(classes), range(len(classes))))\n",
    "sclasses = dict(zip(sorted(sclasses_names), range(len(sclasses_names))))\n",
    "\n",
    "for df in data.values():\n",
    "    df[\"cls\"] = df.ogle3_type.apply(classes.get)\n",
    "    df[\"scls\"] = df.ogle3_type.apply(lambda v: sclasses.get(v.split(\"-\", 1)[0]))\n",
    "    \n",
    "d.display(d.Markdown(\"### Classes\"))\n",
    "d.display(classes)\n",
    "\n",
    "d.display(d.Markdown(\"### Simplified Classes\"))\n",
    "d.display(sclasses)"
   ]
  },
  {
   "cell_type": "markdown",
   "metadata": {},
   "source": [
    "### 2.2. Removes all low-variance and \"bad\" features"
   ]
  },
  {
   "cell_type": "code",
   "execution_count": 4,
   "metadata": {},
   "outputs": [
    {
     "name": "stdout",
     "output_type": "stream",
     "text": [
      "('Raw Features:', 276)\n",
      "('Total features:', 216)\n"
     ]
    }
   ],
   "source": [
    "df = data.b278\n",
    "X_columns = df.columns[~df.columns.isin([\"id\", \"cls\", \"scls\", \"ogle3_type\"])]\n",
    "print(\"Raw Features:\", X_columns.size)\n",
    "\n",
    "# remove signatures\n",
    "X_columns = X_columns[X_columns.str.startswith(\"Signature_\")]\n",
    "X_columns\n",
    "\n",
    "print(\"Total features:\", X_columns.size)\n",
    "\n",
    "del df"
   ]
  },
  {
   "cell_type": "markdown",
   "metadata": {},
   "source": [
    "### 2.3 Selected features"
   ]
  },
  {
   "cell_type": "code",
   "execution_count": 5,
   "metadata": {},
   "outputs": [
    {
     "data": {
      "text/html": [
       "<ol><li>Signature_x_0_y_0</li><li>Signature_x_0_y_1</li><li>Signature_x_0_y_10</li><li>Signature_x_0_y_11</li><li>Signature_x_0_y_2</li><li>Signature_x_0_y_3</li><li>Signature_x_0_y_4</li><li>Signature_x_0_y_5</li><li>Signature_x_0_y_6</li><li>Signature_x_0_y_7</li><li>Signature_x_0_y_8</li><li>Signature_x_0_y_9</li><li>Signature_x_10_y_0</li><li>Signature_x_10_y_1</li><li>Signature_x_10_y_10</li><li>Signature_x_10_y_11</li><li>Signature_x_10_y_2</li><li>Signature_x_10_y_3</li><li>Signature_x_10_y_4</li><li>Signature_x_10_y_5</li><li>Signature_x_10_y_6</li><li>Signature_x_10_y_7</li><li>Signature_x_10_y_8</li><li>Signature_x_10_y_9</li><li>Signature_x_11_y_0</li><li>Signature_x_11_y_1</li><li>Signature_x_11_y_10</li><li>Signature_x_11_y_11</li><li>Signature_x_11_y_2</li><li>Signature_x_11_y_3</li><li>Signature_x_11_y_4</li><li>Signature_x_11_y_5</li><li>Signature_x_11_y_6</li><li>Signature_x_11_y_7</li><li>Signature_x_11_y_8</li><li>Signature_x_11_y_9</li><li>Signature_x_12_y_0</li><li>Signature_x_12_y_1</li><li>Signature_x_12_y_10</li><li>Signature_x_12_y_11</li><li>Signature_x_12_y_2</li><li>Signature_x_12_y_3</li><li>Signature_x_12_y_4</li><li>Signature_x_12_y_5</li><li>Signature_x_12_y_6</li><li>Signature_x_12_y_7</li><li>Signature_x_12_y_8</li><li>Signature_x_12_y_9</li><li>Signature_x_13_y_0</li><li>Signature_x_13_y_1</li><li>Signature_x_13_y_10</li><li>Signature_x_13_y_11</li><li>Signature_x_13_y_2</li><li>Signature_x_13_y_3</li><li>Signature_x_13_y_4</li><li>Signature_x_13_y_5</li><li>Signature_x_13_y_6</li><li>Signature_x_13_y_7</li><li>Signature_x_13_y_8</li><li>Signature_x_13_y_9</li><li>Signature_x_14_y_0</li><li>Signature_x_14_y_1</li><li>Signature_x_14_y_10</li><li>Signature_x_14_y_11</li><li>Signature_x_14_y_2</li><li>Signature_x_14_y_3</li><li>Signature_x_14_y_4</li><li>Signature_x_14_y_5</li><li>Signature_x_14_y_6</li><li>Signature_x_14_y_7</li><li>Signature_x_14_y_8</li><li>Signature_x_14_y_9</li><li>Signature_x_15_y_0</li><li>Signature_x_15_y_1</li><li>Signature_x_15_y_10</li><li>Signature_x_15_y_11</li><li>Signature_x_15_y_2</li><li>Signature_x_15_y_3</li><li>Signature_x_15_y_4</li><li>Signature_x_15_y_5</li><li>Signature_x_15_y_6</li><li>Signature_x_15_y_7</li><li>Signature_x_15_y_8</li><li>Signature_x_15_y_9</li><li>Signature_x_16_y_0</li><li>Signature_x_16_y_1</li><li>Signature_x_16_y_10</li><li>Signature_x_16_y_11</li><li>Signature_x_16_y_2</li><li>Signature_x_16_y_3</li><li>Signature_x_16_y_4</li><li>Signature_x_16_y_5</li><li>Signature_x_16_y_6</li><li>Signature_x_16_y_7</li><li>Signature_x_16_y_8</li><li>Signature_x_16_y_9</li><li>Signature_x_17_y_0</li><li>Signature_x_17_y_1</li><li>Signature_x_17_y_10</li><li>Signature_x_17_y_11</li><li>Signature_x_17_y_2</li><li>Signature_x_17_y_3</li><li>Signature_x_17_y_4</li><li>Signature_x_17_y_5</li><li>Signature_x_17_y_6</li><li>Signature_x_17_y_7</li><li>Signature_x_17_y_8</li><li>Signature_x_17_y_9</li><li>Signature_x_1_y_0</li><li>Signature_x_1_y_1</li><li>Signature_x_1_y_10</li><li>Signature_x_1_y_11</li><li>Signature_x_1_y_2</li><li>Signature_x_1_y_3</li><li>Signature_x_1_y_4</li><li>Signature_x_1_y_5</li><li>Signature_x_1_y_6</li><li>Signature_x_1_y_7</li><li>Signature_x_1_y_8</li><li>Signature_x_1_y_9</li><li>Signature_x_2_y_0</li><li>Signature_x_2_y_1</li><li>Signature_x_2_y_10</li><li>Signature_x_2_y_11</li><li>Signature_x_2_y_2</li><li>Signature_x_2_y_3</li><li>Signature_x_2_y_4</li><li>Signature_x_2_y_5</li><li>Signature_x_2_y_6</li><li>Signature_x_2_y_7</li><li>Signature_x_2_y_8</li><li>Signature_x_2_y_9</li><li>Signature_x_3_y_0</li><li>Signature_x_3_y_1</li><li>Signature_x_3_y_10</li><li>Signature_x_3_y_11</li><li>Signature_x_3_y_2</li><li>Signature_x_3_y_3</li><li>Signature_x_3_y_4</li><li>Signature_x_3_y_5</li><li>Signature_x_3_y_6</li><li>Signature_x_3_y_7</li><li>Signature_x_3_y_8</li><li>Signature_x_3_y_9</li><li>Signature_x_4_y_0</li><li>Signature_x_4_y_1</li><li>Signature_x_4_y_10</li><li>Signature_x_4_y_11</li><li>Signature_x_4_y_2</li><li>Signature_x_4_y_3</li><li>Signature_x_4_y_4</li><li>Signature_x_4_y_5</li><li>Signature_x_4_y_6</li><li>Signature_x_4_y_7</li><li>Signature_x_4_y_8</li><li>Signature_x_4_y_9</li><li>Signature_x_5_y_0</li><li>Signature_x_5_y_1</li><li>Signature_x_5_y_10</li><li>Signature_x_5_y_11</li><li>Signature_x_5_y_2</li><li>Signature_x_5_y_3</li><li>Signature_x_5_y_4</li><li>Signature_x_5_y_5</li><li>Signature_x_5_y_6</li><li>Signature_x_5_y_7</li><li>Signature_x_5_y_8</li><li>Signature_x_5_y_9</li><li>Signature_x_6_y_0</li><li>Signature_x_6_y_1</li><li>Signature_x_6_y_10</li><li>Signature_x_6_y_11</li><li>Signature_x_6_y_2</li><li>Signature_x_6_y_3</li><li>Signature_x_6_y_4</li><li>Signature_x_6_y_5</li><li>Signature_x_6_y_6</li><li>Signature_x_6_y_7</li><li>Signature_x_6_y_8</li><li>Signature_x_6_y_9</li><li>Signature_x_7_y_0</li><li>Signature_x_7_y_1</li><li>Signature_x_7_y_10</li><li>Signature_x_7_y_11</li><li>Signature_x_7_y_2</li><li>Signature_x_7_y_3</li><li>Signature_x_7_y_4</li><li>Signature_x_7_y_5</li><li>Signature_x_7_y_6</li><li>Signature_x_7_y_7</li><li>Signature_x_7_y_8</li><li>Signature_x_7_y_9</li><li>Signature_x_8_y_0</li><li>Signature_x_8_y_1</li><li>Signature_x_8_y_10</li><li>Signature_x_8_y_11</li><li>Signature_x_8_y_2</li><li>Signature_x_8_y_3</li><li>Signature_x_8_y_4</li><li>Signature_x_8_y_5</li><li>Signature_x_8_y_6</li><li>Signature_x_8_y_7</li><li>Signature_x_8_y_8</li><li>Signature_x_8_y_9</li><li>Signature_x_9_y_0</li><li>Signature_x_9_y_1</li><li>Signature_x_9_y_10</li><li>Signature_x_9_y_11</li><li>Signature_x_9_y_2</li><li>Signature_x_9_y_3</li><li>Signature_x_9_y_4</li><li>Signature_x_9_y_5</li><li>Signature_x_9_y_6</li><li>Signature_x_9_y_7</li><li>Signature_x_9_y_8</li><li>Signature_x_9_y_9</li></ol>"
      ],
      "text/plain": [
       "<IPython.core.display.HTML object>"
      ]
     },
     "metadata": {},
     "output_type": "display_data"
    }
   ],
   "source": [
    "d.display(d.HTML(\n",
    "    \"<ol>\" +\n",
    "    \"\".join(\"<li>{}</li>\".format(c) for c in X_columns) +\n",
    "    \"</ol>\"))"
   ]
  },
  {
   "cell_type": "markdown",
   "metadata": {},
   "source": [
    "## 3. Machine Learning"
   ]
  },
  {
   "cell_type": "markdown",
   "metadata": {},
   "source": [
    "The next function fit the classifier with kfolds (`default=10`) print a and retrieve:\n",
    "\n",
    "- **fpr:** False positive rates\n",
    "- **tpr:** True positive rates\n",
    "- **thresh:** Decreasing thresholds on the decision function used to compute fpr and tpr\n",
    "- **roc_auc:** Area under curve of ROC Curve.\n",
    "- **y_test:** Array of all classes of testing samples.\n",
    "- **predictions:** The prediction clases for the testing samples.\n",
    "- **probabilities:** Predicted classes probabilities for tests.\n",
    "- **confussion_matrix:** Confusion matrix to evaluate the accuracy of a classification"
   ]
  },
  {
   "cell_type": "code",
   "execution_count": null,
   "metadata": {
    "collapsed": true
   },
   "outputs": [],
   "source": [
    "@memory.cache\n",
    "def experiment(clf, data, train_name, test_name, pcls):\n",
    "    \n",
    "    original_clf = clf\n",
    "    clf = sklearn.clone(original_clf)\n",
    "    \n",
    "    train_df, test_df = data[train_name], data[test_name]\n",
    "    \n",
    "    cfilter = [sclasses[pcls], sclasses[\"\"]]\n",
    "    \n",
    "    train_df = train_df[train_df.scls.isin(cfilter)]\n",
    "    test_df = test_df[test_df.scls.isin(cfilter)]\n",
    "    \n",
    "    x_train = prp.StandardScaler().fit_transform(\n",
    "        train_df[X_columns].values)\n",
    "    y_train = train_df[\"scls\"]\n",
    "\n",
    "    x_test = prp.StandardScaler().fit_transform(\n",
    "        test_df[X_columns].values)\n",
    "    y_testing = test_df[\"scls\"]\n",
    "    \n",
    "    clf.fit(x_train, y_train)\n",
    "\n",
    "    predictions = clf.predict(x_test)\n",
    "    probabilities = clf.predict_proba(x_test)\n",
    "    \n",
    "    fpr, tpr, thresholds = metrics.roc_curve(\n",
    "        y_testing, 1.-probabilities[:,0], pos_label=cfilter[0])\n",
    "    prec_rec_curve = metrics.precision_recall_curve(\n",
    "        y_testing, 1.- probabilities[:,0], pos_label=cfilter[0])\n",
    "    roc_auc = metrics.auc(fpr, tpr)\n",
    "\n",
    "    return container.Container({\n",
    "            'test_name': test_name,\n",
    "            'train_name': train_name,\n",
    "            'fpr': fpr, \n",
    "            'tpr': tpr, \n",
    "            'thresh': thresholds, \n",
    "            'roc_auc': roc_auc, \n",
    "            'prec_rec_curve': prec_rec_curve,\n",
    "            'y_test': y_testing, \n",
    "            'predictions': predictions,\n",
    "            'probabilities': probabilities, \n",
    "            'confusion_matrix': metrics.confusion_matrix(y_testing, predictions)})\n",
    "\n",
    "\n",
    "def experiments(clf, data, train_name, pcls, verbose=True):\n",
    "    results = []\n",
    "    for test_name in data.keys():\n",
    "        if test_name != train_name:\n",
    "            rst = experiment(clf, data, train_name, test_name, pcls)\n",
    "            results.append(rst)\n",
    "            if verbose:\n",
    "                print \"{} (TRAIN) Vs. {} (TEST)\".format(rst.train_name, rst.test_name)\n",
    "                print metrics.classification_report(rst.y_test, rst.predictions)\n",
    "                print \"-\" * 80\n",
    "    return tuple(results)\n",
    "\n",
    "\n",
    "def roc(results):\n",
    "    cmap = cm.get_cmap(\"plasma\")\n",
    "    colors = iter(cmap(np.linspace(0, 1, len(results))))\n",
    "\n",
    "    for res  in results:\n",
    "        cname = \"Vs.{}\".format(res.test_name)\n",
    "        color = next(colors)\n",
    "        label = '%s (area = %0.2f)' % (cname, res[\"roc_auc\"])\n",
    "        plt.plot(res[\"fpr\"], res[\"tpr\"], color=color, label=label)\n",
    "\n",
    "    plt.plot([0, 1], [0, 1], color='navy', lw=1, linestyle='--')\n",
    "    plt.xlim([0.0, 1.0])\n",
    "    plt.ylim([0.0, 1.05])\n",
    "    plt.xlabel('False Positive Rate')\n",
    "    plt.ylabel('True Positive Rate')\n",
    "    plt.title('Receiver operating characteristic example')\n",
    "    plt.legend(loc=\"lower right\")\n",
    "    plt.show()\n",
    "    \n",
    "def resume(label, results, rfunc):\n",
    "    slice = np.min([r.fpr.size for r in results])\n",
    "    mfpr = rfunc(np.vstack([r.fpr[:slice] for r in results]), axis=0)\n",
    "    mtpr = rfunc(np.vstack([r.tpr[:slice] for r in results]), axis=0)\n",
    "    roc_auc = rfunc([r.roc_auc for r in results])\n",
    "    return container.Container(test_name=label, fpr=mfpr, tpr=mtpr, roc_auc=roc_auc)"
   ]
  },
  {
   "cell_type": "markdown",
   "metadata": {},
   "source": [
    "### 3.1. SVM - Linear\n",
    "\n",
    "Execute a **SVM** with a **linear kernel**. All the default parameters are documented here: http://scikit-learn.org/stable/modules/generated/sklearn.svm.SVC.html"
   ]
  },
  {
   "cell_type": "code",
   "execution_count": null,
   "metadata": {},
   "outputs": [
    {
     "name": "stdout",
     "output_type": "stream",
     "text": [
      "b278 (TRAIN) Vs. b262 (TEST)\n"
     ]
    },
    {
     "name": "stderr",
     "output_type": "stream",
     "text": [
      "/home/jbcabral/projects/paper_b278/local/lib/python2.7/site-packages/sklearn/metrics/classification.py:1113: UndefinedMetricWarning: Precision and F-score are ill-defined and being set to 0.0 in labels with no predicted samples.\n",
      "  'precision', 'predicted', average, warn_for)\n"
     ]
    },
    {
     "name": "stdout",
     "output_type": "stream",
     "text": [
      "             precision    recall  f1-score   support\n",
      "\n",
      "          0       0.99      1.00      0.99     20000\n",
      "          3       0.00      0.00      0.00       297\n",
      "\n",
      "avg / total       0.97      0.99      0.98     20297\n",
      "\n",
      "--------------------------------------------------------------------------------\n"
     ]
    }
   ],
   "source": [
    "svc_linear = experiments(svm.SVC(kernel='linear', probability=True), data, \"b278\", \"RRLyr\")\n",
    "roc(svc_linear)"
   ]
  },
  {
   "cell_type": "markdown",
   "metadata": {},
   "source": [
    "### 3.2 SVM - Polynomic\n",
    "\n",
    "Execute a **SVM** with a **polynomic kernel**. All the default parameters are documented here: http://scikit-learn.org/stable/modules/generated/sklearn.svm.SVC.html"
   ]
  },
  {
   "cell_type": "code",
   "execution_count": null,
   "metadata": {},
   "outputs": [],
   "source": [
    "%time svc_poly = experiments(svm.SVC(kernel='poly', probability=True), data, \"b278\", \"RRLyr\")\n",
    "roc(svc_poly)"
   ]
  },
  {
   "cell_type": "markdown",
   "metadata": {},
   "source": [
    "### 3.3. Random Forest\n",
    "\n",
    "Execute a **Random Forest** with **500 c45** trees. All the default parameters are documented here: http://scikit-learn.org/stable/modules/generated/sklearn.ensemble.RandomForestClassifier.html"
   ]
  },
  {
   "cell_type": "code",
   "execution_count": null,
   "metadata": {
    "scrolled": false
   },
   "outputs": [],
   "source": [
    "%time rf = experiments(RandomForestClassifier(n_estimators=500, criterion=\"entropy\"), data, \"b278\", \"RRLyr\")\n",
    "roc(rf)"
   ]
  },
  {
   "cell_type": "markdown",
   "metadata": {},
   "source": [
    "### 3.4. KNN\n",
    "\n",
    "KNN with **3** neightbors ad weights determined by the **distance**. Docs: http://scikit-learn.org/stable/modules/generated/sklearn.neighbors.KNeighborsClassifier.html"
   ]
  },
  {
   "cell_type": "code",
   "execution_count": null,
   "metadata": {},
   "outputs": [],
   "source": [
    "%time knn = experiments(KNeighborsClassifier(n_neighbors=3, weights='distance'), data, \"b278\", \"RRLyr\")\n",
    "roc(knn)"
   ]
  }
 ],
 "metadata": {
  "kernelspec": {
   "display_name": "Python 2",
   "language": "python",
   "name": "python2"
  },
  "language_info": {
   "codemirror_mode": {
    "name": "ipython",
    "version": 2
   },
   "file_extension": ".py",
   "mimetype": "text/x-python",
   "name": "python",
   "nbconvert_exporter": "python",
   "pygments_lexer": "ipython2",
   "version": "2.7.6"
  }
 },
 "nbformat": 4,
 "nbformat_minor": 2
}
