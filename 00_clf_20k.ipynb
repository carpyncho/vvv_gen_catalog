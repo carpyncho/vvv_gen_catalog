{
 "cells": [
  {
   "cell_type": "markdown",
   "metadata": {},
   "source": [
    "# Clasificaciones usando muestra de tamaño 20mil"
   ]
  },
  {
   "cell_type": "code",
   "execution_count": 1,
   "metadata": {},
   "outputs": [],
   "source": [
    "import pickle"
   ]
  },
  {
   "cell_type": "code",
   "execution_count": 24,
   "metadata": {},
   "outputs": [],
   "source": [
    "import numpy as np\n",
    "\n",
    "import pandas as pd\n",
    "\n",
    "% matplotlib inline\n",
    "import matplotlib.pyplot as plt\n",
    "import seaborn as sns\n",
    "# sns.set()\n",
    "\n",
    "from sklearn.svm import SVC\n",
    "from sklearn.tree import DecisionTreeClassifier\n",
    "from sklearn.ensemble import RandomForestClassifier\n",
    "from sklearn.neighbors import KNeighborsClassifier\n",
    "\n",
    "from sklearn.preprocessing import StandardScaler\n",
    "\n",
    "from libs.container import Container\n",
    "from libs.display import d"
   ]
  },
  {
   "cell_type": "code",
   "execution_count": 25,
   "metadata": {},
   "outputs": [],
   "source": [
    "sample = pd.read_pickle(\"data/ogle3_only/scaled/s20k.pkl\")\n",
    "sample[\"tile\"] = sample[\"id\"].apply(lambda i: \"b\" + str(i)[1:4])\n",
    "sample[\"cls\"] = sample.vs_type.apply(lambda x: 0 if x == \"\" else 1)"
   ]
  },
  {
   "cell_type": "code",
   "execution_count": 26,
   "metadata": {},
   "outputs": [],
   "source": [
    "no_features = [\"id\", \"vs_catalog\", \"vs_type\", \"ra_k\", \"dec_k\", \"tile\", \"cls\"] \n",
    "X_columns = [c for c in sample.columns if c not in no_features]\n",
    "\n",
    "grouped = sample.groupby(\"tile\")\n",
    "data = Container({k: grouped.get_group(\"b262\").copy() for k in grouped.groups.keys()})\n",
    "\n",
    "del grouped, sample"
   ]
  },
  {
   "cell_type": "markdown",
   "metadata": {},
   "source": [
    "## Features"
   ]
  },
  {
   "cell_type": "code",
   "execution_count": 29,
   "metadata": {},
   "outputs": [
    {
     "data": {
      "text/plain": [
       "['cnt',\n",
       " 'Amplitude',\n",
       " 'AndersonDarling',\n",
       " 'Autocor_length',\n",
       " 'Beyond1Std',\n",
       " 'CAR_mean',\n",
       " 'CAR_sigma',\n",
       " 'CAR_tau',\n",
       " 'Con',\n",
       " 'Eta_e',\n",
       " 'FluxPercentileRatioMid20',\n",
       " 'FluxPercentileRatioMid35',\n",
       " 'FluxPercentileRatioMid50',\n",
       " 'FluxPercentileRatioMid65',\n",
       " 'FluxPercentileRatioMid80',\n",
       " 'Freq1_harmonics_amplitude_0',\n",
       " 'Freq1_harmonics_amplitude_1',\n",
       " 'Freq1_harmonics_amplitude_2',\n",
       " 'Freq1_harmonics_amplitude_3',\n",
       " 'Freq1_harmonics_rel_phase_0',\n",
       " 'Freq1_harmonics_rel_phase_1',\n",
       " 'Freq1_harmonics_rel_phase_2',\n",
       " 'Freq1_harmonics_rel_phase_3',\n",
       " 'LinearTrend',\n",
       " 'MaxSlope',\n",
       " 'Mean',\n",
       " 'Meanvariance',\n",
       " 'MedianAbsDev',\n",
       " 'MedianBRP',\n",
       " 'PairSlopeTrend',\n",
       " 'PercentAmplitude',\n",
       " 'PercentDifferenceFluxPercentile',\n",
       " 'PeriodLS',\n",
       " 'Period_fit',\n",
       " 'Psi_CS',\n",
       " 'Psi_eta',\n",
       " 'Q31',\n",
       " 'Rcs',\n",
       " 'Skew',\n",
       " 'SmallKurtosis',\n",
       " 'Std',\n",
       " 'StetsonK',\n",
       " 'c89_jk_color',\n",
       " 'c89_hk_color',\n",
       " 'c89_jh_color',\n",
       " 'n09_jk_color',\n",
       " 'n09_hk_color',\n",
       " 'n09_jh_color',\n",
       " 'c89_m2',\n",
       " 'c89_m4',\n",
       " 'c89_c3',\n",
       " 'n09_m2',\n",
       " 'n09_m4',\n",
       " 'n09_c3',\n",
       " 'AmplitudeH',\n",
       " 'AmplitudeJ',\n",
       " 'ppmb']"
      ]
     },
     "execution_count": 29,
     "metadata": {},
     "output_type": "execute_result"
    }
   ],
   "source": [
    "d(features)"
   ]
  },
  {
   "cell_type": "code",
   "execution_count": null,
   "metadata": {},
   "outputs": [],
   "source": []
  }
 ],
 "metadata": {
  "kernelspec": {
   "display_name": "Python 2",
   "language": "python",
   "name": "python2"
  },
  "language_info": {
   "codemirror_mode": {
    "name": "ipython",
    "version": 2
   },
   "file_extension": ".py",
   "mimetype": "text/x-python",
   "name": "python",
   "nbconvert_exporter": "python",
   "pygments_lexer": "ipython2",
   "version": "2.7.14"
  }
 },
 "nbformat": 4,
 "nbformat_minor": 2
}
