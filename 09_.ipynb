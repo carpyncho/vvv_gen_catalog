{
 "cells": [
  {
   "cell_type": "code",
   "execution_count": 1,
   "metadata": {},
   "outputs": [],
   "source": [
    "import numpy as np\n",
    "import pandas as pd\n",
    "\n",
    "%matplotlib inline\n",
    "import matplotlib.pyplot as plt\n",
    "\n",
    "import seaborn as sns"
   ]
  },
  {
   "cell_type": "code",
   "execution_count": 8,
   "metadata": {},
   "outputs": [],
   "source": [
    "results = np.load(\"data/o3o4vZ/row_or_column/results.npy\")[0]"
   ]
  },
  {
   "cell_type": "code",
   "execution_count": 30,
   "metadata": {},
   "outputs": [
    {
     "data": {
      "text/plain": [
       "{('big', 'b234', 'prec'): [0.98837209302325579],\n",
       " ('big', 'b234', 'recall'): [0.67460317460317465],\n",
       " ('big', 'b247', 'prec'): [0.97902097902097907],\n",
       " ('big', 'b247', 'recall'): [0.72916666666666663],\n",
       " ('big', 'b248', 'prec'): [0.95918367346938771],\n",
       " ('big', 'b248', 'recall'): [0.63513513513513509],\n",
       " ('big', 'b261', 'prec'): [0.98342541436464093],\n",
       " ('big', 'b261', 'recall'): [0.70355731225296447],\n",
       " ('big', 'b262', 'prec'): [0.95909090909090911],\n",
       " ('big', 'b262', 'recall'): [0.66352201257861632],\n",
       " ('big', 'b263', 'prec'): [0.98165137614678899],\n",
       " ('big', 'b263', 'recall'): [0.67084639498432597],\n",
       " ('big', 'b264', 'prec'): [0.97391304347826091],\n",
       " ('big', 'b264', 'recall'): [0.71794871794871795],\n",
       " ('big', 'b277', 'prec'): [0.93772893772893773],\n",
       " ('big', 'b277', 'recall'): [0.58986175115207373],\n",
       " ('big', 'b278', 'prec'): [0.96296296296296291],\n",
       " ('big', 'b278', 'recall'): [0.64852607709750565],\n",
       " ('mid', 'b234', 'prec'): [0.96999999999999997],\n",
       " ('mid', 'b234', 'recall'): [0.76984126984126988],\n",
       " ('mid', 'b247', 'prec'): [0.98170731707317072],\n",
       " ('mid', 'b247', 'recall'): [0.83854166666666663],\n",
       " ('mid', 'b248', 'prec'): [0.97058823529411764],\n",
       " ('mid', 'b248', 'recall'): [0.7432432432432432],\n",
       " ('mid', 'b261', 'prec'): [0.99038461538461542],\n",
       " ('mid', 'b261', 'recall'): [0.81422924901185767],\n",
       " ('mid', 'b262', 'prec'): [0.95366795366795365],\n",
       " ('mid', 'b262', 'recall'): [0.77672955974842772],\n",
       " ('mid', 'b263', 'prec'): [0.9609375],\n",
       " ('mid', 'b263', 'recall'): [0.7711598746081505],\n",
       " ('mid', 'b264', 'prec'): [0.96923076923076923],\n",
       " ('mid', 'b264', 'recall'): [0.80769230769230771],\n",
       " ('mid', 'b277', 'prec'): [0.93243243243243246],\n",
       " ('mid', 'b277', 'recall'): [0.79493087557603692],\n",
       " ('mid', 'b278', 'prec'): [0.9322493224932249],\n",
       " ('mid', 'b278', 'recall'): [0.78004535147392295],\n",
       " ('small', 'b234', 'prec'): [0.98198198198198194],\n",
       " ('small', 'b234', 'recall'): [0.86507936507936511],\n",
       " ('small', 'b247', 'prec'): [0.97714285714285709],\n",
       " ('small', 'b247', 'recall'): [0.890625],\n",
       " ('small', 'b248', 'prec'): [0.97860962566844922],\n",
       " ('small', 'b248', 'recall'): [0.82432432432432434],\n",
       " ('small', 'b261', 'prec'): [0.98156682027649766],\n",
       " ('small', 'b261', 'recall'): [0.84189723320158105],\n",
       " ('small', 'b262', 'prec'): [0.94945848375451258],\n",
       " ('small', 'b262', 'recall'): [0.82704402515723274],\n",
       " ('small', 'b263', 'prec'): [0.97122302158273377],\n",
       " ('small', 'b263', 'recall'): [0.84639498432601878],\n",
       " ('small', 'b264', 'prec'): [0.96099290780141844],\n",
       " ('small', 'b264', 'recall'): [0.86858974358974361],\n",
       " ('small', 'b277', 'prec'): [0.93264248704663211],\n",
       " ('small', 'b277', 'recall'): [0.82949308755760365],\n",
       " ('small', 'b278', 'prec'): [0.93734335839598992],\n",
       " ('small', 'b278', 'recall'): [0.84807256235827666]}"
      ]
     },
     "execution_count": 30,
     "metadata": {},
     "output_type": "execute_result"
    }
   ],
   "source": [
    "rows = {}\n",
    "\n",
    "for size, sdata in results.items():\n",
    "    for train, tdata in sdata.items():\n",
    "        rows.update({\n",
    "            (size, train, \"prec\"): [tdata.kfold[0]], \n",
    "            (size, train, \"recall\"): [tdata.kfold[1]]})\n",
    "    \n",
    "rows"
   ]
  },
  {
   "cell_type": "code",
   "execution_count": 31,
   "metadata": {},
   "outputs": [
    {
     "data": {
      "text/html": [
       "<div>\n",
       "<style>\n",
       "    .dataframe thead tr:only-child th {\n",
       "        text-align: right;\n",
       "    }\n",
       "\n",
       "    .dataframe thead th {\n",
       "        text-align: left;\n",
       "    }\n",
       "\n",
       "    .dataframe tbody tr th {\n",
       "        vertical-align: top;\n",
       "    }\n",
       "</style>\n",
       "<table border=\"1\" class=\"dataframe\">\n",
       "  <thead>\n",
       "    <tr style=\"text-align: right;\">\n",
       "      <th></th>\n",
       "      <th>(k, k1)</th>\n",
       "      <th>(k1, k1)</th>\n",
       "    </tr>\n",
       "  </thead>\n",
       "  <tbody>\n",
       "    <tr>\n",
       "      <th>0</th>\n",
       "      <td>1</td>\n",
       "      <td>1</td>\n",
       "    </tr>\n",
       "  </tbody>\n",
       "</table>\n",
       "</div>"
      ],
      "text/plain": [
       "   (k, k1)  (k1, k1)\n",
       "0        1         1"
      ]
     },
     "execution_count": 31,
     "metadata": {},
     "output_type": "execute_result"
    }
   ],
   "source": [
    "df  = pd.DataFrame([{(\"k\", \"k1\"): 1, (\"k1\", \"k1\"): 1}])\n",
    "df"
   ]
  },
  {
   "cell_type": "code",
   "execution_count": 20,
   "metadata": {},
   "outputs": [
    {
     "data": {
      "text/html": [
       "<div>\n",
       "<style>\n",
       "    .dataframe thead tr:only-child th {\n",
       "        text-align: right;\n",
       "    }\n",
       "\n",
       "    .dataframe thead th {\n",
       "        text-align: left;\n",
       "    }\n",
       "\n",
       "    .dataframe tbody tr th {\n",
       "        vertical-align: top;\n",
       "    }\n",
       "</style>\n",
       "<table border=\"1\" class=\"dataframe\">\n",
       "  <thead>\n",
       "    <tr>\n",
       "      <th></th>\n",
       "      <th colspan=\"2\" halign=\"left\">California</th>\n",
       "      <th colspan=\"2\" halign=\"left\">New York</th>\n",
       "      <th colspan=\"2\" halign=\"left\">Texas</th>\n",
       "    </tr>\n",
       "    <tr>\n",
       "      <th></th>\n",
       "      <th>2000</th>\n",
       "      <th>2010</th>\n",
       "      <th>2000</th>\n",
       "      <th>2010</th>\n",
       "      <th>2000</th>\n",
       "      <th>2010</th>\n",
       "    </tr>\n",
       "  </thead>\n",
       "  <tbody>\n",
       "  </tbody>\n",
       "</table>\n",
       "</div>"
      ],
      "text/plain": [
       "Empty DataFrame\n",
       "Columns: [(California, 2000), (California, 2010), (New York, 2000), (New York, 2010), (Texas, 2000), (Texas, 2010)]\n",
       "Index: []"
      ]
     },
     "execution_count": 20,
     "metadata": {},
     "output_type": "execute_result"
    }
   ],
   "source": [
    "index = [('California', 2000), ('California', 2010),\n",
    "         ('New York', 2000), ('New York', 2010),\n",
    "         ('Texas', 2000), ('Texas', 2010)]\n",
    "pd.DataFrame(columns=pd.MultiIndex.from_tuples(index))"
   ]
  },
  {
   "cell_type": "code",
   "execution_count": 32,
   "metadata": {},
   "outputs": [
    {
     "data": {
      "text/html": [
       "<div>\n",
       "<style>\n",
       "    .dataframe thead tr:only-child th {\n",
       "        text-align: right;\n",
       "    }\n",
       "\n",
       "    .dataframe thead th {\n",
       "        text-align: left;\n",
       "    }\n",
       "\n",
       "    .dataframe tbody tr th {\n",
       "        vertical-align: top;\n",
       "    }\n",
       "</style>\n",
       "<table border=\"1\" class=\"dataframe\">\n",
       "  <thead>\n",
       "    <tr>\n",
       "      <th></th>\n",
       "      <th colspan=\"10\" halign=\"left\">big</th>\n",
       "      <th>...</th>\n",
       "      <th colspan=\"10\" halign=\"left\">small</th>\n",
       "    </tr>\n",
       "    <tr>\n",
       "      <th></th>\n",
       "      <th colspan=\"2\" halign=\"left\">b234</th>\n",
       "      <th colspan=\"2\" halign=\"left\">b247</th>\n",
       "      <th colspan=\"2\" halign=\"left\">b248</th>\n",
       "      <th colspan=\"2\" halign=\"left\">b261</th>\n",
       "      <th colspan=\"2\" halign=\"left\">b262</th>\n",
       "      <th>...</th>\n",
       "      <th colspan=\"2\" halign=\"left\">b262</th>\n",
       "      <th colspan=\"2\" halign=\"left\">b263</th>\n",
       "      <th colspan=\"2\" halign=\"left\">b264</th>\n",
       "      <th colspan=\"2\" halign=\"left\">b277</th>\n",
       "      <th colspan=\"2\" halign=\"left\">b278</th>\n",
       "    </tr>\n",
       "    <tr>\n",
       "      <th></th>\n",
       "      <th>prec</th>\n",
       "      <th>recall</th>\n",
       "      <th>prec</th>\n",
       "      <th>recall</th>\n",
       "      <th>prec</th>\n",
       "      <th>recall</th>\n",
       "      <th>prec</th>\n",
       "      <th>recall</th>\n",
       "      <th>prec</th>\n",
       "      <th>recall</th>\n",
       "      <th>...</th>\n",
       "      <th>prec</th>\n",
       "      <th>recall</th>\n",
       "      <th>prec</th>\n",
       "      <th>recall</th>\n",
       "      <th>prec</th>\n",
       "      <th>recall</th>\n",
       "      <th>prec</th>\n",
       "      <th>recall</th>\n",
       "      <th>prec</th>\n",
       "      <th>recall</th>\n",
       "    </tr>\n",
       "  </thead>\n",
       "  <tbody>\n",
       "    <tr>\n",
       "      <th>0</th>\n",
       "      <td>0.988372</td>\n",
       "      <td>0.674603</td>\n",
       "      <td>0.979021</td>\n",
       "      <td>0.729167</td>\n",
       "      <td>0.959184</td>\n",
       "      <td>0.635135</td>\n",
       "      <td>0.983425</td>\n",
       "      <td>0.703557</td>\n",
       "      <td>0.959091</td>\n",
       "      <td>0.663522</td>\n",
       "      <td>...</td>\n",
       "      <td>0.949458</td>\n",
       "      <td>0.827044</td>\n",
       "      <td>0.971223</td>\n",
       "      <td>0.846395</td>\n",
       "      <td>0.960993</td>\n",
       "      <td>0.86859</td>\n",
       "      <td>0.932642</td>\n",
       "      <td>0.829493</td>\n",
       "      <td>0.937343</td>\n",
       "      <td>0.848073</td>\n",
       "    </tr>\n",
       "  </tbody>\n",
       "</table>\n",
       "<p>1 rows × 54 columns</p>\n",
       "</div>"
      ],
      "text/plain": [
       "        big                                                              \\\n",
       "       b234                b247                b248                b261   \n",
       "       prec    recall      prec    recall      prec    recall      prec   \n",
       "0  0.988372  0.674603  0.979021  0.729167  0.959184  0.635135  0.983425   \n",
       "\n",
       "                                   ...        small                      \\\n",
       "                 b262              ...         b262                b263   \n",
       "     recall      prec    recall    ...         prec    recall      prec   \n",
       "0  0.703557  0.959091  0.663522    ...     0.949458  0.827044  0.971223   \n",
       "\n",
       "                                                                        \n",
       "                 b264               b277                b278            \n",
       "     recall      prec   recall      prec    recall      prec    recall  \n",
       "0  0.846395  0.960993  0.86859  0.932642  0.829493  0.937343  0.848073  \n",
       "\n",
       "[1 rows x 54 columns]"
      ]
     },
     "execution_count": 32,
     "metadata": {},
     "output_type": "execute_result"
    }
   ],
   "source": [
    "pd.DataFrame.from_dict(rows)"
   ]
  },
  {
   "cell_type": "code",
   "execution_count": null,
   "metadata": {},
   "outputs": [],
   "source": []
  }
 ],
 "metadata": {
  "kernelspec": {
   "display_name": "Python 2",
   "language": "python",
   "name": "python2"
  },
  "language_info": {
   "codemirror_mode": {
    "name": "ipython",
    "version": 2
   },
   "file_extension": ".py",
   "mimetype": "text/x-python",
   "name": "python",
   "nbconvert_exporter": "python",
   "pygments_lexer": "ipython2",
   "version": "2.7.14"
  }
 },
 "nbformat": 4,
 "nbformat_minor": 2
}
