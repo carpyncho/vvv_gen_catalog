{
 "cells": [
  {
   "cell_type": "markdown",
   "metadata": {},
   "source": [
    "# AMP Feature Analysis For b278 VVV Tile\n",
    "\n",
    "- **author:** JB Cabral (<jbc.develop@gmail.com>)"
   ]
  },
  {
   "cell_type": "code",
   "execution_count": 1,
   "metadata": {
    "collapsed": true
   },
   "outputs": [],
   "source": [
    "% matplotlib inline\n",
    "\n",
    "import numpy as np\n",
    "\n",
    "import pandas as pd\n",
    "\n",
    "from matplotlib import pyplot as plt\n",
    "import seaborn as sns\n",
    "sns.set()\n",
    "\n",
    "from sklearn import feature_selection as fs\n",
    "from sklearn import preprocessing as prp\n",
    "\n",
    "from libs import fourier_help\n",
    "\n",
    "pd.options.mode.chained_assignment = None \n",
    "\n",
    "TWO_LABELS = {-1: -1, 1: 1, 2: 1, 3: 1}"
   ]
  },
  {
   "cell_type": "markdown",
   "metadata": {},
   "source": [
    "## Load Data"
   ]
  },
  {
   "cell_type": "code",
   "execution_count": 12,
   "metadata": {},
   "outputs": [
    {
     "name": "stdout",
     "output_type": "stream",
     "text": [
      "features: 72\n"
     ]
    }
   ],
   "source": [
    "df = pd.read_csv(\"data/amp.csv\")\n",
    "print \"features:\", len(df.columns) - 3"
   ]
  },
  {
   "cell_type": "markdown",
   "metadata": {},
   "source": [
    "##  2. Removes all low-variance and \"bad\" features"
   ]
  },
  {
   "cell_type": "code",
   "execution_count": 17,
   "metadata": {},
   "outputs": [
    {
     "name": "stdout",
     "output_type": "stream",
     "text": [
      "Index([u'Amplitude', u'Rcs', u'StetsonK', u'Meanvariance', u'Autocor_length',\n",
      "       u'Con', u'Beyond1Std', u'SmallKurtosis', u'Std', u'Skew', u'MaxSlope',\n",
      "       u'MedianAbsDev', u'MedianBRP', u'PairSlopeTrend',\n",
      "       u'FluxPercentileRatioMid20', u'FluxPercentileRatioMid35',\n",
      "       u'FluxPercentileRatioMid50', u'FluxPercentileRatioMid65',\n",
      "       u'FluxPercentileRatioMid80', u'PercentDifferenceFluxPercentile',\n",
      "       u'PercentAmplitude', u'LinearTrend', u'Eta_e', u'Mean', u'Q31',\n",
      "       u'AndersonDarling', u'PeriodLS', u'Period_fit', u'Psi_CS', u'Psi_eta',\n",
      "       u'CAR_mean', u'Freq1_harmonics_amplitude_0',\n",
      "       u'Freq1_harmonics_amplitude_1', u'Freq1_harmonics_amplitude_2',\n",
      "       u'Freq1_harmonics_amplitude_3', u'Freq2_harmonics_amplitude_0',\n",
      "       u'Freq2_harmonics_amplitude_1', u'Freq2_harmonics_amplitude_2',\n",
      "       u'Freq2_harmonics_amplitude_3', u'Freq3_harmonics_amplitude_0',\n",
      "       u'Freq3_harmonics_amplitude_1', u'Freq3_harmonics_amplitude_2',\n",
      "       u'Freq3_harmonics_amplitude_3', u'Freq1_harmonics_rel_phase_1',\n",
      "       u'Freq1_harmonics_rel_phase_2', u'Freq1_harmonics_rel_phase_3',\n",
      "       u'Freq2_harmonics_rel_phase_1', u'Freq2_harmonics_rel_phase_2',\n",
      "       u'Freq2_harmonics_rel_phase_3', u'Freq3_harmonics_rel_phase_1',\n",
      "       u'Freq3_harmonics_rel_phase_2', u'Freq3_harmonics_rel_phase_3',\n",
      "       u'gatspy_period', u'count', u'phi_1', u'phi_2', u'phi_3', u'phi_4',\n",
      "       u'A_5', u'phi_5', u'period_diff', u'amp'],\n",
      "      dtype='object')\n",
      "total features: 62\n"
     ]
    }
   ],
   "source": [
    "# columns with nan and null\n",
    "df = df.loc[:, ~df.isnull().any()]\n",
    "\n",
    "X_columns = df.columns[~df.columns.isin([\"vvv_id\", \"cls\", \"scls\"])]\n",
    "y = df[\"scls\"].values\n",
    "\n",
    "# low variance\n",
    "vt = fs.VarianceThreshold()\n",
    "vt.fit(df[X_columns].values, y)\n",
    "\n",
    "X_columns = X_columns[vt.get_support()]\n",
    "X = prp.StandardScaler().fit_transform(df[X_columns].values)\n",
    "\n",
    "print X_columns\n",
    "print \"total features:\", len(X_columns)"
   ]
  }
 ],
 "metadata": {
  "kernelspec": {
   "display_name": "Python 2",
   "language": "python",
   "name": "python2"
  },
  "language_info": {
   "codemirror_mode": {
    "name": "ipython",
    "version": 2
   },
   "file_extension": ".py",
   "mimetype": "text/x-python",
   "name": "python",
   "nbconvert_exporter": "python",
   "pygments_lexer": "ipython2",
   "version": "2.7.6"
  }
 },
 "nbformat": 4,
 "nbformat_minor": 2
}
