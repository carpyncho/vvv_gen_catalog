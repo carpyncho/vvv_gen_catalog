version https://git-lfs.github.com/spec/v1
oid sha256:2efe5b53b143bf299a650b711b3927cc35a38a1b39d44905200cd922dbc8b151
size 2144018
