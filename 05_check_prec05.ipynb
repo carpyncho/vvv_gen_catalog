{
 "cells": [
  {
   "cell_type": "markdown",
   "metadata": {},
   "source": [
    "# Clasificaciones usando muestra de tamaño 2500"
   ]
  },
  {
   "cell_type": "code",
   "execution_count": 1,
   "metadata": {},
   "outputs": [],
   "source": [
    "import pickle\n",
    "\n",
    "import numpy as np\n",
    "\n",
    "import pandas as pd\n",
    "\n",
    "% matplotlib inline\n",
    "import matplotlib.pyplot as plt\n",
    "import seaborn as sns\n",
    "# sns.set()\n",
    "\n",
    "from sklearn.svm import SVC\n",
    "from sklearn.tree import DecisionTreeClassifier\n",
    "from sklearn.ensemble import RandomForestClassifier\n",
    "from sklearn.neighbors import KNeighborsClassifier\n",
    "\n",
    "from sklearn.preprocessing import StandardScaler\n",
    "\n",
    "from libs.container import Container\n",
    "from libs.display import d\n",
    "from libs.experiment import KFoldExperiment, WithAnotherExperiment, roc, metrics\n",
    "from libs.nearest import nearest\n",
    "from libs.precstar import  prec_star"
   ]
  },
  {
   "cell_type": "code",
   "execution_count": 2,
   "metadata": {},
   "outputs": [],
   "source": [
    "import joblib\n",
    "cpu = joblib.cpu_count()"
   ]
  },
  {
   "cell_type": "code",
   "execution_count": 28,
   "metadata": {},
   "outputs": [
    {
     "data": {
      "text/plain": [
       "<Container({'b262': 2791, 'b263': 2805, 'b261': 2718, 'b278': 2912, 'b264': 2792})>"
      ]
     },
     "execution_count": 28,
     "metadata": {},
     "output_type": "execute_result"
    }
   ],
   "source": [
    "sample = pd.read_pickle(\"data/ogle3_only/scaled/s2_5k.pkl.bz2\")\n",
    "sample[\"tile\"] = sample[\"id\"].apply(lambda i: \"b\" + str(i)[1:4])\n",
    "sample[\"cls\"] = sample.vs_type.apply(lambda x: 0 if x == \"\" else 1)\n",
    "\n",
    "no_features = [\"id\", \"vs_catalog\", \"vs_type\", \"ra_k\", \"dec_k\", \"tile\", \"cls\"] \n",
    "X_columns = [c for c in sample.columns if c not in no_features]\n",
    "\n",
    "grouped = sample.groupby(\"tile\")\n",
    "data = Container({k: grouped.get_group(k).copy() for k in grouped.groups.keys()})\n",
    "\n",
    "\n",
    "del grouped, sample\n",
    "data"
   ]
  },
  {
   "cell_type": "markdown",
   "metadata": {},
   "source": [
    "## Features"
   ]
  },
  {
   "cell_type": "code",
   "execution_count": 29,
   "metadata": {},
   "outputs": [],
   "source": [
    "cls = {0:0, 1:1}"
   ]
  },
  {
   "cell_type": "code",
   "execution_count": 30,
   "metadata": {},
   "outputs": [
    {
     "data": {
      "text/markdown": [
       "1. cnt\n",
       "2. Amplitude\n",
       "3. Autocor_length\n",
       "4. Beyond1Std\n",
       "5. CAR_mean\n",
       "6. CAR_sigma\n",
       "7. CAR_tau\n",
       "8. Con\n",
       "9. Eta_e\n",
       "10. FluxPercentileRatioMid20\n",
       "11. FluxPercentileRatioMid35\n",
       "12. FluxPercentileRatioMid50\n",
       "13. FluxPercentileRatioMid65\n",
       "14. FluxPercentileRatioMid80\n",
       "15. Freq1_harmonics_amplitude_0\n",
       "16. Freq1_harmonics_amplitude_1\n",
       "17. Freq1_harmonics_amplitude_2\n",
       "18. Freq1_harmonics_amplitude_3\n",
       "19. Freq1_harmonics_rel_phase_0\n",
       "20. Freq1_harmonics_rel_phase_1\n",
       "21. Freq1_harmonics_rel_phase_2\n",
       "22. Freq1_harmonics_rel_phase_3\n",
       "23. LinearTrend\n",
       "24. MaxSlope\n",
       "25. Mean\n",
       "26. Meanvariance\n",
       "27. MedianAbsDev\n",
       "28. MedianBRP\n",
       "29. PairSlopeTrend\n",
       "30. PercentAmplitude\n",
       "31. PercentDifferenceFluxPercentile\n",
       "32. PeriodLS\n",
       "33. Period_fit\n",
       "34. Psi_CS\n",
       "35. Psi_eta\n",
       "36. Q31\n",
       "37. Rcs\n",
       "38. Skew\n",
       "39. SmallKurtosis\n",
       "40. Std\n",
       "41. c89_jk_color\n",
       "42. c89_hk_color\n",
       "43. c89_jh_color\n",
       "44. n09_jk_color\n",
       "45. n09_hk_color\n",
       "46. n09_jh_color\n",
       "47. c89_m2\n",
       "48. c89_m4\n",
       "49. c89_c3\n",
       "50. n09_m2\n",
       "51. n09_m4\n",
       "52. n09_c3\n",
       "53. AmplitudeH\n",
       "54. AmplitudeJ\n",
       "55. ppmb\n",
       "56. AmplitudeJH\n",
       "57. AmplitudeJK"
      ],
      "text/plain": [
       "<IPython.core.display.Markdown object>"
      ]
     },
     "metadata": {},
     "output_type": "display_data"
    }
   ],
   "source": [
    "d(X_columns)"
   ]
  },
  {
   "cell_type": "code",
   "execution_count": 31,
   "metadata": {},
   "outputs": [
    {
     "name": "stdout",
     "output_type": "stream",
     "text": [
      "b278 (TRAIN) Vs. b261 (TEST)\n",
      "              precision    recall  f1-score   support\n",
      "\n",
      "           0       0.99      1.00      0.99      2497\n",
      "           1       0.95      0.89      0.92       221\n",
      "\n",
      "   micro avg       0.99      0.99      0.99      2718\n",
      "   macro avg       0.97      0.94      0.95      2718\n",
      "weighted avg       0.99      0.99      0.99      2718\n",
      "\n",
      "--------------------------------------------------------------------------------\n",
      "b278 (TRAIN) Vs. b262 (TEST)\n",
      "              precision    recall  f1-score   support\n",
      "\n",
      "           0       0.98      1.00      0.99      2495\n",
      "           1       0.98      0.85      0.91       296\n",
      "\n",
      "   micro avg       0.98      0.98      0.98      2791\n",
      "   macro avg       0.98      0.92      0.95      2791\n",
      "weighted avg       0.98      0.98      0.98      2791\n",
      "\n",
      "--------------------------------------------------------------------------------\n",
      "b278 (TRAIN) Vs. b263 (TEST)\n",
      "              precision    recall  f1-score   support\n",
      "\n",
      "           0       0.98      1.00      0.99      2500\n",
      "           1       0.96      0.86      0.90       305\n",
      "\n",
      "   micro avg       0.98      0.98      0.98      2805\n",
      "   macro avg       0.97      0.93      0.95      2805\n",
      "weighted avg       0.98      0.98      0.98      2805\n",
      "\n",
      "--------------------------------------------------------------------------------\n",
      "b278 (TRAIN) Vs. b264 (TEST)\n",
      "              precision    recall  f1-score   support\n",
      "\n",
      "           0       0.99      0.99      0.99      2498\n",
      "           1       0.95      0.92      0.94       294\n",
      "\n",
      "   micro avg       0.99      0.99      0.99      2792\n",
      "   macro avg       0.97      0.96      0.96      2792\n",
      "weighted avg       0.99      0.99      0.99      2792\n",
      "\n",
      "--------------------------------------------------------------------------------\n",
      "CPU times: user 1min 17s, sys: 4.2 s, total: 1min 21s\n",
      "Wall time: 15.4 s\n"
     ]
    },
    {
     "data": {
      "image/png": "[encoded data removed]",
      "text/plain": [
       "<Figure size 432x288 with 1 Axes>"
      ]
     },
     "metadata": {},
     "output_type": "display_data"
    }
   ],
   "source": [
    "%%time \n",
    "rf = WithAnotherExperiment(\n",
    "    clf=RandomForestClassifier(n_estimators=500, criterion=\"entropy\", n_jobs=cpu), \n",
    "    clsnum=cls, data=data, pcls=1, ncls=0, X_columns=X_columns, y_column=\"cls\")\n",
    "result = rf(\"b278\")\n",
    "roc(result)"
   ]
  },
  {
   "cell_type": "code",
   "execution_count": 7,
   "metadata": {},
   "outputs": [],
   "source": [
    "result = result[0]"
   ]
  },
  {
   "cell_type": "code",
   "execution_count": 8,
   "metadata": {},
   "outputs": [
    {
     "data": {
      "text/plain": [
       "['y_test_real',\n",
       " 'probabilities',\n",
       " 'test_name',\n",
       " 'predictions',\n",
       " 'ids',\n",
       " 'thresh',\n",
       " 'tpr',\n",
       " 'train_name',\n",
       " 'fpr',\n",
       " 'test_size',\n",
       " 'prec_rec_curve',\n",
       " 'confusion_matrix',\n",
       " 'y_test',\n",
       " 'roc_auc']"
      ]
     },
     "execution_count": 8,
     "metadata": {},
     "output_type": "execute_result"
    }
   ],
   "source": [
    "result.keys()"
   ]
  },
  {
   "cell_type": "code",
   "execution_count": 9,
   "metadata": {},
   "outputs": [],
   "source": [
    "precision, recall, curve = result.prec_rec_curve"
   ]
  },
  {
   "cell_type": "code",
   "execution_count": 10,
   "metadata": {},
   "outputs": [
    {
     "data": {
      "text/plain": [
       "(238,)"
      ]
     },
     "execution_count": 10,
     "metadata": {},
     "output_type": "execute_result"
    }
   ],
   "source": [
    "precision.shape"
   ]
  },
  {
   "cell_type": "code",
   "execution_count": 11,
   "metadata": {},
   "outputs": [],
   "source": [
    "# df.plot()\n",
    "# plt.axhline(0.5)"
   ]
  },
  {
   "cell_type": "code",
   "execution_count": 12,
   "metadata": {},
   "outputs": [
    {
     "name": "stdout",
     "output_type": "stream",
     "text": [
      "              precision    recall  f1-score   support\n",
      "\n",
      "         0.0       0.97      0.99      0.98      2489\n",
      "         1.0       0.94      0.85      0.89       423\n",
      "\n",
      "   micro avg       0.97      0.97      0.97      2912\n",
      "   macro avg       0.96      0.92      0.94      2912\n",
      "weighted avg       0.97      0.97      0.97      2912\n",
      "\n",
      "--------------------------------------------------------------------------------\n",
      "CPU times: user 2min 51s, sys: 9.89 s, total: 3min 1s\n",
      "Wall time: 36.8 s\n"
     ]
    }
   ],
   "source": [
    "%%time\n",
    "rf = KFoldExperiment(\n",
    "    clf=RandomForestClassifier(n_estimators=500, criterion=\"entropy\", n_jobs=cpu), clsnum=cls, \n",
    "    data=data, pcls=1, ncls=0, X_columns=X_columns, y_column=\"cls\")\n",
    "rf = rf(\"b278\", nfolds=10)"
   ]
  },
  {
   "cell_type": "code",
   "execution_count": 13,
   "metadata": {},
   "outputs": [],
   "source": [
    "from libs.precstar import *"
   ]
  },
  {
   "cell_type": "code",
   "execution_count": 16,
   "metadata": {},
   "outputs": [],
   "source": [
    "ps = prec_star(rf.y_test, rf.probabilities[:,1], ss, rs)"
   ]
  },
  {
   "cell_type": "code",
   "execution_count": 15,
   "metadata": {},
   "outputs": [],
   "source": [
    "ss = len(data.b278)\n",
    "rs = 781612"
   ]
  },
  {
   "cell_type": "code",
   "execution_count": null,
   "metadata": {},
   "outputs": [],
   "source": [
    "np.max(ps[:300])"
   ]
  },
  {
   "cell_type": "code",
   "execution_count": 18,
   "metadata": {},
   "outputs": [],
   "source": [
    "df = pd.DataFrame({\"ps\": result, \"p\": rf.prec_rec_curve[0], \"r\": rf.prec_rec_curve[1]})"
   ]
  },
  {
   "cell_type": "code",
   "execution_count": 20,
   "metadata": {},
   "outputs": [
    {
     "data": {
      "text/plain": [
       "<matplotlib.axes._subplots.AxesSubplot at 0x7fd7416783d0>"
      ]
     },
     "execution_count": 20,
     "metadata": {},
     "output_type": "execute_result"
    },
    {
     "data": {
      "image/png": "[encoded data removed]",
      "text/plain": [
       "<Figure size 432x288 with 1 Axes>"
      ]
     },
     "metadata": {},
     "output_type": "display_data"
    }
   ],
   "source": [
    "df[[\"ps\", \"p\"]].plot()"
   ]
  },
  {
   "cell_type": "code",
   "execution_count": null,
   "metadata": {},
   "outputs": [],
   "source": [
    "197/(12+197.)"
   ]
  },
  {
   "cell_type": "code",
   "execution_count": 22,
   "metadata": {},
   "outputs": [],
   "source": [
    "SIZES = {\n",
    "    'b220': 211850,\n",
    "    'b234': 297302,\n",
    "    'b247': 414497,\n",
    "    'b248': 426369,\n",
    "    'b261': 575075,\n",
    "    'b262': 591770,\n",
    "    'b263': 585661,\n",
    "    'b264': 614967,\n",
    "    'b277': 753146,\n",
    "    'b278': 781612,\n",
    "    'b396': 494646}"
   ]
  },
  {
   "cell_type": "code",
   "execution_count": null,
   "metadata": {},
   "outputs": [],
   "source": []
  },
  {
   "cell_type": "code",
   "execution_count": 50,
   "metadata": {},
   "outputs": [
    {
     "name": "stdout",
     "output_type": "stream",
     "text": [
      "[ 0.10533842  0.12888108  0.15130674  0.16949153  0.18318068  0.19981752\n",
      "  0.21428571  0.2257732   0.23542117  0.25057737  0.26334951  0.27784891\n",
      "  0.28894807  0.29848693  0.30813124  0.31811487  0.33333333  0.34394904\n",
      "  0.35526316  0.36860068  0.37828371  0.38640429  0.39488117  0.40337711\n",
      "  0.41153846  0.417154    0.42714571  0.43942505  0.44676409  0.45628998\n",
      "  0.46320346  0.46827133  0.4766147   0.48512586  0.49530516  0.51094891\n",
      "  0.52109181  0.52763819  0.53030303  0.53984576  0.546875    0.56\n",
      "  0.56756757  0.57065217  0.57692308  0.58333333  0.58823529  0.58988764\n",
      "  0.5915493   0.6         0.60869565  0.61946903  0.625       0.63063063\n",
      "  0.63829787  0.64307692  0.653125    0.66139241  0.66773163  0.66987179\n",
      "  0.67202572  0.67752443  0.68421053  0.68646865  0.68874172  0.69333333\n",
      "  0.69565217  0.69798658  0.70508475  0.70989761  0.71724138  0.72125436\n",
      "  0.72280702  0.72183099  0.72438163  0.72695035  0.72953737  0.73214286\n",
      "  0.73741007  0.7400722   0.74275362  0.74545455  0.74817518  0.75091575\n",
      "  0.75367647  0.76208178  0.76779026  0.77358491  0.77651515  0.77946768\n",
      "  0.7816092   0.78764479  0.79377432  0.796875    0.8         0.80314961\n",
      "  0.80632411  0.80952381  0.812749    0.816       0.82258065  0.82591093\n",
      "  0.82926829  0.83265306  0.83606557  0.83950617  0.84297521  0.84647303\n",
      "  0.85        0.85355649  0.85294118  0.85654008  0.85957447  0.86266094\n",
      "  0.86206897  0.86580087  0.86899563  0.87280702  0.87665198  0.87610619\n",
      "  0.88        0.88392857  0.88789238  0.89189189  0.8959276   0.9\n",
      "  0.89954338  0.90366972  0.9078341   0.91203704  0.91627907  0.92056075\n",
      "  0.92488263  0.92924528  0.93364929  0.93809524  0.94258373  0.9468599\n",
      "  0.94660194  0.95121951  0.95098039  0.95073892  0.95544554  0.95522388\n",
      "  0.95477387  0.95939086  0.95918367  0.96410256  0.96891192  0.97395833\n",
      "  0.97905759  0.97894737  0.97883598  0.97860963  0.97849462  0.97837838\n",
      "  0.97826087  0.97802198  0.97790055  0.98333333  0.98876404  0.98870056\n",
      "  0.98863636  0.98850575  0.98837209  0.98830409  0.98823529  0.98816568\n",
      "  0.98809524  0.98802395  0.98795181  0.98787879  0.99382716  0.99378882\n",
      "  0.99375     0.99367089  0.99363057  1.          1.          1.          1.\n",
      "  1.          1.          1.          1.          1.          1.          1.\n",
      "  1.          1.          1.          1.          1.          1.          1.\n",
      "  1.          1.          1.          1.          1.          1.          1.\n",
      "  1.          1.          1.          1.          1.          1.          1.\n",
      "  1.          1.          1.          1.          1.          1.          1.\n",
      "  1.          1.          1.          1.          1.          1.          1.\n",
      "  1.          1.          1.          1.          1.          1.          1.\n",
      "  1.          1.          1.          1.          1.          1.          1.\n",
      "  1.          1.          1.          1.          1.          1.        ]\n",
      "[ 0.10605518  0.14114833  0.16610169  0.18967742  0.21060172  0.23095051\n",
      "  0.24457429  0.2595217   0.27469426  0.28768473  0.30448384  0.31533477\n",
      "  0.32808989  0.33953488  0.3492823   0.36093943  0.36915297  0.38120104\n",
      "  0.39089692  0.4010989   0.40839161  0.41666667  0.42521994  0.43283582\n",
      "  0.44207317  0.45383412  0.464       0.4723127   0.48172757  0.49488055\n",
      "  0.50086356  0.50966608  0.52158273  0.53406998  0.54409006  0.55028463\n",
      "  0.56092843  0.56751468  0.57312253  0.57768924  0.58467742  0.58383838\n",
      "  0.59100204  0.6         0.60504202  0.60887949  0.61802575  0.63296703\n",
      "  0.64142539  0.64864865  0.65454545  0.65747126  0.66357309  0.66666667\n",
      "  0.6682243   0.67216981  0.67375887  0.67619048  0.68599034  0.68932039\n",
      "  0.69362745  0.6962963   0.69975186  0.70149254  0.71032746  0.71212121\n",
      "  0.71573604  0.71938776  0.72122762  0.72680412  0.72797927  0.73368146\n",
      "  0.73490814  0.73878628  0.74468085  0.75        0.75202156  0.75815217\n",
      "  0.76229508  0.76438356  0.7679558   0.7700831   0.77222222  0.77653631\n",
      "  0.78089888  0.78531073  0.78977273  0.79202279  0.79428571  0.79369628\n",
      "  0.79827089  0.80289855  0.80758017  0.80994152  0.81231672  0.81470588\n",
      "  0.81952663  0.82440476  0.82634731  0.82882883  0.8313253   0.83636364\n",
      "  0.83890578  0.84146341  0.8440367   0.84662577  0.84923077  0.85185185\n",
      "  0.85448916  0.85669782  0.859375    0.86206897  0.86435331  0.87261146\n",
      "  0.87539936  0.8778135   0.88349515  0.88311688  0.88888889  0.89180328\n",
      "  0.90066225  0.90365449  0.909699    0.91245791  0.91554054  0.91864407\n",
      "  0.91836735  0.92783505  0.93103448  0.93079585  0.93055556  0.93379791\n",
      "  0.93356643  0.93333333  0.93661972  0.93950178  0.93928571  0.9390681\n",
      "  0.94244604  0.94223827  0.94202899  0.94545455  0.94890511  0.94871795\n",
      "  0.94852941  0.94833948  0.94814815  0.94795539  0.95149254  0.95505618\n",
      "  0.96226415  0.96590909  0.96958175  0.97328244  0.97318008  0.97307692\n",
      "  0.98054475  0.98431373  0.98425197  0.98412698  0.98406375  0.984\n",
      "  0.98387097  0.98380567  0.9877551   0.98770492  0.98765432  0.98755187\n",
      "  0.9875      0.9874477   0.98739496  0.99156118  0.99152542  0.99148936\n",
      "  0.99145299  0.99141631  0.99137931  0.99134199  0.99130435  0.99561404\n",
      "  0.99559471  0.99555556  0.9955157   0.9954955   0.99547511  0.99545455\n",
      "  0.99543379  0.99541284  0.99539171  0.9953271   0.99530516  0.99528302\n",
      "  0.99526066  0.9952381   0.99519231  0.99509804  0.99507389  0.9950495\n",
      "  0.99502488  0.99497487  0.99494949  0.99492386  0.99489796  0.99487179\n",
      "  0.99481865  0.99479167  0.9947644   0.99473684  0.99470899  0.99468085\n",
      "  0.99462366  0.99459459  0.99453552  0.99450549  0.99447514  0.99444444\n",
      "  0.99438202  0.99431818  0.99428571  0.99421965  0.99418605  0.99411765\n",
      "  0.99408284  0.99404762  0.99393939  1.          1.          1.          1.\n",
      "  1.          1.          1.          1.          1.          1.          1.\n",
      "  1.          1.          1.          1.          1.          1.          1.\n",
      "  1.          1.          1.          1.          1.          1.          1.\n",
      "  1.          1.          1.          1.          1.          1.          1.\n",
      "  1.          1.          1.          1.          1.          1.          1.\n",
      "  1.          1.          1.          1.          1.          1.          1.\n",
      "  1.          1.          1.          1.        ]\n",
      "[ 0.13609996  0.16023268  0.18385922  0.20767649  0.22511144  0.24201278\n",
      "  0.25809199  0.2734657   0.28747628  0.3016983   0.3126294   0.32196162\n",
      "  0.33743017  0.34633028  0.36429433  0.37330037  0.38227848  0.39169909\n",
      "  0.40320427  0.41088435  0.42119944  0.42776204  0.43686502  0.44329897\n",
      "  0.45127436  0.45675266  0.46379045  0.47327044  0.48314607  0.49102773\n",
      "  0.49588138  0.50083195  0.50758853  0.51365188  0.51896552  0.52992958\n",
      "  0.5375      0.5443038   0.54826958  0.55432781  0.55947955  0.56472795\n",
      "  0.57552581  0.58333333  0.58789062  0.5913556   0.59486166  0.60320641\n",
      "  0.60685484  0.61303462  0.61428571  0.61934156  0.62190083  0.62839248\n",
      "  0.63235294  0.63965885  0.64655172  0.64794816  0.65075922  0.65645514\n",
      "  0.66225166  0.67114094  0.67800454  0.67954545  0.6826484   0.68894009\n",
      "  0.69053118  0.69212963  0.6969697   0.69626168  0.69789227  0.70117647\n",
      "  0.70616114  0.71121718  0.7146283   0.71980676  0.72262774  0.72439024\n",
      "  0.72727273  0.72906404  0.7308642   0.73267327  0.73449132  0.73815461\n",
      "  0.74559194  0.74936709  0.75318066  0.75703325  0.76092545  0.76623377\n",
      "  0.77225131  0.77427822  0.77836412  0.78457447  0.78877005  0.79088472\n",
      "  0.79301075  0.79514825  0.79674797  0.80108992  0.80547945  0.80769231\n",
      "  0.80991736  0.81843575  0.82253521  0.82719547  0.82954545  0.82905983\n",
      "  0.83142857  0.83333333  0.83768116  0.84011628  0.84210526  0.84457478\n",
      "  0.84705882  0.84911243  0.85119048  0.85329341  0.85843373  0.86363636\n",
      "  0.86322188  0.86809816  0.87306502  0.8757764   0.87850467  0.878125\n",
      "  0.88087774  0.8836478   0.88643533  0.88888889  0.89171975  0.89456869\n",
      "  0.8974359   0.89710611  0.89967638  0.89935065  0.90228013  0.90491803\n",
      "  0.90789474  0.91089109  0.91059603  0.91666667  0.91973244  0.91919192\n",
      "  0.91891892  0.91864407  0.91836735  0.92150171  0.92465753  0.93425606\n",
      "  0.93402778  0.93728223  0.94055944  0.94385965  0.94699647  0.95035461\n",
      "  0.95373665  0.95714286  0.95698925  0.95683453  0.9566787   0.95652174\n",
      "  0.95636364  0.95620438  0.95955882  0.96296296  0.96282528  0.96629213\n",
      "  0.96616541  0.96981132  0.96969697  0.96946565  0.97318008  0.97692308\n",
      "  0.97674419  0.9766537   0.9765625   0.97647059  0.97628458  0.97619048\n",
      "  0.97609562  0.976       0.97590361  0.97580645  0.9757085   0.97560976\n",
      "  0.97540984  0.97933884  0.98340249  0.98333333  0.9832636   0.98739496\n",
      "  0.98728814  0.98723404  0.98717949  0.98712446  0.98701299  0.98695652\n",
      "  0.98689956  0.98684211  0.98678414  0.98672566  0.98666667  0.98654709\n",
      "  0.98648649  0.98642534  0.98636364  0.98617512  0.98611111  0.98598131\n",
      "  0.98584906  0.98578199  0.98571429  0.98564593  0.98550725  0.98543689\n",
      "  0.98536585  0.98529412  0.99009901  0.99004975  0.99        0.98994975\n",
      "  0.98989899  0.98984772  0.98974359  0.99481865  0.99473684  0.99470899\n",
      "  0.99465241  1.          1.          1.          1.          1.          1.\n",
      "  1.          1.          1.          1.          1.          1.          1.\n",
      "  1.          1.          1.          1.          1.          1.          1.\n",
      "  1.          1.          1.          1.          1.          1.          1.\n",
      "  1.          1.          1.          1.          1.          1.          1.\n",
      "  1.          1.          1.          1.          1.          1.          1.\n",
      "  1.          1.          1.          1.          1.          1.          1.\n",
      "  1.          1.          1.          1.          1.          1.          1.\n",
      "  1.          1.          1.          1.          1.        ]\n",
      "[ 0.13504823  0.16250693  0.18255452  0.20151307  0.22129909  0.23572003\n",
      "  0.25237684  0.2689464   0.27938343  0.29145729  0.30051813  0.31149302\n",
      "  0.32402235  0.33295063  0.3436019   0.35452323  0.36523929  0.37516171\n",
      "  0.38978495  0.39780521  0.40616246  0.41428571  0.41907514  0.42584435\n",
      "  0.4387292   0.44478528  0.45454545  0.46178344  0.46849758  0.48092869\n",
      "  0.48821549  0.49488055  0.5017301   0.51327434  0.52252252  0.52631579\n",
      "  0.53703704  0.54511278  0.5513308   0.55876686  0.56862745  0.57768924\n",
      "  0.58350101  0.59183673  0.59917355  0.60796646  0.61310782  0.61702128\n",
      "  0.62770563  0.63876652  0.64159292  0.6523702   0.65681818  0.65981735\n",
      "  0.66589862  0.67365967  0.68160377  0.68809524  0.69638554  0.69806763\n",
      "  0.69975787  0.70487805  0.71007371  0.71534653  0.71712159  0.7225\n",
      "  0.72431078  0.72979798  0.73350254  0.74102564  0.74677003  0.74870466\n",
      "  0.7565445   0.76052632  0.76253298  0.76455026  0.76657825  0.77066667\n",
      "  0.77897574  0.78108108  0.78319783  0.78961749  0.79178082  0.79395604\n",
      "  0.79338843  0.79558011  0.80446927  0.80898876  0.81126761  0.82\n",
      "  0.82183908  0.8265896   0.83139535  0.83625731  0.83870968  0.83823529\n",
      "  0.84569733  0.85329341  0.85585586  0.85542169  0.85800604  0.86322188\n",
      "  0.86544343  0.86809816  0.87345679  0.87616099  0.87888199  0.884375\n",
      "  0.88714734  0.88993711  0.88958991  0.8952381   0.89808917  0.90064103\n",
      "  0.90032154  0.90291262  0.90584416  0.90553746  0.90849673  0.91147541\n",
      "  0.91447368  0.91749175  0.9205298   0.92358804  0.92666667  0.92976589\n",
      "  0.93288591  0.93602694  0.93918919  0.93898305  0.94217687  0.94520548\n",
      "  0.94845361  0.94827586  0.94809689  0.94791667  0.94773519  0.94755245\n",
      "  0.94736842  0.95070423  0.9540636   0.95390071  0.95729537  0.95698925\n",
      "  0.96043165  0.96363636  0.96350365  0.96703297  0.97058824  0.9704797\n",
      "  0.97407407  0.9739777   0.97752809  0.98120301  0.98113208  0.98106061\n",
      "  0.98098859  0.98076923  0.98069498  0.98062016  0.98054475  0.98046875\n",
      "  0.98039216  0.98425197  0.98418972  0.98412698  0.98804781  0.988\n",
      "  0.98780488  0.9877551   0.98770492  0.98765432  0.98760331  0.98755187\n",
      "  0.9875      0.9874477   0.98728814  0.98723404  0.98717949  0.98701299\n",
      "  0.98695652  0.98689956  0.98678414  0.98666667  0.98660714  0.98648649\n",
      "  0.98642534  0.98636364  0.98630137  0.98623853  0.98617512  0.98611111\n",
      "  0.98598131  0.98591549  0.99047619  0.99043062  0.99033816  0.9902439\n",
      "  0.99019608  0.99014778  0.99004975  0.99        0.98994975  0.98984772\n",
      "  0.98979592  0.98963731  0.98947368  0.99470899  0.99465241  0.99462366\n",
      "  0.99450549  0.99447514  0.99444444  0.99431818  0.99425287  0.99421965\n",
      "  0.99418605  0.99411765  0.99404762  0.99401198  0.9939759   0.99390244\n",
      "  0.99378882  0.99375     1.          1.          1.          1.          1.\n",
      "  1.          1.          1.          1.          1.          1.          1.\n",
      "  1.          1.          1.          1.          1.          1.          1.\n",
      "  1.          1.          1.          1.          1.          1.          1.\n",
      "  1.          1.          1.          1.          1.          1.          1.\n",
      "  1.          1.          1.          1.          1.          1.        ]\n"
     ]
    },
    {
     "data": {
      "image/png": "[encoded data removed]",
      "text/plain": [
       "<Figure size 432x288 with 1 Axes>"
      ]
     },
     "metadata": {},
     "output_type": "display_data"
    }
   ],
   "source": [
    "e = plt.subplot()\n",
    "for r in result:\n",
    "    ss = SIZES[r.test_name]\n",
    "    rs = r.test_size\n",
    "    ps = prec_star(r.y_test, r.probabilities[:,1], ss, rs)\n",
    "    df = pd.DataFrame({\"{}-p*\".format(r.test_name): ps, })\n",
    "    print r.prec_rec_curve[0]\n",
    "    df.plot(ax = e)\n",
    "\n",
    "\n",
    "    "
   ]
  },
  {
   "cell_type": "code",
   "execution_count": null,
   "metadata": {},
   "outputs": [],
   "source": []
  }
 ],
 "metadata": {
  "gist": {
   "data": {
    "description": "03_sample2.5k.ipynb",
    "public": false
   },
   "id": ""
  },
  "kernelspec": {
   "display_name": "Python 2",
   "language": "python",
   "name": "python2"
  },
  "language_info": {
   "codemirror_mode": {
    "name": "ipython",
    "version": 2
   },
   "file_extension": ".py",
   "mimetype": "text/x-python",
   "name": "python",
   "nbconvert_exporter": "python",
   "pygments_lexer": "ipython2",
   "version": "2.7.14"
  }
 },
 "nbformat": 4,
 "nbformat_minor": 2
}
