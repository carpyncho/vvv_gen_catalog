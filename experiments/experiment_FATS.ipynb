{
 "cells": [
  {
   "cell_type": "markdown",
   "metadata": {},
   "source": [
    "# Experiments\n",
    "\n",
    "- **author:** JB Cabral (<jbc.develop@gmail.com>)"
   ]
  },
  {
   "cell_type": "code",
   "execution_count": 1,
   "metadata": {
    "collapsed": true
   },
   "outputs": [],
   "source": [
    "% matplotlib inline\n",
    "\n",
    "import os\n",
    "import sys\n",
    "import tempfile\n",
    "\n",
    "sys.path.append(\"..\")\n",
    "\n",
    "import numpy as np\n",
    "\n",
    "import pandas as pd\n",
    "\n",
    "from matplotlib import pyplot as plt\n",
    "from matplotlib import cm\n",
    "import seaborn as sns\n",
    "sns.set()\n",
    "\n",
    "import sklearn\n",
    "from sklearn import feature_selection as fs\n",
    "from sklearn import preprocessing as prp\n",
    "from sklearn import svm\n",
    "from sklearn import metrics\n",
    "from sklearn.model_selection import (\n",
    "    KFold, StratifiedKFold, train_test_split)\n",
    "from sklearn.tree import DecisionTreeClassifier\n",
    "from sklearn.ensemble import RandomForestClassifier\n",
    "from sklearn.neighbors import KNeighborsClassifier\n",
    "\n",
    "from IPython import display as d\n",
    "\n",
    "from lime import lime_tabular as lt\n",
    "\n",
    "from joblib import Memory\n",
    "\n",
    "from libs import fourier_help\n",
    "\n",
    "import pytff\n",
    "\n",
    "pd.options.mode.chained_assignment = None \n",
    "\n"
   ]
  },
  {
   "cell_type": "markdown",
   "metadata": {},
   "source": [
    "## 1. Load Data"
   ]
  },
  {
   "cell_type": "code",
   "execution_count": 2,
   "metadata": {
    "collapsed": true
   },
   "outputs": [],
   "source": [
    "tile = pd.DataFrame(np.load(\"/home/data/carpyncho/stored/npy_tiles/cat_b278_jhk_1.npy\"))"
   ]
  },
  {
   "cell_type": "code",
   "execution_count": 3,
   "metadata": {},
   "outputs": [
    {
     "name": "stderr",
     "output_type": "stream",
     "text": [
      "/home/jbcabral/projects/paper_b278/local/lib/python2.7/site-packages/IPython/core/interactiveshell.py:2717: DtypeWarning: Columns (26) have mixed types. Specify dtype option on import or set low_memory=False.\n",
      "  interactivity=interactivity, compiler=compiler, result=result)\n"
     ]
    },
    {
     "data": {
      "text/plain": [
       "Index([u'# ID', u'Field', u'StarID', u'RA', u'Decl', u'Type', u'I', u'V',\n",
       "       u'P_1', u'dP_1', u'T0_1', u'A_1', u'R21_1', u'phi21_1', u'R31_1',\n",
       "       u'phi31_1', u'P_2', u'dP_2', u'T0_2', u'A_2', u'R21_2', u'phi21_2',\n",
       "       u'R31_2', u'phi31_2', u'ID_OGLE_II', u'ID_MACHO', u'ID_GCVS',\n",
       "       u'ID_OTHER', u'Remarks'],\n",
       "      dtype='object')"
      ]
     },
     "execution_count": 3,
     "metadata": {},
     "output_type": "execute_result"
    }
   ],
   "source": [
    "ogle3 = pd.read_table(\"../data/ogle_rr.txt\", header=6)\n",
    "ogle3.columns"
   ]
  },
  {
   "cell_type": "code",
   "execution_count": 4,
   "metadata": {
    "collapsed": true
   },
   "outputs": [],
   "source": [
    "path = \"/home/data/carpyncho/stored/samples/b278_sample.npy\"\n",
    "df = pd.DataFrame(np.load(path))"
   ]
  },
  {
   "cell_type": "code",
   "execution_count": 5,
   "metadata": {
    "collapsed": true
   },
   "outputs": [],
   "source": [
    "obs = pd.read_pickle(\"../data/rrb278_obs.pkl\")"
   ]
  },
  {
   "cell_type": "markdown",
   "metadata": {},
   "source": [
    "##  2. Preprocess\n",
    "\n",
    "### 2.1. Discretize the classes"
   ]
  },
  {
   "cell_type": "code",
   "execution_count": 6,
   "metadata": {},
   "outputs": [
    {
     "data": {
      "text/markdown": [
       "### Classes"
      ],
      "text/plain": [
       "<IPython.core.display.Markdown object>"
      ]
     },
     "metadata": {},
     "output_type": "display_data"
    },
    {
     "data": {
      "text/plain": [
       "{'': 0,\n",
       " 'Cep-1': 1,\n",
       " 'Cep-F': 2,\n",
       " 'LPV-Mira': 3,\n",
       " 'LPV-OSARG': 4,\n",
       " 'LPV-SRV': 5,\n",
       " 'RRLyr-RRab': 6,\n",
       " 'RRLyr-RRc': 7,\n",
       " 'RRLyr-RRd': 8,\n",
       " 'T2Cep-BLHer': 9,\n",
       " 'T2Cep-RVTau': 10,\n",
       " 'T2Cep-WVir': 11}"
      ]
     },
     "metadata": {},
     "output_type": "display_data"
    },
    {
     "data": {
      "text/markdown": [
       "### Simplified Classes"
      ],
      "text/plain": [
       "<IPython.core.display.Markdown object>"
      ]
     },
     "metadata": {},
     "output_type": "display_data"
    },
    {
     "data": {
      "text/plain": [
       "{'': 0, 'Cep': 1, 'LPV': 2, 'RRLyr': 3, 'T2Cep': 4}"
      ]
     },
     "metadata": {},
     "output_type": "display_data"
    }
   ],
   "source": [
    "classes = set(df.ogle3_type)\n",
    "sclasses_names = set(c.split(\"-\", 1)[0] for c in classes)\n",
    "classes = dict(zip(sorted(classes), range(len(classes))))\n",
    "sclasses = dict(zip(sorted(sclasses_names), range(len(sclasses_names))))\n",
    "\n",
    "df[\"cls\"] = df.ogle3_type.apply(classes.get)\n",
    "df[\"scls\"] = df.ogle3_type.apply(lambda v: sclasses.get(v.split(\"-\", 1)[0]))\n",
    "    \n",
    "d.display(d.Markdown(\"### Classes\"))\n",
    "d.display(classes)\n",
    "\n",
    "d.display(d.Markdown(\"### Simplified Classes\"))\n",
    "d.display(sclasses)"
   ]
  },
  {
   "cell_type": "code",
   "execution_count": 7,
   "metadata": {
    "collapsed": true
   },
   "outputs": [],
   "source": [
    "def get_o3id(o3id):\n",
    "    return ogle3[ogle3[\"# ID\"] == o3id].P_1.values[0]\n",
    "    \n",
    "rr = df[df.scls == 3]"
   ]
  },
  {
   "cell_type": "code",
   "execution_count": 28,
   "metadata": {
    "collapsed": true
   },
   "outputs": [],
   "source": [
    "import  FATS\n",
    "\n",
    "features = [\"PeriodLS\", \"Period_fit\", \"Psi_CS\", \"Psi_eta\",\n",
    "            'Freq1_harmonics_amplitude_0',\n",
    "            'Freq1_harmonics_amplitude_1',\n",
    "            'Freq1_harmonics_amplitude_2',\n",
    "            'Freq1_harmonics_amplitude_3',\n",
    "            'Freq2_harmonics_amplitude_0',\n",
    "            'Freq2_harmonics_amplitude_1',\n",
    "            'Freq2_harmonics_amplitude_2',\n",
    "            'Freq2_harmonics_amplitude_3',\n",
    "            'Freq3_harmonics_amplitude_0',\n",
    "            'Freq3_harmonics_amplitude_1',\n",
    "            'Freq3_harmonics_amplitude_2',\n",
    "            'Freq3_harmonics_amplitude_3',\n",
    "            'Freq1_harmonics_rel_phase_0',\n",
    "            'Freq1_harmonics_rel_phase_1',\n",
    "            'Freq1_harmonics_rel_phase_2',\n",
    "            'Freq1_harmonics_rel_phase_3',\n",
    "            'Freq2_harmonics_rel_phase_0',\n",
    "            'Freq2_harmonics_rel_phase_1',\n",
    "            'Freq2_harmonics_rel_phase_2',\n",
    "            'Freq2_harmonics_rel_phase_3',\n",
    "            'Freq3_harmonics_rel_phase_0',\n",
    "            'Freq3_harmonics_rel_phase_1',\n",
    "            'Freq3_harmonics_rel_phase_2',\n",
    "            'Freq3_harmonics_rel_phase_3']\n",
    "\n",
    "\n",
    "def calculate_FATS(src):\n",
    "    space = FATS.FeatureSpace(featureList=features)\n",
    "    \n",
    "    lc = obs[obs.bm_src_id == src.id]\n",
    "    lc = lc.sort_values(\"pwp_stack_src_hjd\")\n",
    "    hjd, mag, err = (lc.pwp_stack_src_hjd.values, \n",
    "                     lc.pwp_stack_src_mag3.values, \n",
    "                     lc.pwp_stack_src_mag_err3.values)\n",
    "    result = space.calculateFeature([mag, hjd, err]).result(\n",
    "        method='dict')\n",
    "    return pd.Series(result)\n",
    "    \n",
    "new_cols = rr.apply(calculate_FATS, axis=1) \n",
    "    "
   ]
  },
  {
   "cell_type": "code",
   "execution_count": 32,
   "metadata": {
    "collapsed": true
   },
   "outputs": [],
   "source": [
    "rr[new_cols.columns] = new_cols"
   ]
  },
  {
   "cell_type": "code",
   "execution_count": 170,
   "metadata": {},
   "outputs": [
    {
     "name": "stderr",
     "output_type": "stream",
     "text": [
      "/home/jbcabral/projects/paper_b278/lib/python2.7/site-packages/ipykernel_launcher.py:1: UserWarning: Boolean Series key will be reindexed to match DataFrame index.\n",
      "  \"\"\"Entry point for launching an IPython kernel.\n"
     ]
    },
    {
     "data": {
      "image/png": "[encoded data removed]",
      "text/plain": [
       "<matplotlib.figure.Figure at 0x7f4913672990>"
      ]
     },
     "metadata": {},
     "output_type": "display_data"
    }
   ],
   "source": [
    "sample = rr[df.cls == 6].sample().iloc[0]\n",
    "data = fourier_help.fourier_data(sample, \"FATS\")\n",
    "period = sample.PeriodLS\n",
    "\n",
    "ogle3_id = tile[tile.id == sample.id].ogle3_id.values[0]\n",
    "x, y = pytff.fspace(data, 0., 2, 2000)\n",
    "\n",
    "# plt.title(\"{} - Period: {} - {}\".format(ogle3_id, period, sample.ogle3_type))\n",
    "plt.plot(x, y);\n",
    "plt.gca().invert_yaxis()\n"
   ]
  },
  {
   "cell_type": "code",
   "execution_count": 77,
   "metadata": {},
   "outputs": [],
   "source": [
    "fourier_help.fourier_data??"
   ]
  }
 ],
 "metadata": {
  "kernelspec": {
   "display_name": "Python 2",
   "language": "python",
   "name": "python2"
  },
  "language_info": {
   "codemirror_mode": {
    "name": "ipython",
    "version": 2
   },
   "file_extension": ".py",
   "mimetype": "text/x-python",
   "name": "python",
   "nbconvert_exporter": "python",
   "pygments_lexer": "ipython2",
   "version": "2.7.6"
  }
 },
 "nbformat": 4,
 "nbformat_minor": 2
}
