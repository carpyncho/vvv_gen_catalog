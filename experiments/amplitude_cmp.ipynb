version https://git-lfs.github.com/spec/v1
oid sha256:b7627e472094b649f2a8a5471f39a5031bc0681a63559067335d29ffbc8f308c
size 134383
