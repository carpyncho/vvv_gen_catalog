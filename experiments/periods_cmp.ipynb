{
 "cells": [
  {
   "cell_type": "code",
   "execution_count": 3,
   "metadata": {},
   "outputs": [],
   "source": [
    "import sys\n",
    "sys.path.append(\"..\")"
   ]
  },
  {
   "cell_type": "code",
   "execution_count": 4,
   "metadata": {},
   "outputs": [],
   "source": [
    "% matplotlib inline\n",
    "\n",
    "import time\n",
    "import pandas as pd\n",
    "\n",
    "from IPython import display as d\n",
    "\n",
    "import numpy as np\n",
    "\n",
    "import seaborn as sns\n",
    "sns.set()\n",
    "\n",
    "from sklearn.svm import SVC\n",
    "from sklearn.tree import DecisionTreeClassifier\n",
    "from sklearn.ensemble import RandomForestClassifier\n",
    "from sklearn.neighbors import KNeighborsClassifier\n",
    "\n",
    "from libs import container\n",
    "from libs.experiment import (\n",
    "    WithAnotherExperiment, KFoldExperiment, roc, \n",
    "    discretize_classes, clean_features)\n",
    "\n",
    "import pytff\n",
    "\n",
    "\n",
    "\n",
    "from libs import fourier_help\n",
    "\n",
    "from matplotlib import pyplot as plt\n",
    "from matplotlib import cm\n",
    "import seaborn as sns\n",
    "sns.set()"
   ]
  },
  {
   "cell_type": "code",
   "execution_count": 5,
   "metadata": {},
   "outputs": [
    {
     "name": "stdout",
     "output_type": "stream",
     "text": [
      "Loading '/home/data/carpyncho/stored/samples/smp_2500_rrVSunk/b261.npy'...\n",
      "Loading '/home/data/carpyncho/stored/samples/smp_2500_rrVSunk/b263.npy'...\n",
      "Loading '/home/data/carpyncho/stored/samples/smp_2500_rrVSunk/b220.npy'...\n",
      "Loading '/home/data/carpyncho/stored/samples/smp_2500_rrVSunk/b264.npy'...\n",
      "Loading '/home/data/carpyncho/stored/samples/smp_2500_rrVSunk/b262.npy'...\n",
      "Loading '/home/data/carpyncho/stored/samples/smp_2500_rrVSunk/b278.npy'...\n"
     ]
    }
   ],
   "source": [
    "start = time.time()\n",
    "\n",
    "path = \"/home/data/carpyncho/stored/samples/smp_2500_rrVSunk/\"\n",
    "data = container.read(path)"
   ]
  },
  {
   "cell_type": "code",
   "execution_count": 6,
   "metadata": {},
   "outputs": [],
   "source": [
    "_, classes, sclasses = discretize_classes(data)"
   ]
  },
  {
   "cell_type": "code",
   "execution_count": 7,
   "metadata": {},
   "outputs": [
    {
     "name": "stderr",
     "output_type": "stream",
     "text": [
      "/home/jbcabral/projects/paper_b278/local/lib/python2.7/site-packages/IPython/core/interactiveshell.py:2718: DtypeWarning: Columns (26) have mixed types. Specify dtype option on import or set low_memory=False.\n",
      "  interactivity=interactivity, compiler=compiler, result=result)\n"
     ]
    },
    {
     "data": {
      "text/plain": [
       "Index([u'# ID', u'Field', u'StarID', u'RA', u'Decl', u'Type', u'I', u'V',\n",
       "       u'P_1', u'dP_1', u'T0_1', u'A_1', u'R21_1', u'phi21_1', u'R31_1',\n",
       "       u'phi31_1', u'P_2', u'dP_2', u'T0_2', u'A_2', u'R21_2', u'phi21_2',\n",
       "       u'R31_2', u'phi31_2', u'ID_OGLE_II', u'ID_MACHO', u'ID_GCVS',\n",
       "       u'ID_OTHER', u'Remarks'],\n",
       "      dtype='object')"
      ]
     },
     "execution_count": 7,
     "metadata": {},
     "output_type": "execute_result"
    }
   ],
   "source": [
    "ogle3 = pd.read_table(\"/home/jbcabral/projects/paper_b278/src/legacy/data/ogle_rr.txt\", header=6)\n",
    "ogle3.columns"
   ]
  },
  {
   "cell_type": "code",
   "execution_count": 8,
   "metadata": {},
   "outputs": [],
   "source": [
    "tile = pd.DataFrame(np.load(\"/home/data/carpyncho/stored/npy_tiles/cat_b278_jhk_1.npy\"))"
   ]
  },
  {
   "cell_type": "code",
   "execution_count": 9,
   "metadata": {},
   "outputs": [],
   "source": [
    "df = data.b278"
   ]
  },
  {
   "cell_type": "code",
   "execution_count": 10,
   "metadata": {},
   "outputs": [],
   "source": [
    "def get_o3id(o3id):\n",
    "    return ogle3[ogle3[\"# ID\"] == o3id].P_1.values[0]\n",
    "    \n",
    "rr = df[df.scls == 3].copy()\n",
    "rr[\"ogle3_id\"] = rr.id.apply(lambda cid: tile[tile.id == cid].ogle3_id.values[0])\n",
    "rr[\"ogle3_period\"] = rr.ogle3_id.apply(get_o3id)\n",
    "rr[\"fvo3_p\"] = np.abs(rr.PeriodLS - rr.ogle3_period)"
   ]
  },
  {
   "cell_type": "code",
   "execution_count": 33,
   "metadata": {},
   "outputs": [
    {
     "name": "stdout",
     "output_type": "stream",
     "text": [
      "('Observation', '114', 6)\n"
     ]
    },
    {
     "data": {
      "text/html": [
       "<div>\n",
       "<style>\n",
       "    .dataframe thead tr:only-child th {\n",
       "        text-align: right;\n",
       "    }\n",
       "\n",
       "    .dataframe thead th {\n",
       "        text-align: left;\n",
       "    }\n",
       "\n",
       "    .dataframe tbody tr th {\n",
       "        vertical-align: top;\n",
       "    }\n",
       "</style>\n",
       "<table border=\"1\" class=\"dataframe\">\n",
       "  <thead>\n",
       "    <tr style=\"text-align: right;\">\n",
       "      <th></th>\n",
       "      <th>id</th>\n",
       "      <th>ra_h</th>\n",
       "      <th>dec_h</th>\n",
       "      <th>ra_j</th>\n",
       "      <th>dec_j</th>\n",
       "      <th>ra_k</th>\n",
       "      <th>dec_k</th>\n",
       "      <th>mag_h</th>\n",
       "      <th>mag_j</th>\n",
       "      <th>mag_k</th>\n",
       "      <th>...</th>\n",
       "      <th>n09_ah_vvv</th>\n",
       "      <th>n09_jk_color</th>\n",
       "      <th>n09_hk_color</th>\n",
       "      <th>n09_jh_color</th>\n",
       "      <th>scls_h</th>\n",
       "      <th>scls_j</th>\n",
       "      <th>scls_k</th>\n",
       "      <th>hjd_h</th>\n",
       "      <th>hjd_j</th>\n",
       "      <th>hjd_k</th>\n",
       "    </tr>\n",
       "  </thead>\n",
       "  <tbody>\n",
       "    <tr>\n",
       "      <th>536654</th>\n",
       "      <td>32780000536655</td>\n",
       "      <td>271.066812</td>\n",
       "      <td>-30.049333</td>\n",
       "      <td>271.066812</td>\n",
       "      <td>-30.04935</td>\n",
       "      <td>271.066846</td>\n",
       "      <td>-30.049333</td>\n",
       "      <td>11.602</td>\n",
       "      <td>12.041</td>\n",
       "      <td>11.093</td>\n",
       "      <td>...</td>\n",
       "      <td>0.232265</td>\n",
       "      <td>0.703485</td>\n",
       "      <td>0.419385</td>\n",
       "      <td>0.2841</td>\n",
       "      <td>-1</td>\n",
       "      <td>-1</td>\n",
       "      <td>-1</td>\n",
       "      <td>55309.235063</td>\n",
       "      <td>55309.239536</td>\n",
       "      <td>55309.237283</td>\n",
       "    </tr>\n",
       "  </tbody>\n",
       "</table>\n",
       "<p>1 rows × 41 columns</p>\n",
       "</div>"
      ],
      "text/plain": [
       "                    id        ra_h      dec_h        ra_j     dec_j  \\\n",
       "536654  32780000536655  271.066812 -30.049333  271.066812 -30.04935   \n",
       "\n",
       "              ra_k      dec_k   mag_h   mag_j   mag_k      ...       \\\n",
       "536654  271.066846 -30.049333  11.602  12.041  11.093      ...        \n",
       "\n",
       "        n09_ah_vvv  n09_jk_color  n09_hk_color n09_jh_color scls_h  scls_j  \\\n",
       "536654    0.232265      0.703485      0.419385       0.2841     -1      -1   \n",
       "\n",
       "        scls_k         hjd_h         hjd_j         hjd_k  \n",
       "536654      -1  55309.235063  55309.239536  55309.237283  \n",
       "\n",
       "[1 rows x 41 columns]"
      ]
     },
     "metadata": {},
     "output_type": "display_data"
    },
    {
     "data": {
      "image/png": "[encoded data removed]",
      "text/plain": [
       "<matplotlib.figure.Figure at 0x7f4ebe95e490>"
      ]
     },
     "metadata": {},
     "output_type": "display_data"
    }
   ],
   "source": [
    "sample = rr.sample().iloc[0]\n",
    "data = fourier_help.fourier_data(sample, \"FATS\")\n",
    "period = sample.PeriodLS\n",
    "ogle3_id = tile[tile.id == sample.id].ogle3_id.values[0]\n",
    "x, y = pytff.fspace(data, 0., 1, 100)\n",
    "plt.title(\"{} - Period: {} / {}\".format(ogle3_id, period, sample.ogle3_period))\n",
    "plt.plot(x, y, \"-\");\n",
    "\n",
    "print(\"Observation\", sample.cnt, sample.cls)\n",
    "d.display(tile[tile.id == sample.id])"
   ]
  },
  {
   "cell_type": "code",
   "execution_count": 13,
   "metadata": {},
   "outputs": [
    {
     "data": {
      "text/plain": [
       "'OGLE-BLG-RRLYR-11774'"
      ]
     },
     "execution_count": 13,
     "metadata": {},
     "output_type": "execute_result"
    }
   ],
   "source": [
    "sample.ogle3_id"
   ]
  },
  {
   "cell_type": "code",
   "execution_count": 29,
   "metadata": {},
   "outputs": [
    {
     "data": {
      "text/html": [
       "\n",
       "        <iframe\n",
       "            width=\"100%\"\n",
       "            height=\"400\"\n",
       "            src=\"http://ogledb.astrouw.edu.pl/~ogle/CVS/getobj.php?starcat=OGLE-BLG-RRLYR-12598&sqlsrv=localhost&database=cvs&sqldb=all_catalog&target=all&qtype=catalog\"\n",
       "            frameborder=\"0\"\n",
       "            allowfullscreen\n",
       "        ></iframe>\n",
       "        "
      ],
      "text/plain": [
       "<IPython.lib.display.IFrame at 0x7f538cceb350>"
      ]
     },
     "execution_count": 29,
     "metadata": {},
     "output_type": "execute_result"
    }
   ],
   "source": [
    "# 32780000534721\n",
    "url = \"http://ogledb.astrouw.edu.pl/~ogle/CVS/getobj.php?starcat={}&sqlsrv=localhost&database=cvs&sqldb=all_catalog&target=all&qtype=catalog\".format(sample.ogle3_id)\n",
    "# print url\n",
    "d.IFrame(url, \"100%\", 400)"
   ]
  },
  {
   "cell_type": "code",
   "execution_count": 11,
   "metadata": {},
   "outputs": [
    {
     "data": {
      "text/plain": [
       "{'': 0,\n",
       " 'Cep-1': 1,\n",
       " 'Cep-F': 2,\n",
       " 'LPV-Mira': 3,\n",
       " 'LPV-OSARG': 4,\n",
       " 'LPV-SRV': 5,\n",
       " 'RRLyr-RRab': 6,\n",
       " 'RRLyr-RRc': 7,\n",
       " 'RRLyr-RRd': 8,\n",
       " 'T2Cep-BLHer': 9,\n",
       " 'T2Cep-RVTau': 10,\n",
       " 'T2Cep-WVir': 11}"
      ]
     },
     "execution_count": 11,
     "metadata": {},
     "output_type": "execute_result"
    }
   ],
   "source": [
    "classes"
   ]
  },
  {
   "cell_type": "code",
   "execution_count": 12,
   "metadata": {},
   "outputs": [
    {
     "data": {
      "image/png": "[encoded data removed]",
      "text/plain": [
       "<matplotlib.figure.Figure at 0x7f75e0336150>"
      ]
     },
     "metadata": {},
     "output_type": "display_data"
    }
   ],
   "source": [
    "for name, num in classes.items():\n",
    "    if not num: \n",
    "        continue\n",
    "    stars = rr[rr.cls==num]\n",
    "    if not len(stars):\n",
    "        continue\n",
    "    sns.kdeplot(stars.fvo3_p / stars.fvo3_p.sum(), label=\"{}[{}]\".format(name, len(stars)))\n",
    "\n",
    "# ax = sns.kdeplot(rr.ogle3_period / rr.ogle3_period.sum())"
   ]
  },
  {
   "cell_type": "code",
   "execution_count": 28,
   "metadata": {},
   "outputs": [
    {
     "data": {
      "text/plain": [
       "<matplotlib.lines.Line2D at 0x7f75ac4b2590>"
      ]
     },
     "execution_count": 28,
     "metadata": {},
     "output_type": "execute_result"
    },
    {
     "data": {
      "image/png": "[encoded data removed]",
      "text/plain": [
       "<matplotlib.figure.Figure at 0x7f75ac4ba110>"
      ]
     },
     "metadata": {},
     "output_type": "display_data"
    }
   ],
   "source": [
    "ax = sns.kdeplot(rr[rr.cls==6].fvo3_p / rr[rr.cls==6].fvo3_p.sum(), label=\"foo\")\n",
    "ax.axvline(rr[rr.cls==6].fvo3_p.quantile(), color=\"r\", linestyle=\"-\")\n",
    "ax.axvline(rr[rr.cls==6].fvo3_p.quantile(0.90), color=\"r\", linestyle=\"-\")"
   ]
  },
  {
   "cell_type": "code",
   "execution_count": 29,
   "metadata": {},
   "outputs": [
    {
     "data": {
      "text/plain": [
       "count    2.870000e+02\n",
       "mean     6.968714e+01\n",
       "std      1.159761e+03\n",
       "min      6.018033e-09\n",
       "25%      7.286990e-06\n",
       "50%      1.736073e-05\n",
       "75%      5.717046e-05\n",
       "max      1.964737e+04\n",
       "Name: fvo3_p, dtype: float64"
      ]
     },
     "execution_count": 29,
     "metadata": {},
     "output_type": "execute_result"
    }
   ],
   "source": [
    "rr[rr.cls==6].fvo3_p.describe()"
   ]
  }
 ],
 "metadata": {
  "kernelspec": {
   "display_name": "Python 2",
   "language": "python",
   "name": "python2"
  },
  "language_info": {
   "codemirror_mode": {
    "name": "ipython",
    "version": 2
   },
   "file_extension": ".py",
   "mimetype": "text/x-python",
   "name": "python",
   "nbconvert_exporter": "python",
   "pygments_lexer": "ipython2",
   "version": "2.7.6"
  }
 },
 "nbformat": 4,
 "nbformat_minor": 2
}
