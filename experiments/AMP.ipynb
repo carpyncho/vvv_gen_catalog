{
 "cells": [
  {
   "cell_type": "markdown",
   "metadata": {},
   "source": [
    "# Experiments\n",
    "\n",
    "- **author:** JB Cabral (<jbc.develop@gmail.com>)"
   ]
  },
  {
   "cell_type": "code",
   "execution_count": 2,
   "metadata": {
    "collapsed": true
   },
   "outputs": [],
   "source": [
    "% matplotlib inline\n",
    "\n",
    "import os\n",
    "import sys\n",
    "import tempfile\n",
    "\n",
    "sys.path.append(\"..\")\n",
    "\n",
    "import numpy as np\n",
    "\n",
    "import pandas as pd\n",
    "\n",
    "from matplotlib import pyplot as plt\n",
    "from matplotlib import cm\n",
    "import seaborn as sns\n",
    "sns.set()\n",
    "\n",
    "import sklearn\n",
    "from sklearn import feature_selection as fs\n",
    "from sklearn import preprocessing as prp\n",
    "from sklearn import svm\n",
    "from sklearn import metrics\n",
    "from sklearn.model_selection import (\n",
    "    KFold, StratifiedKFold, train_test_split)\n",
    "from sklearn.tree import DecisionTreeClassifier\n",
    "from sklearn.ensemble import RandomForestClassifier\n",
    "from sklearn.neighbors import KNeighborsClassifier\n",
    "\n",
    "from IPython import display as d\n",
    "\n",
    "\n",
    "\n",
    "pd.options.mode.chained_assignment = None \n",
    "\n"
   ]
  },
  {
   "cell_type": "markdown",
   "metadata": {},
   "source": [
    "## 1. Load Data"
   ]
  },
  {
   "cell_type": "code",
   "execution_count": 3,
   "metadata": {
    "collapsed": true
   },
   "outputs": [],
   "source": [
    "obs = pd.read_pickle(\"../data/rrb278_obs.pkl\")"
   ]
  },
  {
   "cell_type": "code",
   "execution_count": 6,
   "metadata": {},
   "outputs": [
    {
     "data": {
      "text/markdown": [
       "### Classes"
      ],
      "text/plain": [
       "<IPython.core.display.Markdown object>"
      ]
     },
     "metadata": {},
     "output_type": "display_data"
    },
    {
     "data": {
      "text/plain": [
       "{'': 0,\n",
       " 'Cep-1': 1,\n",
       " 'Cep-F': 2,\n",
       " 'LPV-Mira': 3,\n",
       " 'LPV-OSARG': 4,\n",
       " 'LPV-SRV': 5,\n",
       " 'RRLyr-RRab': 6,\n",
       " 'RRLyr-RRc': 7,\n",
       " 'RRLyr-RRd': 8,\n",
       " 'T2Cep-BLHer': 9,\n",
       " 'T2Cep-RVTau': 10,\n",
       " 'T2Cep-WVir': 11}"
      ]
     },
     "metadata": {},
     "output_type": "display_data"
    },
    {
     "data": {
      "text/markdown": [
       "### Simplified Classes"
      ],
      "text/plain": [
       "<IPython.core.display.Markdown object>"
      ]
     },
     "metadata": {},
     "output_type": "display_data"
    },
    {
     "data": {
      "text/plain": [
       "{'': 0, 'Cep': 1, 'LPV': 2, 'RRLyr': 3, 'T2Cep': 4}"
      ]
     },
     "metadata": {},
     "output_type": "display_data"
    }
   ],
   "source": [
    "classes = set(df.ogle3_type)\n",
    "sclasses_names = set(c.split(\"-\", 1)[0] for c in classes)\n",
    "classes = dict(zip(sorted(classes), range(len(classes))))\n",
    "sclasses = dict(zip(sorted(sclasses_names), range(len(sclasses_names))))\n",
    "\n",
    "df[\"cls\"] = df.ogle3_type.apply(classes.get)\n",
    "df[\"scls\"] = df.ogle3_type.apply(lambda v: sclasses.get(v.split(\"-\", 1)[0]))\n",
    "    \n",
    "d.display(d.Markdown(\"### Classes\"))\n",
    "d.display(classes)\n",
    "\n",
    "d.display(d.Markdown(\"### Simplified Classes\"))\n",
    "d.display(sclasses)"
   ]
  },
  {
   "cell_type": "code",
   "execution_count": 8,
   "metadata": {
    "collapsed": true
   },
   "outputs": [],
   "source": [
    "def get_o3id(o3id):\n",
    "    return ogle3[ogle3[\"# ID\"] == o3id].P_1.values[0]\n",
    "    \n",
    "rr = df[df.scls == 3]\n",
    "rr[\"ogle3_id\"] = rr.id.apply(lambda cid: tile[tile.id == cid].ogle3_id.values[0])\n",
    "rr[\"ogle3_period\"] = rr.ogle3_id.apply(get_o3id)\n",
    "rr[\"fvo3_p\"] = np.abs(rr.PeriodLS - rr.ogle3_period)"
   ]
  },
  {
   "cell_type": "code",
   "execution_count": 9,
   "metadata": {
    "collapsed": true
   },
   "outputs": [],
   "source": [
    "rr = rr[[\"id\", \"cls\", \"scls\", \"ogle3_id\", \"PeriodLS\", \"ogle3_period\"]]"
   ]
  },
  {
   "cell_type": "code",
   "execution_count": 10,
   "metadata": {},
   "outputs": [
    {
     "name": "stderr",
     "output_type": "stream",
     "text": [
      "/home/jbcabral/projects/paper_b278/local/lib/python2.7/site-packages/statsmodels/compat/pandas.py:56: FutureWarning: The pandas.core.datetools module is deprecated and will be removed in a future version. Please use the pandas.tseries module instead.\n",
      "  from pandas.core import datetools\n"
     ]
    }
   ],
   "source": [
    "from FATS.FeatureFunctionLib import PeriodLS\n",
    "\n",
    "fats_period = PeriodLS()\n",
    "\n",
    "def calculate_p_FATS(src):\n",
    "    lc = obs[obs.bm_src_id == src.id]\n",
    "    lc = lc.sort_values(\"pwp_stack_src_hjd\")\n",
    "    hjd, mag, err = (lc.pwp_stack_src_hjd.values, \n",
    "                     lc.pwp_stack_src_mag3.values, \n",
    "                     lc.pwp_stack_src_mag_err3.values)\n",
    "    \n",
    "    return fats_period.fit([mag, hjd])\n",
    "\n",
    "if \"FATS_P\" not in rr.columns:\n",
    "    rr[\"FATS_p\"] = rr.apply(calculate_p_FATS, axis=1)"
   ]
  },
  {
   "cell_type": "code",
   "execution_count": 11,
   "metadata": {
    "collapsed": true
   },
   "outputs": [],
   "source": [
    "import feets\n",
    "\n",
    "\n",
    "def calculate_p_feets(src):\n",
    "    space = feets.FeatureSpace(only=[\"PeriodLS\"])\n",
    "    lc = obs[obs.bm_src_id == src.id]\n",
    "    lc = lc.sort_values(\"pwp_stack_src_hjd\")\n",
    "    hjd, mag, err = (lc.pwp_stack_src_hjd.values, \n",
    "                     lc.pwp_stack_src_mag3.values, \n",
    "                     lc.pwp_stack_src_mag_err3.values)\n",
    "    \n",
    "    \n",
    "    return space.extract_one([mag, hjd])[1][0]\n",
    "\n",
    "\n",
    "rr[\"feets_p\"] = rr.apply(calculate_p_feets, axis=1)"
   ]
  },
  {
   "cell_type": "code",
   "execution_count": 12,
   "metadata": {},
   "outputs": [
    {
     "data": {
      "text/html": [
       "<div>\n",
       "<style>\n",
       "    .dataframe thead tr:only-child th {\n",
       "        text-align: right;\n",
       "    }\n",
       "\n",
       "    .dataframe thead th {\n",
       "        text-align: left;\n",
       "    }\n",
       "\n",
       "    .dataframe tbody tr th {\n",
       "        vertical-align: top;\n",
       "    }\n",
       "</style>\n",
       "<table border=\"1\" class=\"dataframe\">\n",
       "  <thead>\n",
       "    <tr style=\"text-align: right;\">\n",
       "      <th></th>\n",
       "      <th>id</th>\n",
       "      <th>cls</th>\n",
       "      <th>scls</th>\n",
       "      <th>PeriodLS</th>\n",
       "      <th>ogle3_period</th>\n",
       "      <th>FATS_p</th>\n",
       "      <th>feets_p</th>\n",
       "    </tr>\n",
       "  </thead>\n",
       "  <tbody>\n",
       "    <tr>\n",
       "      <th>count</th>\n",
       "      <td>4.240000e+02</td>\n",
       "      <td>424.000000</td>\n",
       "      <td>424.0</td>\n",
       "      <td>424.000000</td>\n",
       "      <td>424.000000</td>\n",
       "      <td>424.000000</td>\n",
       "      <td>424.000000</td>\n",
       "    </tr>\n",
       "    <tr>\n",
       "      <th>mean</th>\n",
       "      <td>3.278000e+13</td>\n",
       "      <td>6.330189</td>\n",
       "      <td>3.0</td>\n",
       "      <td>102.247228</td>\n",
       "      <td>0.478740</td>\n",
       "      <td>1.013958</td>\n",
       "      <td>102.247228</td>\n",
       "    </tr>\n",
       "    <tr>\n",
       "      <th>std</th>\n",
       "      <td>2.710964e+05</td>\n",
       "      <td>0.485666</td>\n",
       "      <td>0.0</td>\n",
       "      <td>971.407077</td>\n",
       "      <td>0.139233</td>\n",
       "      <td>4.042695</td>\n",
       "      <td>971.407077</td>\n",
       "    </tr>\n",
       "    <tr>\n",
       "      <th>min</th>\n",
       "      <td>3.278000e+13</td>\n",
       "      <td>6.000000</td>\n",
       "      <td>3.0</td>\n",
       "      <td>3.048541</td>\n",
       "      <td>0.206849</td>\n",
       "      <td>0.204042</td>\n",
       "      <td>3.048541</td>\n",
       "    </tr>\n",
       "    <tr>\n",
       "      <th>25%</th>\n",
       "      <td>3.278000e+13</td>\n",
       "      <td>6.000000</td>\n",
       "      <td>3.0</td>\n",
       "      <td>9.196291</td>\n",
       "      <td>0.345851</td>\n",
       "      <td>0.472139</td>\n",
       "      <td>9.196291</td>\n",
       "    </tr>\n",
       "    <tr>\n",
       "      <th>50%</th>\n",
       "      <td>3.278000e+13</td>\n",
       "      <td>6.000000</td>\n",
       "      <td>3.0</td>\n",
       "      <td>14.299811</td>\n",
       "      <td>0.495343</td>\n",
       "      <td>0.560913</td>\n",
       "      <td>14.299811</td>\n",
       "    </tr>\n",
       "    <tr>\n",
       "      <th>75%</th>\n",
       "      <td>3.278000e+13</td>\n",
       "      <td>7.000000</td>\n",
       "      <td>3.0</td>\n",
       "      <td>32.079731</td>\n",
       "      <td>0.577338</td>\n",
       "      <td>0.738655</td>\n",
       "      <td>32.079731</td>\n",
       "    </tr>\n",
       "    <tr>\n",
       "      <th>max</th>\n",
       "      <td>3.278000e+13</td>\n",
       "      <td>8.000000</td>\n",
       "      <td>3.0</td>\n",
       "      <td>19647.845189</td>\n",
       "      <td>0.919409</td>\n",
       "      <td>80.195270</td>\n",
       "      <td>19647.845189</td>\n",
       "    </tr>\n",
       "  </tbody>\n",
       "</table>\n",
       "</div>"
      ],
      "text/plain": [
       "                 id         cls   scls      PeriodLS  ogle3_period  \\\n",
       "count  4.240000e+02  424.000000  424.0    424.000000    424.000000   \n",
       "mean   3.278000e+13    6.330189    3.0    102.247228      0.478740   \n",
       "std    2.710964e+05    0.485666    0.0    971.407077      0.139233   \n",
       "min    3.278000e+13    6.000000    3.0      3.048541      0.206849   \n",
       "25%    3.278000e+13    6.000000    3.0      9.196291      0.345851   \n",
       "50%    3.278000e+13    6.000000    3.0     14.299811      0.495343   \n",
       "75%    3.278000e+13    7.000000    3.0     32.079731      0.577338   \n",
       "max    3.278000e+13    8.000000    3.0  19647.845189      0.919409   \n",
       "\n",
       "           FATS_p       feets_p  \n",
       "count  424.000000    424.000000  \n",
       "mean     1.013958    102.247228  \n",
       "std      4.042695    971.407077  \n",
       "min      0.204042      3.048541  \n",
       "25%      0.472139      9.196291  \n",
       "50%      0.560913     14.299811  \n",
       "75%      0.738655     32.079731  \n",
       "max     80.195270  19647.845189  "
      ]
     },
     "execution_count": 12,
     "metadata": {},
     "output_type": "execute_result"
    }
   ],
   "source": [
    "rr.describe()"
   ]
  },
  {
   "cell_type": "code",
   "execution_count": 13,
   "metadata": {},
   "outputs": [
    {
     "data": {
      "text/html": [
       "<div>\n",
       "<style>\n",
       "    .dataframe thead tr:only-child th {\n",
       "        text-align: right;\n",
       "    }\n",
       "\n",
       "    .dataframe thead th {\n",
       "        text-align: left;\n",
       "    }\n",
       "\n",
       "    .dataframe tbody tr th {\n",
       "        vertical-align: top;\n",
       "    }\n",
       "</style>\n",
       "<table border=\"1\" class=\"dataframe\">\n",
       "  <thead>\n",
       "    <tr style=\"text-align: right;\">\n",
       "      <th></th>\n",
       "      <th>FATS_p</th>\n",
       "      <th>feets_p</th>\n",
       "      <th>ogle3_p</th>\n",
       "    </tr>\n",
       "  </thead>\n",
       "  <tbody>\n",
       "    <tr>\n",
       "      <th>count</th>\n",
       "      <td>424.000000</td>\n",
       "      <td>424.000000</td>\n",
       "      <td>424.000000</td>\n",
       "    </tr>\n",
       "    <tr>\n",
       "      <th>mean</th>\n",
       "      <td>0.002358</td>\n",
       "      <td>0.002358</td>\n",
       "      <td>0.002358</td>\n",
       "    </tr>\n",
       "    <tr>\n",
       "      <th>std</th>\n",
       "      <td>0.009403</td>\n",
       "      <td>0.022407</td>\n",
       "      <td>0.000686</td>\n",
       "    </tr>\n",
       "    <tr>\n",
       "      <th>min</th>\n",
       "      <td>0.000475</td>\n",
       "      <td>0.000070</td>\n",
       "      <td>0.001019</td>\n",
       "    </tr>\n",
       "    <tr>\n",
       "      <th>25%</th>\n",
       "      <td>0.001098</td>\n",
       "      <td>0.000212</td>\n",
       "      <td>0.001704</td>\n",
       "    </tr>\n",
       "    <tr>\n",
       "      <th>50%</th>\n",
       "      <td>0.001305</td>\n",
       "      <td>0.000330</td>\n",
       "      <td>0.002440</td>\n",
       "    </tr>\n",
       "    <tr>\n",
       "      <th>75%</th>\n",
       "      <td>0.001718</td>\n",
       "      <td>0.000740</td>\n",
       "      <td>0.002844</td>\n",
       "    </tr>\n",
       "    <tr>\n",
       "      <th>max</th>\n",
       "      <td>0.186536</td>\n",
       "      <td>0.453208</td>\n",
       "      <td>0.004529</td>\n",
       "    </tr>\n",
       "  </tbody>\n",
       "</table>\n",
       "</div>"
      ],
      "text/plain": [
       "           FATS_p     feets_p     ogle3_p\n",
       "count  424.000000  424.000000  424.000000\n",
       "mean     0.002358    0.002358    0.002358\n",
       "std      0.009403    0.022407    0.000686\n",
       "min      0.000475    0.000070    0.001019\n",
       "25%      0.001098    0.000212    0.001704\n",
       "50%      0.001305    0.000330    0.002440\n",
       "75%      0.001718    0.000740    0.002844\n",
       "max      0.186536    0.453208    0.004529"
      ]
     },
     "execution_count": 13,
     "metadata": {},
     "output_type": "execute_result"
    }
   ],
   "source": [
    "resume = rr[[\"ogle3_period\", \"FATS_p\", \"feets_p\"]]\n",
    "resume = pd.DataFrame({\n",
    "    \"ogle3_p\": rr.ogle3_period / rr.ogle3_period.sum(),\n",
    "    \"FATS_p\": rr.FATS_p / rr.FATS_p.sum(),\n",
    "    \"feets_p\": rr.feets_p / rr.feets_p.sum()\n",
    "})\n",
    "resume.describe()"
   ]
  },
  {
   "cell_type": "code",
   "execution_count": 14,
   "metadata": {},
   "outputs": [
    {
     "data": {
      "text/plain": [
       "<matplotlib.axes._subplots.AxesSubplot at 0x7f18fa7b4590>"
      ]
     },
     "execution_count": 14,
     "metadata": {},
     "output_type": "execute_result"
    },
    {
     "data": {
      "image/png": "[encoded data removed]",
      "text/plain": [
       "<matplotlib.figure.Figure at 0x7f18ffc31410>"
      ]
     },
     "metadata": {},
     "output_type": "display_data"
    }
   ],
   "source": [
    "ax = sns.kdeplot(resume.ogle3_p)\n",
    "sns.kdeplot(resume.FATS_p)\n",
    "sns.kdeplot(resume.feets_p)"
   ]
  },
  {
   "cell_type": "code",
   "execution_count": 16,
   "metadata": {
    "collapsed": true
   },
   "outputs": [],
   "source": [
    "space = feets.FeatureSpace(only=[\"PeriodLS\"])"
   ]
  },
  {
   "cell_type": "code",
   "execution_count": 24,
   "metadata": {},
   "outputs": [
    {
     "data": {
      "text/plain": [
       "'feets.extractors.ext_lomb_scargle'"
      ]
     },
     "execution_count": 24,
     "metadata": {},
     "output_type": "execute_result"
    }
   ],
   "source": [
    "feets.extractor_of(\"PeriodLS\").__module__"
   ]
  },
  {
   "cell_type": "code",
   "execution_count": 26,
   "metadata": {
    "collapsed": true
   },
   "outputs": [],
   "source": [
    "import feets.extractors.ext_lomb_scargle as ls"
   ]
  },
  {
   "cell_type": "code",
   "execution_count": 71,
   "metadata": {},
   "outputs": [
    {
     "name": "stdout",
     "output_type": "stream",
     "text": [
      "6\n"
     ]
    }
   ],
   "source": [
    "from astropy.stats import LombScargle\n",
    "sample = df[df.scls == 3].sample().iloc[0]\n",
    "print sample.cls\n",
    "lc = obs[obs.bm_src_id == sample.id]\n",
    "lc = lc.sort_values(\"pwp_stack_src_hjd\")\n",
    "hjd, mag, err = (lc.pwp_stack_src_hjd.values, \n",
    "                 lc.pwp_stack_src_mag3.values, \n",
    "                 lc.pwp_stack_src_mag_err3.values)"
   ]
  },
  {
   "cell_type": "code",
   "execution_count": 72,
   "metadata": {
    "collapsed": true
   },
   "outputs": [],
   "source": [
    "frequency, power = LombScargle(hjd, mag, err).autopower()"
   ]
  },
  {
   "cell_type": "code",
   "execution_count": 73,
   "metadata": {},
   "outputs": [
    {
     "name": "stdout",
     "output_type": "stream",
     "text": [
      "[ 0.2         0.20010179  0.20020358 ...,  1.39982625  1.39992804\n",
      "  1.40002983] [ 0.04385037  0.04980433  0.04777392 ...,  0.00887699  0.0021427\n",
      "  0.01285724] 7869 0.998997125055\n"
     ]
    }
   ],
   "source": [
    "kwargs = dict(minimum_frequency=0.2, maximum_frequency=1.4)\n",
    "\n",
    "frequency, power, fmax = ls.lscargle(hjd, mag, err, autopower_kwds=kwargs)\n",
    "best_period = 1 / frequency[fmax]\n",
    "print frequency, power, fmax, best_period"
   ]
  },
  {
   "cell_type": "code",
   "execution_count": 74,
   "metadata": {},
   "outputs": [
    {
     "data": {
      "text/plain": [
       "<Container object of 3 artists>"
      ]
     },
     "execution_count": 74,
     "metadata": {},
     "output_type": "execute_result"
    },
    {
     "data": {
      "image/png": "[encoded data removed]",
      "text/plain": [
       "<matplotlib.figure.Figure at 0x7f18ffa05b10>"
      ]
     },
     "metadata": {},
     "output_type": "display_data"
    }
   ],
   "source": [
    "plt.errorbar(hjd, mag, err, fmt='o')"
   ]
  },
  {
   "cell_type": "code",
   "execution_count": 75,
   "metadata": {},
   "outputs": [
    {
     "data": {
      "text/html": [
       "<div>\n",
       "<style>\n",
       "    .dataframe thead tr:only-child th {\n",
       "        text-align: right;\n",
       "    }\n",
       "\n",
       "    .dataframe thead th {\n",
       "        text-align: left;\n",
       "    }\n",
       "\n",
       "    .dataframe tbody tr th {\n",
       "        vertical-align: top;\n",
       "    }\n",
       "</style>\n",
       "<table border=\"1\" class=\"dataframe\">\n",
       "  <thead>\n",
       "    <tr style=\"text-align: right;\">\n",
       "      <th></th>\n",
       "      <th>id</th>\n",
       "      <th>cls</th>\n",
       "      <th>scls</th>\n",
       "      <th>ogle3_id</th>\n",
       "      <th>PeriodLS</th>\n",
       "      <th>ogle3_period</th>\n",
       "      <th>FATS_p</th>\n",
       "      <th>feets_p</th>\n",
       "    </tr>\n",
       "  </thead>\n",
       "  <tbody>\n",
       "    <tr>\n",
       "      <th>4223</th>\n",
       "      <td>32780000738339</td>\n",
       "      <td>6</td>\n",
       "      <td>3</td>\n",
       "      <td>OGLE-BLG-RRLYR-12679</td>\n",
       "      <td>7.389186</td>\n",
       "      <td>0.499077</td>\n",
       "      <td>0.499077</td>\n",
       "      <td>7.389186</td>\n",
       "    </tr>\n",
       "  </tbody>\n",
       "</table>\n",
       "</div>"
      ],
      "text/plain": [
       "                  id  cls  scls              ogle3_id  PeriodLS  ogle3_period  \\\n",
       "4223  32780000738339    6     3  OGLE-BLG-RRLYR-12679  7.389186      0.499077   \n",
       "\n",
       "        FATS_p   feets_p  \n",
       "4223  0.499077  7.389186  "
      ]
     },
     "execution_count": 75,
     "metadata": {},
     "output_type": "execute_result"
    }
   ],
   "source": [
    "rr[rr.id == sample.id]"
   ]
  },
  {
   "cell_type": "code",
   "execution_count": null,
   "metadata": {
    "collapsed": true
   },
   "outputs": [],
   "source": []
  }
 ],
 "metadata": {
  "kernelspec": {
   "display_name": "Python 2",
   "language": "python",
   "name": "python2"
  },
  "language_info": {
   "codemirror_mode": {
    "name": "ipython",
    "version": 2
   },
   "file_extension": ".py",
   "mimetype": "text/x-python",
   "name": "python",
   "nbconvert_exporter": "python",
   "pygments_lexer": "ipython2",
   "version": "2.7.12"
  }
 },
 "nbformat": 4,
 "nbformat_minor": 2
}
