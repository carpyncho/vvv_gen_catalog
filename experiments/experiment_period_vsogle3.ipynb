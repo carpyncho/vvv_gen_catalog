{
 "cells": [
  {
   "cell_type": "markdown",
   "metadata": {},
   "source": [
    "# Experiments\n",
    "\n",
    "- **author:** JB Cabral (<jbc.develop@gmail.com>)"
   ]
  },
  {
   "cell_type": "code",
   "execution_count": 2,
   "metadata": {},
   "outputs": [],
   "source": [
    "% matplotlib inline\n",
    "\n",
    "import os\n",
    "import sys\n",
    "import tempfile\n",
    "\n",
    "sys.path.append(\"..\")\n",
    "\n",
    "import numpy as np\n",
    "\n",
    "import pandas as pd\n",
    "\n",
    "from matplotlib import pyplot as plt\n",
    "from matplotlib import cm\n",
    "import seaborn as sns\n",
    "sns.set()\n",
    "\n",
    "import sklearn\n",
    "from sklearn import feature_selection as fs\n",
    "from sklearn import preprocessing as prp\n",
    "from sklearn import svm\n",
    "from sklearn import metrics\n",
    "from sklearn.model_selection import (\n",
    "    KFold, StratifiedKFold, train_test_split)\n",
    "from sklearn.tree import DecisionTreeClassifier\n",
    "from sklearn.ensemble import RandomForestClassifier\n",
    "from sklearn.neighbors import KNeighborsClassifier\n",
    "\n",
    "from IPython import display as d\n",
    "\n",
    "from lime import lime_tabular as lt\n",
    "\n",
    "from joblib import Memory\n",
    "\n",
    "from libs import fourier_help\n",
    "\n",
    "import pytff\n",
    "\n",
    "pd.options.mode.chained_assignment = None \n",
    "\n"
   ]
  },
  {
   "cell_type": "markdown",
   "metadata": {},
   "source": [
    "## 1. Load Data"
   ]
  },
  {
   "cell_type": "code",
   "execution_count": 3,
   "metadata": {
    "collapsed": true
   },
   "outputs": [],
   "source": [
    "tile = pd.DataFrame(np.load(\"/home/data/carpyncho/stored/npy_tiles/cat_b278_jhk_1.npy\"))"
   ]
  },
  {
   "cell_type": "code",
   "execution_count": 5,
   "metadata": {},
   "outputs": [
    {
     "data": {
      "text/plain": [
       "Index([u'# ID', u'Field', u'StarID', u'RA', u'Decl', u'Type', u'I', u'V',\n",
       "       u'P_1', u'dP_1', u'T0_1', u'A_1', u'R21_1', u'phi21_1', u'R31_1',\n",
       "       u'phi31_1', u'P_2', u'dP_2', u'T0_2', u'A_2', u'R21_2', u'phi21_2',\n",
       "       u'R31_2', u'phi31_2', u'ID_OGLE_II', u'ID_MACHO', u'ID_GCVS',\n",
       "       u'ID_OTHER', u'Remarks'],\n",
       "      dtype='object')"
      ]
     },
     "execution_count": 5,
     "metadata": {},
     "output_type": "execute_result"
    }
   ],
   "source": [
    "ogle3 = pd.read_table(\"../data/ogle_rr.txt\", header=6)\n",
    "ogle3.columns"
   ]
  },
  {
   "cell_type": "code",
   "execution_count": 6,
   "metadata": {
    "collapsed": true
   },
   "outputs": [],
   "source": [
    "path = \"/home/data/carpyncho/stored/samples/b278_sample.npy\"\n",
    "df = pd.DataFrame(np.load(path))"
   ]
  },
  {
   "cell_type": "markdown",
   "metadata": {},
   "source": [
    "##  2. Preprocess\n",
    "\n",
    "### 2.1. Discretize the classes"
   ]
  },
  {
   "cell_type": "code",
   "execution_count": 7,
   "metadata": {},
   "outputs": [
    {
     "data": {
      "text/markdown": [
       "### Classes"
      ],
      "text/plain": [
       "<IPython.core.display.Markdown object>"
      ]
     },
     "metadata": {},
     "output_type": "display_data"
    },
    {
     "data": {
      "text/plain": [
       "{'': 0,\n",
       " 'Cep-1': 1,\n",
       " 'Cep-F': 2,\n",
       " 'LPV-Mira': 3,\n",
       " 'LPV-OSARG': 4,\n",
       " 'LPV-SRV': 5,\n",
       " 'RRLyr-RRab': 6,\n",
       " 'RRLyr-RRc': 7,\n",
       " 'RRLyr-RRd': 8,\n",
       " 'T2Cep-BLHer': 9,\n",
       " 'T2Cep-RVTau': 10,\n",
       " 'T2Cep-WVir': 11}"
      ]
     },
     "metadata": {},
     "output_type": "display_data"
    },
    {
     "data": {
      "text/markdown": [
       "### Simplified Classes"
      ],
      "text/plain": [
       "<IPython.core.display.Markdown object>"
      ]
     },
     "metadata": {},
     "output_type": "display_data"
    },
    {
     "data": {
      "text/plain": [
       "{'': 0, 'Cep': 1, 'LPV': 2, 'RRLyr': 3, 'T2Cep': 4}"
      ]
     },
     "metadata": {},
     "output_type": "display_data"
    }
   ],
   "source": [
    "classes = set(df.ogle3_type)\n",
    "sclasses_names = set(c.split(\"-\", 1)[0] for c in classes)\n",
    "classes = dict(zip(sorted(classes), range(len(classes))))\n",
    "sclasses = dict(zip(sorted(sclasses_names), range(len(sclasses_names))))\n",
    "\n",
    "df[\"cls\"] = df.ogle3_type.apply(classes.get)\n",
    "df[\"scls\"] = df.ogle3_type.apply(lambda v: sclasses.get(v.split(\"-\", 1)[0]))\n",
    "    \n",
    "d.display(d.Markdown(\"### Classes\"))\n",
    "d.display(classes)\n",
    "\n",
    "d.display(d.Markdown(\"### Simplified Classes\"))\n",
    "d.display(sclasses)"
   ]
  },
  {
   "cell_type": "code",
   "execution_count": 8,
   "metadata": {},
   "outputs": [
    {
     "data": {
      "text/html": [
       "<div>\n",
       "<style>\n",
       "    .dataframe thead tr:only-child th {\n",
       "        text-align: right;\n",
       "    }\n",
       "\n",
       "    .dataframe thead th {\n",
       "        text-align: left;\n",
       "    }\n",
       "\n",
       "    .dataframe tbody tr th {\n",
       "        vertical-align: top;\n",
       "    }\n",
       "</style>\n",
       "<table border=\"1\" class=\"dataframe\">\n",
       "  <thead>\n",
       "    <tr style=\"text-align: right;\">\n",
       "      <th></th>\n",
       "      <th>id</th>\n",
       "      <th>ra_h</th>\n",
       "      <th>dec_h</th>\n",
       "      <th>ra_j</th>\n",
       "      <th>dec_j</th>\n",
       "      <th>ra_k</th>\n",
       "      <th>dec_k</th>\n",
       "      <th>ogle3_type</th>\n",
       "      <th>ogle3_id</th>\n",
       "      <th>c89_ejk</th>\n",
       "      <th>c89_ak</th>\n",
       "      <th>n09_ejk</th>\n",
       "      <th>n09_ak</th>\n",
       "    </tr>\n",
       "  </thead>\n",
       "  <tbody>\n",
       "    <tr>\n",
       "      <th>438440</th>\n",
       "      <td>32780000438441</td>\n",
       "      <td>271.349367</td>\n",
       "      <td>-30.355661</td>\n",
       "      <td>271.349367</td>\n",
       "      <td>-30.355681</td>\n",
       "      <td>271.349383</td>\n",
       "      <td>-30.355669</td>\n",
       "      <td>RRLyr-RRab</td>\n",
       "      <td>OGLE-BLG-RRLYR-12931</td>\n",
       "      <td>0.311</td>\n",
       "      <td>0.214</td>\n",
       "      <td>0.311</td>\n",
       "      <td>0.164</td>\n",
       "    </tr>\n",
       "  </tbody>\n",
       "</table>\n",
       "</div>"
      ],
      "text/plain": [
       "                    id        ra_h      dec_h        ra_j      dec_j  \\\n",
       "438440  32780000438441  271.349367 -30.355661  271.349367 -30.355681   \n",
       "\n",
       "              ra_k      dec_k  ogle3_type              ogle3_id  c89_ejk  \\\n",
       "438440  271.349383 -30.355669  RRLyr-RRab  OGLE-BLG-RRLYR-12931    0.311   \n",
       "\n",
       "        c89_ak  n09_ejk  n09_ak  \n",
       "438440   0.214    0.311   0.164  "
      ]
     },
     "metadata": {},
     "output_type": "display_data"
    },
    {
     "data": {
      "image/png": "[encoded data removed]",
      "text/plain": [
       "<matplotlib.figure.Figure at 0x7f46121c07d0>"
      ]
     },
     "metadata": {},
     "output_type": "display_data"
    }
   ],
   "source": [
    "sample = df[df.scls == 3].sample().iloc[0]\n",
    "data = fourier_help.fourier_data(sample, \"FATS\")\n",
    "period = sample.PeriodLS\n",
    "ogle3_id = tile[tile.id == sample.id].ogle3_id.values[0]\n",
    "x, y = pytff.fspace(data, 0., 2, 50)\n",
    "plt.title(\"{} - Period: {}\".format(ogle3_id, period))\n",
    "plt.plot(x, y);\n",
    "\n",
    "d.display(tile[tile.id == sample.id])\n",
    "\n",
    "url = \"http://ogledb.astrouw.edu.pl/~ogle/CVS/getobj.php?starcat={}&sqlsrv=localhost&database=cvs&sqldb=all_catalog&target=all&qtype=catalog\".format(ogle3_id)\n",
    "# print url\n",
    "# d.IFrame(url, \"100%\", 400)"
   ]
  },
  {
   "cell_type": "code",
   "execution_count": 11,
   "metadata": {
    "collapsed": true
   },
   "outputs": [],
   "source": [
    "def get_o3id(o3id):\n",
    "    return ogle3[ogle3[\"# ID\"] == o3id].P_1.values[0]\n",
    "#     return 0\n",
    "    \n",
    "rr = df[df.scls == 3]\n",
    "rr[\"ogle3_id\"] = rr.id.apply(lambda cid: tile[tile.id == cid].ogle3_id.values[0])\n",
    "rr[\"ogle3_period\"] = rr.ogle3_id.apply(get_o3id)\n",
    "rr[\"fvo3_p\"] = np.abs(rr.PeriodLS - rr.ogle3_period)"
   ]
  },
  {
   "cell_type": "code",
   "execution_count": 22,
   "metadata": {},
   "outputs": [
    {
     "data": {
      "image/png": "[encoded data removed]",
      "text/plain": [
       "<matplotlib.figure.Figure at 0x7f46134e3290>"
      ]
     },
     "metadata": {},
     "output_type": "display_data"
    }
   ],
   "source": [
    "ax = plt.hist(rr.ogle3_period)"
   ]
  },
  {
   "cell_type": "code",
   "execution_count": 32,
   "metadata": {},
   "outputs": [
    {
     "data": {
      "text/plain": [
       "(-100, 500)"
      ]
     },
     "execution_count": 32,
     "metadata": {},
     "output_type": "execute_result"
    },
    {
     "data": {
      "image/png": "[encoded data removed]",
      "text/plain": [
       "<matplotlib.figure.Figure at 0x7f461321d710>"
      ]
     },
     "metadata": {},
     "output_type": "display_data"
    }
   ],
   "source": [
    "ax = plt.hist(rr.fvo3_p, bins=200)\n",
    "plt.xlim(-100, 500)"
   ]
  }
 ],
 "metadata": {
  "kernelspec": {
   "display_name": "Python 2",
   "language": "python",
   "name": "python2"
  },
  "language_info": {
   "codemirror_mode": {
    "name": "ipython",
    "version": 2
   },
   "file_extension": ".py",
   "mimetype": "text/x-python",
   "name": "python",
   "nbconvert_exporter": "python",
   "pygments_lexer": "ipython2",
   "version": "2.7.6"
  }
 },
 "nbformat": 4,
 "nbformat_minor": 2
}
