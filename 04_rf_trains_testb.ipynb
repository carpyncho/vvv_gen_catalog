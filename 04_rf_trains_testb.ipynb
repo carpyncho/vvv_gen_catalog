{
 "cells": [
  {
   "cell_type": "markdown",
   "metadata": {},
   "source": [
    "# Entreno en 2500 pruebo en 20mil"
   ]
  },
  {
   "cell_type": "code",
   "execution_count": 1,
   "metadata": {},
   "outputs": [],
   "source": [
    "import pickle\n",
    "\n",
    "import numpy as np\n",
    "\n",
    "import pandas as pd\n",
    "\n",
    "% matplotlib inline\n",
    "import matplotlib.pyplot as plt\n",
    "import seaborn as sns\n",
    "# sns.set()\n",
    "\n",
    "from sklearn.ensemble import RandomForestClassifier\n",
    "from sklearn import metrics\n",
    "\n",
    "from libs.container import Container\n",
    "from libs.display import d\n",
    "from libs.experiment import KFoldExperiment, WithAnotherExperiment, roc"
   ]
  },
  {
   "cell_type": "markdown",
   "metadata": {},
   "source": [
    "## Funcion de ayuda"
   ]
  },
  {
   "cell_type": "code",
   "execution_count": 2,
   "metadata": {},
   "outputs": [],
   "source": [
    "def run_test(clf, tile, X_columns, y_column):\n",
    "    X_test = tile[X_columns].values\n",
    "    y_test = tile[y_column].values\n",
    "    \n",
    "    predictions = clf.predict(X_test)\n",
    "    probabilities = clf.predict_proba(X_test)\n",
    "    \n",
    "    fpr, tpr, thresholds = metrics.roc_curve(\n",
    "        y_test, 1.-probabilities[:,0], pos_label=1)\n",
    "\n",
    "    prec_rec_curve = metrics.precision_recall_curve(\n",
    "        y_test, 1.- probabilities[:,0], pos_label=1)\n",
    "\n",
    "    roc_auc = metrics.auc(fpr, tpr)\n",
    "    \n",
    "    print metrics.classification_report(y_test, predictions)\n",
    "    \n",
    "    return Container({\n",
    "        'fpr': fpr,\n",
    "        'tpr': tpr,\n",
    "        'thresh': thresholds,\n",
    "        'roc_auc': roc_auc,\n",
    "        'prec_rec_curve': prec_rec_curve,\n",
    "        'y_test': y_test,\n",
    "        'predictions': predictions,\n",
    "        'probabilities': probabilities,\n",
    "        'confusion_matrix': metrics.confusion_matrix(y_test, predictions)})"
   ]
  },
  {
   "cell_type": "markdown",
   "metadata": {},
   "source": [
    "## Train 2.5K"
   ]
  },
  {
   "cell_type": "code",
   "execution_count": 3,
   "metadata": {},
   "outputs": [],
   "source": [
    "sample = pd.read_pickle(\"data/ogle3_only/scaled/s2_5k.pkl.bz2\")\n",
    "sample[\"tile\"] = sample[\"id\"].apply(lambda i: \"b\" + str(i)[1:4])\n",
    "sample[\"cls\"] = sample.vs_type.apply(lambda x: 0 if x == \"\" else 1)\n",
    "\n",
    "no_features = [\"id\", \"vs_catalog\", \"vs_type\", \"ra_k\", \"dec_k\", \"tile\", \"cls\"] \n",
    "X_columns = [c for c in sample.columns if c not in no_features]\n",
    "\n",
    "grouped = sample.groupby(\"tile\")\n",
    "train = Container({k: grouped.get_group(k).copy() for k in grouped.groups.keys()})\n",
    "\n",
    "del grouped, sample"
   ]
  },
  {
   "cell_type": "markdown",
   "metadata": {},
   "source": [
    "Reescalamos la muestra de 20k con media y desvio del de 2.5k"
   ]
  },
  {
   "cell_type": "code",
   "execution_count": 4,
   "metadata": {},
   "outputs": [],
   "source": [
    "skl = pickle.load(open(\"data/ogle3_only/scalers/scaler_2_5k.pkl\"))"
   ]
  },
  {
   "cell_type": "code",
   "execution_count": 5,
   "metadata": {},
   "outputs": [],
   "source": [
    "sample = pd.read_pickle(\"data/ogle3_only/nonull/s20k.pkl.bz2\")\n",
    "\n",
    "sample[X_columns] = skl.transform(sample[X_columns])\n",
    "\n",
    "sample[\"tile\"] = sample[\"id\"].apply(lambda i: \"b\" + str(i)[1:4])\n",
    "sample[\"cls\"] = sample.vs_type.apply(lambda x: 0 if x == \"\" else 1)\n",
    "\n",
    "grouped = sample.groupby(\"tile\")\n",
    "test = Container({k: grouped.get_group(k).copy() for k in grouped.groups.keys()})\n",
    "\n",
    "del grouped, sample"
   ]
  },
  {
   "cell_type": "code",
   "execution_count": 6,
   "metadata": {},
   "outputs": [
    {
     "data": {
      "text/plain": [
       "RandomForestClassifier(bootstrap=True, class_weight=None, criterion='entropy',\n",
       "            max_depth=None, max_features='auto', max_leaf_nodes=None,\n",
       "            min_impurity_split=1e-07, min_samples_leaf=1,\n",
       "            min_samples_split=2, min_weight_fraction_leaf=0.0,\n",
       "            n_estimators=500, n_jobs=1, oob_score=False, random_state=None,\n",
       "            verbose=0, warm_start=False)"
      ]
     },
     "execution_count": 6,
     "metadata": {},
     "output_type": "execute_result"
    }
   ],
   "source": [
    "clf_small = RandomForestClassifier(n_estimators=500, criterion=\"entropy\")\n",
    "clf_small.fit(train.b278[X_columns].values, train.b278.cls.values)"
   ]
  },
  {
   "cell_type": "code",
   "execution_count": 7,
   "metadata": {},
   "outputs": [
    {
     "name": "stdout",
     "output_type": "stream",
     "text": [
      "             precision    recall  f1-score   support\n",
      "\n",
      "          0       1.00      1.00      1.00     19972\n",
      "          1       0.73      0.89      0.80       221\n",
      "\n",
      "avg / total       1.00      1.00      1.00     20193\n",
      "\n"
     ]
    }
   ],
   "source": [
    "result_small = run_test(clf_small, test.b261, X_columns, \"cls\")"
   ]
  },
  {
   "cell_type": "markdown",
   "metadata": {},
   "source": [
    "## Train 5K"
   ]
  },
  {
   "cell_type": "code",
   "execution_count": 8,
   "metadata": {},
   "outputs": [],
   "source": [
    "sample = pd.read_pickle(\"data/ogle3_only/scaled/s5k.pkl.bz2\")\n",
    "sample[\"tile\"] = sample[\"id\"].apply(lambda i: \"b\" + str(i)[1:4])\n",
    "sample[\"cls\"] = sample.vs_type.apply(lambda x: 0 if x == \"\" else 1)\n",
    "\n",
    "grouped = sample.groupby(\"tile\")\n",
    "train = Container({k: grouped.get_group(k).copy() for k in grouped.groups.keys()})\n",
    "\n",
    "del grouped, sample"
   ]
  },
  {
   "cell_type": "markdown",
   "metadata": {},
   "source": [
    "Reescalamos la muestra de 20k con media y desvio del de 5k"
   ]
  },
  {
   "cell_type": "code",
   "execution_count": 9,
   "metadata": {},
   "outputs": [],
   "source": [
    "skl = pickle.load(open(\"data/ogle3_only/scalers/scaler_5k.pkl\"))"
   ]
  },
  {
   "cell_type": "code",
   "execution_count": 10,
   "metadata": {},
   "outputs": [],
   "source": [
    "sample = pd.read_pickle(\"data/ogle3_only/nonull/s20k.pkl.bz2\")\n",
    "\n",
    "sample[X_columns] = skl.transform(sample[X_columns])\n",
    "\n",
    "sample[\"tile\"] = sample[\"id\"].apply(lambda i: \"b\" + str(i)[1:4])\n",
    "sample[\"cls\"] = sample.vs_type.apply(lambda x: 0 if x == \"\" else 1)\n",
    "\n",
    "grouped = sample.groupby(\"tile\")\n",
    "test = Container({k: grouped.get_group(k).copy() for k in grouped.groups.keys()})\n",
    "\n",
    "del grouped, sample"
   ]
  },
  {
   "cell_type": "code",
   "execution_count": 11,
   "metadata": {},
   "outputs": [
    {
     "data": {
      "text/plain": [
       "RandomForestClassifier(bootstrap=True, class_weight=None, criterion='entropy',\n",
       "            max_depth=None, max_features='auto', max_leaf_nodes=None,\n",
       "            min_impurity_split=1e-07, min_samples_leaf=1,\n",
       "            min_samples_split=2, min_weight_fraction_leaf=0.0,\n",
       "            n_estimators=500, n_jobs=1, oob_score=False, random_state=None,\n",
       "            verbose=0, warm_start=False)"
      ]
     },
     "execution_count": 11,
     "metadata": {},
     "output_type": "execute_result"
    }
   ],
   "source": [
    "clf_med = RandomForestClassifier(n_estimators=500, criterion=\"entropy\")\n",
    "clf_med.fit(train.b278[X_columns].values, train.b278.cls.values)"
   ]
  },
  {
   "cell_type": "code",
   "execution_count": 12,
   "metadata": {},
   "outputs": [
    {
     "name": "stdout",
     "output_type": "stream",
     "text": [
      "             precision    recall  f1-score   support\n",
      "\n",
      "          0       1.00      1.00      1.00     19972\n",
      "          1       0.86      0.83      0.85       221\n",
      "\n",
      "avg / total       1.00      1.00      1.00     20193\n",
      "\n"
     ]
    }
   ],
   "source": [
    "result_med = run_test(clf_med, test.b261, X_columns, \"cls\")"
   ]
  },
  {
   "cell_type": "code",
   "execution_count": 13,
   "metadata": {},
   "outputs": [
    {
     "data": {
      "image/png": "[encoded data removed]",
      "text/plain": [
       "<matplotlib.figure.Figure at 0x7f726d10b4d0>"
      ]
     },
     "metadata": {
      "needs_background": "light"
     },
     "output_type": "display_data"
    }
   ],
   "source": [
    "roc({\"5K vs. 20K\": result_med, \"2.5K vs. 20K\": result_small})"
   ]
  },
  {
   "cell_type": "code",
   "execution_count": 14,
   "metadata": {},
   "outputs": [
    {
     "data": {
      "text/plain": [
       "81116     2.414786\n",
       "81117     0.367517\n",
       "81118    -1.281542\n",
       "81119    -0.944235\n",
       "81120    -0.232141\n",
       "81121     0.597073\n",
       "81122    -1.051986\n",
       "81123    -1.319021\n",
       "81124     0.163727\n",
       "81125    -0.602242\n",
       "81126     0.627525\n",
       "81127     0.732933\n",
       "81128     3.407969\n",
       "81129     0.119221\n",
       "81130    -1.084780\n",
       "81131     0.278505\n",
       "81132    -1.108204\n",
       "81133    -0.988741\n",
       "81134    -0.606927\n",
       "81135    -1.066040\n",
       "81136    -0.822429\n",
       "81137    -0.349262\n",
       "81138    -0.855223\n",
       "81139    -1.173791\n",
       "81140     0.601758\n",
       "81141    -0.517915\n",
       "81142    -1.145682\n",
       "81143    -0.508546\n",
       "81144    -0.171238\n",
       "81145     0.119221\n",
       "            ...   \n",
       "101509    0.142645\n",
       "101510    0.095797\n",
       "101511   -0.695939\n",
       "101512    0.156700\n",
       "101513   -0.529628\n",
       "101514   -0.100966\n",
       "101515    0.472925\n",
       "101516    0.175439\n",
       "101517   -0.588188\n",
       "101518   -0.663145\n",
       "101519   -0.953604\n",
       "101520   -0.396110\n",
       "101521   -0.110336\n",
       "101522    0.196521\n",
       "101523   -0.471067\n",
       "101524   -0.023666\n",
       "101525    0.166069\n",
       "101526    0.032552\n",
       "101527    0.128591\n",
       "101528   -0.850538\n",
       "101529    0.039579\n",
       "101530    1.316194\n",
       "101531   -0.339892\n",
       "101532    1.014023\n",
       "101533    0.119221\n",
       "101534   -0.002585\n",
       "101535    0.721221\n",
       "101536    0.053633\n",
       "101537    1.709720\n",
       "101538    0.838342\n",
       "Name: AmplitudeH, Length: 20354, dtype: float64"
      ]
     },
     "execution_count": 14,
     "metadata": {},
     "output_type": "execute_result"
    }
   ],
   "source": [
    "test.b278.AmplitudeH"
   ]
  },
  {
   "cell_type": "code",
   "execution_count": null,
   "metadata": {},
   "outputs": [],
   "source": []
  }
 ],
 "metadata": {
  "kernelspec": {
   "display_name": "Python 2",
   "language": "python",
   "name": "python2"
  },
  "language_info": {
   "codemirror_mode": {
    "name": "ipython",
    "version": 2
   },
   "file_extension": ".py",
   "mimetype": "text/x-python",
   "name": "python",
   "nbconvert_exporter": "python",
   "pygments_lexer": "ipython2",
   "version": "2.7.12"
  }
 },
 "nbformat": 4,
 "nbformat_minor": 2
}
