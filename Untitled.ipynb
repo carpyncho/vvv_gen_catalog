{
 "cells": [
  {
   "cell_type": "code",
   "execution_count": 1,
   "metadata": {},
   "outputs": [],
   "source": [
    "% matplotlib inline\n",
    "\n",
    "import pandas as pd\n",
    "\n",
    "from IPython import display as d\n",
    "\n",
    "import seaborn as sns\n",
    "sns.set()\n",
    "\n",
    "from sklearn import feature_selection as fs\n",
    "from sklearn.svm import SVC\n",
    "from sklearn.tree import DecisionTreeClassifier\n",
    "from sklearn.ensemble import RandomForestClassifier\n",
    "from sklearn.neighbors import KNeighborsClassifier\n",
    "\n",
    "from libs import container\n",
    "from libs.experiment import WithAnotherExperiment, KFoldExperiment, roc"
   ]
  },
  {
   "cell_type": "code",
   "execution_count": 2,
   "metadata": {},
   "outputs": [
    {
     "name": "stdout",
     "output_type": "stream",
     "text": [
      "Loading '/home/data/carpyncho/stored/samples/2.5k/b220_sample2.5k.npy'...\n",
      "Loading '/home/data/carpyncho/stored/samples/2.5k/b264_sample2.5k.npy'...\n",
      "Loading '/home/data/carpyncho/stored/samples/2.5k/b278_sample2.5k.npy'...\n",
      "Loading '/home/data/carpyncho/stored/samples/2.5k/b263_sample2.5k.npy'...\n",
      "Loading '/home/data/carpyncho/stored/samples/2.5k/b261_sample2.5k.npy'...\n",
      "Loading '/home/data/carpyncho/stored/samples/2.5k/b262_sample2.5k.npy'...\n",
      "Removing b220...\n"
     ]
    }
   ],
   "source": [
    "path = \"/home/data/carpyncho/stored/samples/2.5k/\"\n",
    "data = container.read(path)\n",
    "\n",
    "print(\"Removing b220...\")\n",
    "del data[\"b220\"]"
   ]
  },
  {
   "cell_type": "code",
   "execution_count": 3,
   "metadata": {},
   "outputs": [
    {
     "data": {
      "text/markdown": [
       "### Classes"
      ],
      "text/plain": [
       "<IPython.core.display.Markdown object>"
      ]
     },
     "metadata": {},
     "output_type": "display_data"
    },
    {
     "data": {
      "text/plain": [
       "{'': 0,\n",
       " 'Cep-1': 1,\n",
       " 'Cep-F': 2,\n",
       " 'LPV-Mira': 3,\n",
       " 'LPV-OSARG': 4,\n",
       " 'LPV-SRV': 5,\n",
       " 'RRLyr-RRab': 6,\n",
       " 'RRLyr-RRc': 7,\n",
       " 'RRLyr-RRd': 8,\n",
       " 'T2Cep-BLHer': 9,\n",
       " 'T2Cep-RVTau': 10,\n",
       " 'T2Cep-WVir': 11}"
      ]
     },
     "metadata": {},
     "output_type": "display_data"
    },
    {
     "data": {
      "text/markdown": [
       "### Simplified Classes"
      ],
      "text/plain": [
       "<IPython.core.display.Markdown object>"
      ]
     },
     "metadata": {},
     "output_type": "display_data"
    },
    {
     "data": {
      "text/plain": [
       "{'': 0, 'Cep': 1, 'LPV': 2, 'RRLyr': 3, 'T2Cep': 4}"
      ]
     },
     "metadata": {},
     "output_type": "display_data"
    }
   ],
   "source": [
    "classes = set()\n",
    "for df in data.values():\n",
    "    classes.update(df.ogle3_type)\n",
    "sclasses_names = set(c.split(\"-\", 1)[0] for c in classes)\n",
    "classes = dict(zip(sorted(classes), range(len(classes))))\n",
    "sclasses = dict(zip(sorted(sclasses_names), range(len(sclasses_names))))\n",
    "\n",
    "for df in data.values():\n",
    "    df[\"cls\"] = df.ogle3_type.apply(classes.get)\n",
    "    df[\"scls\"] = df.ogle3_type.apply(lambda v: sclasses.get(v.split(\"-\", 1)[0]))\n",
    "    \n",
    "d.display(d.Markdown(\"### Classes\"))\n",
    "d.display(classes)\n",
    "\n",
    "d.display(d.Markdown(\"### Simplified Classes\"))\n",
    "d.display(sclasses)"
   ]
  },
  {
   "cell_type": "code",
   "execution_count": 4,
   "metadata": {},
   "outputs": [
    {
     "name": "stdout",
     "output_type": "stream",
     "text": [
      "('Raw Features:', 60)\n",
      "('Total features:', 54)\n"
     ]
    }
   ],
   "source": [
    "df = data.b278\n",
    "X_columns = df.columns[~df.columns.isin([\"id\", \"cls\", \"scls\", \"ogle3_type\"])]\n",
    "print(\"Raw Features:\", X_columns.size)\n",
    "\n",
    "# remove signatures\n",
    "X_columns = X_columns[~X_columns.str.startswith(\"Signature_\")]\n",
    "X_columns\n",
    "\n",
    "# columns with nan and null\n",
    "with_nulls = set()\n",
    "for df in data.values():\n",
    "    for c in X_columns:\n",
    "        if df[c].isnull().any():\n",
    "            with_nulls.add(c)\n",
    "X_columns = X_columns[~X_columns.isin(with_nulls)]\n",
    "\n",
    "# low variance\n",
    "df = pd.concat(data.values())\n",
    "y = df[\"cls\"].values\n",
    "\n",
    "vt = fs.VarianceThreshold()\n",
    "vt.fit(df[X_columns].values, y)\n",
    "X_columns = X_columns[vt.get_support()]\n",
    "\n",
    "print(\"Total features:\", X_columns.size)\n",
    "\n",
    "del df, y"
   ]
  },
  {
   "cell_type": "code",
   "execution_count": 5,
   "metadata": {},
   "outputs": [
    {
     "data": {
      "text/html": [
       "<ol><li>cnt</li><li>AMP</li><li>Amplitude</li><li>AndersonDarling</li><li>Autocor_length</li><li>Beyond1Std</li><li>CAR_mean</li><li>CAR_sigma</li><li>CAR_tau</li><li>Con</li><li>Eta_e</li><li>FluxPercentileRatioMid20</li><li>FluxPercentileRatioMid35</li><li>FluxPercentileRatioMid50</li><li>FluxPercentileRatioMid65</li><li>FluxPercentileRatioMid80</li><li>Freq1_harmonics_amplitude_0</li><li>Freq1_harmonics_amplitude_1</li><li>Freq1_harmonics_amplitude_2</li><li>Freq1_harmonics_amplitude_3</li><li>Freq1_harmonics_rel_phase_1</li><li>Freq1_harmonics_rel_phase_2</li><li>Freq1_harmonics_rel_phase_3</li><li>Freq2_harmonics_amplitude_0</li><li>Freq2_harmonics_amplitude_1</li><li>Freq2_harmonics_amplitude_2</li><li>Freq2_harmonics_amplitude_3</li><li>Freq2_harmonics_rel_phase_1</li><li>Freq2_harmonics_rel_phase_2</li><li>Freq2_harmonics_rel_phase_3</li><li>Freq3_harmonics_amplitude_0</li><li>Freq3_harmonics_amplitude_1</li><li>Freq3_harmonics_amplitude_2</li><li>Freq3_harmonics_amplitude_3</li><li>Freq3_harmonics_rel_phase_1</li><li>Freq3_harmonics_rel_phase_2</li><li>Freq3_harmonics_rel_phase_3</li><li>LinearTrend</li><li>MaxSlope</li><li>Mean</li><li>Meanvariance</li><li>MedianAbsDev</li><li>MedianBRP</li><li>PairSlopeTrend</li><li>PercentAmplitude</li><li>PercentDifferenceFluxPercentile</li><li>PeriodLS</li><li>Psi_CS</li><li>Psi_eta</li><li>Q31</li><li>Rcs</li><li>Skew</li><li>SmallKurtosis</li><li>Std</li></ol>"
      ],
      "text/plain": [
       "<IPython.core.display.HTML object>"
      ]
     },
     "metadata": {},
     "output_type": "display_data"
    }
   ],
   "source": [
    "d.display(d.HTML(\n",
    "    \"<ol>\" +\n",
    "    \"\".join(\"<li>{}</li>\".format(c) for c in X_columns) +\n",
    "    \"</ol>\"))"
   ]
  },
  {
   "cell_type": "code",
   "execution_count": 6,
   "metadata": {},
   "outputs": [
    {
     "name": "stderr",
     "output_type": "stream",
     "text": [
      "/home/jbcabral/projects/paper_b278/local/lib/python2.7/site-packages/sklearn/utils/validation.py:475: DataConversionWarning: Data with input dtype object was converted to float64 by StandardScaler.\n",
      "  warnings.warn(msg, DataConversionWarning)\n"
     ]
    },
    {
     "name": "stdout",
     "output_type": "stream",
     "text": [
      "b261 (TRAIN) Vs. b262 (TEST)\n",
      "             precision    recall  f1-score   support\n",
      "\n",
      "          0       0.96      0.99      0.98      2500\n",
      "          3       0.94      0.68      0.79       297\n",
      "\n",
      "avg / total       0.96      0.96      0.96      2797\n",
      "\n",
      "--------------------------------------------------------------------------------\n",
      "b261 (TRAIN) Vs. b263 (TEST)\n",
      "             precision    recall  f1-score   support\n",
      "\n",
      "          0       0.96      0.99      0.98      2500\n",
      "          3       0.92      0.68      0.78       308\n",
      "\n",
      "avg / total       0.96      0.96      0.96      2808\n",
      "\n",
      "--------------------------------------------------------------------------------\n",
      "b261 (TRAIN) Vs. b278 (TEST)\n",
      "             precision    recall  f1-score   support\n",
      "\n",
      "          0       0.92      0.99      0.96      2500\n",
      "          3       0.92      0.51      0.66       424\n",
      "\n",
      "avg / total       0.92      0.92      0.91      2924\n",
      "\n",
      "--------------------------------------------------------------------------------\n",
      "b261 (TRAIN) Vs. b264 (TEST)\n",
      "             precision    recall  f1-score   support\n",
      "\n",
      "          0       0.97      0.99      0.98      2500\n",
      "          3       0.92      0.70      0.80       298\n",
      "\n",
      "avg / total       0.96      0.96      0.96      2798\n",
      "\n",
      "--------------------------------------------------------------------------------\n"
     ]
    },
    {
     "data": {
      "image/png": "[encoded data removed]",
      "text/plain": [
       "<matplotlib.figure.Figure at 0x7f2b85e76d50>"
      ]
     },
     "metadata": {},
     "output_type": "display_data"
    }
   ],
   "source": [
    "svc_linear = WithAnotherExperiment(\n",
    "    clf=SVC(kernel='linear', probability=True), clsnum=sclasses, \n",
    "    data=data, pcls=\"RRLyr\", X_columns=X_columns, y_column=\"scls\")\n",
    "svc_linear = svc_linear(\"b261\");\n",
    "roc(svc_linear)"
   ]
  },
  {
   "cell_type": "code",
   "execution_count": null,
   "metadata": {},
   "outputs": [],
   "source": []
  }
 ],
 "metadata": {
  "kernelspec": {
   "display_name": "Python 2",
   "language": "python",
   "name": "python2"
  },
  "language_info": {
   "codemirror_mode": {
    "name": "ipython",
    "version": 2
   },
   "file_extension": ".py",
   "mimetype": "text/x-python",
   "name": "python",
   "nbconvert_exporter": "python",
   "pygments_lexer": "ipython2",
   "version": "2.7.6"
  }
 },
 "nbformat": 4,
 "nbformat_minor": 2
}
