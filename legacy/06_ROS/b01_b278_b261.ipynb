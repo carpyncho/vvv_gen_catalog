version https://git-lfs.github.com/spec/v1
oid sha256:678b581366ea429a8bc09a761c709d93d388b4709981925cff078660a8f00cee
size 166775
