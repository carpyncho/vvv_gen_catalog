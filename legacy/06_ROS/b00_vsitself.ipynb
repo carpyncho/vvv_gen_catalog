{
 "cells": [
  {
   "cell_type": "markdown",
   "metadata": {},
   "source": [
    "# Machine Analysis Primer For b278 2.5K ROS VVV Tile\n",
    "\n",
    "## b278 Vs Itself (with 10 kfolds)\n",
    "\n",
    "- **author:** JB Cabral (<jbc.develop@gmail.com>)"
   ]
  },
  {
   "cell_type": "code",
   "execution_count": 1,
   "metadata": {
    "collapsed": true
   },
   "outputs": [],
   "source": [
    "% matplotlib inline\n",
    "\n",
    "import os\n",
    "import tempfile\n",
    "\n",
    "import numpy as np\n",
    "\n",
    "import pandas as pd\n",
    "\n",
    "from matplotlib import pyplot as plt\n",
    "from matplotlib import cm\n",
    "import seaborn as sns\n",
    "sns.set()\n",
    "\n",
    "import sklearn\n",
    "from sklearn import feature_selection as fs\n",
    "from sklearn import preprocessing as prp\n",
    "from sklearn import svm\n",
    "from sklearn import metrics\n",
    "from sklearn.model_selection import (\n",
    "    KFold, StratifiedKFold, train_test_split)\n",
    "from sklearn.tree import DecisionTreeClassifier\n",
    "from sklearn.ensemble import RandomForestClassifier\n",
    "from sklearn.neighbors import KNeighborsClassifier\n",
    "\n",
    "from IPython import display as d\n",
    "\n",
    "from lime import lime_tabular as lt\n",
    "\n",
    "from joblib import Memory\n",
    "\n",
    "from libs import container\n",
    "\n",
    "from imblearn.over_sampling import RandomOverSampler, SMOTE\n",
    "\n",
    "pd.options.mode.chained_assignment = None \n",
    "\n",
    "memory = Memory(cachedir=\"cache\", verbose=0)"
   ]
  },
  {
   "cell_type": "markdown",
   "metadata": {},
   "source": [
    "## 1. Load Data"
   ]
  },
  {
   "cell_type": "code",
   "execution_count": 2,
   "metadata": {
    "collapsed": true
   },
   "outputs": [],
   "source": [
    "path = \"/home/data/carpyncho/stored/samples/2.5k/b278_sample2.5k.npy\"\n",
    "df = pd.DataFrame(np.load(path))"
   ]
  },
  {
   "cell_type": "markdown",
   "metadata": {},
   "source": [
    "##  2. Preprocess\n",
    "\n",
    "### 2.1. Discretize the classes"
   ]
  },
  {
   "cell_type": "code",
   "execution_count": 3,
   "metadata": {},
   "outputs": [
    {
     "data": {
      "text/markdown": [
       "### Classes"
      ],
      "text/plain": [
       "<IPython.core.display.Markdown object>"
      ]
     },
     "metadata": {},
     "output_type": "display_data"
    },
    {
     "data": {
      "text/plain": [
       "{'': 0,\n",
       " 'Cep-1': 1,\n",
       " 'Cep-F': 2,\n",
       " 'LPV-Mira': 3,\n",
       " 'LPV-OSARG': 4,\n",
       " 'LPV-SRV': 5,\n",
       " 'RRLyr-RRab': 6,\n",
       " 'RRLyr-RRc': 7,\n",
       " 'RRLyr-RRd': 8,\n",
       " 'T2Cep-BLHer': 9,\n",
       " 'T2Cep-RVTau': 10,\n",
       " 'T2Cep-WVir': 11}"
      ]
     },
     "metadata": {},
     "output_type": "display_data"
    },
    {
     "data": {
      "text/markdown": [
       "### Simplified Classes"
      ],
      "text/plain": [
       "<IPython.core.display.Markdown object>"
      ]
     },
     "metadata": {},
     "output_type": "display_data"
    },
    {
     "data": {
      "text/plain": [
       "{'': 0, 'Cep': 1, 'LPV': 2, 'RRLyr': 3, 'T2Cep': 4}"
      ]
     },
     "metadata": {},
     "output_type": "display_data"
    }
   ],
   "source": [
    "classes = set(df.ogle3_type)\n",
    "sclasses_names = set(c.split(\"-\", 1)[0] for c in classes)\n",
    "classes = dict(zip(sorted(classes), range(len(classes))))\n",
    "sclasses = dict(zip(sorted(sclasses_names), range(len(sclasses_names))))\n",
    "\n",
    "df[\"cls\"] = df.ogle3_type.apply(classes.get)\n",
    "df[\"scls\"] = df.ogle3_type.apply(lambda v: sclasses.get(v.split(\"-\", 1)[0]))\n",
    "    \n",
    "d.display(d.Markdown(\"### Classes\"))\n",
    "d.display(classes)\n",
    "\n",
    "d.display(d.Markdown(\"### Simplified Classes\"))\n",
    "d.display(sclasses)"
   ]
  },
  {
   "cell_type": "markdown",
   "metadata": {},
   "source": [
    "### 2.2. Removes all low-variance and \"bad\" features"
   ]
  },
  {
   "cell_type": "code",
   "execution_count": 4,
   "metadata": {},
   "outputs": [
    {
     "name": "stdout",
     "output_type": "stream",
     "text": [
      "total features: 57\n"
     ]
    }
   ],
   "source": [
    "# RR lyrae\n",
    "df = df[df.scls.isin([3, 0])]\n",
    "\n",
    "# columns with nan and null\n",
    "df = df.loc[:, ~df.isnull().any()]\n",
    "\n",
    "X_columns = df.columns[~df.columns.isin([\"id\", \"cls\", \"scls\", \"ogle3_type\"])]\n",
    "X_columns = X_columns[~X_columns.str.startswith(\"Signature_\")]\n",
    "y = df[\"scls\"].values\n",
    "\n",
    "# low variance\n",
    "vt = fs.VarianceThreshold()\n",
    "vt.fit(df[X_columns].values, y)\n",
    "\n",
    "print \"total features:\", len(X_columns)"
   ]
  },
  {
   "cell_type": "code",
   "execution_count": 5,
   "metadata": {},
   "outputs": [
    {
     "name": "stderr",
     "output_type": "stream",
     "text": [
      "/home/jbcabral/projects/paper_b278/local/lib/python2.7/site-packages/sklearn/utils/validation.py:475: DataConversionWarning: Data with input dtype object was converted to float64 by StandardScaler.\n",
      "  warnings.warn(msg, DataConversionWarning)\n"
     ]
    }
   ],
   "source": [
    "X_columns = X_columns[vt.get_support()]\n",
    "X_scaled = prp.StandardScaler().fit_transform(df[X_columns].values)"
   ]
  },
  {
   "cell_type": "markdown",
   "metadata": {},
   "source": [
    "### 2.3 Selected features"
   ]
  },
  {
   "cell_type": "code",
   "execution_count": 6,
   "metadata": {},
   "outputs": [
    {
     "data": {
      "text/html": [
       "<ol><li>cnt</li><li>AMP</li><li>Amplitude</li><li>AndersonDarling</li><li>Autocor_length</li><li>Beyond1Std</li><li>CAR_mean</li><li>CAR_sigma</li><li>CAR_tau</li><li>Con</li><li>Eta_e</li><li>FluxPercentileRatioMid20</li><li>FluxPercentileRatioMid35</li><li>FluxPercentileRatioMid50</li><li>FluxPercentileRatioMid65</li><li>FluxPercentileRatioMid80</li><li>Freq1_harmonics_amplitude_0</li><li>Freq1_harmonics_amplitude_1</li><li>Freq1_harmonics_amplitude_2</li><li>Freq1_harmonics_amplitude_3</li><li>Freq1_harmonics_rel_phase_1</li><li>Freq1_harmonics_rel_phase_2</li><li>Freq1_harmonics_rel_phase_3</li><li>Freq2_harmonics_amplitude_0</li><li>Freq2_harmonics_amplitude_1</li><li>Freq2_harmonics_amplitude_2</li><li>Freq2_harmonics_amplitude_3</li><li>Freq2_harmonics_rel_phase_1</li><li>Freq2_harmonics_rel_phase_2</li><li>Freq2_harmonics_rel_phase_3</li><li>Freq3_harmonics_amplitude_0</li><li>Freq3_harmonics_amplitude_1</li><li>Freq3_harmonics_amplitude_2</li><li>Freq3_harmonics_amplitude_3</li><li>Freq3_harmonics_rel_phase_1</li><li>Freq3_harmonics_rel_phase_2</li><li>Freq3_harmonics_rel_phase_3</li><li>LinearTrend</li><li>MaxSlope</li><li>Mean</li><li>Meanvariance</li><li>MedianAbsDev</li><li>MedianBRP</li><li>PairSlopeTrend</li><li>PercentAmplitude</li><li>PercentDifferenceFluxPercentile</li><li>PeriodLS</li><li>Psi_CS</li><li>Psi_eta</li><li>Q31</li><li>Rcs</li><li>Skew</li><li>SmallKurtosis</li><li>Std</li></ol>"
      ],
      "text/plain": [
       "<IPython.core.display.HTML object>"
      ]
     },
     "metadata": {},
     "output_type": "display_data"
    }
   ],
   "source": [
    "d.display(d.HTML(\n",
    "    \"<ol>\" +\n",
    "    \"\".join(\"<li>{}</li>\".format(c) for c in X_columns) +\n",
    "    \"</ol>\"))"
   ]
  },
  {
   "cell_type": "markdown",
   "metadata": {},
   "source": [
    "## 3. Machine Learning"
   ]
  },
  {
   "cell_type": "markdown",
   "metadata": {},
   "source": [
    "The next function fit the classifier with kfolds (`default=10`) print a and retrieve:\n",
    "\n",
    "- **fpr:** False positive rates\n",
    "- **tpr:** True positive rates\n",
    "- **thresh:** Decreasing thresholds on the decision function used to compute fpr and tpr\n",
    "- **roc_auc:** Area under curve of ROC Curve.\n",
    "- **y_test:** Array of all classes of testing samples.\n",
    "- **predictions:** The prediction clases for the testing samples.\n",
    "- **probabilities:** Predicted classes probabilities for tests.\n",
    "- **confussion_matrix:** Confusion matrix to evaluate the accuracy of a classification"
   ]
  },
  {
   "cell_type": "code",
   "execution_count": 7,
   "metadata": {
    "collapsed": true
   },
   "outputs": [],
   "source": [
    "def experiment(clf, x, y, nfolds=10, printing=True):\n",
    "    skf = StratifiedKFold(n_splits=nfolds)\n",
    "    \n",
    "    probabilities = None\n",
    "    predictions = np.array([])\n",
    "    y_testing = np.array([])\n",
    "    \n",
    "    for train, test in skf.split(x, y):\n",
    "        ros = RandomOverSampler()\n",
    "        \n",
    "        x_train = x[train]\n",
    "        y_train = y[train]\n",
    "        x_train, y_train = ros.fit_sample(x_train, y_train)   \n",
    "\n",
    "        clf.fit(x_train, y_train)\n",
    "        \n",
    "        x_test = x[test]\n",
    "        y_test = y[test]\n",
    "        pr = clf.predict(x_test)\n",
    "        probs = clf.predict_proba(x_test)  #[:, 0]\n",
    "        \n",
    "        probabilities = (\n",
    "            probs if probabilities is None else\n",
    "            np.vstack([probabilities, probs]))\n",
    "        predictions = np.hstack([predictions, pr])\n",
    "        y_testing = np.hstack([y_testing, y_test])\n",
    "\n",
    "    if printing: \n",
    "        print metrics.classification_report(y_testing, predictions)\n",
    "        \n",
    "    fpr, tpr, thresholds = metrics.roc_curve(\n",
    "            y_testing, 1.-probabilities[:,0], pos_label=3)\n",
    "    prec_rec_curve = metrics.precision_recall_curve(\n",
    "        y_testing, 1.- probabilities[:,0], pos_label=3)\n",
    "    roc_auc = metrics.auc(fpr, tpr)\n",
    "    \n",
    "    return container.Container({\n",
    "            'fpr': fpr, \n",
    "            'tpr': tpr, \n",
    "            'thresh': thresholds, \n",
    "            'roc_auc': roc_auc, \n",
    "            'prec_rec_curve': prec_rec_curve,\n",
    "            'y_test': y_testing, \n",
    "            'predictions': predictions,\n",
    "            'probabilities': probabilities, \n",
    "            'confusion_matrix': metrics.confusion_matrix(y_testing, predictions)})\n",
    "\n",
    "\n",
    "def roc(results):\n",
    "    cmap = cm.get_cmap(\"plasma\")\n",
    "    colors = iter(cmap(np.linspace(0, 1, len(results))))\n",
    "\n",
    "    for res  in results:\n",
    "        cname = \"Vs.{}\".format(res.test_name)\n",
    "        color = next(colors)\n",
    "        label = '%s (area = %0.2f)' % (cname, res[\"roc_auc\"])\n",
    "        plt.plot(res[\"fpr\"], res[\"tpr\"], color=color, label=label)\n",
    "\n",
    "    plt.plot([0, 1], [0, 1], color='navy', lw=1, linestyle='--')\n",
    "    plt.xlim([0.0, 1.0])\n",
    "    plt.ylim([0.0, 1.05])\n",
    "    plt.xlabel('False Positive Rate')\n",
    "    plt.ylabel('True Positive Rate')\n",
    "    plt.title('Receiver operating characteristic example')\n",
    "    plt.legend(loc=\"lower right\")\n",
    "    plt.show()"
   ]
  },
  {
   "cell_type": "markdown",
   "metadata": {},
   "source": [
    "### 3.1. SVM - Linear\n",
    "\n",
    "Execute a **SVM** with a **linear kernel**. All the default parameters are documented here: http://scikit-learn.org/stable/modules/generated/sklearn.svm.SVC.html"
   ]
  },
  {
   "cell_type": "code",
   "execution_count": 8,
   "metadata": {},
   "outputs": [
    {
     "name": "stdout",
     "output_type": "stream",
     "text": [
      "             precision    recall  f1-score   support\n",
      "\n",
      "        0.0       0.97      0.88      0.92      2500\n",
      "        3.0       0.55      0.82      0.66       424\n",
      "\n",
      "avg / total       0.91      0.88      0.88      2924\n",
      "\n",
      "CPU times: user 1min 19s, sys: 716 ms, total: 1min 20s\n",
      "Wall time: 1min 20s\n"
     ]
    }
   ],
   "source": [
    "%time svc_linear = experiment(svm.SVC(kernel='linear', probability=True), X_scaled, y)"
   ]
  },
  {
   "cell_type": "markdown",
   "metadata": {},
   "source": [
    "### 3.2 SVM - Polynomic\n",
    "\n",
    "Execute a **SVM** with a **polynomic kernel**. All the default parameters are documented here: http://scikit-learn.org/stable/modules/generated/sklearn.svm.SVC.html"
   ]
  },
  {
   "cell_type": "code",
   "execution_count": 9,
   "metadata": {},
   "outputs": [
    {
     "name": "stdout",
     "output_type": "stream",
     "text": [
      "             precision    recall  f1-score   support\n",
      "\n",
      "        0.0       0.94      0.97      0.95      2500\n",
      "        3.0       0.77      0.65      0.71       424\n",
      "\n",
      "avg / total       0.92      0.92      0.92      2924\n",
      "\n",
      "CPU times: user 47.9 s, sys: 840 ms, total: 48.8 s\n",
      "Wall time: 51.6 s\n"
     ]
    }
   ],
   "source": [
    "%time svc_poly = experiment(svm.SVC(kernel='poly', probability=True), X_scaled, y)"
   ]
  },
  {
   "cell_type": "markdown",
   "metadata": {},
   "source": [
    "### 3.3. Random Forest\n",
    "\n",
    "Execute a **Random Forest** with **500 c45** trees. All the default parameters are documented here: http://scikit-learn.org/stable/modules/generated/sklearn.ensemble.RandomForestClassifier.html"
   ]
  },
  {
   "cell_type": "code",
   "execution_count": 10,
   "metadata": {
    "scrolled": false
   },
   "outputs": [
    {
     "name": "stdout",
     "output_type": "stream",
     "text": [
      "             precision    recall  f1-score   support\n",
      "\n",
      "        0.0       0.95      0.98      0.97      2500\n",
      "        3.0       0.89      0.72      0.80       424\n",
      "\n",
      "avg / total       0.95      0.95      0.94      2924\n",
      "\n",
      "CPU times: user 1min 59s, sys: 107 ms, total: 1min 59s\n",
      "Wall time: 3min 6s\n"
     ]
    }
   ],
   "source": [
    "%time rf = experiment(RandomForestClassifier(n_estimators=500, criterion=\"entropy\"), X_scaled, y)"
   ]
  },
  {
   "cell_type": "markdown",
   "metadata": {},
   "source": [
    "### 3.4. KNN\n",
    "\n",
    "KNN with **3** neightbors ad weights determined by the **distance**. Docs: http://scikit-learn.org/stable/modules/generated/sklearn.neighbors.KNeighborsClassifier.html"
   ]
  },
  {
   "cell_type": "code",
   "execution_count": 11,
   "metadata": {},
   "outputs": [
    {
     "name": "stdout",
     "output_type": "stream",
     "text": [
      "             precision    recall  f1-score   support\n",
      "\n",
      "        0.0       0.95      0.89      0.92      2500\n",
      "        3.0       0.53      0.69      0.60       424\n",
      "\n",
      "avg / total       0.88      0.87      0.87      2924\n",
      "\n",
      "CPU times: user 4.37 s, sys: 3.67 ms, total: 4.37 s\n",
      "Wall time: 9.61 s\n"
     ]
    }
   ],
   "source": [
    "%time knn = experiment(KNeighborsClassifier(n_neighbors=3, weights='distance'), X_scaled, y)"
   ]
  },
  {
   "cell_type": "markdown",
   "metadata": {},
   "source": [
    "## 4. ROC"
   ]
  },
  {
   "cell_type": "code",
   "execution_count": 12,
   "metadata": {},
   "outputs": [
    {
     "data": {
      "image/png": "[encoded data removed]",
      "text/plain": [
       "<matplotlib.figure.Figure at 0x7fdb7e519e50>"
      ]
     },
     "metadata": {},
     "output_type": "display_data"
    }
   ],
   "source": [
    "results = {\n",
    "    \"KNN\": knn, \n",
    "    \"RForest\": rf,\n",
    "    \"SVC Linear\": svc_linear,\n",
    "    \"SVC Polynomic\": svc_poly\n",
    "}\n",
    "\n",
    "cmap = cm.get_cmap(\"plasma\")\n",
    "colors = iter(cmap(np.linspace(0, 1, len(results))))\n",
    "\n",
    "for cname, res  in results.items():\n",
    "    color = next(colors)\n",
    "    label = '%s (area = %0.2f)' % (cname, res[\"roc_auc\"])\n",
    "    plt.plot(res[\"fpr\"], res[\"tpr\"], color=color, label=label)\n",
    "\n",
    "plt.plot([0, 1], [0, 1], color='navy', lw=1, linestyle='--')\n",
    "plt.xlim([0.0, 1.0])\n",
    "plt.ylim([0.0, 1.05])\n",
    "plt.xlabel('False Positive Rate')\n",
    "plt.ylabel('True Positive Rate')\n",
    "plt.title('Receiver operating characteristic')\n",
    "plt.legend(loc=\"lower right\")\n",
    "plt.show()"
   ]
  },
  {
   "cell_type": "code",
   "execution_count": null,
   "metadata": {},
   "outputs": [],
   "source": []
  }
 ],
 "metadata": {
  "kernelspec": {
   "display_name": "Python 2",
   "language": "python",
   "name": "python2"
  },
  "language_info": {
   "codemirror_mode": {
    "name": "ipython",
    "version": 2
   },
   "file_extension": ".py",
   "mimetype": "text/x-python",
   "name": "python",
   "nbconvert_exporter": "python",
   "pygments_lexer": "ipython2",
   "version": "2.7.6"
  }
 },
 "nbformat": 4,
 "nbformat_minor": 2
}
