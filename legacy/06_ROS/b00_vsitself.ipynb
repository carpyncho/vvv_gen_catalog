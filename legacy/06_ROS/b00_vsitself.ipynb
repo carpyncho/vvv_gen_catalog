version https://git-lfs.github.com/spec/v1
oid sha256:7bddd974c7f7c4796c0b5e13c625ffbb3763bb495b703eba83e0aaa85d71888c
size 67150
