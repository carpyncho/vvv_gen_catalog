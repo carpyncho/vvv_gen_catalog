version https://git-lfs.github.com/spec/v1
oid sha256:239456c31ed4607970af7140be40d0e62f5ad00699e6490fcef4f72c0e83171e
size 67089
