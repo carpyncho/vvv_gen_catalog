version https://git-lfs.github.com/spec/v1
oid sha256:480979f4e9159e9581306729bd7605c512e80113ea9f02d9f81c4b325c29f981
size 180651
