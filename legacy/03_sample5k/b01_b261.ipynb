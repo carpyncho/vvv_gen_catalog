version https://git-lfs.github.com/spec/v1
oid sha256:657bccef73bf4327c43c8d8748a937e5e9c4c72681161888307708bf5e33aad1
size 200340
