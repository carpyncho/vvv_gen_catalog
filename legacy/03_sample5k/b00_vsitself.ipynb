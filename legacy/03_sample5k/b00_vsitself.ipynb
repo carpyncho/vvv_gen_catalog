version https://git-lfs.github.com/spec/v1
oid sha256:eedd111741f0ff93a3e2aa0a00fc40f3daa123dab76e8cffff9cf187de2a4c99
size 65422
