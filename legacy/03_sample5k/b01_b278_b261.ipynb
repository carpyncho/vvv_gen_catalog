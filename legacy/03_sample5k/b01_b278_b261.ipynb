version https://git-lfs.github.com/spec/v1
oid sha256:5b881b26a1a136734ca07178d8f3a003ec7f02ffea2a1d51583028496af8eb46
size 167794
