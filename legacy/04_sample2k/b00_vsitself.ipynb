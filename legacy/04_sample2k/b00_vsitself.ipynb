version https://git-lfs.github.com/spec/v1
oid sha256:5f6ee00631ae9234aa1c693860a91247b9ff0be819b1632fdb62d112631be996
size 65684
