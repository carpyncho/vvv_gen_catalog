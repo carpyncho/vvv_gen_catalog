version https://git-lfs.github.com/spec/v1
oid sha256:635a65fa2c74c68df54855c0144a3a261337e78e08ccb2cf4b766cbb15641db6
size 166213
