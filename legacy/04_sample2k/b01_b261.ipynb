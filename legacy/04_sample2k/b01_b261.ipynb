version https://git-lfs.github.com/spec/v1
oid sha256:8cfe561a1fdc2e701ba7af86c534592ad922d92ad6e465679b2e944158bfaf4f
size 197855
