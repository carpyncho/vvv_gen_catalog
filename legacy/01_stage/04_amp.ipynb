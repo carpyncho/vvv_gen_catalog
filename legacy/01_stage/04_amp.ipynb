{
 "cells": [
  {
   "cell_type": "markdown",
   "metadata": {},
   "source": [
    "# AMP Feature For b278 VVV Tile\n",
    "\n",
    "- **author:** JB Cabral (<jbc.develop@gmail.com>)"
   ]
  },
  {
   "cell_type": "code",
   "execution_count": 1,
   "metadata": {
    "collapsed": true
   },
   "outputs": [],
   "source": [
    "% matplotlib inline\n",
    "\n",
    "from __future__ import print_function\n",
    "\n",
    "import numpy as np\n",
    "\n",
    "import pandas as pd\n",
    "\n",
    "from matplotlib import pyplot as plt\n",
    "import seaborn as sns\n",
    "sns.set()\n",
    "\n",
    "from sklearn import feature_selection as fs\n",
    "from sklearn import preprocessing as prp\n",
    "\n",
    "from skcriteria import Data, MAX, MIN\n",
    "from skcriteria.madm import topsis, electre\n",
    "from skcriteria.weights import critic\n",
    "\n",
    "from libs import fourier_help\n",
    "\n",
    "pd.options.mode.chained_assignment = None \n",
    "\n",
    "TWO_LABELS = {-1: -1, 1: 1, 2: 1, 3: 1}"
   ]
  },
  {
   "cell_type": "markdown",
   "metadata": {},
   "source": [
    "## Load Data"
   ]
  },
  {
   "cell_type": "code",
   "execution_count": 2,
   "metadata": {
    "collapsed": true
   },
   "outputs": [],
   "source": [
    "store = pd.HDFStore(\"/home/juan/proyectos/phd/src/astroestadistica/work/data/b278_full.h5\")\n",
    "vvv_x_ogle = store[\"vvv_x_ogle\"]\n",
    "srcs = store[\"sources\"]\n",
    "\n",
    "# obs helper\n",
    "obs_table = store.get_node(\"observations\")\n",
    "def get_amp(vvv_id):\n",
    "    query = \"source_id == \" + str(int(vvv_id))\n",
    "    data = []\n",
    "    for r in obs_table.where(query):\n",
    "        data.append({k: r[k] for k in obs_table.colnames})\n",
    "    obs = pd.DataFrame(data)[obs_table.colnames]\n",
    "    mags = obs.sort_values(\"hjd\").mag.values\n",
    "    fluxs = 10 ** (mags / -2.5)\n",
    "    count, std_flux, mean_flux = len(fluxs), np.std(fluxs), np.mean(fluxs)\n",
    "    return np.log10(np.sqrt(count * std_flux / mean_flux))    "
   ]
  },
  {
   "cell_type": "code",
   "execution_count": 4,
   "metadata": {
    "collapsed": true
   },
   "outputs": [],
   "source": [
    "rr_ids = vvv_x_ogle[vvv_x_ogle.star_type.str.startswith(\"RRLy\")].vvv_id.values\n",
    "nv_ids = srcs[(~srcs.id.isin(rr_ids)) & (srcs.obs_number > 44)].sample(20).id.values"
   ]
  },
  {
   "cell_type": "code",
   "execution_count": 5,
   "metadata": {
    "collapsed": true
   },
   "outputs": [],
   "source": [
    "data = []\n",
    "for src_id in rr_ids:\n",
    "    data.append({\"vvv_id\": src_id, \"amp\": get_amp(src_id)})\n",
    "for src_id in nv_ids:\n",
    "    data.append({\"vvv_id\": src_id, \"amp\": get_amp(src_id)})"
   ]
  },
  {
   "cell_type": "code",
   "execution_count": 9,
   "metadata": {
    "collapsed": true
   },
   "outputs": [],
   "source": [
    "amp = pd.DataFrame(data)[[\"vvv_id\", \"amp\"]]\n",
    "amp.to_pickle(\"amp.pkl\")"
   ]
  },
  {
   "cell_type": "code",
   "execution_count": 10,
   "metadata": {
    "collapsed": true
   },
   "outputs": [],
   "source": [
    "df = pd.read_hdf(\"data/features.h5\", \"b278\")\n",
    "df[\"period_diff\"] = np.abs(df.PeriodLS - df.gatspy_period)\n",
    "df[\"cls\"] = df[\"cls\"].astype('category')\n",
    "df[\"scls\"] = df.apply(lambda r: TWO_LABELS[r[\"cls\"]], axis=1).astype(\"category\")"
   ]
  },
  {
   "cell_type": "code",
   "execution_count": 11,
   "metadata": {
    "collapsed": true
   },
   "outputs": [],
   "source": [
    "df = df[df.vvv_id.isin(amp.vvv_id)]"
   ]
  },
  {
   "cell_type": "code",
   "execution_count": 18,
   "metadata": {
    "collapsed": true
   },
   "outputs": [],
   "source": [
    "df = df.join(amp, on=\"vvv_id\", rsuffix=\"_amp\")"
   ]
  },
  {
   "cell_type": "code",
   "execution_count": 22,
   "metadata": {
    "collapsed": true
   },
   "outputs": [],
   "source": [
    "df = df[[c for c in df.columns if c != \"vvv_id_amp\"]]"
   ]
  },
  {
   "cell_type": "code",
   "execution_count": 23,
   "metadata": {
    "collapsed": true
   },
   "outputs": [],
   "source": [
    "df.to_csv(\"data/to_mariano.csv\")"
   ]
  }
 ],
 "metadata": {
  "kernelspec": {
   "display_name": "Python 2",
   "language": "python",
   "name": "python2"
  },
  "language_info": {
   "codemirror_mode": {
    "name": "ipython",
    "version": 2
   },
   "file_extension": ".py",
   "mimetype": "text/x-python",
   "name": "python",
   "nbconvert_exporter": "python",
   "pygments_lexer": "ipython2",
   "version": "2.7.6"
  }
 },
 "nbformat": 4,
 "nbformat_minor": 2
}
