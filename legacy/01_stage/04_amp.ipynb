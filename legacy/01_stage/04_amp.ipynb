version https://git-lfs.github.com/spec/v1
oid sha256:2324b1555d7ee931390cb8b65052c17f8692e8e58321fef7a42011166761b845
size 4613
