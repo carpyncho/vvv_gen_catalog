version https://git-lfs.github.com/spec/v1
oid sha256:3cb37d44d0f9a38b65f34afc4179d933cd8855562fd3fb90c572f57087336421
size 224039
