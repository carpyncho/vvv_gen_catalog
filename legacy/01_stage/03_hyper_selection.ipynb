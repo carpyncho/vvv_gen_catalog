version https://git-lfs.github.com/spec/v1
oid sha256:abe29c757ba0fd9a99025c15204cf922514e07dd285b67a72b324df4563a3407
size 84277
