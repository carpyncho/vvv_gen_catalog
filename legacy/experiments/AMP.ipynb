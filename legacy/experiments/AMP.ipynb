version https://git-lfs.github.com/spec/v1
oid sha256:ec8e6c3a524fce0d0b0feeb3630902dd100644ce7ff44311354bca37ff565133
size 108114
