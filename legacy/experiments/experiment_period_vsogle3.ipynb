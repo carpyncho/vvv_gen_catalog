version https://git-lfs.github.com/spec/v1
oid sha256:05735306b2fbf2357e7258572c0f18261a3142b50bf16aecdcf96b51d5cd5c97
size 51914
