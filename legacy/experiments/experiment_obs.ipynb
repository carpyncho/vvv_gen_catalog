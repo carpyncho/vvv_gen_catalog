version https://git-lfs.github.com/spec/v1
oid sha256:5fe9a1c6d9a0e33eb88395834a24cb0056e4ceae5d77a680ba55310640f61705
size 91776
