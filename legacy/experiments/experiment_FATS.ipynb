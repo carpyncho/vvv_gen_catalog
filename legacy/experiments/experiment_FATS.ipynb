version https://git-lfs.github.com/spec/v1
oid sha256:8c80a37ae79cefde44962d2b41c5478e38b921a0be89fa37efe65c1692af6b3b
size 87634
