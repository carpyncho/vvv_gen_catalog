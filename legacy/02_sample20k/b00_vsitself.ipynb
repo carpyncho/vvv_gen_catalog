version https://git-lfs.github.com/spec/v1
oid sha256:e0d302fcff80608a18f0f9f38db6a8b28025bf54bcafe2903d5288d64bd7f3d1
size 67727
