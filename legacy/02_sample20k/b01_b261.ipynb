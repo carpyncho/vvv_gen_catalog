version https://git-lfs.github.com/spec/v1
oid sha256:d259f4ecaa09450cf9f8f1d5dc016936645995fe32d573d912768b8a9d4f8916
size 203431
