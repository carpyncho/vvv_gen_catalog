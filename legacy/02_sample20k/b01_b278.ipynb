version https://git-lfs.github.com/spec/v1
oid sha256:e68b2889f3116becc9e09ae799240fff5824b210f0e7e5db436a43aec550636b
size 179141
