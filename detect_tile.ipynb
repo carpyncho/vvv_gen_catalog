{
 "cells": [
  {
   "cell_type": "markdown",
   "metadata": {},
   "source": [
    "# Features Selection MonoVariate"
   ]
  },
  {
   "cell_type": "code",
   "execution_count": 1,
   "metadata": {},
   "outputs": [
    {
     "name": "stderr",
     "output_type": "stream",
     "text": [
      "/home/jbcabral/projects/paper_b278/local/lib/python2.7/site-packages/IPython/config.py:13: ShimWarning: The `IPython.config` package has been deprecated since IPython 4.0. You should import from traitlets.config instead.\n",
      "  \"You should import from traitlets.config instead.\", ShimWarning)\n",
      "/home/jbcabral/projects/paper_b278/local/lib/python2.7/site-packages/IPython/utils/traitlets.py:5: UserWarning: IPython.utils.traitlets has moved to a top-level traitlets package.\n",
      "  warn(\"IPython.utils.traitlets has moved to a top-level traitlets package.\")\n"
     ]
    }
   ],
   "source": [
    "% matplotlib inline\n",
    "\n",
    "import pickle\n",
    "import time\n",
    "\n",
    "import pandas as pd\n",
    "\n",
    "from IPython import display as d\n",
    "# from IPython import \n",
    "\n",
    "import matplotlib.pyplot as plt\n",
    "import seaborn as sns\n",
    "# sns.set()\n",
    "\n",
    "from sklearn.svm import SVC\n",
    "from sklearn.tree import DecisionTreeClassifier\n",
    "from sklearn.ensemble import RandomForestClassifier\n",
    "from sklearn.neighbors import KNeighborsClassifier\n",
    "from sklearn.feature_selection import RFE, RFECV\n",
    "from sklearn import feature_selection as fs\n",
    "from sklearn import metrics\n",
    "from sklearn.utils.multiclass import unique_labels\n",
    "from sklearn.model_selection import (\n",
    "    KFold, StratifiedKFold, train_test_split)\n",
    "from sklearn import preprocessing as prp\n",
    "import sklearn\n",
    "\n",
    "from joblib import Parallel, cpu_count, delayed\n",
    "\n",
    "from libs import container\n",
    "from libs.experiment import (\n",
    "    WithAnotherExperiment, KFoldExperiment, roc, \n",
    "    discretize_classes, clean_features)\n",
    "\n",
    "%load_ext ipycache"
   ]
  },
  {
   "cell_type": "markdown",
   "metadata": {},
   "source": [
    "## 1. Load Data"
   ]
  },
  {
   "cell_type": "code",
   "execution_count": 2,
   "metadata": {},
   "outputs": [],
   "source": [
    "start = time.time()\n",
    "\n",
    "df = pd.read_pickle(\"data/normalized2500.pkl\")\n",
    "\n",
    "scaler = {k: (v0, v1) for k,v0,v1 in pickle.load(open(\"data/scaler.pkl\"))}"
   ]
  },
  {
   "cell_type": "markdown",
   "metadata": {},
   "source": [
    "##  2. Preprocess\n",
    "\n",
    "### 2.1. Discretize the classes"
   ]
  },
  {
   "cell_type": "code",
   "execution_count": 3,
   "metadata": {},
   "outputs": [
    {
     "data": {
      "text/markdown": [
       "**Classes**"
      ],
      "text/plain": [
       "<IPython.core.display.Markdown object>"
      ]
     },
     "metadata": {},
     "output_type": "display_data"
    },
    {
     "data": {
      "text/plain": [
       "{'': 0,\n",
       " 'Cep-1': 1,\n",
       " 'Cep-F': 2,\n",
       " 'LPV-OSARG': 4,\n",
       " 'LPV-SRV': 5,\n",
       " 'RRLyr-RRab': 6,\n",
       " 'RRLyr-RRc': 7,\n",
       " 'RRLyr-RRd': 8,\n",
       " 'T2Cep-BLHer': 9}"
      ]
     },
     "metadata": {},
     "output_type": "display_data"
    },
    {
     "data": {
      "text/markdown": [
       "----"
      ],
      "text/plain": [
       "<IPython.core.display.Markdown object>"
      ]
     },
     "metadata": {},
     "output_type": "display_data"
    },
    {
     "data": {
      "text/markdown": [
       "**Simplified Classes**"
      ],
      "text/plain": [
       "<IPython.core.display.Markdown object>"
      ]
     },
     "metadata": {},
     "output_type": "display_data"
    },
    {
     "data": {
      "text/plain": [
       "{'': 0, 'Cep': 1, 'LPV': 2, 'RRLyr': 3, 'T2Cep': 4}"
      ]
     },
     "metadata": {},
     "output_type": "display_data"
    },
    {
     "data": {
      "text/markdown": [
       "----"
      ],
      "text/plain": [
       "<IPython.core.display.Markdown object>"
      ]
     },
     "metadata": {},
     "output_type": "display_data"
    },
    {
     "data": {
      "text/markdown": [
       "**Tile Classes**"
      ],
      "text/plain": [
       "<IPython.core.display.Markdown object>"
      ]
     },
     "metadata": {},
     "output_type": "display_data"
    },
    {
     "data": {
      "text/plain": [
       "{'b261': 2, 'b262': 0, 'b263': 1, 'b264': 4, 'b278': 3}"
      ]
     },
     "metadata": {},
     "output_type": "display_data"
    }
   ],
   "source": [
    "def corrector(row):\n",
    "    o3t = (row.ogle3_type or \"\").split(\"-\", 1)[0]\n",
    "    scls = row.scls\n",
    "    return o3t, scls\n",
    "\n",
    "classes = dict(set(map(tuple, df[[\"ogle3_type\", \"cls\"]].values)))    \n",
    "sclasses = dict(set(map(tuple, df[[\"ogle3_type\", \"scls\"]].apply(corrector, axis=1).values)))\n",
    "tclasses = {k: v for v, k in enumerate(df.tcls.unique())}\n",
    "\n",
    "def to_tcls(row):\n",
    "    tcls = str(row.tcls)\n",
    "    return tclasses[tcls]\n",
    "\n",
    "df.tcls = df.apply(to_tcls, axis=1)\n",
    "\n",
    "d.display(d.Markdown(\"**Classes**\"))\n",
    "d.display(classes)\n",
    "\n",
    "d.display(d.Markdown(\"----\"))\n",
    "d.display(d.Markdown(\"**Simplified Classes**\"))\n",
    "d.display(sclasses)\n",
    "\n",
    "d.display(d.Markdown(\"----\"))\n",
    "d.display(d.Markdown(\"**Tile Classes**\"))\n",
    "d.display(tclasses)"
   ]
  },
  {
   "cell_type": "markdown",
   "metadata": {},
   "source": [
    "### 2.2. Removes all low-variance and \"bad\" features"
   ]
  },
  {
   "cell_type": "code",
   "execution_count": 4,
   "metadata": {},
   "outputs": [
    {
     "name": "stdout",
     "output_type": "stream",
     "text": [
      "Removing [] because null\n",
      "Removing [] because lowvariance\n",
      "('Total features:', 55)\n"
     ]
    }
   ],
   "source": [
    "X_columns = clean_features({\"df\": df}, \"df\")\n",
    "# X_columns = X_columns.drop(\"AndersonDarling\")\n",
    "X_columns = X_columns[~(X_columns.str.startswith(\"Freq2_\") | X_columns.str.startswith(\"Freq3_\"))]\n",
    "print(\"Total features:\", X_columns.size)"
   ]
  },
  {
   "cell_type": "markdown",
   "metadata": {},
   "source": [
    "### 2.3. Selected features"
   ]
  },
  {
   "cell_type": "code",
   "execution_count": 5,
   "metadata": {},
   "outputs": [
    {
     "data": {
      "text/plain": [
       "Index([u'cnt', u'Amplitude', u'Autocor_length', u'Beyond1Std', u'CAR_mean',\n",
       "       u'CAR_sigma', u'CAR_tau', u'Con', u'Eta_e', u'FluxPercentileRatioMid20',\n",
       "       u'FluxPercentileRatioMid35', u'FluxPercentileRatioMid50',\n",
       "       u'FluxPercentileRatioMid65', u'FluxPercentileRatioMid80',\n",
       "       u'Freq1_harmonics_amplitude_0', u'Freq1_harmonics_amplitude_1',\n",
       "       u'Freq1_harmonics_amplitude_2', u'Freq1_harmonics_amplitude_3',\n",
       "       u'Freq1_harmonics_rel_phase_1', u'Freq1_harmonics_rel_phase_2',\n",
       "       u'Freq1_harmonics_rel_phase_3', u'LinearTrend', u'MaxSlope', u'Mean',\n",
       "       u'Meanvariance', u'MedianAbsDev', u'MedianBRP', u'PairSlopeTrend',\n",
       "       u'PercentAmplitude', u'PercentDifferenceFluxPercentile', u'PeriodLS',\n",
       "       u'Psi_CS', u'Psi_eta', u'Q31', u'Rcs', u'Skew', u'SmallKurtosis',\n",
       "       u'Std', u'c89_jk_color', u'c89_hk_color', u'c89_jh_color',\n",
       "       u'n09_jk_color', u'n09_hk_color', u'n09_jh_color', u'c89_m2', u'c89_m4',\n",
       "       u'c89_c3', u'n09_m2', u'n09_m4', u'n09_c3', u'AmplitudeH',\n",
       "       u'AmplitudeJ', u'ppmb', u'AmplitudeJH', u'AmplitudeJK'],\n",
       "      dtype='object')"
      ]
     },
     "execution_count": 5,
     "metadata": {},
     "output_type": "execute_result"
    }
   ],
   "source": [
    "X_columns"
   ]
  },
  {
   "cell_type": "code",
   "execution_count": 6,
   "metadata": {},
   "outputs": [
    {
     "data": {
      "text/plain": [
       "{'': 0, 'Cep': 1, 'LPV': 2, 'RRLyr': 3, 'T2Cep': 4}"
      ]
     },
     "execution_count": 6,
     "metadata": {},
     "output_type": "execute_result"
    }
   ],
   "source": [
    "sclasses"
   ]
  },
  {
   "cell_type": "code",
   "execution_count": 7,
   "metadata": {},
   "outputs": [
    {
     "data": {
      "text/plain": [
       "<matplotlib.axes._subplots.AxesSubplot at 0x7f2793dae690>"
      ]
     },
     "execution_count": 7,
     "metadata": {},
     "output_type": "execute_result"
    },
    {
     "data": {
      "image/png": "[encoded data removed]",
      "text/plain": [
       "<matplotlib.figure.Figure at 0x7f2793dbc410>"
      ]
     },
     "metadata": {},
     "output_type": "display_data"
    }
   ],
   "source": [
    "import numpy as np\n",
    "flt = (12 - scaler[\"Mean\"][0]) / scaler[\"Mean\"][1], (16.5 - scaler[\"Mean\"][0]) / scaler[\"Mean\"][1]\n",
    "\n",
    "def plot(data):\n",
    "    all_df = data\n",
    "    size = len(all_df)\n",
    "\n",
    "    all_df['C'] = pd.Series(np.ones(size), index=all_df.index)\n",
    "\n",
    "    unk = all_df[all_df.cls == 0]\n",
    "    unk_size = len(unk)\n",
    "\n",
    "    ax = unk.plot.hexbin(\n",
    "        \"Mean\", \"Std\", cmap=\"Blues\", C=\"C\", \n",
    "        reduce_C_function=lambda x: (np.sum(x) / unk_size),\n",
    "        figsize=(18, 10))\n",
    "\n",
    "    all_df[all_df.cls == 6].plot.scatter(\"Mean\", \"Std\", s=15, color=\"g\", ax=ax, label=\"AB\")\n",
    "    all_df[all_df.cls == 7].plot.scatter(\"Mean\", \"Std\", s=15, color=\"r\", ax=ax, label=\"C\")\n",
    "\n",
    "    for limit in flt:\n",
    "        ax.axvline(limit, color=\"r\")\n",
    "\n",
    "\n",
    "    bins = np.histogram(unk.Mean, bins=50)[1]\n",
    "\n",
    "    unk = unk.assign(bins=unk.Mean.apply(np.digitize, bins=bins))\n",
    "\n",
    "    for idx in bins:\n",
    "        ax.axvline(idx, color=\"b\", alpha=.2)\n",
    "\n",
    "    plt.plot(bins, unk.groupby(\"bins\")[\"Std\"].median(), \"k\")\n",
    "    plt.plot(bins, unk.groupby(\"bins\")[\"Std\"].mean(), \"y\")\n",
    "\n",
    "    return ax\n",
    "    \n",
    "plot(df)"
   ]
  },
  {
   "cell_type": "code",
   "execution_count": 8,
   "metadata": {},
   "outputs": [],
   "source": [
    "tile_unk = df.groupby(\"tcls\").apply(lambda x: x[x.scls==0].sample(500))\n",
    "\n",
    "min_size = df[df.scls == 3].groupby(\"tcls\").size().min()\n",
    "tile_balanced = df.groupby(\"tcls\").apply(lambda x: x[x.scls==3].sample(min_size))"
   ]
  },
  {
   "cell_type": "code",
   "execution_count": 9,
   "metadata": {},
   "outputs": [],
   "source": [
    "def experiment(clf, x_train, y_train, x_test, y_test, pos_label):\n",
    "    clf = sklearn.clone(clf)\n",
    "    clf.fit(x_train, y_train)\n",
    "\n",
    "    predictions = clf.predict(x_test)\n",
    "    probabilities = clf.predict_proba(x_test)\n",
    "\n",
    "    fpr, tpr, thresholds = metrics.roc_curve(\n",
    "        y_test, 1.-probabilities[:,0], pos_label=pos_label)\n",
    "    prec_rec_curve = metrics.precision_recall_curve(\n",
    "        y_test, 1.- probabilities[:,0], pos_label=pos_label)\n",
    "    roc_auc = metrics.auc(fpr, tpr)\n",
    "\n",
    "    return container.Container({\n",
    "            'fpr': fpr, \n",
    "            'tpr': tpr, \n",
    "            'thresh': thresholds, \n",
    "            'roc_auc': roc_auc, \n",
    "            'prec_rec_curve': prec_rec_curve,\n",
    "            'y_test': y_test, \n",
    "            'predictions': predictions,\n",
    "            'probabilities': probabilities, \n",
    "            'confusion_matrix': metrics.confusion_matrix(y_test, predictions)})\n",
    "\n",
    "\n",
    "# kfold\n",
    "def kfolds(data, X_columns, y_column, clf, nfolds, verbose=True):\n",
    "    skf = StratifiedKFold(n_splits=nfolds)\n",
    "\n",
    "    subject_df = data\n",
    "\n",
    "    x = subject_df[X_columns].values\n",
    "    y = subject_df[y_column].values\n",
    "    y_real = subject_df[y_column].values\n",
    "\n",
    "    probabilities = None\n",
    "    predictions = np.array([])\n",
    "    y_testing = np.array([])\n",
    "    y_testing_real = np.array([])\n",
    "\n",
    "    for train, test in skf.split(x, y):\n",
    "        x_train = x[train]\n",
    "        y_train = y[train]\n",
    "        x_test = x[test]\n",
    "        y_test = y[test]\n",
    "        y_test_real = y_real[test]\n",
    "\n",
    "        rst = experiment(clf, x_train, y_train, x_test, y_test, pos_label=0)            \n",
    "        \n",
    "        probabilities = (\n",
    "            rst.probabilities if probabilities is None else\n",
    "            np.vstack([probabilities, rst.probabilities]))\n",
    "        predictions = np.hstack([predictions, rst.predictions])\n",
    "        y_testing = np.hstack([y_testing, y_test])\n",
    "        y_testing_real = np.hstack([y_testing_real, y_test_real])\n",
    "        del rst\n",
    "\n",
    "    fpr, tpr, thresholds = metrics.roc_curve(\n",
    "        y_testing, 1.-probabilities[:,0], pos_label=0)\n",
    "    prec_rec_curve = metrics.precision_recall_curve(\n",
    "        y_testing, 1.- probabilities[:,0], pos_label=0)\n",
    "    roc_auc = metrics.auc(fpr, tpr)\n",
    "    \n",
    "    if verbose:\n",
    "        print metrics.classification_report(y_testing, predictions)\n",
    "        print \"-\" * 80\n",
    "\n",
    "    return container.Container({\n",
    "        'fpr': fpr, \n",
    "        'tpr': tpr, \n",
    "        'thresh': thresholds, \n",
    "        'roc_auc': roc_auc, \n",
    "        'prec_rec_curve': prec_rec_curve,\n",
    "        'y_test': y_testing, \n",
    "        'y_test_real': y_testing_real,\n",
    "        'predictions': predictions,\n",
    "        'probabilities': probabilities, \n",
    "        'confusion_matrix': metrics.confusion_matrix(y_testing, predictions)})"
   ]
  },
  {
   "cell_type": "code",
   "execution_count": 10,
   "metadata": {},
   "outputs": [
    {
     "name": "stdout",
     "output_type": "stream",
     "text": [
      "             precision    recall  f1-score   support\n",
      "\n",
      "        0.0       0.27      0.16      0.20       220\n",
      "        1.0       0.34      0.34      0.34       220\n",
      "        2.0       0.32      0.15      0.21       220\n",
      "        3.0       0.26      0.72      0.38       220\n",
      "        4.0       0.39      0.07      0.12       220\n",
      "\n",
      "avg / total       0.32      0.29      0.25      1100\n",
      "\n",
      "--------------------------------------------------------------------------------\n",
      "CPU times: user 5.26 s, sys: 0 ns, total: 5.26 s\n",
      "Wall time: 5.25 s\n"
     ]
    }
   ],
   "source": [
    "%%time\n",
    "clf = SVC(kernel='poly', probability=True)\n",
    "kfolds(tile_balanced, X_columns, y_column=\"tcls\", clf=clf, nfolds=10)"
   ]
  },
  {
   "cell_type": "code",
   "execution_count": 11,
   "metadata": {},
   "outputs": [
    {
     "name": "stdout",
     "output_type": "stream",
     "text": [
      "             precision    recall  f1-score   support\n",
      "\n",
      "        0.0       0.22      0.79      0.35       500\n",
      "        1.0       0.30      0.19      0.23       500\n",
      "        2.0       0.28      0.08      0.12       500\n",
      "        3.0       0.49      0.11      0.18       500\n",
      "        4.0       0.32      0.10      0.15       500\n",
      "\n",
      "avg / total       0.32      0.25      0.21      2500\n",
      "\n",
      "--------------------------------------------------------------------------------\n",
      "CPU times: user 26.6 s, sys: 0 ns, total: 26.6 s\n",
      "Wall time: 26.6 s\n"
     ]
    }
   ],
   "source": [
    "%%time\n",
    "clf = SVC(kernel='poly', probability=True)\n",
    "kfolds(tile_unk, X_columns, y_column=\"tcls\", clf=clf, nfolds=10)"
   ]
  },
  {
   "cell_type": "code",
   "execution_count": 12,
   "metadata": {},
   "outputs": [
    {
     "name": "stdout",
     "output_type": "stream",
     "text": [
      "0 - b262\n",
      "1 - b263\n",
      "2 - b261\n",
      "3 - b278\n",
      "4 - b264\n"
     ]
    }
   ],
   "source": [
    "print \"\\n\".join([\"{} - {}\".format(v, k) for k, v in sorted(tclasses.items(), key=lambda e: e[-1])])"
   ]
  },
  {
   "cell_type": "markdown",
   "metadata": {},
   "source": [
    "# SHUFFLE"
   ]
  },
  {
   "cell_type": "code",
   "execution_count": 13,
   "metadata": {},
   "outputs": [],
   "source": [
    "def shuffle_columns(df, to_shuffle):\n",
    "    columns = {}\n",
    "    for c in  df.columns:\n",
    "        values = np.copy(df[c].values)\n",
    "        if c in to_shuffle:\n",
    "            np.random.shuffle(values)\n",
    "        columns[c] = values\n",
    "    return pd.DataFrame(columns, index=df.index.copy())\n",
    "\n",
    "def _experiment(job_n, df, X_columns):\n",
    "    print \"Starting job \", job_n\n",
    "    clf = SVC(kernel='poly', probability=True)\n",
    "    return kfolds(\n",
    "        df, X_columns, y_column=\"tcls\", \n",
    "        clf=clf, nfolds=10, verbose=False)"
   ]
  },
  {
   "cell_type": "code",
   "execution_count": 33,
   "metadata": {},
   "outputs": [],
   "source": [
    "tile_mix = pd.concat([tile_balanced, tile_unk])"
   ]
  },
  {
   "cell_type": "code",
   "execution_count": 35,
   "metadata": {},
   "outputs": [
    {
     "name": "stdout",
     "output_type": "stream",
     "text": [
      "[Skipped the cell's code and loaded variables mix_shuffle from file '/home/jbcabral/projects/paper_b278/src/data/mix_shuffle.pkl'.]\n"
     ]
    }
   ],
   "source": [
    "%%cache data/mix_shuffle.pkl mix_shuffle \n",
    "with Parallel(n_jobs=cpu_count()) as jobs:\n",
    "    mix_shuffle = jobs(delayed(_experiment)(idx, shuffle_columns(tile_mix, X_columns), X_columns) \n",
    "                   for idx in range(100))\n",
    "mix_shuffle = map(dict, mix_shuffle)"
   ]
  },
  {
   "cell_type": "code",
   "execution_count": 32,
   "metadata": {},
   "outputs": [
    {
     "name": "stdout",
     "output_type": "stream",
     "text": [
      "[Skipped the cell's code and loaded variables rr_shuffle from file '/home/jbcabral/projects/paper_b278/src/data/rr_shuffle.pkl'.]\n"
     ]
    }
   ],
   "source": [
    "%%cache data/rr_shuffle.pkl rr_shuffle \n",
    "with Parallel(n_jobs=cpu_count()) as jobs:\n",
    "    rr_shuffle = jobs(delayed(_experiment)(idx, shuffle_columns(tile_balanced, X_columns), X_columns) \n",
    "                   for idx in range(100))\n",
    "rr_shuffle = map(dict, rr_shuffle)"
   ]
  },
  {
   "cell_type": "code",
   "execution_count": 18,
   "metadata": {},
   "outputs": [
    {
     "name": "stdout",
     "output_type": "stream",
     "text": [
      "[Skipped the cell's code and loaded variables unk_shuffle from file '/home/jbcabral/projects/paper_b278/src/data/unk_shuffle.pkl'.]\n"
     ]
    }
   ],
   "source": [
    "%%cache data/unk_shuffle.pkl unk_shuffle\n",
    "with Parallel(n_jobs=cpu_count()) as jobs:\n",
    "    unk_shuffle = jobs(delayed(_experiment)(idx, shuffle_columns(tile_unk, X_columns), X_columns) \n",
    "                   for idx in range(2))\n",
    "unk_shuffle = map(dict, unk_shuffle)"
   ]
  },
  {
   "cell_type": "code",
   "execution_count": 36,
   "metadata": {},
   "outputs": [],
   "source": [
    "mix_shuffle = map(container.Container, mix_shuffle)\n",
    "rr_shuffle = map(container.Container, rr_shuffle)\n",
    "unk_shuffle = map(container.Container, unk_shuffle)"
   ]
  },
  {
   "cell_type": "code",
   "execution_count": 37,
   "metadata": {},
   "outputs": [],
   "source": [
    "def mean_r(results):\n",
    "    precs, recalls, f1s, supports = [], [], [], []\n",
    "    for r in results:\n",
    "        prec, recall, f1, sup = metrics.precision_recall_fscore_support(\n",
    "            r.y_test, r.predictions, labels=tclasses.values(),\n",
    "            average=None, sample_weight=None)\n",
    "        precs.append(prec)\n",
    "        recalls.append(recall)\n",
    "        f1s.append(f1)\n",
    "        supports.append(sup)\n",
    "    precs = pd.DataFrame(precs)\n",
    "    recalls = pd.DataFrame(recalls)\n",
    "    f1s = pd.DataFrame(f1s)\n",
    "    supports = pd.DataFrame(supports)\n",
    "    return (\n",
    "        precs.mean(axis=0).values,\n",
    "        recalls.mean(axis=0).values,\n",
    "        f1s.mean(axis=0).values,\n",
    "        supports.mean(axis=0).values)\n",
    "\n",
    "def var_r(results):\n",
    "    precs, recalls, f1s, supports = [], [], [], []\n",
    "    for r in results:\n",
    "        prec, recall, f1, sup = metrics.precision_recall_fscore_support(\n",
    "            r.y_test, r.predictions, labels=tclasses.values(),\n",
    "            average=None, sample_weight=None)\n",
    "        precs.append(prec)\n",
    "        recalls.append(recall)\n",
    "        f1s.append(f1)\n",
    "        supports.append(sup)\n",
    "    precs = pd.DataFrame(precs)\n",
    "    recalls = pd.DataFrame(recalls)\n",
    "    f1s = pd.DataFrame(f1s)\n",
    "    supports = pd.DataFrame(supports)\n",
    "    return (\n",
    "        precs.var(axis=0).values,\n",
    "        recalls.var(axis=0).values,\n",
    "        f1s.var(axis=0).values,\n",
    "        supports.var(axis=0).values)"
   ]
  },
  {
   "cell_type": "code",
   "execution_count": 21,
   "metadata": {},
   "outputs": [],
   "source": [
    "def print_r(r):\n",
    "    dt = dict(zip([\"precision\", \"recall\", \"f1-score\", \"support\"], r))\n",
    "    df = pd.DataFrame(dt)\n",
    "    means_row = df.mean(axis=0).to_dict()\n",
    "    new_index = list(df.index) + [\"avg / total\"]\n",
    "    df = df.append(means_row, ignore_index=True)\n",
    "    df = df.assign(new_index=new_index)\n",
    "    df = df.set_index(\"new_index\")\n",
    "    return df"
   ]
  },
  {
   "cell_type": "code",
   "execution_count": 38,
   "metadata": {},
   "outputs": [
    {
     "data": {
      "text/markdown": [
       "## RRLyrae + Unknow stars"
      ],
      "text/plain": [
       "<IPython.core.display.Markdown object>"
      ]
     },
     "metadata": {},
     "output_type": "display_data"
    },
    {
     "data": {
      "text/markdown": [
       "### Average"
      ],
      "text/plain": [
       "<IPython.core.display.Markdown object>"
      ]
     },
     "metadata": {},
     "output_type": "display_data"
    },
    {
     "data": {
      "text/html": [
       "<div>\n",
       "<style>\n",
       "    .dataframe thead tr:only-child th {\n",
       "        text-align: right;\n",
       "    }\n",
       "\n",
       "    .dataframe thead th {\n",
       "        text-align: left;\n",
       "    }\n",
       "\n",
       "    .dataframe tbody tr th {\n",
       "        vertical-align: top;\n",
       "    }\n",
       "</style>\n",
       "<table border=\"1\" class=\"dataframe\">\n",
       "  <thead>\n",
       "    <tr style=\"text-align: right;\">\n",
       "      <th></th>\n",
       "      <th>f1-score</th>\n",
       "      <th>precision</th>\n",
       "      <th>recall</th>\n",
       "      <th>support</th>\n",
       "    </tr>\n",
       "    <tr>\n",
       "      <th>new_index</th>\n",
       "      <th></th>\n",
       "      <th></th>\n",
       "      <th></th>\n",
       "      <th></th>\n",
       "    </tr>\n",
       "  </thead>\n",
       "  <tbody>\n",
       "    <tr>\n",
       "      <th>0</th>\n",
       "      <td>0.156099</td>\n",
       "      <td>0.201629</td>\n",
       "      <td>0.164014</td>\n",
       "      <td>720.0</td>\n",
       "    </tr>\n",
       "    <tr>\n",
       "      <th>1</th>\n",
       "      <td>0.168553</td>\n",
       "      <td>0.198356</td>\n",
       "      <td>0.207764</td>\n",
       "      <td>720.0</td>\n",
       "    </tr>\n",
       "    <tr>\n",
       "      <th>2</th>\n",
       "      <td>0.162447</td>\n",
       "      <td>0.204001</td>\n",
       "      <td>0.191625</td>\n",
       "      <td>720.0</td>\n",
       "    </tr>\n",
       "    <tr>\n",
       "      <th>3</th>\n",
       "      <td>0.175340</td>\n",
       "      <td>0.201804</td>\n",
       "      <td>0.222361</td>\n",
       "      <td>720.0</td>\n",
       "    </tr>\n",
       "    <tr>\n",
       "      <th>4</th>\n",
       "      <td>0.169466</td>\n",
       "      <td>0.203581</td>\n",
       "      <td>0.214542</td>\n",
       "      <td>720.0</td>\n",
       "    </tr>\n",
       "    <tr>\n",
       "      <th>avg / total</th>\n",
       "      <td>0.166381</td>\n",
       "      <td>0.201874</td>\n",
       "      <td>0.200061</td>\n",
       "      <td>720.0</td>\n",
       "    </tr>\n",
       "  </tbody>\n",
       "</table>\n",
       "</div>"
      ],
      "text/plain": [
       "             f1-score  precision    recall  support\n",
       "new_index                                          \n",
       "0            0.156099   0.201629  0.164014    720.0\n",
       "1            0.168553   0.198356  0.207764    720.0\n",
       "2            0.162447   0.204001  0.191625    720.0\n",
       "3            0.175340   0.201804  0.222361    720.0\n",
       "4            0.169466   0.203581  0.214542    720.0\n",
       "avg / total  0.166381   0.201874  0.200061    720.0"
      ]
     },
     "metadata": {},
     "output_type": "display_data"
    },
    {
     "data": {
      "text/markdown": [
       "### Var"
      ],
      "text/plain": [
       "<IPython.core.display.Markdown object>"
      ]
     },
     "metadata": {},
     "output_type": "display_data"
    },
    {
     "data": {
      "text/html": [
       "<div>\n",
       "<style>\n",
       "    .dataframe thead tr:only-child th {\n",
       "        text-align: right;\n",
       "    }\n",
       "\n",
       "    .dataframe thead th {\n",
       "        text-align: left;\n",
       "    }\n",
       "\n",
       "    .dataframe tbody tr th {\n",
       "        vertical-align: top;\n",
       "    }\n",
       "</style>\n",
       "<table border=\"1\" class=\"dataframe\">\n",
       "  <thead>\n",
       "    <tr style=\"text-align: right;\">\n",
       "      <th></th>\n",
       "      <th>f1-score</th>\n",
       "      <th>precision</th>\n",
       "      <th>recall</th>\n",
       "      <th>support</th>\n",
       "    </tr>\n",
       "    <tr>\n",
       "      <th>new_index</th>\n",
       "      <th></th>\n",
       "      <th></th>\n",
       "      <th></th>\n",
       "      <th></th>\n",
       "    </tr>\n",
       "  </thead>\n",
       "  <tbody>\n",
       "    <tr>\n",
       "      <th>0</th>\n",
       "      <td>0.004061</td>\n",
       "      <td>0.000560</td>\n",
       "      <td>0.020427</td>\n",
       "      <td>0.0</td>\n",
       "    </tr>\n",
       "    <tr>\n",
       "      <th>1</th>\n",
       "      <td>0.006191</td>\n",
       "      <td>0.000468</td>\n",
       "      <td>0.038468</td>\n",
       "      <td>0.0</td>\n",
       "    </tr>\n",
       "    <tr>\n",
       "      <th>2</th>\n",
       "      <td>0.006118</td>\n",
       "      <td>0.000589</td>\n",
       "      <td>0.034734</td>\n",
       "      <td>0.0</td>\n",
       "    </tr>\n",
       "    <tr>\n",
       "      <th>3</th>\n",
       "      <td>0.006290</td>\n",
       "      <td>0.000587</td>\n",
       "      <td>0.038351</td>\n",
       "      <td>0.0</td>\n",
       "    </tr>\n",
       "    <tr>\n",
       "      <th>4</th>\n",
       "      <td>0.006741</td>\n",
       "      <td>0.000566</td>\n",
       "      <td>0.043496</td>\n",
       "      <td>0.0</td>\n",
       "    </tr>\n",
       "    <tr>\n",
       "      <th>avg / total</th>\n",
       "      <td>0.005880</td>\n",
       "      <td>0.000554</td>\n",
       "      <td>0.035095</td>\n",
       "      <td>0.0</td>\n",
       "    </tr>\n",
       "  </tbody>\n",
       "</table>\n",
       "</div>"
      ],
      "text/plain": [
       "             f1-score  precision    recall  support\n",
       "new_index                                          \n",
       "0            0.004061   0.000560  0.020427      0.0\n",
       "1            0.006191   0.000468  0.038468      0.0\n",
       "2            0.006118   0.000589  0.034734      0.0\n",
       "3            0.006290   0.000587  0.038351      0.0\n",
       "4            0.006741   0.000566  0.043496      0.0\n",
       "avg / total  0.005880   0.000554  0.035095      0.0"
      ]
     },
     "metadata": {},
     "output_type": "display_data"
    }
   ],
   "source": [
    "d.display(d.Markdown(\"## RRLyrae + Unknow stars\"))\n",
    "d.display(d.Markdown(\"### Average\"))\n",
    "display(print_r(mean_r(results=mix_shuffle)))\n",
    "d.display(d.Markdown(\"### Var\"))\n",
    "display(print_r(var_r(results=mix_shuffle)))"
   ]
  },
  {
   "cell_type": "code",
   "execution_count": 25,
   "metadata": {},
   "outputs": [
    {
     "data": {
      "text/markdown": [
       "## RRLyrae"
      ],
      "text/plain": [
       "<IPython.core.display.Markdown object>"
      ]
     },
     "metadata": {},
     "output_type": "display_data"
    },
    {
     "data": {
      "text/markdown": [
       "### Average"
      ],
      "text/plain": [
       "<IPython.core.display.Markdown object>"
      ]
     },
     "metadata": {},
     "output_type": "display_data"
    },
    {
     "data": {
      "text/html": [
       "<div>\n",
       "<style>\n",
       "    .dataframe thead tr:only-child th {\n",
       "        text-align: right;\n",
       "    }\n",
       "\n",
       "    .dataframe thead th {\n",
       "        text-align: left;\n",
       "    }\n",
       "\n",
       "    .dataframe tbody tr th {\n",
       "        vertical-align: top;\n",
       "    }\n",
       "</style>\n",
       "<table border=\"1\" class=\"dataframe\">\n",
       "  <thead>\n",
       "    <tr style=\"text-align: right;\">\n",
       "      <th></th>\n",
       "      <th>f1-score</th>\n",
       "      <th>precision</th>\n",
       "      <th>recall</th>\n",
       "      <th>support</th>\n",
       "    </tr>\n",
       "    <tr>\n",
       "      <th>new_index</th>\n",
       "      <th></th>\n",
       "      <th></th>\n",
       "      <th></th>\n",
       "      <th></th>\n",
       "    </tr>\n",
       "  </thead>\n",
       "  <tbody>\n",
       "    <tr>\n",
       "      <th>0</th>\n",
       "      <td>0.163814</td>\n",
       "      <td>0.196740</td>\n",
       "      <td>0.178045</td>\n",
       "      <td>220.0</td>\n",
       "    </tr>\n",
       "    <tr>\n",
       "      <th>1</th>\n",
       "      <td>0.181132</td>\n",
       "      <td>0.205147</td>\n",
       "      <td>0.214045</td>\n",
       "      <td>220.0</td>\n",
       "    </tr>\n",
       "    <tr>\n",
       "      <th>2</th>\n",
       "      <td>0.172437</td>\n",
       "      <td>0.205395</td>\n",
       "      <td>0.206773</td>\n",
       "      <td>220.0</td>\n",
       "    </tr>\n",
       "    <tr>\n",
       "      <th>3</th>\n",
       "      <td>0.168585</td>\n",
       "      <td>0.201356</td>\n",
       "      <td>0.191773</td>\n",
       "      <td>220.0</td>\n",
       "    </tr>\n",
       "    <tr>\n",
       "      <th>4</th>\n",
       "      <td>0.171297</td>\n",
       "      <td>0.199091</td>\n",
       "      <td>0.208000</td>\n",
       "      <td>220.0</td>\n",
       "    </tr>\n",
       "    <tr>\n",
       "      <th>avg / total</th>\n",
       "      <td>0.171453</td>\n",
       "      <td>0.201546</td>\n",
       "      <td>0.199727</td>\n",
       "      <td>220.0</td>\n",
       "    </tr>\n",
       "  </tbody>\n",
       "</table>\n",
       "</div>"
      ],
      "text/plain": [
       "             f1-score  precision    recall  support\n",
       "new_index                                          \n",
       "0            0.163814   0.196740  0.178045    220.0\n",
       "1            0.181132   0.205147  0.214045    220.0\n",
       "2            0.172437   0.205395  0.206773    220.0\n",
       "3            0.168585   0.201356  0.191773    220.0\n",
       "4            0.171297   0.199091  0.208000    220.0\n",
       "avg / total  0.171453   0.201546  0.199727    220.0"
      ]
     },
     "metadata": {},
     "output_type": "display_data"
    },
    {
     "data": {
      "text/markdown": [
       "### Var"
      ],
      "text/plain": [
       "<IPython.core.display.Markdown object>"
      ]
     },
     "metadata": {},
     "output_type": "display_data"
    },
    {
     "data": {
      "text/html": [
       "<div>\n",
       "<style>\n",
       "    .dataframe thead tr:only-child th {\n",
       "        text-align: right;\n",
       "    }\n",
       "\n",
       "    .dataframe thead th {\n",
       "        text-align: left;\n",
       "    }\n",
       "\n",
       "    .dataframe tbody tr th {\n",
       "        vertical-align: top;\n",
       "    }\n",
       "</style>\n",
       "<table border=\"1\" class=\"dataframe\">\n",
       "  <thead>\n",
       "    <tr style=\"text-align: right;\">\n",
       "      <th></th>\n",
       "      <th>f1-score</th>\n",
       "      <th>precision</th>\n",
       "      <th>recall</th>\n",
       "      <th>support</th>\n",
       "    </tr>\n",
       "    <tr>\n",
       "      <th>new_index</th>\n",
       "      <th></th>\n",
       "      <th></th>\n",
       "      <th></th>\n",
       "      <th></th>\n",
       "    </tr>\n",
       "  </thead>\n",
       "  <tbody>\n",
       "    <tr>\n",
       "      <th>0</th>\n",
       "      <td>0.005050</td>\n",
       "      <td>0.001321</td>\n",
       "      <td>0.023522</td>\n",
       "      <td>0.0</td>\n",
       "    </tr>\n",
       "    <tr>\n",
       "      <th>1</th>\n",
       "      <td>0.005081</td>\n",
       "      <td>0.001184</td>\n",
       "      <td>0.028934</td>\n",
       "      <td>0.0</td>\n",
       "    </tr>\n",
       "    <tr>\n",
       "      <th>2</th>\n",
       "      <td>0.005754</td>\n",
       "      <td>0.002265</td>\n",
       "      <td>0.032284</td>\n",
       "      <td>0.0</td>\n",
       "    </tr>\n",
       "    <tr>\n",
       "      <th>3</th>\n",
       "      <td>0.005385</td>\n",
       "      <td>0.001735</td>\n",
       "      <td>0.028167</td>\n",
       "      <td>0.0</td>\n",
       "    </tr>\n",
       "    <tr>\n",
       "      <th>4</th>\n",
       "      <td>0.006457</td>\n",
       "      <td>0.001609</td>\n",
       "      <td>0.034819</td>\n",
       "      <td>0.0</td>\n",
       "    </tr>\n",
       "    <tr>\n",
       "      <th>avg / total</th>\n",
       "      <td>0.005545</td>\n",
       "      <td>0.001623</td>\n",
       "      <td>0.029545</td>\n",
       "      <td>0.0</td>\n",
       "    </tr>\n",
       "  </tbody>\n",
       "</table>\n",
       "</div>"
      ],
      "text/plain": [
       "             f1-score  precision    recall  support\n",
       "new_index                                          \n",
       "0            0.005050   0.001321  0.023522      0.0\n",
       "1            0.005081   0.001184  0.028934      0.0\n",
       "2            0.005754   0.002265  0.032284      0.0\n",
       "3            0.005385   0.001735  0.028167      0.0\n",
       "4            0.006457   0.001609  0.034819      0.0\n",
       "avg / total  0.005545   0.001623  0.029545      0.0"
      ]
     },
     "metadata": {},
     "output_type": "display_data"
    }
   ],
   "source": [
    "d.display(d.Markdown(\"## RRLyrae\"))\n",
    "d.display(d.Markdown(\"### Average\"))\n",
    "display(print_r(mean_r(results=rr_shuffle)))\n",
    "d.display(d.Markdown(\"### Var\"))\n",
    "display(print_r(var_r(results=rr_shuffle)))"
   ]
  },
  {
   "cell_type": "code",
   "execution_count": 26,
   "metadata": {},
   "outputs": [
    {
     "data": {
      "text/markdown": [
       "## Unknow stars"
      ],
      "text/plain": [
       "<IPython.core.display.Markdown object>"
      ]
     },
     "metadata": {},
     "output_type": "display_data"
    },
    {
     "data": {
      "text/markdown": [
       "### Average"
      ],
      "text/plain": [
       "<IPython.core.display.Markdown object>"
      ]
     },
     "metadata": {},
     "output_type": "display_data"
    },
    {
     "data": {
      "text/html": [
       "<div>\n",
       "<style>\n",
       "    .dataframe thead tr:only-child th {\n",
       "        text-align: right;\n",
       "    }\n",
       "\n",
       "    .dataframe thead th {\n",
       "        text-align: left;\n",
       "    }\n",
       "\n",
       "    .dataframe tbody tr th {\n",
       "        vertical-align: top;\n",
       "    }\n",
       "</style>\n",
       "<table border=\"1\" class=\"dataframe\">\n",
       "  <thead>\n",
       "    <tr style=\"text-align: right;\">\n",
       "      <th></th>\n",
       "      <th>f1-score</th>\n",
       "      <th>precision</th>\n",
       "      <th>recall</th>\n",
       "      <th>support</th>\n",
       "    </tr>\n",
       "    <tr>\n",
       "      <th>new_index</th>\n",
       "      <th></th>\n",
       "      <th></th>\n",
       "      <th></th>\n",
       "      <th></th>\n",
       "    </tr>\n",
       "  </thead>\n",
       "  <tbody>\n",
       "    <tr>\n",
       "      <th>0</th>\n",
       "      <td>0.201583</td>\n",
       "      <td>0.198482</td>\n",
       "      <td>0.2580</td>\n",
       "      <td>500.0</td>\n",
       "    </tr>\n",
       "    <tr>\n",
       "      <th>1</th>\n",
       "      <td>0.086867</td>\n",
       "      <td>0.185083</td>\n",
       "      <td>0.0570</td>\n",
       "      <td>500.0</td>\n",
       "    </tr>\n",
       "    <tr>\n",
       "      <th>2</th>\n",
       "      <td>0.175061</td>\n",
       "      <td>0.193873</td>\n",
       "      <td>0.1600</td>\n",
       "      <td>500.0</td>\n",
       "    </tr>\n",
       "    <tr>\n",
       "      <th>3</th>\n",
       "      <td>0.199749</td>\n",
       "      <td>0.217270</td>\n",
       "      <td>0.3240</td>\n",
       "      <td>500.0</td>\n",
       "    </tr>\n",
       "    <tr>\n",
       "      <th>4</th>\n",
       "      <td>0.177393</td>\n",
       "      <td>0.193920</td>\n",
       "      <td>0.1890</td>\n",
       "      <td>500.0</td>\n",
       "    </tr>\n",
       "    <tr>\n",
       "      <th>avg / total</th>\n",
       "      <td>0.168131</td>\n",
       "      <td>0.197725</td>\n",
       "      <td>0.1976</td>\n",
       "      <td>500.0</td>\n",
       "    </tr>\n",
       "  </tbody>\n",
       "</table>\n",
       "</div>"
      ],
      "text/plain": [
       "             f1-score  precision  recall  support\n",
       "new_index                                        \n",
       "0            0.201583   0.198482  0.2580    500.0\n",
       "1            0.086867   0.185083  0.0570    500.0\n",
       "2            0.175061   0.193873  0.1600    500.0\n",
       "3            0.199749   0.217270  0.3240    500.0\n",
       "4            0.177393   0.193920  0.1890    500.0\n",
       "avg / total  0.168131   0.197725  0.1976    500.0"
      ]
     },
     "metadata": {},
     "output_type": "display_data"
    },
    {
     "data": {
      "text/markdown": [
       "### Var"
      ],
      "text/plain": [
       "<IPython.core.display.Markdown object>"
      ]
     },
     "metadata": {},
     "output_type": "display_data"
    },
    {
     "data": {
      "text/html": [
       "<div>\n",
       "<style>\n",
       "    .dataframe thead tr:only-child th {\n",
       "        text-align: right;\n",
       "    }\n",
       "\n",
       "    .dataframe thead th {\n",
       "        text-align: left;\n",
       "    }\n",
       "\n",
       "    .dataframe tbody tr th {\n",
       "        vertical-align: top;\n",
       "    }\n",
       "</style>\n",
       "<table border=\"1\" class=\"dataframe\">\n",
       "  <thead>\n",
       "    <tr style=\"text-align: right;\">\n",
       "      <th></th>\n",
       "      <th>f1-score</th>\n",
       "      <th>precision</th>\n",
       "      <th>recall</th>\n",
       "      <th>support</th>\n",
       "    </tr>\n",
       "    <tr>\n",
       "      <th>new_index</th>\n",
       "      <th></th>\n",
       "      <th></th>\n",
       "      <th></th>\n",
       "      <th></th>\n",
       "    </tr>\n",
       "  </thead>\n",
       "  <tbody>\n",
       "    <tr>\n",
       "      <th>0</th>\n",
       "      <td>0.010157</td>\n",
       "      <td>0.000033</td>\n",
       "      <td>0.051200</td>\n",
       "      <td>0.0</td>\n",
       "    </tr>\n",
       "    <tr>\n",
       "      <th>1</th>\n",
       "      <td>0.000047</td>\n",
       "      <td>0.000160</td>\n",
       "      <td>0.000050</td>\n",
       "      <td>0.0</td>\n",
       "    </tr>\n",
       "    <tr>\n",
       "      <th>2</th>\n",
       "      <td>0.000375</td>\n",
       "      <td>0.000099</td>\n",
       "      <td>0.000648</td>\n",
       "      <td>0.0</td>\n",
       "    </tr>\n",
       "    <tr>\n",
       "      <th>3</th>\n",
       "      <td>0.019712</td>\n",
       "      <td>0.000532</td>\n",
       "      <td>0.135200</td>\n",
       "      <td>0.0</td>\n",
       "    </tr>\n",
       "    <tr>\n",
       "      <th>4</th>\n",
       "      <td>0.004510</td>\n",
       "      <td>0.000096</td>\n",
       "      <td>0.017298</td>\n",
       "      <td>0.0</td>\n",
       "    </tr>\n",
       "    <tr>\n",
       "      <th>avg / total</th>\n",
       "      <td>0.006960</td>\n",
       "      <td>0.000184</td>\n",
       "      <td>0.040879</td>\n",
       "      <td>0.0</td>\n",
       "    </tr>\n",
       "  </tbody>\n",
       "</table>\n",
       "</div>"
      ],
      "text/plain": [
       "             f1-score  precision    recall  support\n",
       "new_index                                          \n",
       "0            0.010157   0.000033  0.051200      0.0\n",
       "1            0.000047   0.000160  0.000050      0.0\n",
       "2            0.000375   0.000099  0.000648      0.0\n",
       "3            0.019712   0.000532  0.135200      0.0\n",
       "4            0.004510   0.000096  0.017298      0.0\n",
       "avg / total  0.006960   0.000184  0.040879      0.0"
      ]
     },
     "metadata": {},
     "output_type": "display_data"
    }
   ],
   "source": [
    "d.display(d.Markdown(\"## Unknow stars\"))\n",
    "d.display(d.Markdown(\"### Average\"))\n",
    "display(print_r(mean_r(results=unk_shuffle)))\n",
    "d.display(d.Markdown(\"### Var\"))\n",
    "display(print_r(var_r(results=unk_shuffle)))"
   ]
  },
  {
   "cell_type": "code",
   "execution_count": null,
   "metadata": {},
   "outputs": [],
   "source": []
  }
 ],
 "metadata": {
  "kernelspec": {
   "display_name": "Python 2",
   "language": "python",
   "name": "python2"
  },
  "language_info": {
   "codemirror_mode": {
    "name": "ipython",
    "version": 2
   },
   "file_extension": ".py",
   "mimetype": "text/x-python",
   "name": "python",
   "nbconvert_exporter": "python",
   "pygments_lexer": "ipython2",
   "version": "2.7.6"
  }
 },
 "nbformat": 4,
 "nbformat_minor": 2
}
